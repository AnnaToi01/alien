{
 "cells": [
  {
   "cell_type": "markdown",
   "id": "f1856481-412c-4b22-ae84-89ce9e9d8d6e",
   "metadata": {},
   "source": [
    "# 03. Phylogeny\n",
    "\n",
    "Author: Willem Fuetterer\n",
    "\n",
    "\n",
    "In this Jupyter Notebook the alpha diversity of the samples is analyzed.\n",
    "\n",
    "**Exercise overview:**<br>\n",
    "[1. Setup](#setup)<br>\n",
    "[2. Phylogeny](#phylogeny)<br>\n",
    "\n",
    "\n",
    "\n"
   ]
  },
  {
   "cell_type": "markdown",
   "id": "5f2acad0-e265-42de-ab89-a77d1b8a6762",
   "metadata": {
    "tags": []
   },
   "source": [
    "<a id='setup'></a>\n",
    "\n",
    "## 1. Setup"
   ]
  },
  {
   "cell_type": "code",
   "execution_count": 1,
   "id": "d48f9089-5a6f-4b95-bddd-9faa98698488",
   "metadata": {
    "tags": []
   },
   "outputs": [],
   "source": [
    "# importing all required packages & notebook extensions at the start of the notebook\n",
    "import os\n",
    "import biom\n",
    "import numpy as np\n",
    "import matplotlib.pyplot as plt\n",
    "import seaborn as sns\n",
    "import pandas as pd\n",
    "import qiime2 as q2\n",
    "from qiime2 import Visualization\n",
    "\n",
    "%matplotlib inline"
   ]
  },
  {
   "cell_type": "code",
   "execution_count": 1,
   "id": "821fac4d-b006-4db9-99be-5219a8a468c9",
   "metadata": {
    "tags": []
   },
   "outputs": [],
   "source": [
    "# defining location of data\n",
    "raw_data_dir = \"../data/raw\"\n",
    "data_dir = \"../data/processed\"\n",
    "vis_dir  = \"../results\""
   ]
  },
  {
   "cell_type": "markdown",
   "id": "04d5d16c-ea47-48ec-bc95-e943cdb6e2f2",
   "metadata": {
    "tags": []
   },
   "source": [
    "<a id='phylogeny'></a>\n",
    "\n",
    "## 2. Phylogeny"
   ]
  },
  {
   "cell_type": "markdown",
   "id": "11c14a1a-7443-4ba9-a19b-94b123abfd55",
   "metadata": {},
   "source": [
    "##### Verify type of input data"
   ]
  },
  {
   "cell_type": "code",
   "execution_count": 3,
   "id": "68eb1c6b-98f5-4745-aa76-e9d7331d8ef8",
   "metadata": {
    "tags": []
   },
   "outputs": [
    {
     "name": "stdout",
     "output_type": "stream",
     "text": [
      "\u001b[32mUUID\u001b[0m:        250a008e-72a3-4f0b-8969-d82ee0631683\n",
      "\u001b[32mType\u001b[0m:        FeatureData[Sequence]\n",
      "\u001b[32mData format\u001b[0m: DNASequencesDirectoryFormat\n"
     ]
    }
   ],
   "source": [
    "! qiime tools peek $data_dir/rep-seqs-filtered.qza"
   ]
  },
  {
   "cell_type": "markdown",
   "id": "d8019cfe-98fe-4e41-b95c-ad0f2e8b707c",
   "metadata": {},
   "source": [
    "##### Multiple sequence alignment of sequences"
   ]
  },
  {
   "cell_type": "code",
   "execution_count": 15,
   "id": "dd084a5c-7c8f-45fc-9665-9b5bdb374441",
   "metadata": {},
   "outputs": [
    {
     "name": "stdout",
     "output_type": "stream",
     "text": [
      "\u001b[32mSaved FeatureData[AlignedSequence] to: ../data/processed/aligned-rep-seqs.qza\u001b[0m\n",
      "\u001b[0m"
     ]
    }
   ],
   "source": [
    "! qiime alignment mafft \\\n",
    "    --i-sequences $data_dir/rep-seqs-filtered.qza \\\n",
    "    --o-alignment $data_dir/aligned-rep-seqs.qza"
   ]
  },
  {
   "cell_type": "markdown",
   "id": "c5adcd62-0044-4097-8bae-1671fd460aa0",
   "metadata": {},
   "source": [
    "##### Removing the ambiguously aligned regions from the alignment"
   ]
  },
  {
   "cell_type": "code",
   "execution_count": 16,
   "id": "4571cb3e-f568-478c-b6e0-531bd60e5f92",
   "metadata": {
    "tags": []
   },
   "outputs": [
    {
     "name": "stdout",
     "output_type": "stream",
     "text": [
      "\u001b[32mSaved FeatureData[AlignedSequence] to: ../data/processed/masked-aligned-rep-seqs.qza\u001b[0m\n",
      "\u001b[0m"
     ]
    }
   ],
   "source": [
    "! qiime alignment mask \\\n",
    "    --i-alignment $data_dir/aligned-rep-seqs.qza \\\n",
    "    --o-masked-alignment $data_dir/masked-aligned-rep-seqs.qza"
   ]
  },
  {
   "cell_type": "markdown",
   "id": "1229c003-6acf-4f7e-9d8e-811ca4dce73b",
   "metadata": {},
   "source": [
    "##### Construction of the phylogenetic tree using FastTree"
   ]
  },
  {
   "cell_type": "code",
   "execution_count": 17,
   "id": "0b7ae454-3d12-41b1-ae94-59f96d9ae73d",
   "metadata": {
    "tags": []
   },
   "outputs": [
    {
     "name": "stdout",
     "output_type": "stream",
     "text": [
      "\u001b[32mSaved Phylogeny[Unrooted] to: ../data/processed/fasttree-tree.qza\u001b[0m\n",
      "\u001b[0m\u001b[32mSaved Phylogeny[Rooted] to: ../data/processed/fasttree-tree-rooted.qza\u001b[0m\n",
      "\u001b[0m"
     ]
    }
   ],
   "source": [
    "! qiime phylogeny fasttree \\\n",
    "    --i-alignment $data_dir/masked-aligned-rep-seqs.qza \\\n",
    "    --o-tree $data_dir/fasttree-tree.qza\n",
    "\n",
    "! qiime phylogeny midpoint-root \\\n",
    "    --i-tree $data_dir/fasttree-tree.qza \\\n",
    "    --o-rooted-tree $data_dir/fasttree-tree-rooted.qza"
   ]
  },
  {
   "cell_type": "markdown",
   "id": "5f0adbb0-897e-490c-848a-93b47da43fd7",
   "metadata": {},
   "source": [
    "##### Inspect format of result"
   ]
  },
  {
   "cell_type": "code",
   "execution_count": 4,
   "id": "8d2c34b3-47b2-4599-a6a6-62c1dd878af2",
   "metadata": {},
   "outputs": [
    {
     "name": "stdout",
     "output_type": "stream",
     "text": [
      "\u001b[32mUUID\u001b[0m:        54dbac30-b904-41cf-bdc2-9ac608bc6561\n",
      "\u001b[32mType\u001b[0m:        Phylogeny[Rooted]\n",
      "\u001b[32mData format\u001b[0m: NewickDirectoryFormat\n"
     ]
    }
   ],
   "source": [
    "! qiime tools peek $data_dir/fasttree-tree-rooted.qza"
   ]
  },
  {
   "cell_type": "markdown",
   "id": "e6e38895-254f-409e-8c2c-a918585733a0",
   "metadata": {},
   "source": [
    "##### Bootstrapping"
   ]
  },
  {
   "cell_type": "code",
   "execution_count": null,
   "id": "c4cd69e8-ec25-4c29-9e99-d170235f3016",
   "metadata": {
    "tags": []
   },
   "outputs": [],
   "source": [
    "! qiime phylogeny raxml-rapid-bootstrap \\\n",
    "    --i-alignment $data_dir/masked-aligned-rep-seqs.qza \\\n",
    "    --p-seed 1723 \\\n",
    "    --p-rapid-bootstrap-seed 9384 \\\n",
    "    --p-bootstrap-replicates 10 \\\n",
    "    --p-substitution-model GTRCAT \\\n",
    "    --p-n-threads 4 \\\n",
    "    --o-tree $data_dir/raxml-cat-bootstrap-tree.qza"
   ]
  },
  {
   "cell_type": "markdown",
   "id": "d11d15b0-ac70-4436-be65-ecb8b1dcd778",
   "metadata": {},
   "source": [
    "Rooting the tree"
   ]
  },
  {
   "cell_type": "code",
   "execution_count": null,
   "id": "c1214e81-d69b-4258-a50c-10b32209445d",
   "metadata": {},
   "outputs": [],
   "source": [
    "! qiime phylogeny midpoint-root \\\n",
    "    --i-tree $data_dir/raxml-cat-bootstrap-tree.qza \\\n",
    "    --o-rooted-tree $data_dir/raxml-cat-bootstrap-tree-rooted.qza"
   ]
  },
  {
   "cell_type": "markdown",
   "id": "0ccc84f5-4611-40aa-afd2-aa2acf4ceff0",
   "metadata": {},
   "source": [
    "Inspect format of result"
   ]
  },
  {
   "cell_type": "code",
   "execution_count": null,
   "id": "dd741196-f335-45a1-b55a-645b96a3ff47",
   "metadata": {},
   "outputs": [],
   "source": [
    "! qiime tools peek $data_dir/raxml-cat-bootstrap-tree-rooted.qza"
   ]
  },
  {
   "cell_type": "markdown",
   "id": "b7942079-f515-4b89-b59d-c0fb23bd72e6",
   "metadata": {},
   "source": [
    "## Bibliography\n",
    "\n",
    "[1] Price MN, Dehal PS, Arkin AP. FastTree 2 – Approximately Maximum-Likelihood Trees for Large Alignments. PLoS ONE. 2010;5(3):e9490. doi:10.1371/journal.pone.0009490\n",
    "\n",
    "[2] Baldauf SL. Phylogeny for the faint of heart: a tutorial. Trends in Genetics. 2003;19(6):345-351. doi:10.1016/S0168-9525(03)00112-4\n"
   ]
  }
 ],
 "metadata": {
  "kernelspec": {
   "display_name": "QIIME 2",
   "language": "python",
   "name": "python3"
  },
  "language_info": {
   "codemirror_mode": {
    "name": "ipython",
    "version": 3
   },
   "file_extension": ".py",
   "mimetype": "text/x-python",
   "name": "python",
   "nbconvert_exporter": "python",
   "pygments_lexer": "ipython3",
   "version": "3.9.19"
  }
 },
 "nbformat": 4,
 "nbformat_minor": 5
}
