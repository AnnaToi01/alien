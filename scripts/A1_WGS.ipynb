{
 "cells": [
  {
   "cell_type": "markdown",
   "id": "fcbedf36-cf92-40ae-9488-f278611fa8e9",
   "metadata": {},
   "source": [
    "##### Steps for importing data:\n",
    "- download sra toolkit\n",
    "- prefetch SRA files for patients P014, P020, P027, P044 and P061 (only patients where pre- and post treatment data was available; also limiting the amount of data was necessary because of processing power limitations)(prefetch SRR23801859 SRR23801959 SRR23801860 SRR23801941 SRR23801866 SRR23801999 SRR23801898 SRR23801944 SRR23801908 SRR23801935 in command shell)\n",
    "- fastq-dump the same files (fastq-dump --outdir fastq --gzip --skip-technical  --readids --read-filter pass --dumpbase --split-3 --clip in command shell)\n",
    "- import data into jupyterhub\n",
    "- save data as qza artifact (manifest file was written manually in notepad)"
   ]
  },
  {
   "cell_type": "code",
   "execution_count": 36,
   "id": "a09c0bec-8533-4661-b2a9-cff24e1e07b7",
   "metadata": {
    "tags": []
   },
   "outputs": [],
   "source": [
    "# importing all required packages & notebook extensions at the start of the notebook\n",
    "import numpy as np\n",
    "import matplotlib.pyplot as plt\n",
    "import seaborn as sns\n",
    "import pandas as pd\n",
    "import qiime2 as q2\n",
    "import scipy.stats as stats\n",
    "from qiime2 import Artifact\n",
    "\n",
    "# This is to supress the warning messages (if any) generated in our code\n",
    "import warnings\n",
    "warnings.filterwarnings('ignore')\n",
    "\n",
    "%matplotlib inline"
   ]
  },
  {
   "cell_type": "code",
   "execution_count": 8,
   "id": "415e715f-88c1-4836-8c69-ed00751c086b",
   "metadata": {
    "tags": []
   },
   "outputs": [],
   "source": [
    "raw_data_dir = \"../data/raw\"\n",
    "data_dir = \"../data/processed\"\n",
    "vis_dir  = \"../results\""
   ]
  },
  {
   "cell_type": "code",
   "execution_count": 27,
   "id": "0fdcc16c-7f0c-4843-a629-6ec889f75d21",
   "metadata": {
    "tags": []
   },
   "outputs": [
    {
     "name": "stdout",
     "output_type": "stream",
     "text": [
      "\u001b[32mImported ../data/raw/manifest.csv as PairedEndFastqManifestPhred33V2 to ../data/processed/demux-paired-end.qza\u001b[0m\n",
      "\u001b[0m"
     ]
    }
   ],
   "source": [
    "! qiime tools import \\\n",
    "  --type 'SampleData[PairedEndSequencesWithQuality]' \\\n",
    "  --input-path $raw_data_dir/manifest.csv \\\n",
    "  --input-format PairedEndFastqManifestPhred33V2 \\\n",
    "  --output-path $data_dir/demux-paired-end.qza"
   ]
  },
  {
   "cell_type": "code",
   "execution_count": 39,
   "id": "3a2956e9-71f7-471a-9ce9-db0879a63fce",
   "metadata": {
    "tags": []
   },
   "outputs": [
    {
     "name": "stdout",
     "output_type": "stream",
     "text": [
      "Usage: \u001b[94mqiime assembly assemble-megahit\u001b[0m [OPTIONS]\n",
      "\n",
      "  This method uses MEGAHIT to assemble provided paired- or single-end NGS\n",
      "  reads into contigs.\n",
      "\n",
      "\u001b[1mInputs\u001b[0m:\n",
      "  \u001b[94m\u001b[4m--i-seqs\u001b[0m ARTIFACT \u001b[32mSampleData[SequencesWithQuality |\u001b[0m\n",
      "    \u001b[32mPairedEndSequencesWithQuality]\u001b[0m\n",
      "                          The paired- or single-end sequences to be\n",
      "                          assembled.                                \u001b[35m[required]\u001b[0m\n",
      "\u001b[1mParameters\u001b[0m:\n",
      "  \u001b[94m--p-presets\u001b[0m TEXT \u001b[32mChoices('meta', 'meta-sensitive', 'meta-large',\u001b[0m\n",
      "    \u001b[32m'disabled')\u001b[0m           Override a group of parameters. See the megahit\n",
      "                          documentation for details.                \u001b[35m[optional]\u001b[0m\n",
      "  \u001b[94m--p-min-count\u001b[0m INTEGER   Minimum multiplicity for filtering (k_min+1)-mers.\n",
      "    \u001b[32mRange(1, None)\u001b[0m                                                \u001b[35m[default: 2]\u001b[0m\n",
      "  \u001b[94m--p-k-list\u001b[0m INTEGERS... \u001b[32mRange(15, 255, inclusive_end=True)\u001b[0m\n",
      "                          List of kmer size - all must be odd with an\n",
      "                          increment <= 28.\n",
      "                                 \u001b[35m[default: [21, 29, 39, 59, 79, 99, 119, 141]]\u001b[0m\n",
      "  \u001b[94m--p-k-min\u001b[0m INTEGER \u001b[32mRange(15, 255, inclusive_end=True)\u001b[0m\n",
      "                          Minimum kmer size (<= 255), must be odd number.\n",
      "                          Overrides \u001b[4mk-list\u001b[0m.                         \u001b[35m[optional]\u001b[0m\n",
      "  \u001b[94m--p-k-max\u001b[0m INTEGER \u001b[32mRange(15, 255, inclusive_end=True)\u001b[0m\n",
      "                          Maximum kmer size (<= 255), must be odd number.\n",
      "                          Overrides \u001b[4mk-list\u001b[0m.                         \u001b[35m[optional]\u001b[0m\n",
      "  \u001b[94m--p-k-step\u001b[0m INTEGER \u001b[32mRange(2, 28, inclusive_end=True)\u001b[0m\n",
      "                          Increment of kmer size of each iteration (<= 28),\n",
      "                          must be even number. Overrides \u001b[4mk-list\u001b[0m.    \u001b[35m[optional]\u001b[0m\n",
      "  \u001b[94m--p-no-mercy\u001b[0m / \u001b[94m--p-no-no-mercy\u001b[0m\n",
      "                          Do not add mercy kmers.             \u001b[35m[default: False]\u001b[0m\n",
      "  \u001b[94m--p-bubble-level\u001b[0m INTEGER \u001b[32mRange(0, 2, inclusive_end=True)\u001b[0m\n",
      "                          Intensity of bubble merging, 0 to disable.\n",
      "                                                                  \u001b[35m[default: 2]\u001b[0m\n",
      "  \u001b[94m--p-prune-level\u001b[0m INTEGER \u001b[32mRange(0, 3, inclusive_end=True)\u001b[0m\n",
      "                          Strength of low depth pruning.          \u001b[35m[default: 2]\u001b[0m\n",
      "  \u001b[94m--p-prune-depth\u001b[0m INTEGER Remove unitigs with avg kmer depth less than this\n",
      "    \u001b[32mRange(1, None)\u001b[0m        value.                                  \u001b[35m[default: 2]\u001b[0m\n",
      "  \u001b[94m--p-disconnect-ratio\u001b[0m PROPORTION \u001b[32mRange(0, 1, inclusive_end=True)\u001b[0m\n",
      "                          Disconnect unitigs if its depth is less than this\n",
      "                          ratio times the total depth of itself and its\n",
      "                          siblings.                             \u001b[35m[default: 0.1]\u001b[0m\n",
      "  \u001b[94m--p-low-local-ratio\u001b[0m PROPORTION \u001b[32mRange(0, 1, inclusive_end=True)\u001b[0m\n",
      "                          Remove unitigs if its depth is less than this ratio\n",
      "                          times the average depth of the neighborhoods.\n",
      "                                                                \u001b[35m[default: 0.2]\u001b[0m\n",
      "  \u001b[94m--p-max-tip-len\u001b[0m VALUE \u001b[32mInt % Range(1, None) | Str % Choices('auto')\u001b[0m\n",
      "                          Remove tips less than this value. 'auto' will trim\n",
      "                          tips shorter than 2*k for iteration of kmer_size=k\n",
      "                                                             \u001b[35m[default: 'auto']\u001b[0m\n",
      "  \u001b[94m--p-cleaning-rounds\u001b[0m INTEGER\n",
      "    \u001b[32mRange(1, None)\u001b[0m        Number of rounds for graph cleanning.   \u001b[35m[default: 5]\u001b[0m\n",
      "  \u001b[94m--p-no-local\u001b[0m / \u001b[94m--p-no-no-local\u001b[0m\n",
      "                          Disable local assembly.             \u001b[35m[default: False]\u001b[0m\n",
      "  \u001b[94m--p-kmin-1pass\u001b[0m / \u001b[94m--p-no-kmin-1pass\u001b[0m\n",
      "                          Use 1pass mode to build SdBG of \u001b[4mk-min\u001b[0m.\n",
      "                                                              \u001b[35m[default: False]\u001b[0m\n",
      "  \u001b[94m--p-memory\u001b[0m NUMBER       Max memory in byte to be used in SdBG construction\n",
      "    \u001b[32mRange(0, None)\u001b[0m        (if set between 0-1, fraction of the machine's total\n",
      "                          memory).                              \u001b[35m[default: 0.9]\u001b[0m\n",
      "  \u001b[94m--p-mem-flag\u001b[0m INTEGER    SdBG builder memory mode. 0: minimum; 1: moderate;\n",
      "    \u001b[32mRange(0, None)\u001b[0m        others: use all memory specified by '-m/--memory'.\n",
      "                                                                  \u001b[35m[default: 1]\u001b[0m\n",
      "  \u001b[94m--p-num-cpu-threads\u001b[0m INTEGER\n",
      "    \u001b[32mRange(1, None)\u001b[0m        Number of CPU threads.                  \u001b[35m[default: 1]\u001b[0m\n",
      "  \u001b[94m--p-no-hw-accel\u001b[0m / \u001b[94m--p-no-no-hw-accel\u001b[0m\n",
      "                          Run MEGAHIT without BMI2 and POPCNT hardware\n",
      "                          instructions.                       \u001b[35m[default: False]\u001b[0m\n",
      "  \u001b[94m--p-min-contig-len\u001b[0m INTEGER\n",
      "                          Minimum length of contigs to output.  \u001b[35m[default: 200]\u001b[0m\n",
      "  \u001b[94m--p-num-partitions\u001b[0m INTEGER\n",
      "    \u001b[32mRange(1, None)\u001b[0m        The number of partitions to split the contigs into.\n",
      "                          Defaults to partitioning into individual samples.\n",
      "                                                                    \u001b[35m[optional]\u001b[0m\n",
      "  \u001b[94m--p-coassemble\u001b[0m VALUE \u001b[32mBool % Choices(True)¹ | Bool % Choices(False)²\u001b[0m\n",
      "                          Co-assemble reads into contigs from all samples.\n",
      "                                                              \u001b[35m[default: False]\u001b[0m\n",
      "  \u001b[94m--p-uuid-type\u001b[0m TEXT \u001b[32mChoices('shortuuid', 'uuid3', 'uuid4', 'uuid5')\u001b[0m\n",
      "                          UUID type to be used for contig ID generation.\n",
      "                                                        \u001b[35m[default: 'shortuuid']\u001b[0m\n",
      "\u001b[1mOutputs\u001b[0m:\n",
      "  \u001b[94m\u001b[4m--o-contigs\u001b[0m ARTIFACT \u001b[32mFeatureData[Contig]¹ | SampleData[Contigs]²\u001b[0m\n",
      "                          The resulting assembled contigs.          \u001b[35m[required]\u001b[0m\n",
      "\u001b[1mMiscellaneous\u001b[0m:\n",
      "  \u001b[94m--output-dir\u001b[0m PATH       Output unspecified results to a directory\n",
      "  \u001b[94m--verbose\u001b[0m / \u001b[94m--quiet\u001b[0m     Display verbose output to stdout and/or stderr\n",
      "                          during execution of this action. Or silence output\n",
      "                          if execution is successful (silence is golden).\n",
      "  \u001b[94m--recycle-pool\u001b[0m TEXT     Use a cache pool for pipeline resumption. QIIME 2\n",
      "                          will cache your results in this pool for reuse by\n",
      "                          future invocations. These pool are retained until\n",
      "                          deleted by the user. If not provided, QIIME 2 will\n",
      "                          create a pool which is automatically reused by\n",
      "                          invocations of the same action and removed if the\n",
      "                          action is successful. Note: these pools are local to\n",
      "                          the cache you are using.\n",
      "  \u001b[94m--no-recycle\u001b[0m            Do not recycle results from a previous failed\n",
      "                          pipeline run or save the results from this run for\n",
      "                          future recycling.\n",
      "  \u001b[94m--parallel\u001b[0m              Execute your action in parallel. This flag will use\n",
      "                          your default parallel config.\n",
      "  \u001b[94m--parallel-config\u001b[0m FILE  Execute your action in parallel using a config at\n",
      "                          the indicated path.\n",
      "  \u001b[94m--use-cache\u001b[0m DIRECTORY   Specify the cache to be used for the intermediate\n",
      "                          work of this pipeline. If not provided, the default\n",
      "                          cache under $TMP/qiime2/<uname> will be used.\n",
      "                          IMPORTANT FOR HPC USERS: If you are on an HPC system\n",
      "                          and are using parallel execution it is important to\n",
      "                          set this to a location that is globally accessible\n",
      "                          to all nodes in the cluster.\n",
      "  \u001b[94m--example-data\u001b[0m PATH     Write example data and exit.\n",
      "  \u001b[94m--citations\u001b[0m             Show citations and exit.\n",
      "  \u001b[94m--help\u001b[0m                  Show this message and exit.\n",
      "\u001b[0m"
     ]
    }
   ],
   "source": [
    "! qiime assembly assemble-megahit \\\n",
    "    --i-seqs  /data/w9_data/reads.qza \\\n",
    "    --p-presets meta-sensitive \\\n",
    "    --p-num-cpu-threads 3 \\\n",
    "    --o-contigs $data_dir/contigs.qza\n"
   ]
  },
  {
   "cell_type": "code",
   "execution_count": null,
   "id": "66070a24-4255-42ce-b768-eff693742b42",
   "metadata": {},
   "outputs": [],
   "source": []
  }
 ],
 "metadata": {
  "kernelspec": {
   "display_name": "QIIME 2",
   "language": "python",
   "name": "python3"
  },
  "language_info": {
   "codemirror_mode": {
    "name": "ipython",
    "version": 3
   },
   "file_extension": ".py",
   "mimetype": "text/x-python",
   "name": "python",
   "nbconvert_exporter": "python",
   "pygments_lexer": "ipython3",
   "version": "3.9.19"
  }
 },
 "nbformat": 4,
 "nbformat_minor": 5
}
