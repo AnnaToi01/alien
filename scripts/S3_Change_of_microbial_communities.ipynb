{
 "cells": [
  {
   "cell_type": "markdown",
   "id": "e3502b0b-f85b-4898-9549-4d992cda5e43",
   "metadata": {},
   "source": [
    "# S3. Change of microbial communities between different timepoints \n",
    "\n",
    "Author: Marc Kesselring\n",
    "\n",
    "\n",
    "In this Jupyter Notebook the change of microbial communities between different timepoints is analyzed.\n",
    "\n",
    "**Exercise overview:**<br>\n",
    "[1. Setup](#setup)<br>\n",
    "[2. Filter Data](#filter)<br>\n",
    "[3. Analysis of composition of microbiomes](#ancom)<br>"
   ]
  },
  {
   "cell_type": "markdown",
   "id": "6ca74c0d-d765-4ee4-96a4-6a75da3e1b5f",
   "metadata": {
    "tags": []
   },
   "source": [
    "<a id='setup'></a>\n",
    "\n",
    "## 1. Setup"
   ]
  },
  {
   "cell_type": "code",
   "execution_count": 36,
   "id": "cd2c5b89-1bdb-4be3-809b-74a71e1b55aa",
   "metadata": {
    "tags": []
   },
   "outputs": [],
   "source": [
    "import os\n",
    "import matplotlib.pyplot as plt\n",
    "import pandas as pd\n",
    "import qiime2 as q2\n",
    "from qiime2 import Visualization\n",
    "import seaborn as sns\n",
    "from scipy.stats import shapiro, kruskal, f_oneway\n",
    "import subprocess\n",
    "from qiime2 import Artifact\n",
    "\n",
    "%matplotlib inline"
   ]
  },
  {
   "cell_type": "code",
   "execution_count": 2,
   "id": "e9150cc1-86e7-424e-8808-e33f651f7a13",
   "metadata": {
    "tags": []
   },
   "outputs": [],
   "source": [
    "raw_data_dir = \"../data/raw\"\n",
    "data_dir = \"../data/processed\"\n",
    "vis_dir  = \"../results\""
   ]
  },
  {
   "cell_type": "markdown",
   "id": "9296b5b4-4327-4679-983e-4949e2f95229",
   "metadata": {},
   "source": [
    "<a id='filter'></a>\n",
    "\n",
    "## 2. Filter data"
   ]
  },
  {
   "cell_type": "markdown",
   "id": "240f8eb7-c91a-4714-aa93-d6c221bedc53",
   "metadata": {},
   "source": [
    "The data was already filtered in notebook 06_DifferentalAbundance.ipynb. The features were only retained if they had a minimum frequency of 25 and were present in at least 5 samples. Afterwards the features were collapsed to phylum, class, order, family, genus and species levels respectively. Additionally, the metadata was filtered to only contain samples where a patient had a measurement for both timepoints (abduction and recovery)"
   ]
  },
  {
   "cell_type": "code",
   "execution_count": 12,
   "id": "e0e060d5-5db7-4821-9338-8ce44780971f",
   "metadata": {
    "tags": []
   },
   "outputs": [
    {
     "data": {
      "text/html": [
       "<div>\n",
       "<style scoped>\n",
       "    .dataframe tbody tr th:only-of-type {\n",
       "        vertical-align: middle;\n",
       "    }\n",
       "\n",
       "    .dataframe tbody tr th {\n",
       "        vertical-align: top;\n",
       "    }\n",
       "\n",
       "    .dataframe thead th {\n",
       "        text-align: right;\n",
       "    }\n",
       "</style>\n",
       "<table border=\"1\" class=\"dataframe\">\n",
       "  <thead>\n",
       "    <tr style=\"text-align: right;\">\n",
       "      <th></th>\n",
       "      <th>sample-id</th>\n",
       "      <th>Patient_ID</th>\n",
       "      <th>Stool_Consistency</th>\n",
       "      <th>Patient_Sex</th>\n",
       "      <th>Sample_Day</th>\n",
       "      <th>Recovery_Day</th>\n",
       "      <th>Cohort_Number</th>\n",
       "      <th>Cohort_Number_Bin</th>\n",
       "    </tr>\n",
       "  </thead>\n",
       "  <tbody>\n",
       "    <tr>\n",
       "      <th>0</th>\n",
       "      <td>EG2580</td>\n",
       "      <td>P042</td>\n",
       "      <td>liquid</td>\n",
       "      <td>F</td>\n",
       "      <td>13</td>\n",
       "      <td>17.0</td>\n",
       "      <td>2</td>\n",
       "      <td>Recovery</td>\n",
       "    </tr>\n",
       "    <tr>\n",
       "      <th>1</th>\n",
       "      <td>EG2559</td>\n",
       "      <td>P043</td>\n",
       "      <td>liquid</td>\n",
       "      <td>M</td>\n",
       "      <td>15</td>\n",
       "      <td>17.0</td>\n",
       "      <td>2</td>\n",
       "      <td>Recovery</td>\n",
       "    </tr>\n",
       "    <tr>\n",
       "      <th>2</th>\n",
       "      <td>EG2537</td>\n",
       "      <td>P042</td>\n",
       "      <td>liquid</td>\n",
       "      <td>F</td>\n",
       "      <td>0</td>\n",
       "      <td>17.0</td>\n",
       "      <td>1</td>\n",
       "      <td>Abduction</td>\n",
       "    </tr>\n",
       "    <tr>\n",
       "      <th>3</th>\n",
       "      <td>EG2518</td>\n",
       "      <td>P043</td>\n",
       "      <td>liquid</td>\n",
       "      <td>M</td>\n",
       "      <td>0</td>\n",
       "      <td>17.0</td>\n",
       "      <td>1</td>\n",
       "      <td>Abduction</td>\n",
       "    </tr>\n",
       "    <tr>\n",
       "      <th>5</th>\n",
       "      <td>EG2473</td>\n",
       "      <td>P055</td>\n",
       "      <td>semi-formed</td>\n",
       "      <td>M</td>\n",
       "      <td>20</td>\n",
       "      <td>22.0</td>\n",
       "      <td>2</td>\n",
       "      <td>Recovery</td>\n",
       "    </tr>\n",
       "    <tr>\n",
       "      <th>...</th>\n",
       "      <td>...</td>\n",
       "      <td>...</td>\n",
       "      <td>...</td>\n",
       "      <td>...</td>\n",
       "      <td>...</td>\n",
       "      <td>...</td>\n",
       "      <td>...</td>\n",
       "      <td>...</td>\n",
       "    </tr>\n",
       "    <tr>\n",
       "      <th>96</th>\n",
       "      <td>EG2638</td>\n",
       "      <td>P017</td>\n",
       "      <td>semi-formed</td>\n",
       "      <td>M</td>\n",
       "      <td>12</td>\n",
       "      <td>17.0</td>\n",
       "      <td>2</td>\n",
       "      <td>Recovery</td>\n",
       "    </tr>\n",
       "    <tr>\n",
       "      <th>97</th>\n",
       "      <td>EG2608</td>\n",
       "      <td>P034</td>\n",
       "      <td>formed</td>\n",
       "      <td>F</td>\n",
       "      <td>0</td>\n",
       "      <td>18.0</td>\n",
       "      <td>1</td>\n",
       "      <td>Abduction</td>\n",
       "    </tr>\n",
       "    <tr>\n",
       "      <th>98</th>\n",
       "      <td>EG2591</td>\n",
       "      <td>P017</td>\n",
       "      <td>liquid</td>\n",
       "      <td>M</td>\n",
       "      <td>0</td>\n",
       "      <td>17.0</td>\n",
       "      <td>1</td>\n",
       "      <td>Abduction</td>\n",
       "    </tr>\n",
       "    <tr>\n",
       "      <th>99</th>\n",
       "      <td>EG0141</td>\n",
       "      <td>P032</td>\n",
       "      <td>liquid</td>\n",
       "      <td>F</td>\n",
       "      <td>0</td>\n",
       "      <td>21.0</td>\n",
       "      <td>1</td>\n",
       "      <td>Abduction</td>\n",
       "    </tr>\n",
       "    <tr>\n",
       "      <th>101</th>\n",
       "      <td>EG0024</td>\n",
       "      <td>P004</td>\n",
       "      <td>formed</td>\n",
       "      <td>F</td>\n",
       "      <td>0</td>\n",
       "      <td>34.0</td>\n",
       "      <td>1</td>\n",
       "      <td>Abduction</td>\n",
       "    </tr>\n",
       "  </tbody>\n",
       "</table>\n",
       "<p>70 rows × 8 columns</p>\n",
       "</div>"
      ],
      "text/plain": [
       "    sample-id Patient_ID Stool_Consistency Patient_Sex  Sample_Day  \\\n",
       "0      EG2580       P042            liquid           F          13   \n",
       "1      EG2559       P043            liquid           M          15   \n",
       "2      EG2537       P042            liquid           F           0   \n",
       "3      EG2518       P043            liquid           M           0   \n",
       "5      EG2473       P055       semi-formed           M          20   \n",
       "..        ...        ...               ...         ...         ...   \n",
       "96     EG2638       P017       semi-formed           M          12   \n",
       "97     EG2608       P034            formed           F           0   \n",
       "98     EG2591       P017            liquid           M           0   \n",
       "99     EG0141       P032            liquid           F           0   \n",
       "101    EG0024       P004            formed           F           0   \n",
       "\n",
       "     Recovery_Day  Cohort_Number Cohort_Number_Bin  \n",
       "0            17.0              2          Recovery  \n",
       "1            17.0              2          Recovery  \n",
       "2            17.0              1         Abduction  \n",
       "3            17.0              1         Abduction  \n",
       "5            22.0              2          Recovery  \n",
       "..            ...            ...               ...  \n",
       "96           17.0              2          Recovery  \n",
       "97           18.0              1         Abduction  \n",
       "98           17.0              1         Abduction  \n",
       "99           21.0              1         Abduction  \n",
       "101          34.0              1         Abduction  \n",
       "\n",
       "[70 rows x 8 columns]"
      ]
     },
     "execution_count": 12,
     "metadata": {},
     "output_type": "execute_result"
    }
   ],
   "source": [
    "# Load metadata as dataframe\n",
    "meta = pd.read_csv(f\"{data_dir}/metadata_binned.tsv\", sep=\"\\t\")\n",
    "\n",
    "# Identify the Patient_IDs with a count of 2\n",
    "true_patient_ids = meta.Patient_ID.value_counts()[meta.Patient_ID.value_counts() == 2].index\n",
    "\n",
    "# Filter the meta table to include only rows with these Patient_IDs\n",
    "filtered_meta = meta[meta.Patient_ID.isin(true_patient_ids)]\n",
    "\n",
    "# Display the filtered meta table\n",
    "filtered_meta"
   ]
  },
  {
   "cell_type": "code",
   "execution_count": 14,
   "id": "9a90f30c-94af-4ad7-acc3-4453de0c7185",
   "metadata": {
    "tags": []
   },
   "outputs": [],
   "source": [
    "# Generate tsv file from altered metadata\n",
    "filtered_meta.to_csv(f\"{data_dir}/timepoint_filtered_metadata_binned.tsv\", sep='\\t', index=False)"
   ]
  },
  {
   "cell_type": "code",
   "execution_count": 88,
   "id": "2a70694a-acf6-4a56-8d42-cfa481ef381f",
   "metadata": {
    "tags": []
   },
   "outputs": [
    {
     "name": "stdout",
     "output_type": "stream",
     "text": [
      "Running commands for level: l7\n",
      "Saved FeatureData[DifferentialAbundance] to: ../data/processed/ancombc_cohort_number_l7_differentials.qza\n",
      "Saved Visualization to: ../data/processed/ancombc_cohort_number_l7_barplot.qzv\n",
      "Saved Visualization to: ../data/processed/ancombc_cohort_number_l7_results.qzv\n",
      "Commands for level l7 completed successfully!\n",
      "Running commands for level: l6\n",
      "Saved FeatureData[DifferentialAbundance] to: ../data/processed/ancombc_cohort_number_l6_differentials.qza\n",
      "Saved Visualization to: ../data/processed/ancombc_cohort_number_l6_barplot.qzv\n",
      "Saved Visualization to: ../data/processed/ancombc_cohort_number_l6_results.qzv\n",
      "Commands for level l6 completed successfully!\n",
      "Running commands for level: l5\n",
      "Saved FeatureData[DifferentialAbundance] to: ../data/processed/ancombc_cohort_number_l5_differentials.qza\n",
      "Saved Visualization to: ../data/processed/ancombc_cohort_number_l5_barplot.qzv\n",
      "Saved Visualization to: ../data/processed/ancombc_cohort_number_l5_results.qzv\n",
      "Commands for level l5 completed successfully!\n",
      "Running commands for level: l4\n",
      "Saved FeatureData[DifferentialAbundance] to: ../data/processed/ancombc_cohort_number_l4_differentials.qza\n",
      "Saved Visualization to: ../data/processed/ancombc_cohort_number_l4_barplot.qzv\n",
      "Saved Visualization to: ../data/processed/ancombc_cohort_number_l4_results.qzv\n",
      "Commands for level l4 completed successfully!\n",
      "Running commands for level: l3\n",
      "Saved FeatureData[DifferentialAbundance] to: ../data/processed/ancombc_cohort_number_l3_differentials.qza\n",
      "Saved Visualization to: ../data/processed/ancombc_cohort_number_l3_barplot.qzv\n",
      "Saved Visualization to: ../data/processed/ancombc_cohort_number_l3_results.qzv\n",
      "Commands for level l3 completed successfully!\n",
      "Running commands for level: l2\n",
      "Saved FeatureData[DifferentialAbundance] to: ../data/processed/ancombc_cohort_number_l2_differentials.qza\n",
      "Saved Visualization to: ../data/processed/ancombc_cohort_number_l2_barplot.qzv\n",
      "Saved Visualization to: ../data/processed/ancombc_cohort_number_l2_results.qzv\n",
      "Commands for level l2 completed successfully!\n"
     ]
    }
   ],
   "source": [
    "# Define the data directory and levels\n",
    "levels = [\"l7\", \"l6\", \"l5\", \"l4\", \"l3\", \"l2\"]\n",
    "\n",
    "\n",
    "# Loop through the levels and run the commands\n",
    "for level in levels:\n",
    "    try:\n",
    "        print(f\"Running commands for level: {level}\")\n",
    "        \n",
    "        #Filter feature table to only contain samples present in filtered metadata such that every patient has a sample for both timepoints\n",
    "        data_level = q2.Artifact.load(f\"{data_dir}/table_abund_{level}.qza\").view(pd.DataFrame)\n",
    "        combined_level = filtered_meta.merge(data_level,left_on = 'sample-id',right_index = True,how = 'inner')\n",
    "        combined_drop_level = combined_level.drop(['Patient_ID','Stool_Consistency','Patient_Sex','Sample_Day','Recovery_Day','Cohort_Number','Cohort_Number_Bin'],axis = 1)\n",
    "        combined_drop_level.set_index('sample-id',inplace = True)\n",
    "        combined_drop_level.to_csv(f\"{data_dir}/table_abund_level_filtered.tsv\",sep = '\\t',index = False)\n",
    "        \n",
    "        \n",
    "        # Save feature table as qza artifact\n",
    "        table_level = Artifact.import_data('FeatureTable[Frequency]',combined_drop_level)\n",
    "        table_level.save(f\"{data_dir}/table_abund_{level}_filtered.qza\")\n",
    "        \n",
    "        # Run ANCOM-BC\n",
    "        subprocess.run([\n",
    "            \"qiime\", \"composition\", \"ancombc\",\n",
    "            \"--i-table\", f\"{data_dir}/table_abund_{level}_filtered.qza\",\n",
    "            \"--m-metadata-file\", f\"{data_dir}/timepoint_filtered_metadata_binned.tsv\",\n",
    "            \"--p-formula\", \"Cohort_Number_Bin\",\n",
    "            \"--o-differentials\", f\"{data_dir}/ancombc_cohort_number_{level}_differentials.qza\"\n",
    "        ], check=True)\n",
    "        \n",
    "        # Generate a barplot\n",
    "        subprocess.run([\n",
    "            \"qiime\", \"composition\", \"da-barplot\",\n",
    "            \"--i-data\", f\"{data_dir}/ancombc_cohort_number_{level}_differentials.qza\",\n",
    "            \"--o-visualization\", f\"{data_dir}/ancombc_cohort_number_{level}_barplot.qzv\"\n",
    "        ], check=True)\n",
    "        \n",
    "        # Generate a results table\n",
    "        subprocess.run([\n",
    "            \"qiime\", \"composition\", \"tabulate\",\n",
    "            \"--i-data\", f\"{data_dir}/ancombc_cohort_number_{level}_differentials.qza\",\n",
    "            \"--o-visualization\", f\"{data_dir}/ancombc_cohort_number_{level}_results.qzv\"\n",
    "        ], check=True)\n",
    "        \n",
    "        print(f\"Commands for level {level} completed successfully!\")\n",
    "    except subprocess.CalledProcessError as e:\n",
    "        print(f\"Error running commands for level {level}: {e}\")\n"
   ]
  },
  {
   "cell_type": "code",
   "execution_count": 32,
   "id": "9d460632-17ed-4a3d-803f-06bcddd35922",
   "metadata": {
    "tags": []
   },
   "outputs": [],
   "source": [
    "# Filter feature table such that it only contains samples present in the above altered metadata file\n",
    "data = q2.Artifact.load(f'{data_dir}/table_abund_l7.qza').view(pd.DataFrame)\n",
    "combined = filtered_meta.merge(data, left_on='sample-id', right_index=True, how='inner')\n",
    "combined_drop = combined.drop(['Patient_ID', 'Stool_Consistency', 'Patient_Sex', 'Sample_Day', 'Recovery_Day','Cohort_Number', 'Cohort_Number_Bin'], axis=1)\n",
    "combined_drop.set_index('sample-id', inplace=True)\n",
    "combined_drop.to_csv(f\"{data_dir}/table_abund_l7_filtered.tsv\", sep='\\t', index=False)"
   ]
  },
  {
   "cell_type": "code",
   "execution_count": 37,
   "id": "5211e3cd-8cd8-4821-9872-ab6e917a599b",
   "metadata": {
    "tags": []
   },
   "outputs": [
    {
     "data": {
      "text/plain": [
       "'../data/processed/table_abund_l7_filtered.qza'"
      ]
     },
     "execution_count": 37,
     "metadata": {},
     "output_type": "execute_result"
    }
   ],
   "source": [
    "# Save the data frame as qza artifact\n",
    "table = Artifact.import_data('FeatureTable[Frequency]', combined_drop)\n",
    "table.save(f\"{data_dir}/table_abund_l7_filtered.qza\")"
   ]
  },
  {
   "cell_type": "markdown",
   "id": "89583927-6c59-4ea4-8719-9ee6b33bd36e",
   "metadata": {},
   "source": [
    "<a id='ancom'></a>\n",
    "\n",
    "## 3. Analysis of compositon of microbiomes"
   ]
  },
  {
   "cell_type": "markdown",
   "id": "2ae10fe6-8bd6-4a8e-a930-901434afb8b7",
   "metadata": {},
   "source": [
    "##### Run ANCOM-BC to investigate if taxa are differentially abundant in the 2 cohorts"
   ]
  },
  {
   "cell_type": "code",
   "execution_count": 38,
   "id": "6a856dae-7b66-4516-acdb-a7ee466c39cd",
   "metadata": {
    "tags": []
   },
   "outputs": [
    {
     "name": "stdout",
     "output_type": "stream",
     "text": [
      "\u001b[32mSaved FeatureData[DifferentialAbundance] to: ../data/processed/ancombc_cohort_number_differentials_l7.qza\u001b[0m\n",
      "\u001b[0m"
     ]
    }
   ],
   "source": [
    "# Run ANCOM-BC\n",
    "! qiime composition ancombc \\\n",
    "    --i-table $data_dir/table_abund_l7_filtered.qza \\\n",
    "    --m-metadata-file $data_dir/timepoint_filtered_metadata_binned.tsv \\\n",
    "    --p-formula Cohort_Number_Bin \\\n",
    "    --o-differentials $data_dir/ancombc_cohort_number_differentials_l7.qza"
   ]
  },
  {
   "cell_type": "markdown",
   "id": "f6079d1c-9abf-4040-a758-9841751bc4bc",
   "metadata": {},
   "source": [
    "##### Generate a barplot and tabular results from the ANCOM-BC"
   ]
  },
  {
   "cell_type": "code",
   "execution_count": 39,
   "id": "238d87f2-3562-4f3c-9da7-93f345d8e57d",
   "metadata": {
    "tags": []
   },
   "outputs": [
    {
     "name": "stdout",
     "output_type": "stream",
     "text": [
      "\u001b[32mSaved Visualization to: ../data/processed/ancombc_cohort_number_da_barplot_l7.qzv\u001b[0m\n",
      "\u001b[0m\u001b[32mSaved Visualization to: ../data/processed/ancombc_cohort_number_results_l7.qzv\u001b[0m\n",
      "\u001b[0m"
     ]
    }
   ],
   "source": [
    "# Generate a barplot of differentially abundant taxa between environments\n",
    "! qiime composition da-barplot \\\n",
    "    --i-data $data_dir/ancombc_cohort_number_differentials_l7.qza \\\n",
    "    --o-visualization $data_dir/ancombc_cohort_number_da_barplot_l7.qzv\n",
    "\n",
    "# Generate a table of these same values for all taxa\n",
    "! qiime composition tabulate \\\n",
    "    --i-data $data_dir/ancombc_cohort_number_differentials_l7.qza \\\n",
    "    --o-visualization $data_dir/ancombc_cohort_number_results_l7.qzv"
   ]
  },
  {
   "cell_type": "markdown",
   "id": "92947b1c-aca5-426d-bc5b-dac153b4b17a",
   "metadata": {},
   "source": [
    "##### Inspect barplot and tabular results visually"
   ]
  },
  {
   "cell_type": "code",
   "execution_count": 41,
   "id": "2ba6498f-8ed2-4c1c-b797-61877726bfb6",
   "metadata": {
    "tags": []
   },
   "outputs": [
    {
     "data": {
      "text/html": [
       "<div><img onload=\"(function(div, url){\n",
       "if (typeof require !== 'undefined') {\n",
       "    var baseURL = require.toUrl('').split('/').slice(0, -2).join('/');\n",
       "} else {\n",
       "    var baseURL = JSON.parse(\n",
       "        document.getElementById('jupyter-config-data').innerHTML\n",
       "    ).baseUrl.slice(0, -1);\n",
       "}\n",
       "url = baseURL + url;\n",
       "fetch(url).then(function(res) {\n",
       "    if (res.status === 404) {\n",
       "        div.innerHTML = 'Install QIIME 2 Jupyter extension with:<br />' +\n",
       "                        '<code>jupyter serverextension enable --py qiime2' +\n",
       "                        ' --sys-prefix</code><br />then restart your server.' +\n",
       "                        '<br /><br />(Interactive output not available on ' +\n",
       "                        'static notebook viewer services like nbviewer.)';\n",
       "    } else if (res.status === 409) {\n",
       "        div.innerHTML = 'Visualization no longer in scope. Re-run this cell' +\n",
       "                        ' to see the visualization.';\n",
       "    } else if (res.ok) {\n",
       "        url = res.url;\n",
       "        div.innerHTML = '<iframe src=\\'' + url + '\\' style=\\'' +\n",
       "                        'width: 100%; height: 700px; border: 0;\\'>' +\n",
       "                        '</iframe><hr />Open in a: <a href=\\'' + url + '\\'' +\n",
       "                        ' target=\\'_blank\\'>new window</a>'\n",
       "    } else {\n",
       "        div.innerHTML = 'Something has gone wrong. Check notebook server for' +\n",
       "                        ' errors.';\n",
       "    }\n",
       "});\n",
       "})(this.parentElement, '/qiime2/redirect?location=/tmp/qiime2/jovyan/data/f79a5562-1e0a-4b6e-9e0e-f30ede3d9efb')\" src=\"data:image/gif;base64,R0lGODlhAQABAIAAAP///wAAACH5BAEAAAAALAAAAAABAAEAAAICRAEAOw==\" /></div>"
      ],
      "text/plain": [
       "<visualization: Visualization uuid: f79a5562-1e0a-4b6e-9e0e-f30ede3d9efb>"
      ]
     },
     "execution_count": 41,
     "metadata": {},
     "output_type": "execute_result"
    }
   ],
   "source": [
    "Visualization.load(f\"{data_dir}/ancombc_cohort_number_da_barplot_l7.qzv\")"
   ]
  },
  {
   "cell_type": "code",
   "execution_count": 42,
   "id": "55b1f815-a36d-4b7f-a768-3973d7ba1f79",
   "metadata": {
    "tags": []
   },
   "outputs": [
    {
     "data": {
      "text/html": [
       "<div><img onload=\"(function(div, url){\n",
       "if (typeof require !== 'undefined') {\n",
       "    var baseURL = require.toUrl('').split('/').slice(0, -2).join('/');\n",
       "} else {\n",
       "    var baseURL = JSON.parse(\n",
       "        document.getElementById('jupyter-config-data').innerHTML\n",
       "    ).baseUrl.slice(0, -1);\n",
       "}\n",
       "url = baseURL + url;\n",
       "fetch(url).then(function(res) {\n",
       "    if (res.status === 404) {\n",
       "        div.innerHTML = 'Install QIIME 2 Jupyter extension with:<br />' +\n",
       "                        '<code>jupyter serverextension enable --py qiime2' +\n",
       "                        ' --sys-prefix</code><br />then restart your server.' +\n",
       "                        '<br /><br />(Interactive output not available on ' +\n",
       "                        'static notebook viewer services like nbviewer.)';\n",
       "    } else if (res.status === 409) {\n",
       "        div.innerHTML = 'Visualization no longer in scope. Re-run this cell' +\n",
       "                        ' to see the visualization.';\n",
       "    } else if (res.ok) {\n",
       "        url = res.url;\n",
       "        div.innerHTML = '<iframe src=\\'' + url + '\\' style=\\'' +\n",
       "                        'width: 100%; height: 700px; border: 0;\\'>' +\n",
       "                        '</iframe><hr />Open in a: <a href=\\'' + url + '\\'' +\n",
       "                        ' target=\\'_blank\\'>new window</a>'\n",
       "    } else {\n",
       "        div.innerHTML = 'Something has gone wrong. Check notebook server for' +\n",
       "                        ' errors.';\n",
       "    }\n",
       "});\n",
       "})(this.parentElement, '/qiime2/redirect?location=/tmp/qiime2/jovyan/data/109a1640-bf91-4474-9f67-9829620df140')\" src=\"data:image/gif;base64,R0lGODlhAQABAIAAAP///wAAACH5BAEAAAAALAAAAAABAAEAAAICRAEAOw==\" /></div>"
      ],
      "text/plain": [
       "<visualization: Visualization uuid: 109a1640-bf91-4474-9f67-9829620df140>"
      ]
     },
     "execution_count": 42,
     "metadata": {},
     "output_type": "execute_result"
    }
   ],
   "source": [
    "Visualization.load(f\"{data_dir}/ancombc_cohort_number_results_l7.qzv\")"
   ]
  },
  {
   "cell_type": "markdown",
   "id": "c1095180-9aa1-47ee-a5a6-9a0958fc54f3",
   "metadata": {},
   "source": [
    "#### Load ANCOM-BC results into a data frame for further analysis"
   ]
  },
  {
   "cell_type": "code",
   "execution_count": 66,
   "id": "c60ca249-4ba0-432a-b810-2e9f00f3aac8",
   "metadata": {
    "tags": []
   },
   "outputs": [],
   "source": [
    "from q2_composition import DataLoafPackageDirFmt\n",
    "\n",
    "dirfmt_cohort = q2.Artifact.load(f'{data_dir}/ancombc_cohort_number_differentials_l7.qza')\n",
    "# view it as that directory format\n",
    "dirfmt_cohort = dirfmt_cohort.view(DataLoafPackageDirFmt)\n",
    "\n",
    "# this directory format has a model attribute called `data_slices`\n",
    "# each of which represents a CSV in the directory\n",
    "\n",
    "slices = {}\n",
    "for relpath, view in dirfmt_cohort.data_slices.iter_views(pd.DataFrame):\n",
    "    slices[str(relpath)] = view"
   ]
  },
  {
   "cell_type": "code",
   "execution_count": 67,
   "id": "8ef4af6c-4430-482c-a0a6-d7bc569e924b",
   "metadata": {
    "tags": []
   },
   "outputs": [],
   "source": [
    "lfc_coh = list(slices.values())[0]\n",
    "lfc_coh.set_index(lfc_coh.columns[0], inplace=True)\n",
    "lfc_coh.columns = ['lfc_' + col for col in lfc_coh.columns]\n",
    "p_val_coh = list(slices.values())[1]\n",
    "p_val_coh.set_index(p_val_coh.columns[0], inplace=True)\n",
    "p_val_coh.columns = ['p_val_' + col for col in p_val_coh.columns]\n",
    "q_val_coh = list(slices.values())[2]\n",
    "q_val_coh.set_index(q_val_coh.columns[0], inplace=True)\n",
    "q_val_coh.columns = ['q_val_' + col for col in q_val_coh.columns]\n",
    "\n",
    "df_coh = pd.concat([lfc_coh, p_val_coh, q_val_coh], axis=1, join='inner')"
   ]
  },
  {
   "cell_type": "markdown",
   "id": "f63e569e-7a22-4883-b556-f3d2bcdba544",
   "metadata": {},
   "source": [
    "##### Extract features where the false recovery rate corrected p-value is <= 0.05"
   ]
  },
  {
   "cell_type": "code",
   "execution_count": 68,
   "id": "8ff65c61-c9f8-4c26-adf4-1f87126057d8",
   "metadata": {
    "tags": []
   },
   "outputs": [
    {
     "data": {
      "text/html": [
       "<div>\n",
       "<style scoped>\n",
       "    .dataframe tbody tr th:only-of-type {\n",
       "        vertical-align: middle;\n",
       "    }\n",
       "\n",
       "    .dataframe tbody tr th {\n",
       "        vertical-align: top;\n",
       "    }\n",
       "\n",
       "    .dataframe thead th {\n",
       "        text-align: right;\n",
       "    }\n",
       "</style>\n",
       "<table border=\"1\" class=\"dataframe\">\n",
       "  <thead>\n",
       "    <tr style=\"text-align: right;\">\n",
       "      <th></th>\n",
       "      <th>lfc_(Intercept)</th>\n",
       "      <th>lfc_Cohort_Number_BinRecovery</th>\n",
       "      <th>p_val_(Intercept)</th>\n",
       "      <th>p_val_Cohort_Number_BinRecovery</th>\n",
       "      <th>q_val_(Intercept)</th>\n",
       "      <th>q_val_Cohort_Number_BinRecovery</th>\n",
       "    </tr>\n",
       "    <tr>\n",
       "      <th>id</th>\n",
       "      <th></th>\n",
       "      <th></th>\n",
       "      <th></th>\n",
       "      <th></th>\n",
       "      <th></th>\n",
       "      <th></th>\n",
       "    </tr>\n",
       "  </thead>\n",
       "  <tbody>\n",
       "    <tr>\n",
       "      <th>d__Bacteria;p__Firmicutes;c__Clostridia;o__Clostridiales;f__Clostridiaceae;g__Clostridium_sensu_stricto_1;s__</th>\n",
       "      <td>4.369164</td>\n",
       "      <td>-2.763962</td>\n",
       "      <td>1.310634e-16</td>\n",
       "      <td>0.000035</td>\n",
       "      <td>8.912310e-15</td>\n",
       "      <td>0.002497</td>\n",
       "    </tr>\n",
       "    <tr>\n",
       "      <th>d__Bacteria;p__Firmicutes;c__Clostridia;o__Lachnospirales;f__Lachnospiraceae;g__Blautia;s__</th>\n",
       "      <td>6.625425</td>\n",
       "      <td>-2.516110</td>\n",
       "      <td>1.885071e-38</td>\n",
       "      <td>0.000081</td>\n",
       "      <td>1.338400e-36</td>\n",
       "      <td>0.005644</td>\n",
       "    </tr>\n",
       "    <tr>\n",
       "      <th>d__Bacteria;p__Firmicutes;c__Bacilli;o__Erysipelotrichales;f__Erysipelotrichaceae;g__[Clostridium]_innocuum_group;s__</th>\n",
       "      <td>4.175642</td>\n",
       "      <td>-2.414610</td>\n",
       "      <td>2.137762e-15</td>\n",
       "      <td>0.000228</td>\n",
       "      <td>1.432300e-13</td>\n",
       "      <td>0.015709</td>\n",
       "    </tr>\n",
       "    <tr>\n",
       "      <th>d__Bacteria;p__Firmicutes;c__Negativicutes;o__Veillonellales-Selenomonadales;__;__;__</th>\n",
       "      <td>-0.654978</td>\n",
       "      <td>0.953809</td>\n",
       "      <td>1.944263e-04</td>\n",
       "      <td>0.000072</td>\n",
       "      <td>9.332462e-03</td>\n",
       "      <td>0.005145</td>\n",
       "    </tr>\n",
       "  </tbody>\n",
       "</table>\n",
       "</div>"
      ],
      "text/plain": [
       "                                                    lfc_(Intercept)  \\\n",
       "id                                                                    \n",
       "d__Bacteria;p__Firmicutes;c__Clostridia;o__Clos...         4.369164   \n",
       "d__Bacteria;p__Firmicutes;c__Clostridia;o__Lach...         6.625425   \n",
       "d__Bacteria;p__Firmicutes;c__Bacilli;o__Erysipe...         4.175642   \n",
       "d__Bacteria;p__Firmicutes;c__Negativicutes;o__V...        -0.654978   \n",
       "\n",
       "                                                    lfc_Cohort_Number_BinRecovery  \\\n",
       "id                                                                                  \n",
       "d__Bacteria;p__Firmicutes;c__Clostridia;o__Clos...                      -2.763962   \n",
       "d__Bacteria;p__Firmicutes;c__Clostridia;o__Lach...                      -2.516110   \n",
       "d__Bacteria;p__Firmicutes;c__Bacilli;o__Erysipe...                      -2.414610   \n",
       "d__Bacteria;p__Firmicutes;c__Negativicutes;o__V...                       0.953809   \n",
       "\n",
       "                                                    p_val_(Intercept)  \\\n",
       "id                                                                      \n",
       "d__Bacteria;p__Firmicutes;c__Clostridia;o__Clos...       1.310634e-16   \n",
       "d__Bacteria;p__Firmicutes;c__Clostridia;o__Lach...       1.885071e-38   \n",
       "d__Bacteria;p__Firmicutes;c__Bacilli;o__Erysipe...       2.137762e-15   \n",
       "d__Bacteria;p__Firmicutes;c__Negativicutes;o__V...       1.944263e-04   \n",
       "\n",
       "                                                    p_val_Cohort_Number_BinRecovery  \\\n",
       "id                                                                                    \n",
       "d__Bacteria;p__Firmicutes;c__Clostridia;o__Clos...                         0.000035   \n",
       "d__Bacteria;p__Firmicutes;c__Clostridia;o__Lach...                         0.000081   \n",
       "d__Bacteria;p__Firmicutes;c__Bacilli;o__Erysipe...                         0.000228   \n",
       "d__Bacteria;p__Firmicutes;c__Negativicutes;o__V...                         0.000072   \n",
       "\n",
       "                                                    q_val_(Intercept)  \\\n",
       "id                                                                      \n",
       "d__Bacteria;p__Firmicutes;c__Clostridia;o__Clos...       8.912310e-15   \n",
       "d__Bacteria;p__Firmicutes;c__Clostridia;o__Lach...       1.338400e-36   \n",
       "d__Bacteria;p__Firmicutes;c__Bacilli;o__Erysipe...       1.432300e-13   \n",
       "d__Bacteria;p__Firmicutes;c__Negativicutes;o__V...       9.332462e-03   \n",
       "\n",
       "                                                    q_val_Cohort_Number_BinRecovery  \n",
       "id                                                                                   \n",
       "d__Bacteria;p__Firmicutes;c__Clostridia;o__Clos...                         0.002497  \n",
       "d__Bacteria;p__Firmicutes;c__Clostridia;o__Lach...                         0.005644  \n",
       "d__Bacteria;p__Firmicutes;c__Bacilli;o__Erysipe...                         0.015709  \n",
       "d__Bacteria;p__Firmicutes;c__Negativicutes;o__V...                         0.005145  "
      ]
     },
     "execution_count": 68,
     "metadata": {},
     "output_type": "execute_result"
    }
   ],
   "source": [
    "df_coh.loc[df_coh.q_val_Cohort_Number_BinRecovery <= 0.05]"
   ]
  }
 ],
 "metadata": {
  "kernelspec": {
   "display_name": "QIIME 2",
   "language": "python",
   "name": "python3"
  },
  "language_info": {
   "codemirror_mode": {
    "name": "ipython",
    "version": 3
   },
   "file_extension": ".py",
   "mimetype": "text/x-python",
   "name": "python",
   "nbconvert_exporter": "python",
   "pygments_lexer": "ipython3",
   "version": "3.9.19"
  }
 },
 "nbformat": 4,
 "nbformat_minor": 5
}
