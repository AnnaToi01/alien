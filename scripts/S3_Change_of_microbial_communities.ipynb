{
 "cells": [
  {
   "cell_type": "code",
   "execution_count": 1,
   "id": "cd2c5b89-1bdb-4be3-809b-74a71e1b55aa",
   "metadata": {
    "tags": []
   },
   "outputs": [],
   "source": [
    "import os\n",
    "import pandas as pd\n",
    "import matplotlib.pyplot as plt\n",
    "import matplotlib.cm as cm\n",
    "import matplotlib.colors as x\n",
    "import numpy as np\n",
    "\n",
    "import qiime2 as q2\n",
    "from qiime2 import Visualization\n",
    "\n",
    "%matplotlib inline"
   ]
  },
  {
   "cell_type": "code",
   "execution_count": 4,
   "id": "e9150cc1-86e7-424e-8808-e33f651f7a13",
   "metadata": {
    "tags": []
   },
   "outputs": [],
   "source": [
    "raw_data_dir = \"../data/raw\"\n",
    "data_dir = \"../data/processed\"\n",
    "vis_dir  = \"../results\""
   ]
  },
  {
   "cell_type": "code",
   "execution_count": null,
   "id": "467c67f7-30b2-4a35-a060-90b41bcb8553",
   "metadata": {},
   "outputs": [],
   "source": [
    "# ANCOM"
   ]
  },
  {
   "cell_type": "code",
   "execution_count": 3,
   "id": "265b9db9-d2e2-439d-b7ce-dbf336639f28",
   "metadata": {
    "tags": []
   },
   "outputs": [
    {
     "name": "stdout",
     "output_type": "stream",
     "text": [
      "\u001b[32mSaved FeatureTable[Composition] to: ../data/processed/comp-table.qza\u001b[0m\n",
      "\u001b[0m"
     ]
    }
   ],
   "source": [
    "! qiime composition add-pseudocount \\\n",
    "    --i-table $data_dir/table.qza \\\n",
    "    --o-composition-table $data_dir/comp-table.qza\n"
   ]
  },
  {
   "cell_type": "code",
   "execution_count": 5,
   "id": "6a856dae-7b66-4516-acdb-a7ee466c39cd",
   "metadata": {
    "tags": []
   },
   "outputs": [
    {
     "name": "stdout",
     "output_type": "stream",
     "text": [
      "\u001b[32mSaved Visualization to: ../data/processed/ancom-results.qzv\u001b[0m\n",
      "\u001b[0m"
     ]
    }
   ],
   "source": [
    "! qiime composition ancom \\\n",
    "    --i-table $data_dir/comp-table.qza \\\n",
    "    --m-metadata-file $data_dir/metadata_binned.tsv \\\n",
    "    --m-metadata-column Cohort_Number_Bin \\\n",
    "    --o-visualization $data_dir/ancom-results.qzv"
   ]
  },
  {
   "cell_type": "code",
   "execution_count": 6,
   "id": "2ba6498f-8ed2-4c1c-b797-61877726bfb6",
   "metadata": {
    "tags": []
   },
   "outputs": [
    {
     "data": {
      "text/html": [
       "<div><img onload=\"(function(div, url){\n",
       "if (typeof require !== 'undefined') {\n",
       "    var baseURL = require.toUrl('').split('/').slice(0, -2).join('/');\n",
       "} else {\n",
       "    var baseURL = JSON.parse(\n",
       "        document.getElementById('jupyter-config-data').innerHTML\n",
       "    ).baseUrl.slice(0, -1);\n",
       "}\n",
       "url = baseURL + url;\n",
       "fetch(url).then(function(res) {\n",
       "    if (res.status === 404) {\n",
       "        div.innerHTML = 'Install QIIME 2 Jupyter extension with:<br />' +\n",
       "                        '<code>jupyter serverextension enable --py qiime2' +\n",
       "                        ' --sys-prefix</code><br />then restart your server.' +\n",
       "                        '<br /><br />(Interactive output not available on ' +\n",
       "                        'static notebook viewer services like nbviewer.)';\n",
       "    } else if (res.status === 409) {\n",
       "        div.innerHTML = 'Visualization no longer in scope. Re-run this cell' +\n",
       "                        ' to see the visualization.';\n",
       "    } else if (res.ok) {\n",
       "        url = res.url;\n",
       "        div.innerHTML = '<iframe src=\\'' + url + '\\' style=\\'' +\n",
       "                        'width: 100%; height: 700px; border: 0;\\'>' +\n",
       "                        '</iframe><hr />Open in a: <a href=\\'' + url + '\\'' +\n",
       "                        ' target=\\'_blank\\'>new window</a>'\n",
       "    } else {\n",
       "        div.innerHTML = 'Something has gone wrong. Check notebook server for' +\n",
       "                        ' errors.';\n",
       "    }\n",
       "});\n",
       "})(this.parentElement, '/qiime2/redirect?location=/tmp/qiime2/jovyan/data/7d10c8a5-3051-4eb7-8608-29c1dd405327')\" src=\"data:image/gif;base64,R0lGODlhAQABAIAAAP///wAAACH5BAEAAAAALAAAAAABAAEAAAICRAEAOw==\" /></div>"
      ],
      "text/plain": [
       "<visualization: Visualization uuid: 7d10c8a5-3051-4eb7-8608-29c1dd405327>"
      ]
     },
     "execution_count": 6,
     "metadata": {},
     "output_type": "execute_result"
    }
   ],
   "source": [
    "Visualization.load(f\"{data_dir}/ancom-results.qzv\")"
   ]
  },
  {
   "cell_type": "code",
   "execution_count": 14,
   "id": "8021f5be-820f-4f57-844e-1be52c1237b0",
   "metadata": {
    "tags": []
   },
   "outputs": [
    {
     "name": "stdout",
     "output_type": "stream",
     "text": [
      "\u001b[32mExported ../data/processed/ancom-results.qzv as Visualization to directory ../data/processed/ancom-stats\u001b[0m\n"
     ]
    }
   ],
   "source": [
    "! qiime tools export \\\n",
    "  --input-path $data_dir/ancom-results.qzv \\\n",
    "  --output-path $data_dir/ancom-stats"
   ]
  },
  {
   "cell_type": "code",
   "execution_count": 16,
   "id": "d7cd2c4d-1f0a-4eed-949e-6b4bb0dbcf7b",
   "metadata": {},
   "outputs": [
    {
     "data": {
      "text/html": [
       "<div>\n",
       "<style scoped>\n",
       "    .dataframe tbody tr th:only-of-type {\n",
       "        vertical-align: middle;\n",
       "    }\n",
       "\n",
       "    .dataframe tbody tr th {\n",
       "        vertical-align: top;\n",
       "    }\n",
       "\n",
       "    .dataframe thead th {\n",
       "        text-align: right;\n",
       "    }\n",
       "</style>\n",
       "<table border=\"1\" class=\"dataframe\">\n",
       "  <thead>\n",
       "    <tr style=\"text-align: right;\">\n",
       "      <th></th>\n",
       "      <th>Unnamed: 0</th>\n",
       "      <th>W</th>\n",
       "      <th>Reject null hypothesis</th>\n",
       "    </tr>\n",
       "  </thead>\n",
       "  <tbody>\n",
       "    <tr>\n",
       "      <th>0</th>\n",
       "      <td>d383d75128d7423a9bbdb2076120e365</td>\n",
       "      <td>1966</td>\n",
       "      <td>True</td>\n",
       "    </tr>\n",
       "    <tr>\n",
       "      <th>1</th>\n",
       "      <td>aeb03963939e00b75d7370f4be601417</td>\n",
       "      <td>1950</td>\n",
       "      <td>True</td>\n",
       "    </tr>\n",
       "    <tr>\n",
       "      <th>2</th>\n",
       "      <td>6a125442b3d882bd11b5cfe1866470fd</td>\n",
       "      <td>1930</td>\n",
       "      <td>True</td>\n",
       "    </tr>\n",
       "    <tr>\n",
       "      <th>3</th>\n",
       "      <td>e3bff2e5d94dbb2b69f466ee85a1acf4</td>\n",
       "      <td>1865</td>\n",
       "      <td>True</td>\n",
       "    </tr>\n",
       "    <tr>\n",
       "      <th>4</th>\n",
       "      <td>5a0f522431143dce1339d7359fc37599</td>\n",
       "      <td>1864</td>\n",
       "      <td>True</td>\n",
       "    </tr>\n",
       "    <tr>\n",
       "      <th>5</th>\n",
       "      <td>833bf02443c2dece76422ef394ce48d0</td>\n",
       "      <td>1834</td>\n",
       "      <td>True</td>\n",
       "    </tr>\n",
       "    <tr>\n",
       "      <th>6</th>\n",
       "      <td>df009054f19d9aac55f8a5bc2eeaa409</td>\n",
       "      <td>1756</td>\n",
       "      <td>False</td>\n",
       "    </tr>\n",
       "    <tr>\n",
       "      <th>7</th>\n",
       "      <td>648070229fc4f45e01a9481f1beefe43</td>\n",
       "      <td>1704</td>\n",
       "      <td>False</td>\n",
       "    </tr>\n",
       "    <tr>\n",
       "      <th>8</th>\n",
       "      <td>b222447694e2b10c02a7e80342ae6aca</td>\n",
       "      <td>1324</td>\n",
       "      <td>False</td>\n",
       "    </tr>\n",
       "    <tr>\n",
       "      <th>9</th>\n",
       "      <td>1c75ff6db2be53fea3de5274e3bd48e2</td>\n",
       "      <td>344</td>\n",
       "      <td>False</td>\n",
       "    </tr>\n",
       "  </tbody>\n",
       "</table>\n",
       "</div>"
      ],
      "text/plain": [
       "                         Unnamed: 0     W  Reject null hypothesis\n",
       "0  d383d75128d7423a9bbdb2076120e365  1966                    True\n",
       "1  aeb03963939e00b75d7370f4be601417  1950                    True\n",
       "2  6a125442b3d882bd11b5cfe1866470fd  1930                    True\n",
       "3  e3bff2e5d94dbb2b69f466ee85a1acf4  1865                    True\n",
       "4  5a0f522431143dce1339d7359fc37599  1864                    True\n",
       "5  833bf02443c2dece76422ef394ce48d0  1834                    True\n",
       "6  df009054f19d9aac55f8a5bc2eeaa409  1756                   False\n",
       "7  648070229fc4f45e01a9481f1beefe43  1704                   False\n",
       "8  b222447694e2b10c02a7e80342ae6aca  1324                   False\n",
       "9  1c75ff6db2be53fea3de5274e3bd48e2   344                   False"
      ]
     },
     "execution_count": 16,
     "metadata": {},
     "output_type": "execute_result"
    }
   ],
   "source": [
    "sig = pd.read_csv(f\"{data_dir}/ancom-stats/ancom.tsv\", sep='\\t')\n",
    "sig.head(10)\n",
    "# Chose the 6 singificant features and map them to a taxon"
   ]
  },
  {
   "cell_type": "code",
   "execution_count": 20,
   "id": "84b2d9be-c163-4370-9c11-c981e108756d",
   "metadata": {
    "tags": []
   },
   "outputs": [],
   "source": [
    "pd.set_option('max_colwidth', 150)"
   ]
  },
  {
   "cell_type": "code",
   "execution_count": 21,
   "id": "c5e9e691-5a8e-44d5-8206-0f553d262c12",
   "metadata": {
    "tags": []
   },
   "outputs": [],
   "source": [
    "# note: QIIME 2 artifact files can be loaded as python objects! This is how.\n",
    "taxa = q2.Artifact.load(f'{data_dir}/taxonomy.qza')\n",
    "# view as a `pandas.DataFrame`. Note: Only some Artifact types can be transformed to DataFrames\n",
    "taxa = taxa.view(pd.DataFrame)"
   ]
  },
  {
   "cell_type": "code",
   "execution_count": 22,
   "id": "14513a8d-6992-494c-86cc-12e65cba75c6",
   "metadata": {
    "tags": []
   },
   "outputs": [],
   "source": [
    "ancom = taxa.loc[['d383d75128d7423a9bbdb2076120e365', 'aeb03963939e00b75d7370f4be601417', '6a125442b3d882bd11b5cfe1866470fd', 'e3bff2e5d94dbb2b69f466ee85a1acf4', '5a0f522431143dce1339d7359fc37599', '833bf02443c2dece76422ef394ce48d0']]"
   ]
  },
  {
   "cell_type": "code",
   "execution_count": 23,
   "id": "7102aa5a-f67c-49b8-8568-a632fe0a3aaf",
   "metadata": {
    "tags": []
   },
   "outputs": [
    {
     "data": {
      "text/html": [
       "<div>\n",
       "<style scoped>\n",
       "    .dataframe tbody tr th:only-of-type {\n",
       "        vertical-align: middle;\n",
       "    }\n",
       "\n",
       "    .dataframe tbody tr th {\n",
       "        vertical-align: top;\n",
       "    }\n",
       "\n",
       "    .dataframe thead th {\n",
       "        text-align: right;\n",
       "    }\n",
       "</style>\n",
       "<table border=\"1\" class=\"dataframe\">\n",
       "  <thead>\n",
       "    <tr style=\"text-align: right;\">\n",
       "      <th></th>\n",
       "      <th>Taxon</th>\n",
       "      <th>Confidence</th>\n",
       "    </tr>\n",
       "    <tr>\n",
       "      <th>Feature ID</th>\n",
       "      <th></th>\n",
       "      <th></th>\n",
       "    </tr>\n",
       "  </thead>\n",
       "  <tbody>\n",
       "    <tr>\n",
       "      <th>d383d75128d7423a9bbdb2076120e365</th>\n",
       "      <td>d__Bacteria;p__Firmicutes;c__Bacilli;o__Erysipelotrichales;f__Erysipelotrichaceae;g__[Clostridium]_innocuum_group;s__</td>\n",
       "      <td>0.9999975834612012</td>\n",
       "    </tr>\n",
       "    <tr>\n",
       "      <th>aeb03963939e00b75d7370f4be601417</th>\n",
       "      <td>d__Bacteria;p__Firmicutes;c__Bacilli;o__Lactobacillales;f__Streptococcaceae;g__Streptococcus;s__</td>\n",
       "      <td>0.9999999641579513</td>\n",
       "    </tr>\n",
       "    <tr>\n",
       "      <th>6a125442b3d882bd11b5cfe1866470fd</th>\n",
       "      <td>d__Bacteria;p__Firmicutes;c__Clostridia;o__Peptostreptococcales-Tissierellales;f__Peptostreptococcaceae;g__Intestinibacter;s__</td>\n",
       "      <td>0.9939690726650101</td>\n",
       "    </tr>\n",
       "    <tr>\n",
       "      <th>e3bff2e5d94dbb2b69f466ee85a1acf4</th>\n",
       "      <td>d__Bacteria;p__Firmicutes;c__Clostridia;o__Clostridiales;f__Clostridiaceae;g__Clostridium_sensu_stricto_1;s__</td>\n",
       "      <td>0.9993446613517993</td>\n",
       "    </tr>\n",
       "    <tr>\n",
       "      <th>5a0f522431143dce1339d7359fc37599</th>\n",
       "      <td>d__Bacteria;p__Firmicutes;c__Bacilli;o__Lactobacillales;f__Streptococcaceae;g__Streptococcus;s__</td>\n",
       "      <td>0.9999999976258209</td>\n",
       "    </tr>\n",
       "    <tr>\n",
       "      <th>833bf02443c2dece76422ef394ce48d0</th>\n",
       "      <td>d__Bacteria;p__Firmicutes;c__Bacilli;o__Erysipelotrichales;f__Erysipelatoclostridiaceae;g__Erysipelatoclostridium;s__</td>\n",
       "      <td>0.9999997011969575</td>\n",
       "    </tr>\n",
       "  </tbody>\n",
       "</table>\n",
       "</div>"
      ],
      "text/plain": [
       "                                                                                                                                                           Taxon  \\\n",
       "Feature ID                                                                                                                                                         \n",
       "d383d75128d7423a9bbdb2076120e365           d__Bacteria;p__Firmicutes;c__Bacilli;o__Erysipelotrichales;f__Erysipelotrichaceae;g__[Clostridium]_innocuum_group;s__   \n",
       "aeb03963939e00b75d7370f4be601417                                d__Bacteria;p__Firmicutes;c__Bacilli;o__Lactobacillales;f__Streptococcaceae;g__Streptococcus;s__   \n",
       "6a125442b3d882bd11b5cfe1866470fd  d__Bacteria;p__Firmicutes;c__Clostridia;o__Peptostreptococcales-Tissierellales;f__Peptostreptococcaceae;g__Intestinibacter;s__   \n",
       "e3bff2e5d94dbb2b69f466ee85a1acf4                   d__Bacteria;p__Firmicutes;c__Clostridia;o__Clostridiales;f__Clostridiaceae;g__Clostridium_sensu_stricto_1;s__   \n",
       "5a0f522431143dce1339d7359fc37599                                d__Bacteria;p__Firmicutes;c__Bacilli;o__Lactobacillales;f__Streptococcaceae;g__Streptococcus;s__   \n",
       "833bf02443c2dece76422ef394ce48d0           d__Bacteria;p__Firmicutes;c__Bacilli;o__Erysipelotrichales;f__Erysipelatoclostridiaceae;g__Erysipelatoclostridium;s__   \n",
       "\n",
       "                                          Confidence  \n",
       "Feature ID                                            \n",
       "d383d75128d7423a9bbdb2076120e365  0.9999975834612012  \n",
       "aeb03963939e00b75d7370f4be601417  0.9999999641579513  \n",
       "6a125442b3d882bd11b5cfe1866470fd  0.9939690726650101  \n",
       "e3bff2e5d94dbb2b69f466ee85a1acf4  0.9993446613517993  \n",
       "5a0f522431143dce1339d7359fc37599  0.9999999976258209  \n",
       "833bf02443c2dece76422ef394ce48d0  0.9999997011969575  "
      ]
     },
     "execution_count": 23,
     "metadata": {},
     "output_type": "execute_result"
    }
   ],
   "source": [
    "ancom"
   ]
  },
  {
   "cell_type": "code",
   "execution_count": null,
   "id": "25819c8c-2a1d-4d50-9565-d8af6f09f9ac",
   "metadata": {},
   "outputs": [],
   "source": [
    "# Data frame maipulation to map feature frequency of those 6 features depending on their timepoint (Cohort_Number)"
   ]
  },
  {
   "cell_type": "code",
   "execution_count": 24,
   "id": "10fce045-f334-4a83-b678-c3db1c1f7ee8",
   "metadata": {
    "tags": []
   },
   "outputs": [],
   "source": [
    "features = q2.Artifact.load(f\"{data_dir}/table-filtered.qza\")\n",
    "metadata = pd.read_csv(f\"{raw_data_dir}/metadata.tsv\", sep='\\t')\n",
    "features = features.view(pd.DataFrame).transpose()"
   ]
  },
  {
   "cell_type": "code",
   "execution_count": 25,
   "id": "2bb7f202-64fa-467f-8d9d-2d1ca5f18eba",
   "metadata": {
    "tags": []
   },
   "outputs": [],
   "source": [
    "df1 = pd.concat([ancom, features], axis=1, join='inner')"
   ]
  },
  {
   "cell_type": "code",
   "execution_count": 27,
   "id": "36d66608-cb5c-4091-ba16-d10a92a96ed5",
   "metadata": {
    "tags": []
   },
   "outputs": [],
   "source": [
    "df2 = df1.transpose()\n",
    "metadata.index = metadata['Sample_Name']\n",
    "df3 = pd.concat([df2, metadata], axis=1, join='outer')\n",
    "df4 = df3.drop(columns = ['Sample_Name', 'Patient_ID', 'Stool_Consistency', 'Patient_Sex', 'Sample_Day', 'Recovery_Day'])"
   ]
  },
  {
   "cell_type": "code",
   "execution_count": 28,
   "id": "0a62e44d-4819-49fb-a869-ab709e377354",
   "metadata": {
    "tags": []
   },
   "outputs": [],
   "source": [
    "df_abduction = df4[df4['Cohort_Number'] == 1]\n",
    "df_recovery = df4[df4['Cohort_Number'] == 2]"
   ]
  },
  {
   "cell_type": "code",
   "execution_count": 61,
   "id": "23dd16b8-e3b4-4397-9b0a-8fff694b8aab",
   "metadata": {
    "tags": []
   },
   "outputs": [
    {
     "name": "stderr",
     "output_type": "stream",
     "text": [
      "/tmp/ipykernel_71/1361588763.py:8: SettingWithCopyWarning: \n",
      "A value is trying to be set on a copy of a slice from a DataFrame.\n",
      "Try using .loc[row_indexer,col_indexer] = value instead\n",
      "\n",
      "See the caveats in the documentation: https://pandas.pydata.org/pandas-docs/stable/user_guide/indexing.html#returning-a-view-versus-a-copy\n",
      "  df_abduction[column] = convert_to_numeric(df_abduction[column])\n"
     ]
    }
   ],
   "source": [
    "# Function to convert columns to numeric\n",
    "def convert_to_numeric(col):\n",
    "    # Convert to numeric, coercing errors to NaN\n",
    "    return pd.to_numeric(col)\n",
    "\n",
    "# Apply the function to all columns in the DataFrame\n",
    "for column in df_abduction.columns:\n",
    "    df_abduction[column] = convert_to_numeric(df_abduction[column])"
   ]
  },
  {
   "cell_type": "code",
   "execution_count": 62,
   "id": "c2bc3c04-99ee-4f57-bc73-8ea9a6b00f21",
   "metadata": {
    "tags": []
   },
   "outputs": [
    {
     "data": {
      "text/html": [
       "<div>\n",
       "<style scoped>\n",
       "    .dataframe tbody tr th:only-of-type {\n",
       "        vertical-align: middle;\n",
       "    }\n",
       "\n",
       "    .dataframe tbody tr th {\n",
       "        vertical-align: top;\n",
       "    }\n",
       "\n",
       "    .dataframe thead th {\n",
       "        text-align: right;\n",
       "    }\n",
       "</style>\n",
       "<table border=\"1\" class=\"dataframe\">\n",
       "  <thead>\n",
       "    <tr style=\"text-align: right;\">\n",
       "      <th></th>\n",
       "      <th>d383d75128d7423a9bbdb2076120e365</th>\n",
       "      <th>aeb03963939e00b75d7370f4be601417</th>\n",
       "      <th>6a125442b3d882bd11b5cfe1866470fd</th>\n",
       "      <th>e3bff2e5d94dbb2b69f466ee85a1acf4</th>\n",
       "      <th>5a0f522431143dce1339d7359fc37599</th>\n",
       "      <th>833bf02443c2dece76422ef394ce48d0</th>\n",
       "      <th>Cohort_Number</th>\n",
       "    </tr>\n",
       "  </thead>\n",
       "  <tbody>\n",
       "    <tr>\n",
       "      <th>count</th>\n",
       "      <td>54.000000</td>\n",
       "      <td>54.000000</td>\n",
       "      <td>54.000000</td>\n",
       "      <td>54.000000</td>\n",
       "      <td>54.000000</td>\n",
       "      <td>54.000000</td>\n",
       "      <td>54.0</td>\n",
       "    </tr>\n",
       "    <tr>\n",
       "      <th>mean</th>\n",
       "      <td>1882.537037</td>\n",
       "      <td>1855.351852</td>\n",
       "      <td>996.759259</td>\n",
       "      <td>2938.425926</td>\n",
       "      <td>1308.425926</td>\n",
       "      <td>2212.500000</td>\n",
       "      <td>1.0</td>\n",
       "    </tr>\n",
       "    <tr>\n",
       "      <th>std</th>\n",
       "      <td>4223.671709</td>\n",
       "      <td>3516.213809</td>\n",
       "      <td>3789.564081</td>\n",
       "      <td>10068.587755</td>\n",
       "      <td>2264.945654</td>\n",
       "      <td>5157.699227</td>\n",
       "      <td>0.0</td>\n",
       "    </tr>\n",
       "    <tr>\n",
       "      <th>min</th>\n",
       "      <td>0.000000</td>\n",
       "      <td>0.000000</td>\n",
       "      <td>0.000000</td>\n",
       "      <td>0.000000</td>\n",
       "      <td>0.000000</td>\n",
       "      <td>0.000000</td>\n",
       "      <td>1.0</td>\n",
       "    </tr>\n",
       "    <tr>\n",
       "      <th>25%</th>\n",
       "      <td>10.250000</td>\n",
       "      <td>0.000000</td>\n",
       "      <td>0.000000</td>\n",
       "      <td>0.000000</td>\n",
       "      <td>38.750000</td>\n",
       "      <td>0.000000</td>\n",
       "      <td>1.0</td>\n",
       "    </tr>\n",
       "    <tr>\n",
       "      <th>50%</th>\n",
       "      <td>193.000000</td>\n",
       "      <td>258.000000</td>\n",
       "      <td>0.000000</td>\n",
       "      <td>0.000000</td>\n",
       "      <td>262.500000</td>\n",
       "      <td>209.000000</td>\n",
       "      <td>1.0</td>\n",
       "    </tr>\n",
       "    <tr>\n",
       "      <th>75%</th>\n",
       "      <td>1554.250000</td>\n",
       "      <td>1499.250000</td>\n",
       "      <td>588.750000</td>\n",
       "      <td>290.250000</td>\n",
       "      <td>1726.500000</td>\n",
       "      <td>1362.750000</td>\n",
       "      <td>1.0</td>\n",
       "    </tr>\n",
       "    <tr>\n",
       "      <th>max</th>\n",
       "      <td>19940.000000</td>\n",
       "      <td>14867.000000</td>\n",
       "      <td>27511.000000</td>\n",
       "      <td>56796.000000</td>\n",
       "      <td>10911.000000</td>\n",
       "      <td>28565.000000</td>\n",
       "      <td>1.0</td>\n",
       "    </tr>\n",
       "  </tbody>\n",
       "</table>\n",
       "</div>"
      ],
      "text/plain": [
       "       d383d75128d7423a9bbdb2076120e365  aeb03963939e00b75d7370f4be601417  \\\n",
       "count                         54.000000                         54.000000   \n",
       "mean                        1882.537037                       1855.351852   \n",
       "std                         4223.671709                       3516.213809   \n",
       "min                            0.000000                          0.000000   \n",
       "25%                           10.250000                          0.000000   \n",
       "50%                          193.000000                        258.000000   \n",
       "75%                         1554.250000                       1499.250000   \n",
       "max                        19940.000000                      14867.000000   \n",
       "\n",
       "       6a125442b3d882bd11b5cfe1866470fd  e3bff2e5d94dbb2b69f466ee85a1acf4  \\\n",
       "count                         54.000000                         54.000000   \n",
       "mean                         996.759259                       2938.425926   \n",
       "std                         3789.564081                      10068.587755   \n",
       "min                            0.000000                          0.000000   \n",
       "25%                            0.000000                          0.000000   \n",
       "50%                            0.000000                          0.000000   \n",
       "75%                          588.750000                        290.250000   \n",
       "max                        27511.000000                      56796.000000   \n",
       "\n",
       "       5a0f522431143dce1339d7359fc37599  833bf02443c2dece76422ef394ce48d0  \\\n",
       "count                         54.000000                         54.000000   \n",
       "mean                        1308.425926                       2212.500000   \n",
       "std                         2264.945654                       5157.699227   \n",
       "min                            0.000000                          0.000000   \n",
       "25%                           38.750000                          0.000000   \n",
       "50%                          262.500000                        209.000000   \n",
       "75%                         1726.500000                       1362.750000   \n",
       "max                        10911.000000                      28565.000000   \n",
       "\n",
       "       Cohort_Number  \n",
       "count           54.0  \n",
       "mean             1.0  \n",
       "std              0.0  \n",
       "min              1.0  \n",
       "25%              1.0  \n",
       "50%              1.0  \n",
       "75%              1.0  \n",
       "max              1.0  "
      ]
     },
     "execution_count": 62,
     "metadata": {},
     "output_type": "execute_result"
    }
   ],
   "source": [
    "df_abduction.describe()"
   ]
  },
  {
   "cell_type": "code",
   "execution_count": 63,
   "id": "d58f2bf7-033c-4e69-8ac0-c732f887f9d4",
   "metadata": {
    "tags": []
   },
   "outputs": [
    {
     "name": "stderr",
     "output_type": "stream",
     "text": [
      "/tmp/ipykernel_71/1302235240.py:8: SettingWithCopyWarning: \n",
      "A value is trying to be set on a copy of a slice from a DataFrame.\n",
      "Try using .loc[row_indexer,col_indexer] = value instead\n",
      "\n",
      "See the caveats in the documentation: https://pandas.pydata.org/pandas-docs/stable/user_guide/indexing.html#returning-a-view-versus-a-copy\n",
      "  df_recovery[column] = convert_to_numeric(df_recovery[column])\n"
     ]
    }
   ],
   "source": [
    "# Function to convert columns to numeric\n",
    "def convert_to_numeric(col):\n",
    "    # Convert to numeric, coercing errors to NaN\n",
    "    return pd.to_numeric(col)\n",
    "\n",
    "# Apply the function to all columns in the DataFrame\n",
    "for column in df_recovery.columns:\n",
    "    df_recovery[column] = convert_to_numeric(df_recovery[column])"
   ]
  },
  {
   "cell_type": "code",
   "execution_count": 64,
   "id": "2d6a38ac-049c-4b30-9bc5-8a1c28b0b30e",
   "metadata": {
    "tags": []
   },
   "outputs": [
    {
     "data": {
      "text/html": [
       "<div>\n",
       "<style scoped>\n",
       "    .dataframe tbody tr th:only-of-type {\n",
       "        vertical-align: middle;\n",
       "    }\n",
       "\n",
       "    .dataframe tbody tr th {\n",
       "        vertical-align: top;\n",
       "    }\n",
       "\n",
       "    .dataframe thead th {\n",
       "        text-align: right;\n",
       "    }\n",
       "</style>\n",
       "<table border=\"1\" class=\"dataframe\">\n",
       "  <thead>\n",
       "    <tr style=\"text-align: right;\">\n",
       "      <th></th>\n",
       "      <th>d383d75128d7423a9bbdb2076120e365</th>\n",
       "      <th>aeb03963939e00b75d7370f4be601417</th>\n",
       "      <th>6a125442b3d882bd11b5cfe1866470fd</th>\n",
       "      <th>e3bff2e5d94dbb2b69f466ee85a1acf4</th>\n",
       "      <th>5a0f522431143dce1339d7359fc37599</th>\n",
       "      <th>833bf02443c2dece76422ef394ce48d0</th>\n",
       "      <th>Cohort_Number</th>\n",
       "    </tr>\n",
       "  </thead>\n",
       "  <tbody>\n",
       "    <tr>\n",
       "      <th>count</th>\n",
       "      <td>48.000000</td>\n",
       "      <td>48.000000</td>\n",
       "      <td>48.000000</td>\n",
       "      <td>48.000000</td>\n",
       "      <td>48.000000</td>\n",
       "      <td>48.000000</td>\n",
       "      <td>48.0</td>\n",
       "    </tr>\n",
       "    <tr>\n",
       "      <th>mean</th>\n",
       "      <td>248.062500</td>\n",
       "      <td>158.708333</td>\n",
       "      <td>64.020833</td>\n",
       "      <td>2.125000</td>\n",
       "      <td>772.708333</td>\n",
       "      <td>245.916667</td>\n",
       "      <td>2.0</td>\n",
       "    </tr>\n",
       "    <tr>\n",
       "      <th>std</th>\n",
       "      <td>1294.267235</td>\n",
       "      <td>756.912737</td>\n",
       "      <td>443.549344</td>\n",
       "      <td>8.900454</td>\n",
       "      <td>2944.364903</td>\n",
       "      <td>921.962911</td>\n",
       "      <td>0.0</td>\n",
       "    </tr>\n",
       "    <tr>\n",
       "      <th>min</th>\n",
       "      <td>0.000000</td>\n",
       "      <td>0.000000</td>\n",
       "      <td>0.000000</td>\n",
       "      <td>0.000000</td>\n",
       "      <td>0.000000</td>\n",
       "      <td>0.000000</td>\n",
       "      <td>2.0</td>\n",
       "    </tr>\n",
       "    <tr>\n",
       "      <th>25%</th>\n",
       "      <td>0.000000</td>\n",
       "      <td>0.000000</td>\n",
       "      <td>0.000000</td>\n",
       "      <td>0.000000</td>\n",
       "      <td>0.000000</td>\n",
       "      <td>0.000000</td>\n",
       "      <td>2.0</td>\n",
       "    </tr>\n",
       "    <tr>\n",
       "      <th>50%</th>\n",
       "      <td>0.000000</td>\n",
       "      <td>0.000000</td>\n",
       "      <td>0.000000</td>\n",
       "      <td>0.000000</td>\n",
       "      <td>0.000000</td>\n",
       "      <td>0.000000</td>\n",
       "      <td>2.0</td>\n",
       "    </tr>\n",
       "    <tr>\n",
       "      <th>75%</th>\n",
       "      <td>1.500000</td>\n",
       "      <td>0.000000</td>\n",
       "      <td>0.000000</td>\n",
       "      <td>0.000000</td>\n",
       "      <td>41.000000</td>\n",
       "      <td>8.250000</td>\n",
       "      <td>2.0</td>\n",
       "    </tr>\n",
       "    <tr>\n",
       "      <th>max</th>\n",
       "      <td>8826.000000</td>\n",
       "      <td>4989.000000</td>\n",
       "      <td>3073.000000</td>\n",
       "      <td>57.000000</td>\n",
       "      <td>14721.000000</td>\n",
       "      <td>4160.000000</td>\n",
       "      <td>2.0</td>\n",
       "    </tr>\n",
       "  </tbody>\n",
       "</table>\n",
       "</div>"
      ],
      "text/plain": [
       "       d383d75128d7423a9bbdb2076120e365  aeb03963939e00b75d7370f4be601417  \\\n",
       "count                         48.000000                         48.000000   \n",
       "mean                         248.062500                        158.708333   \n",
       "std                         1294.267235                        756.912737   \n",
       "min                            0.000000                          0.000000   \n",
       "25%                            0.000000                          0.000000   \n",
       "50%                            0.000000                          0.000000   \n",
       "75%                            1.500000                          0.000000   \n",
       "max                         8826.000000                       4989.000000   \n",
       "\n",
       "       6a125442b3d882bd11b5cfe1866470fd  e3bff2e5d94dbb2b69f466ee85a1acf4  \\\n",
       "count                         48.000000                         48.000000   \n",
       "mean                          64.020833                          2.125000   \n",
       "std                          443.549344                          8.900454   \n",
       "min                            0.000000                          0.000000   \n",
       "25%                            0.000000                          0.000000   \n",
       "50%                            0.000000                          0.000000   \n",
       "75%                            0.000000                          0.000000   \n",
       "max                         3073.000000                         57.000000   \n",
       "\n",
       "       5a0f522431143dce1339d7359fc37599  833bf02443c2dece76422ef394ce48d0  \\\n",
       "count                         48.000000                         48.000000   \n",
       "mean                         772.708333                        245.916667   \n",
       "std                         2944.364903                        921.962911   \n",
       "min                            0.000000                          0.000000   \n",
       "25%                            0.000000                          0.000000   \n",
       "50%                            0.000000                          0.000000   \n",
       "75%                           41.000000                          8.250000   \n",
       "max                        14721.000000                       4160.000000   \n",
       "\n",
       "       Cohort_Number  \n",
       "count           48.0  \n",
       "mean             2.0  \n",
       "std              0.0  \n",
       "min              2.0  \n",
       "25%              2.0  \n",
       "50%              2.0  \n",
       "75%              2.0  \n",
       "max              2.0  "
      ]
     },
     "execution_count": 64,
     "metadata": {},
     "output_type": "execute_result"
    }
   ],
   "source": [
    "df_recovery.describe()"
   ]
  },
  {
   "cell_type": "code",
   "execution_count": null,
   "id": "6baafeca-bf75-411d-a339-5e6ac19ce5fb",
   "metadata": {},
   "outputs": [],
   "source": [
    "# All 6 features are less abundant in the recovered patients"
   ]
  }
 ],
 "metadata": {
  "kernelspec": {
   "display_name": "QIIME 2",
   "language": "python",
   "name": "python3"
  },
  "language_info": {
   "codemirror_mode": {
    "name": "ipython",
    "version": 3
   },
   "file_extension": ".py",
   "mimetype": "text/x-python",
   "name": "python",
   "nbconvert_exporter": "python",
   "pygments_lexer": "ipython3",
   "version": "3.9.19"
  }
 },
 "nbformat": 4,
 "nbformat_minor": 5
}
