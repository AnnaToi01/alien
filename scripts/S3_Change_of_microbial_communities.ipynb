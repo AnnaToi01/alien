{
 "cells": [
  {
   "cell_type": "markdown",
   "id": "e3502b0b-f85b-4898-9549-4d992cda5e43",
   "metadata": {},
   "source": [
    "# S3. Change of microbial communities between different timepoints \n",
    "\n",
    "Author: Marc Kesselring\n",
    "\n",
    "\n",
    "In this Jupyter Notebook the change of microbial communities between different timepoints is analyzed.\n",
    "\n",
    "**Exercise overview:**<br>\n",
    "[1. Setup](#setup)<br>\n",
    "[2. Filter data and run ANCOM-BC](#filter)<br>\n",
    "[3. Statistical Evaluation](#ancom)<br>\n",
    "[4. Visualization](#visuala)<br>"
   ]
  },
  {
   "cell_type": "markdown",
   "id": "6ca74c0d-d765-4ee4-96a4-6a75da3e1b5f",
   "metadata": {
    "tags": []
   },
   "source": [
    "<a id='setup'></a>\n",
    "\n",
    "## 1. Setup"
   ]
  },
  {
   "cell_type": "code",
   "execution_count": 1,
   "id": "cd2c5b89-1bdb-4be3-809b-74a71e1b55aa",
   "metadata": {
    "tags": []
   },
   "outputs": [],
   "source": [
    "import os\n",
    "import matplotlib.pyplot as plt\n",
    "import pandas as pd\n",
    "import qiime2 as q2\n",
    "from qiime2 import Visualization\n",
    "import seaborn as sns\n",
    "from scipy.stats import shapiro, kruskal, f_oneway\n",
    "import subprocess\n",
    "from qiime2 import Artifact\n",
    "\n",
    "%matplotlib inline"
   ]
  },
  {
   "cell_type": "code",
   "execution_count": 2,
   "id": "e9150cc1-86e7-424e-8808-e33f651f7a13",
   "metadata": {
    "tags": []
   },
   "outputs": [],
   "source": [
    "raw_data_dir = \"../data/raw\"\n",
    "data_dir = \"../data/processed\"\n",
    "vis_dir  = \"../results\""
   ]
  },
  {
   "cell_type": "markdown",
   "id": "9296b5b4-4327-4679-983e-4949e2f95229",
   "metadata": {},
   "source": [
    "<a id='filter'></a>\n",
    "\n",
    "## 2. Filter data and run ANCOM-BC"
   ]
  },
  {
   "cell_type": "markdown",
   "id": "240f8eb7-c91a-4714-aa93-d6c221bedc53",
   "metadata": {},
   "source": [
    "The data was already filtered in notebook 06_DifferentalAbundance.ipynb. The features were only retained if they had a minimum frequency of 25 and were present in at least 5 samples. Afterwards the features were collapsed to phylum, class, order, family, genus and species levels respectively. Additionally, the metadata was filtered to only contain samples where a patient had a measurement for both timepoints (abduction and recovery)"
   ]
  },
  {
   "cell_type": "code",
   "execution_count": 12,
   "id": "e0e060d5-5db7-4821-9338-8ce44780971f",
   "metadata": {
    "tags": []
   },
   "outputs": [
    {
     "data": {
      "text/html": [
       "<div>\n",
       "<style scoped>\n",
       "    .dataframe tbody tr th:only-of-type {\n",
       "        vertical-align: middle;\n",
       "    }\n",
       "\n",
       "    .dataframe tbody tr th {\n",
       "        vertical-align: top;\n",
       "    }\n",
       "\n",
       "    .dataframe thead th {\n",
       "        text-align: right;\n",
       "    }\n",
       "</style>\n",
       "<table border=\"1\" class=\"dataframe\">\n",
       "  <thead>\n",
       "    <tr style=\"text-align: right;\">\n",
       "      <th></th>\n",
       "      <th>sample-id</th>\n",
       "      <th>Patient_ID</th>\n",
       "      <th>Stool_Consistency</th>\n",
       "      <th>Patient_Sex</th>\n",
       "      <th>Sample_Day</th>\n",
       "      <th>Recovery_Day</th>\n",
       "      <th>Cohort_Number</th>\n",
       "      <th>Cohort_Number_Bin</th>\n",
       "    </tr>\n",
       "  </thead>\n",
       "  <tbody>\n",
       "    <tr>\n",
       "      <th>0</th>\n",
       "      <td>EG2580</td>\n",
       "      <td>P042</td>\n",
       "      <td>liquid</td>\n",
       "      <td>F</td>\n",
       "      <td>13</td>\n",
       "      <td>17.0</td>\n",
       "      <td>2</td>\n",
       "      <td>Recovery</td>\n",
       "    </tr>\n",
       "    <tr>\n",
       "      <th>1</th>\n",
       "      <td>EG2559</td>\n",
       "      <td>P043</td>\n",
       "      <td>liquid</td>\n",
       "      <td>M</td>\n",
       "      <td>15</td>\n",
       "      <td>17.0</td>\n",
       "      <td>2</td>\n",
       "      <td>Recovery</td>\n",
       "    </tr>\n",
       "    <tr>\n",
       "      <th>2</th>\n",
       "      <td>EG2537</td>\n",
       "      <td>P042</td>\n",
       "      <td>liquid</td>\n",
       "      <td>F</td>\n",
       "      <td>0</td>\n",
       "      <td>17.0</td>\n",
       "      <td>1</td>\n",
       "      <td>Abduction</td>\n",
       "    </tr>\n",
       "    <tr>\n",
       "      <th>3</th>\n",
       "      <td>EG2518</td>\n",
       "      <td>P043</td>\n",
       "      <td>liquid</td>\n",
       "      <td>M</td>\n",
       "      <td>0</td>\n",
       "      <td>17.0</td>\n",
       "      <td>1</td>\n",
       "      <td>Abduction</td>\n",
       "    </tr>\n",
       "    <tr>\n",
       "      <th>5</th>\n",
       "      <td>EG2473</td>\n",
       "      <td>P055</td>\n",
       "      <td>semi-formed</td>\n",
       "      <td>M</td>\n",
       "      <td>20</td>\n",
       "      <td>22.0</td>\n",
       "      <td>2</td>\n",
       "      <td>Recovery</td>\n",
       "    </tr>\n",
       "    <tr>\n",
       "      <th>...</th>\n",
       "      <td>...</td>\n",
       "      <td>...</td>\n",
       "      <td>...</td>\n",
       "      <td>...</td>\n",
       "      <td>...</td>\n",
       "      <td>...</td>\n",
       "      <td>...</td>\n",
       "      <td>...</td>\n",
       "    </tr>\n",
       "    <tr>\n",
       "      <th>96</th>\n",
       "      <td>EG2638</td>\n",
       "      <td>P017</td>\n",
       "      <td>semi-formed</td>\n",
       "      <td>M</td>\n",
       "      <td>12</td>\n",
       "      <td>17.0</td>\n",
       "      <td>2</td>\n",
       "      <td>Recovery</td>\n",
       "    </tr>\n",
       "    <tr>\n",
       "      <th>97</th>\n",
       "      <td>EG2608</td>\n",
       "      <td>P034</td>\n",
       "      <td>formed</td>\n",
       "      <td>F</td>\n",
       "      <td>0</td>\n",
       "      <td>18.0</td>\n",
       "      <td>1</td>\n",
       "      <td>Abduction</td>\n",
       "    </tr>\n",
       "    <tr>\n",
       "      <th>98</th>\n",
       "      <td>EG2591</td>\n",
       "      <td>P017</td>\n",
       "      <td>liquid</td>\n",
       "      <td>M</td>\n",
       "      <td>0</td>\n",
       "      <td>17.0</td>\n",
       "      <td>1</td>\n",
       "      <td>Abduction</td>\n",
       "    </tr>\n",
       "    <tr>\n",
       "      <th>99</th>\n",
       "      <td>EG0141</td>\n",
       "      <td>P032</td>\n",
       "      <td>liquid</td>\n",
       "      <td>F</td>\n",
       "      <td>0</td>\n",
       "      <td>21.0</td>\n",
       "      <td>1</td>\n",
       "      <td>Abduction</td>\n",
       "    </tr>\n",
       "    <tr>\n",
       "      <th>101</th>\n",
       "      <td>EG0024</td>\n",
       "      <td>P004</td>\n",
       "      <td>formed</td>\n",
       "      <td>F</td>\n",
       "      <td>0</td>\n",
       "      <td>34.0</td>\n",
       "      <td>1</td>\n",
       "      <td>Abduction</td>\n",
       "    </tr>\n",
       "  </tbody>\n",
       "</table>\n",
       "<p>70 rows × 8 columns</p>\n",
       "</div>"
      ],
      "text/plain": [
       "    sample-id Patient_ID Stool_Consistency Patient_Sex  Sample_Day  \\\n",
       "0      EG2580       P042            liquid           F          13   \n",
       "1      EG2559       P043            liquid           M          15   \n",
       "2      EG2537       P042            liquid           F           0   \n",
       "3      EG2518       P043            liquid           M           0   \n",
       "5      EG2473       P055       semi-formed           M          20   \n",
       "..        ...        ...               ...         ...         ...   \n",
       "96     EG2638       P017       semi-formed           M          12   \n",
       "97     EG2608       P034            formed           F           0   \n",
       "98     EG2591       P017            liquid           M           0   \n",
       "99     EG0141       P032            liquid           F           0   \n",
       "101    EG0024       P004            formed           F           0   \n",
       "\n",
       "     Recovery_Day  Cohort_Number Cohort_Number_Bin  \n",
       "0            17.0              2          Recovery  \n",
       "1            17.0              2          Recovery  \n",
       "2            17.0              1         Abduction  \n",
       "3            17.0              1         Abduction  \n",
       "5            22.0              2          Recovery  \n",
       "..            ...            ...               ...  \n",
       "96           17.0              2          Recovery  \n",
       "97           18.0              1         Abduction  \n",
       "98           17.0              1         Abduction  \n",
       "99           21.0              1         Abduction  \n",
       "101          34.0              1         Abduction  \n",
       "\n",
       "[70 rows x 8 columns]"
      ]
     },
     "execution_count": 12,
     "metadata": {},
     "output_type": "execute_result"
    }
   ],
   "source": [
    "# Load metadata as dataframe\n",
    "meta = pd.read_csv(f\"{data_dir}/metadata_binned.tsv\", sep=\"\\t\")\n",
    "\n",
    "# Identify the Patient_IDs with a count of 2\n",
    "true_patient_ids = meta.Patient_ID.value_counts()[meta.Patient_ID.value_counts() == 2].index\n",
    "\n",
    "# Filter the meta table to include only rows with these Patient_IDs\n",
    "filtered_meta = meta[meta.Patient_ID.isin(true_patient_ids)]\n",
    "\n",
    "# Display the filtered meta table\n",
    "filtered_meta"
   ]
  },
  {
   "cell_type": "code",
   "execution_count": 14,
   "id": "9a90f30c-94af-4ad7-acc3-4453de0c7185",
   "metadata": {
    "tags": []
   },
   "outputs": [],
   "source": [
    "# Generate tsv file from altered metadata\n",
    "filtered_meta.to_csv(f\"{data_dir}/timepoint_filtered_metadata_binned.tsv\", sep='\\t', index=False)"
   ]
  },
  {
   "cell_type": "markdown",
   "id": "4170bc3c-d9f7-450c-8993-0f133e0a3eba",
   "metadata": {},
   "source": [
    "##### In order to use ANCOM-BC the feature table and metadata files have to contain the exact same sample-ids. This for-loop runs through all levels of collapsed taxa feature tables to get matching sample-ids with the altered metadata file and the runs ANCOM--BC with them. Additionally, barplot and result visualization are generated from the ANCOM-BC output."
   ]
  },
  {
   "cell_type": "code",
   "execution_count": 88,
   "id": "2a70694a-acf6-4a56-8d42-cfa481ef381f",
   "metadata": {
    "tags": []
   },
   "outputs": [
    {
     "name": "stdout",
     "output_type": "stream",
     "text": [
      "Running commands for level: l7\n",
      "Saved FeatureData[DifferentialAbundance] to: ../data/processed/ancombc_cohort_number_l7_differentials.qza\n",
      "Saved Visualization to: ../data/processed/ancombc_cohort_number_l7_barplot.qzv\n",
      "Saved Visualization to: ../data/processed/ancombc_cohort_number_l7_results.qzv\n",
      "Commands for level l7 completed successfully!\n",
      "Running commands for level: l6\n",
      "Saved FeatureData[DifferentialAbundance] to: ../data/processed/ancombc_cohort_number_l6_differentials.qza\n",
      "Saved Visualization to: ../data/processed/ancombc_cohort_number_l6_barplot.qzv\n",
      "Saved Visualization to: ../data/processed/ancombc_cohort_number_l6_results.qzv\n",
      "Commands for level l6 completed successfully!\n",
      "Running commands for level: l5\n",
      "Saved FeatureData[DifferentialAbundance] to: ../data/processed/ancombc_cohort_number_l5_differentials.qza\n",
      "Saved Visualization to: ../data/processed/ancombc_cohort_number_l5_barplot.qzv\n",
      "Saved Visualization to: ../data/processed/ancombc_cohort_number_l5_results.qzv\n",
      "Commands for level l5 completed successfully!\n",
      "Running commands for level: l4\n",
      "Saved FeatureData[DifferentialAbundance] to: ../data/processed/ancombc_cohort_number_l4_differentials.qza\n",
      "Saved Visualization to: ../data/processed/ancombc_cohort_number_l4_barplot.qzv\n",
      "Saved Visualization to: ../data/processed/ancombc_cohort_number_l4_results.qzv\n",
      "Commands for level l4 completed successfully!\n",
      "Running commands for level: l3\n",
      "Saved FeatureData[DifferentialAbundance] to: ../data/processed/ancombc_cohort_number_l3_differentials.qza\n",
      "Saved Visualization to: ../data/processed/ancombc_cohort_number_l3_barplot.qzv\n",
      "Saved Visualization to: ../data/processed/ancombc_cohort_number_l3_results.qzv\n",
      "Commands for level l3 completed successfully!\n",
      "Running commands for level: l2\n",
      "Saved FeatureData[DifferentialAbundance] to: ../data/processed/ancombc_cohort_number_l2_differentials.qza\n",
      "Saved Visualization to: ../data/processed/ancombc_cohort_number_l2_barplot.qzv\n",
      "Saved Visualization to: ../data/processed/ancombc_cohort_number_l2_results.qzv\n",
      "Commands for level l2 completed successfully!\n"
     ]
    }
   ],
   "source": [
    "# Define the data directory and levels\n",
    "levels = [\"l7\", \"l6\", \"l5\", \"l4\", \"l3\", \"l2\"]\n",
    "\n",
    "\n",
    "# Loop through the levels and run the commands\n",
    "for level in levels:\n",
    "    try:\n",
    "        print(f\"Running commands for level: {level}\")\n",
    "        \n",
    "        #Filter feature table to only contain samples present in filtered metadata such that every patient has a sample for both timepoints\n",
    "        data_level = q2.Artifact.load(f\"{data_dir}/table_abund_{level}.qza\").view(pd.DataFrame)\n",
    "        combined_level = filtered_meta.merge(data_level,left_on = 'sample-id',right_index = True,how = 'inner')\n",
    "        combined_drop_level = combined_level.drop(['Patient_ID','Stool_Consistency','Patient_Sex','Sample_Day','Recovery_Day','Cohort_Number','Cohort_Number_Bin'],axis = 1)\n",
    "        combined_drop_level.set_index('sample-id',inplace = True)\n",
    "        combined_drop_level.to_csv(f\"{data_dir}/table_abund_level_filtered.tsv\",sep = '\\t',index = False)\n",
    "        \n",
    "        \n",
    "        # Save feature table as qza artifact\n",
    "        table_level = Artifact.import_data('FeatureTable[Frequency]',combined_drop_level)\n",
    "        table_level.save(f\"{data_dir}/table_abund_{level}_filtered.qza\")\n",
    "        \n",
    "        # Run ANCOM-BC\n",
    "        subprocess.run([\n",
    "            \"qiime\", \"composition\", \"ancombc\",\n",
    "            \"--i-table\", f\"{data_dir}/table_abund_{level}_filtered.qza\",\n",
    "            \"--m-metadata-file\", f\"{data_dir}/timepoint_filtered_metadata_binned.tsv\",\n",
    "            \"--p-formula\", \"Cohort_Number_Bin\",\n",
    "            \"--o-differentials\", f\"{data_dir}/ancombc_cohort_number_{level}_differentials.qza\"\n",
    "        ], check=True)\n",
    "        \n",
    "        # Generate a barplot\n",
    "        subprocess.run([\n",
    "            \"qiime\", \"composition\", \"da-barplot\",\n",
    "            \"--i-data\", f\"{data_dir}/ancombc_cohort_number_{level}_differentials.qza\",\n",
    "            \"--o-visualization\", f\"{data_dir}/ancombc_cohort_number_{level}_barplot.qzv\"\n",
    "        ], check=True)\n",
    "        \n",
    "        # Generate a results table\n",
    "        subprocess.run([\n",
    "            \"qiime\", \"composition\", \"tabulate\",\n",
    "            \"--i-data\", f\"{data_dir}/ancombc_cohort_number_{level}_differentials.qza\",\n",
    "            \"--o-visualization\", f\"{data_dir}/ancombc_cohort_number_{level}_results.qzv\"\n",
    "        ], check=True)\n",
    "        \n",
    "        print(f\"Commands for level {level} completed successfully!\")\n",
    "    except subprocess.CalledProcessError as e:\n",
    "        print(f\"Error running commands for level {level}: {e}\")\n"
   ]
  },
  {
   "cell_type": "markdown",
   "id": "89583927-6c59-4ea4-8719-9ee6b33bd36e",
   "metadata": {},
   "source": [
    "<a id='ancom'></a>\n",
    "\n",
    "## 3. Statistical Evaluation"
   ]
  },
  {
   "cell_type": "markdown",
   "id": "3cce61d4-b92d-4913-b805-88d9be95db78",
   "metadata": {},
   "source": [
    "##### Filtering ANCOM-BC differentials artifact for q-values <= 0.05 for all levels of collapsed taxa using a for-loop"
   ]
  },
  {
   "cell_type": "code",
   "execution_count": 110,
   "id": "56c7ff69-b8fc-487a-9d28-372ae13b5ad4",
   "metadata": {
    "tags": []
   },
   "outputs": [
    {
     "name": "stdout",
     "output_type": "stream",
     "text": [
      "Processing taxonomy level: species (l7)\n",
      "Finished processing species. Cohort_significant_num: 4, Cohort_significant_taxa: id\n",
      "d__Bacteria;p__Firmicutes;c__Clostridia;o__Clostridiales;f__Clostridiaceae;g__Clostridium_sensu_stricto_1;s__            0.002497\n",
      "d__Bacteria;p__Firmicutes;c__Clostridia;o__Lachnospirales;f__Lachnospiraceae;g__Blautia;s__                              0.005644\n",
      "d__Bacteria;p__Firmicutes;c__Bacilli;o__Erysipelotrichales;f__Erysipelotrichaceae;g__[Clostridium]_innocuum_group;s__    0.015709\n",
      "d__Bacteria;p__Firmicutes;c__Negativicutes;o__Veillonellales-Selenomonadales;__;__;__                                    0.005145\n",
      "Name: q_val_Cohort_Number_BinRecovery, dtype: float64\n",
      "Processing taxonomy level: genus (l6)\n",
      "Finished processing genus. Cohort_significant_num: 4, Cohort_significant_taxa: id\n",
      "d__Bacteria;p__Firmicutes;c__Clostridia;o__Clostridiales;f__Clostridiaceae;g__Clostridium_sensu_stricto_1            0.002497\n",
      "d__Bacteria;p__Firmicutes;c__Clostridia;o__Lachnospirales;f__Lachnospiraceae;g__Blautia                              0.005644\n",
      "d__Bacteria;p__Firmicutes;c__Bacilli;o__Erysipelotrichales;f__Erysipelotrichaceae;g__[Clostridium]_innocuum_group    0.015709\n",
      "d__Bacteria;p__Firmicutes;c__Negativicutes;o__Veillonellales-Selenomonadales;__;__                                   0.005145\n",
      "Name: q_val_Cohort_Number_BinRecovery, dtype: float64\n",
      "Processing taxonomy level: family (l5)\n",
      "Finished processing family. Cohort_significant_num: 7, Cohort_significant_taxa: id\n",
      "d__Bacteria;p__Firmicutes;c__Clostridia;o__Lachnospirales;f__Lachnospiraceae                               8.248486e-05\n",
      "d__Bacteria;p__Firmicutes;c__Clostridia;o__Peptostreptococcales-Tissierellales;f__Peptostreptococcaceae    4.609520e-07\n",
      "d__Bacteria;p__Firmicutes;c__Clostridia;o__Clostridiales;f__Clostridiaceae                                 7.522911e-06\n",
      "d__Bacteria;p__Firmicutes;c__Bacilli;o__Erysipelotrichales;f__Erysipelotrichaceae                          2.295104e-08\n",
      "d__Bacteria;p__Firmicutes;c__Bacilli;o__Erysipelotrichales;f__Erysipelatoclostridiaceae                    7.107265e-04\n",
      "d__Bacteria;p__Patescibacteria;c__Saccharimonadia;o__Saccharimonadales;f__Saccharimonadaceae               2.970780e-02\n",
      "d__Bacteria;p__Firmicutes;c__Clostridia;o__Oscillospirales;f__Oscillospiraceae                             2.095724e-02\n",
      "Name: q_val_Cohort_Number_BinRecovery, dtype: float64\n",
      "Processing taxonomy level: order (l4)\n",
      "Finished processing order. Cohort_significant_num: 5, Cohort_significant_taxa: id\n",
      "d__Bacteria;p__Firmicutes;c__Clostridia;o__Lachnospirales                         0.007738\n",
      "d__Bacteria;p__Firmicutes;c__Clostridia;o__Peptostreptococcales-Tissierellales    0.000161\n",
      "d__Bacteria;p__Firmicutes;c__Clostridia;o__Clostridiales                          0.000891\n",
      "d__Bacteria;p__Campylobacterota;c__Campylobacteria;o__Campylobacterales           0.010848\n",
      "d__Bacteria;p__Firmicutes;c__Bacilli;o__Erysipelotrichales                        0.000001\n",
      "Name: q_val_Cohort_Number_BinRecovery, dtype: float64\n",
      "Processing taxonomy level: class (l3)\n",
      "Finished processing class. Cohort_significant_num: 2, Cohort_significant_taxa: id\n",
      "d__Bacteria;p__Firmicutes;c__Clostridia              0.000001\n",
      "d__Bacteria;p__Patescibacteria;c__Saccharimonadia    0.005699\n",
      "Name: q_val_Cohort_Number_BinRecovery, dtype: float64\n",
      "Processing taxonomy level: phylum (l2)\n",
      "Finished processing phylum. Cohort_significant_num: 1, Cohort_significant_taxa: id\n",
      "d__Bacteria;p__Patescibacteria    0.002941\n",
      "Name: q_val_Cohort_Number_BinRecovery, dtype: float64\n"
     ]
    }
   ],
   "source": [
    "# Define the data directory and taxonomy levels\n",
    "taxonomy_levels = {\n",
    "    \"l7\": \"species\",\n",
    "    \"l6\": \"genus\",\n",
    "    \"l5\": \"family\",\n",
    "    \"l4\": \"order\",\n",
    "    \"l3\": \"class\",\n",
    "    \"l2\": \"phylum\"\n",
    "}\n",
    "\n",
    "# Initialize a dictionary to store results\n",
    "results = {}\n",
    "\n",
    "# Iterate through each taxonomy level\n",
    "for level, name in taxonomy_levels.items():\n",
    "    print(f\"Processing taxonomy level: {name} ({level})\")\n",
    "    \n",
    "    # Load the ANCOM-BC results as a directory format\n",
    "    artifact_path = f'{data_dir}/ancombc_cohort_number_{level}_differentials.qza'\n",
    "    dirfmt = q2.Artifact.load(artifact_path).view(DataLoafPackageDirFmt)\n",
    "\n",
    "    # Extract data slices\n",
    "    slices = {str(relpath): view for relpath, view in dirfmt.data_slices.iter_views(pd.DataFrame)}\n",
    "\n",
    "    # Prepare the dataframes\n",
    "    lfc = slices[list(slices.keys())[0]]\n",
    "    lfc.set_index(lfc.columns[0], inplace=True)\n",
    "    lfc.columns = ['lfc_' + col for col in lfc.columns]\n",
    "\n",
    "    p_val = slices[list(slices.keys())[1]]\n",
    "    p_val.set_index(p_val.columns[0], inplace=True)\n",
    "    p_val.columns = ['p_val_' + col for col in p_val.columns]\n",
    "\n",
    "    q_val = slices[list(slices.keys())[2]]\n",
    "    q_val.set_index(q_val.columns[0], inplace=True)\n",
    "    q_val.columns = ['q_val_' + col for col in q_val.columns]\n",
    "\n",
    "    # Combine the dataframes\n",
    "    df = pd.concat([lfc, p_val, q_val], axis=1, join='inner')\n",
    "\n",
    "    # Count significant features for each stool consistency\n",
    "    cohort_significant = df['q_val_Cohort_Number_BinRecovery'].loc[df['q_val_Cohort_Number_BinRecovery'] <= 0.05]\n",
    "    cohort_significant_num = len(df['q_val_Cohort_Number_BinRecovery'].loc[df['q_val_Cohort_Number_BinRecovery'] <= 0.05])\n",
    "\n",
    "    # Store the results\n",
    "    results[level] = {\n",
    "        \"taxonomy_level\": name,\n",
    "        \"cohort_significant_num\": cohort_significant_num,\n",
    "        \"cohort_significant_tax\": cohort_significant\n",
    "    }\n",
    "\n",
    "    print(f\"Finished processing {name}. Cohort_significant_num: {cohort_significant_num}, Cohort_significant_taxa: {cohort_significant}\")\n",
    "\n",
    "# Convert results to a DataFrame for better visualization\n",
    "#results_df = pd.DataFrame.from_dict(results, orient='index')\n",
    "\n",
    "# Display the results\n",
    "#print(results_df)"
   ]
  },
  {
   "cell_type": "markdown",
   "id": "6bb5a08b-6a0c-4482-b0a4-15e42ac84918",
   "metadata": {},
   "source": [
    "<a id='visual'></a>\n",
    "\n",
    "## 4. Visualization"
   ]
  },
  {
   "cell_type": "markdown",
   "id": "159a2249-decc-4623-95ae-671c90cc32f1",
   "metadata": {},
   "source": [
    "### Visualizations of barplots and table results from ANCOM-BC for all level (phylum, class, order, family, genus, species)"
   ]
  },
  {
   "cell_type": "markdown",
   "id": "8c796808-a111-46dc-a12f-192b0b99f0b0",
   "metadata": {},
   "source": [
    "#### Phylum"
   ]
  },
  {
   "cell_type": "code",
   "execution_count": 3,
   "id": "8cd8357c-84f7-43dd-bffa-c94e357825b0",
   "metadata": {},
   "outputs": [
    {
     "data": {
      "text/html": [
       "<div><img onload=\"(function(div, url){\n",
       "if (typeof require !== 'undefined') {\n",
       "    var baseURL = require.toUrl('').split('/').slice(0, -2).join('/');\n",
       "} else {\n",
       "    var baseURL = JSON.parse(\n",
       "        document.getElementById('jupyter-config-data').innerHTML\n",
       "    ).baseUrl.slice(0, -1);\n",
       "}\n",
       "url = baseURL + url;\n",
       "fetch(url).then(function(res) {\n",
       "    if (res.status === 404) {\n",
       "        div.innerHTML = 'Install QIIME 2 Jupyter extension with:<br />' +\n",
       "                        '<code>jupyter serverextension enable --py qiime2' +\n",
       "                        ' --sys-prefix</code><br />then restart your server.' +\n",
       "                        '<br /><br />(Interactive output not available on ' +\n",
       "                        'static notebook viewer services like nbviewer.)';\n",
       "    } else if (res.status === 409) {\n",
       "        div.innerHTML = 'Visualization no longer in scope. Re-run this cell' +\n",
       "                        ' to see the visualization.';\n",
       "    } else if (res.ok) {\n",
       "        url = res.url;\n",
       "        div.innerHTML = '<iframe src=\\'' + url + '\\' style=\\'' +\n",
       "                        'width: 100%; height: 700px; border: 0;\\'>' +\n",
       "                        '</iframe><hr />Open in a: <a href=\\'' + url + '\\'' +\n",
       "                        ' target=\\'_blank\\'>new window</a>'\n",
       "    } else {\n",
       "        div.innerHTML = 'Something has gone wrong. Check notebook server for' +\n",
       "                        ' errors.';\n",
       "    }\n",
       "});\n",
       "})(this.parentElement, '/qiime2/redirect?location=/tmp/qiime2/jovyan/data/8341f226-3f32-4ea8-8761-c4dba7d9562f')\" src=\"data:image/gif;base64,R0lGODlhAQABAIAAAP///wAAACH5BAEAAAAALAAAAAABAAEAAAICRAEAOw==\" /></div>"
      ],
      "text/plain": [
       "<visualization: Visualization uuid: 8341f226-3f32-4ea8-8761-c4dba7d9562f>"
      ]
     },
     "execution_count": 3,
     "metadata": {},
     "output_type": "execute_result"
    }
   ],
   "source": [
    "Visualization.load(f\"{data_dir}/ancombc_cohort_number_l2_barplot.qzv\")"
   ]
  },
  {
   "cell_type": "code",
   "execution_count": 4,
   "id": "ec32b92d-3dc0-4a91-90e0-a4821c5ef215",
   "metadata": {
    "tags": []
   },
   "outputs": [
    {
     "data": {
      "text/html": [
       "<div><img onload=\"(function(div, url){\n",
       "if (typeof require !== 'undefined') {\n",
       "    var baseURL = require.toUrl('').split('/').slice(0, -2).join('/');\n",
       "} else {\n",
       "    var baseURL = JSON.parse(\n",
       "        document.getElementById('jupyter-config-data').innerHTML\n",
       "    ).baseUrl.slice(0, -1);\n",
       "}\n",
       "url = baseURL + url;\n",
       "fetch(url).then(function(res) {\n",
       "    if (res.status === 404) {\n",
       "        div.innerHTML = 'Install QIIME 2 Jupyter extension with:<br />' +\n",
       "                        '<code>jupyter serverextension enable --py qiime2' +\n",
       "                        ' --sys-prefix</code><br />then restart your server.' +\n",
       "                        '<br /><br />(Interactive output not available on ' +\n",
       "                        'static notebook viewer services like nbviewer.)';\n",
       "    } else if (res.status === 409) {\n",
       "        div.innerHTML = 'Visualization no longer in scope. Re-run this cell' +\n",
       "                        ' to see the visualization.';\n",
       "    } else if (res.ok) {\n",
       "        url = res.url;\n",
       "        div.innerHTML = '<iframe src=\\'' + url + '\\' style=\\'' +\n",
       "                        'width: 100%; height: 700px; border: 0;\\'>' +\n",
       "                        '</iframe><hr />Open in a: <a href=\\'' + url + '\\'' +\n",
       "                        ' target=\\'_blank\\'>new window</a>'\n",
       "    } else {\n",
       "        div.innerHTML = 'Something has gone wrong. Check notebook server for' +\n",
       "                        ' errors.';\n",
       "    }\n",
       "});\n",
       "})(this.parentElement, '/qiime2/redirect?location=/tmp/qiime2/jovyan/data/e096e984-19a3-41e8-b483-ba15a2f21cc2')\" src=\"data:image/gif;base64,R0lGODlhAQABAIAAAP///wAAACH5BAEAAAAALAAAAAABAAEAAAICRAEAOw==\" /></div>"
      ],
      "text/plain": [
       "<visualization: Visualization uuid: e096e984-19a3-41e8-b483-ba15a2f21cc2>"
      ]
     },
     "execution_count": 4,
     "metadata": {},
     "output_type": "execute_result"
    }
   ],
   "source": [
    "Visualization.load(f\"{data_dir}/ancombc_cohort_number_l2_results.qzv\")"
   ]
  },
  {
   "cell_type": "markdown",
   "id": "1280a204-3e4a-406c-b08c-06bcfd097394",
   "metadata": {},
   "source": [
    "#### Class"
   ]
  },
  {
   "cell_type": "code",
   "execution_count": 5,
   "id": "4706a2dc-e350-4471-9eed-09f663fa4783",
   "metadata": {
    "tags": []
   },
   "outputs": [
    {
     "data": {
      "text/html": [
       "<div><img onload=\"(function(div, url){\n",
       "if (typeof require !== 'undefined') {\n",
       "    var baseURL = require.toUrl('').split('/').slice(0, -2).join('/');\n",
       "} else {\n",
       "    var baseURL = JSON.parse(\n",
       "        document.getElementById('jupyter-config-data').innerHTML\n",
       "    ).baseUrl.slice(0, -1);\n",
       "}\n",
       "url = baseURL + url;\n",
       "fetch(url).then(function(res) {\n",
       "    if (res.status === 404) {\n",
       "        div.innerHTML = 'Install QIIME 2 Jupyter extension with:<br />' +\n",
       "                        '<code>jupyter serverextension enable --py qiime2' +\n",
       "                        ' --sys-prefix</code><br />then restart your server.' +\n",
       "                        '<br /><br />(Interactive output not available on ' +\n",
       "                        'static notebook viewer services like nbviewer.)';\n",
       "    } else if (res.status === 409) {\n",
       "        div.innerHTML = 'Visualization no longer in scope. Re-run this cell' +\n",
       "                        ' to see the visualization.';\n",
       "    } else if (res.ok) {\n",
       "        url = res.url;\n",
       "        div.innerHTML = '<iframe src=\\'' + url + '\\' style=\\'' +\n",
       "                        'width: 100%; height: 700px; border: 0;\\'>' +\n",
       "                        '</iframe><hr />Open in a: <a href=\\'' + url + '\\'' +\n",
       "                        ' target=\\'_blank\\'>new window</a>'\n",
       "    } else {\n",
       "        div.innerHTML = 'Something has gone wrong. Check notebook server for' +\n",
       "                        ' errors.';\n",
       "    }\n",
       "});\n",
       "})(this.parentElement, '/qiime2/redirect?location=/tmp/qiime2/jovyan/data/b63a97c9-8d37-4713-94dc-faecf6d5d3a2')\" src=\"data:image/gif;base64,R0lGODlhAQABAIAAAP///wAAACH5BAEAAAAALAAAAAABAAEAAAICRAEAOw==\" /></div>"
      ],
      "text/plain": [
       "<visualization: Visualization uuid: b63a97c9-8d37-4713-94dc-faecf6d5d3a2>"
      ]
     },
     "execution_count": 5,
     "metadata": {},
     "output_type": "execute_result"
    }
   ],
   "source": [
    "Visualization.load(f\"{data_dir}/ancombc_cohort_number_l3_barplot.qzv\")"
   ]
  },
  {
   "cell_type": "code",
   "execution_count": 6,
   "id": "fc72aae4-08d6-4b14-9c96-d299709dd355",
   "metadata": {
    "tags": []
   },
   "outputs": [
    {
     "data": {
      "text/html": [
       "<div><img onload=\"(function(div, url){\n",
       "if (typeof require !== 'undefined') {\n",
       "    var baseURL = require.toUrl('').split('/').slice(0, -2).join('/');\n",
       "} else {\n",
       "    var baseURL = JSON.parse(\n",
       "        document.getElementById('jupyter-config-data').innerHTML\n",
       "    ).baseUrl.slice(0, -1);\n",
       "}\n",
       "url = baseURL + url;\n",
       "fetch(url).then(function(res) {\n",
       "    if (res.status === 404) {\n",
       "        div.innerHTML = 'Install QIIME 2 Jupyter extension with:<br />' +\n",
       "                        '<code>jupyter serverextension enable --py qiime2' +\n",
       "                        ' --sys-prefix</code><br />then restart your server.' +\n",
       "                        '<br /><br />(Interactive output not available on ' +\n",
       "                        'static notebook viewer services like nbviewer.)';\n",
       "    } else if (res.status === 409) {\n",
       "        div.innerHTML = 'Visualization no longer in scope. Re-run this cell' +\n",
       "                        ' to see the visualization.';\n",
       "    } else if (res.ok) {\n",
       "        url = res.url;\n",
       "        div.innerHTML = '<iframe src=\\'' + url + '\\' style=\\'' +\n",
       "                        'width: 100%; height: 700px; border: 0;\\'>' +\n",
       "                        '</iframe><hr />Open in a: <a href=\\'' + url + '\\'' +\n",
       "                        ' target=\\'_blank\\'>new window</a>'\n",
       "    } else {\n",
       "        div.innerHTML = 'Something has gone wrong. Check notebook server for' +\n",
       "                        ' errors.';\n",
       "    }\n",
       "});\n",
       "})(this.parentElement, '/qiime2/redirect?location=/tmp/qiime2/jovyan/data/8e541bb5-bfb9-4712-b336-096a500b3c8a')\" src=\"data:image/gif;base64,R0lGODlhAQABAIAAAP///wAAACH5BAEAAAAALAAAAAABAAEAAAICRAEAOw==\" /></div>"
      ],
      "text/plain": [
       "<visualization: Visualization uuid: 8e541bb5-bfb9-4712-b336-096a500b3c8a>"
      ]
     },
     "execution_count": 6,
     "metadata": {},
     "output_type": "execute_result"
    }
   ],
   "source": [
    "Visualization.load(f\"{data_dir}/ancombc_cohort_number_l3_results.qzv\")"
   ]
  },
  {
   "cell_type": "markdown",
   "id": "235ed9d3-0010-4373-85f3-87f640c2b888",
   "metadata": {},
   "source": [
    "#### Order"
   ]
  },
  {
   "cell_type": "code",
   "execution_count": 7,
   "id": "64f013e5-aa36-449a-a5e8-d131f02159ba",
   "metadata": {
    "tags": []
   },
   "outputs": [
    {
     "data": {
      "text/html": [
       "<div><img onload=\"(function(div, url){\n",
       "if (typeof require !== 'undefined') {\n",
       "    var baseURL = require.toUrl('').split('/').slice(0, -2).join('/');\n",
       "} else {\n",
       "    var baseURL = JSON.parse(\n",
       "        document.getElementById('jupyter-config-data').innerHTML\n",
       "    ).baseUrl.slice(0, -1);\n",
       "}\n",
       "url = baseURL + url;\n",
       "fetch(url).then(function(res) {\n",
       "    if (res.status === 404) {\n",
       "        div.innerHTML = 'Install QIIME 2 Jupyter extension with:<br />' +\n",
       "                        '<code>jupyter serverextension enable --py qiime2' +\n",
       "                        ' --sys-prefix</code><br />then restart your server.' +\n",
       "                        '<br /><br />(Interactive output not available on ' +\n",
       "                        'static notebook viewer services like nbviewer.)';\n",
       "    } else if (res.status === 409) {\n",
       "        div.innerHTML = 'Visualization no longer in scope. Re-run this cell' +\n",
       "                        ' to see the visualization.';\n",
       "    } else if (res.ok) {\n",
       "        url = res.url;\n",
       "        div.innerHTML = '<iframe src=\\'' + url + '\\' style=\\'' +\n",
       "                        'width: 100%; height: 700px; border: 0;\\'>' +\n",
       "                        '</iframe><hr />Open in a: <a href=\\'' + url + '\\'' +\n",
       "                        ' target=\\'_blank\\'>new window</a>'\n",
       "    } else {\n",
       "        div.innerHTML = 'Something has gone wrong. Check notebook server for' +\n",
       "                        ' errors.';\n",
       "    }\n",
       "});\n",
       "})(this.parentElement, '/qiime2/redirect?location=/tmp/qiime2/jovyan/data/aedba57e-b445-454b-b12d-d1557d40cb8e')\" src=\"data:image/gif;base64,R0lGODlhAQABAIAAAP///wAAACH5BAEAAAAALAAAAAABAAEAAAICRAEAOw==\" /></div>"
      ],
      "text/plain": [
       "<visualization: Visualization uuid: aedba57e-b445-454b-b12d-d1557d40cb8e>"
      ]
     },
     "execution_count": 7,
     "metadata": {},
     "output_type": "execute_result"
    }
   ],
   "source": [
    "Visualization.load(f\"{data_dir}/ancombc_cohort_number_l4_barplot.qzv\")"
   ]
  },
  {
   "cell_type": "code",
   "execution_count": 8,
   "id": "7c3f18ca-d358-42af-aa5a-915253ec17fb",
   "metadata": {
    "tags": []
   },
   "outputs": [
    {
     "data": {
      "text/html": [
       "<div><img onload=\"(function(div, url){\n",
       "if (typeof require !== 'undefined') {\n",
       "    var baseURL = require.toUrl('').split('/').slice(0, -2).join('/');\n",
       "} else {\n",
       "    var baseURL = JSON.parse(\n",
       "        document.getElementById('jupyter-config-data').innerHTML\n",
       "    ).baseUrl.slice(0, -1);\n",
       "}\n",
       "url = baseURL + url;\n",
       "fetch(url).then(function(res) {\n",
       "    if (res.status === 404) {\n",
       "        div.innerHTML = 'Install QIIME 2 Jupyter extension with:<br />' +\n",
       "                        '<code>jupyter serverextension enable --py qiime2' +\n",
       "                        ' --sys-prefix</code><br />then restart your server.' +\n",
       "                        '<br /><br />(Interactive output not available on ' +\n",
       "                        'static notebook viewer services like nbviewer.)';\n",
       "    } else if (res.status === 409) {\n",
       "        div.innerHTML = 'Visualization no longer in scope. Re-run this cell' +\n",
       "                        ' to see the visualization.';\n",
       "    } else if (res.ok) {\n",
       "        url = res.url;\n",
       "        div.innerHTML = '<iframe src=\\'' + url + '\\' style=\\'' +\n",
       "                        'width: 100%; height: 700px; border: 0;\\'>' +\n",
       "                        '</iframe><hr />Open in a: <a href=\\'' + url + '\\'' +\n",
       "                        ' target=\\'_blank\\'>new window</a>'\n",
       "    } else {\n",
       "        div.innerHTML = 'Something has gone wrong. Check notebook server for' +\n",
       "                        ' errors.';\n",
       "    }\n",
       "});\n",
       "})(this.parentElement, '/qiime2/redirect?location=/tmp/qiime2/jovyan/data/b3fc71f8-82a5-4e25-b175-9a4ff94075fe')\" src=\"data:image/gif;base64,R0lGODlhAQABAIAAAP///wAAACH5BAEAAAAALAAAAAABAAEAAAICRAEAOw==\" /></div>"
      ],
      "text/plain": [
       "<visualization: Visualization uuid: b3fc71f8-82a5-4e25-b175-9a4ff94075fe>"
      ]
     },
     "execution_count": 8,
     "metadata": {},
     "output_type": "execute_result"
    }
   ],
   "source": [
    "Visualization.load(f\"{data_dir}/ancombc_cohort_number_l4_results.qzv\")"
   ]
  },
  {
   "cell_type": "markdown",
   "id": "9647de01-97f6-43e9-b4b6-5f31728bb05c",
   "metadata": {},
   "source": [
    "#### Family"
   ]
  },
  {
   "cell_type": "code",
   "execution_count": 9,
   "id": "7aa00f6a-65c8-4fe2-b896-c505cf99c9c0",
   "metadata": {
    "tags": []
   },
   "outputs": [
    {
     "data": {
      "text/html": [
       "<div><img onload=\"(function(div, url){\n",
       "if (typeof require !== 'undefined') {\n",
       "    var baseURL = require.toUrl('').split('/').slice(0, -2).join('/');\n",
       "} else {\n",
       "    var baseURL = JSON.parse(\n",
       "        document.getElementById('jupyter-config-data').innerHTML\n",
       "    ).baseUrl.slice(0, -1);\n",
       "}\n",
       "url = baseURL + url;\n",
       "fetch(url).then(function(res) {\n",
       "    if (res.status === 404) {\n",
       "        div.innerHTML = 'Install QIIME 2 Jupyter extension with:<br />' +\n",
       "                        '<code>jupyter serverextension enable --py qiime2' +\n",
       "                        ' --sys-prefix</code><br />then restart your server.' +\n",
       "                        '<br /><br />(Interactive output not available on ' +\n",
       "                        'static notebook viewer services like nbviewer.)';\n",
       "    } else if (res.status === 409) {\n",
       "        div.innerHTML = 'Visualization no longer in scope. Re-run this cell' +\n",
       "                        ' to see the visualization.';\n",
       "    } else if (res.ok) {\n",
       "        url = res.url;\n",
       "        div.innerHTML = '<iframe src=\\'' + url + '\\' style=\\'' +\n",
       "                        'width: 100%; height: 700px; border: 0;\\'>' +\n",
       "                        '</iframe><hr />Open in a: <a href=\\'' + url + '\\'' +\n",
       "                        ' target=\\'_blank\\'>new window</a>'\n",
       "    } else {\n",
       "        div.innerHTML = 'Something has gone wrong. Check notebook server for' +\n",
       "                        ' errors.';\n",
       "    }\n",
       "});\n",
       "})(this.parentElement, '/qiime2/redirect?location=/tmp/qiime2/jovyan/data/765e880e-e078-4435-bb2c-d57687bfd41a')\" src=\"data:image/gif;base64,R0lGODlhAQABAIAAAP///wAAACH5BAEAAAAALAAAAAABAAEAAAICRAEAOw==\" /></div>"
      ],
      "text/plain": [
       "<visualization: Visualization uuid: 765e880e-e078-4435-bb2c-d57687bfd41a>"
      ]
     },
     "execution_count": 9,
     "metadata": {},
     "output_type": "execute_result"
    }
   ],
   "source": [
    "Visualization.load(f\"{data_dir}/ancombc_cohort_number_l5_barplot.qzv\")"
   ]
  },
  {
   "cell_type": "code",
   "execution_count": 10,
   "id": "78ae66b4-63f4-4ea1-9a1c-599984deeb54",
   "metadata": {
    "tags": []
   },
   "outputs": [
    {
     "data": {
      "text/html": [
       "<div><img onload=\"(function(div, url){\n",
       "if (typeof require !== 'undefined') {\n",
       "    var baseURL = require.toUrl('').split('/').slice(0, -2).join('/');\n",
       "} else {\n",
       "    var baseURL = JSON.parse(\n",
       "        document.getElementById('jupyter-config-data').innerHTML\n",
       "    ).baseUrl.slice(0, -1);\n",
       "}\n",
       "url = baseURL + url;\n",
       "fetch(url).then(function(res) {\n",
       "    if (res.status === 404) {\n",
       "        div.innerHTML = 'Install QIIME 2 Jupyter extension with:<br />' +\n",
       "                        '<code>jupyter serverextension enable --py qiime2' +\n",
       "                        ' --sys-prefix</code><br />then restart your server.' +\n",
       "                        '<br /><br />(Interactive output not available on ' +\n",
       "                        'static notebook viewer services like nbviewer.)';\n",
       "    } else if (res.status === 409) {\n",
       "        div.innerHTML = 'Visualization no longer in scope. Re-run this cell' +\n",
       "                        ' to see the visualization.';\n",
       "    } else if (res.ok) {\n",
       "        url = res.url;\n",
       "        div.innerHTML = '<iframe src=\\'' + url + '\\' style=\\'' +\n",
       "                        'width: 100%; height: 700px; border: 0;\\'>' +\n",
       "                        '</iframe><hr />Open in a: <a href=\\'' + url + '\\'' +\n",
       "                        ' target=\\'_blank\\'>new window</a>'\n",
       "    } else {\n",
       "        div.innerHTML = 'Something has gone wrong. Check notebook server for' +\n",
       "                        ' errors.';\n",
       "    }\n",
       "});\n",
       "})(this.parentElement, '/qiime2/redirect?location=/tmp/qiime2/jovyan/data/ba3bf30a-f82a-4aca-9f76-a9e632d78323')\" src=\"data:image/gif;base64,R0lGODlhAQABAIAAAP///wAAACH5BAEAAAAALAAAAAABAAEAAAICRAEAOw==\" /></div>"
      ],
      "text/plain": [
       "<visualization: Visualization uuid: ba3bf30a-f82a-4aca-9f76-a9e632d78323>"
      ]
     },
     "execution_count": 10,
     "metadata": {},
     "output_type": "execute_result"
    }
   ],
   "source": [
    "Visualization.load(f\"{data_dir}/ancombc_cohort_number_l5_results.qzv\")"
   ]
  },
  {
   "cell_type": "markdown",
   "id": "9d7dc0df-bf38-4b7a-8432-c34d7ec7c5ba",
   "metadata": {},
   "source": [
    "#### Genus"
   ]
  },
  {
   "cell_type": "code",
   "execution_count": 11,
   "id": "1212fbd7-1b29-47df-aca6-0130ef620b31",
   "metadata": {
    "tags": []
   },
   "outputs": [
    {
     "data": {
      "text/html": [
       "<div><img onload=\"(function(div, url){\n",
       "if (typeof require !== 'undefined') {\n",
       "    var baseURL = require.toUrl('').split('/').slice(0, -2).join('/');\n",
       "} else {\n",
       "    var baseURL = JSON.parse(\n",
       "        document.getElementById('jupyter-config-data').innerHTML\n",
       "    ).baseUrl.slice(0, -1);\n",
       "}\n",
       "url = baseURL + url;\n",
       "fetch(url).then(function(res) {\n",
       "    if (res.status === 404) {\n",
       "        div.innerHTML = 'Install QIIME 2 Jupyter extension with:<br />' +\n",
       "                        '<code>jupyter serverextension enable --py qiime2' +\n",
       "                        ' --sys-prefix</code><br />then restart your server.' +\n",
       "                        '<br /><br />(Interactive output not available on ' +\n",
       "                        'static notebook viewer services like nbviewer.)';\n",
       "    } else if (res.status === 409) {\n",
       "        div.innerHTML = 'Visualization no longer in scope. Re-run this cell' +\n",
       "                        ' to see the visualization.';\n",
       "    } else if (res.ok) {\n",
       "        url = res.url;\n",
       "        div.innerHTML = '<iframe src=\\'' + url + '\\' style=\\'' +\n",
       "                        'width: 100%; height: 700px; border: 0;\\'>' +\n",
       "                        '</iframe><hr />Open in a: <a href=\\'' + url + '\\'' +\n",
       "                        ' target=\\'_blank\\'>new window</a>'\n",
       "    } else {\n",
       "        div.innerHTML = 'Something has gone wrong. Check notebook server for' +\n",
       "                        ' errors.';\n",
       "    }\n",
       "});\n",
       "})(this.parentElement, '/qiime2/redirect?location=/tmp/qiime2/jovyan/data/4aa8ad20-759e-4347-b95d-1b7029b790c5')\" src=\"data:image/gif;base64,R0lGODlhAQABAIAAAP///wAAACH5BAEAAAAALAAAAAABAAEAAAICRAEAOw==\" /></div>"
      ],
      "text/plain": [
       "<visualization: Visualization uuid: 4aa8ad20-759e-4347-b95d-1b7029b790c5>"
      ]
     },
     "execution_count": 11,
     "metadata": {},
     "output_type": "execute_result"
    }
   ],
   "source": [
    "Visualization.load(f\"{data_dir}/ancombc_cohort_number_l6_barplot.qzv\")"
   ]
  },
  {
   "cell_type": "code",
   "execution_count": 12,
   "id": "4ba6e9ca-e918-4240-9d29-5f2575846627",
   "metadata": {
    "tags": []
   },
   "outputs": [
    {
     "data": {
      "text/html": [
       "<div><img onload=\"(function(div, url){\n",
       "if (typeof require !== 'undefined') {\n",
       "    var baseURL = require.toUrl('').split('/').slice(0, -2).join('/');\n",
       "} else {\n",
       "    var baseURL = JSON.parse(\n",
       "        document.getElementById('jupyter-config-data').innerHTML\n",
       "    ).baseUrl.slice(0, -1);\n",
       "}\n",
       "url = baseURL + url;\n",
       "fetch(url).then(function(res) {\n",
       "    if (res.status === 404) {\n",
       "        div.innerHTML = 'Install QIIME 2 Jupyter extension with:<br />' +\n",
       "                        '<code>jupyter serverextension enable --py qiime2' +\n",
       "                        ' --sys-prefix</code><br />then restart your server.' +\n",
       "                        '<br /><br />(Interactive output not available on ' +\n",
       "                        'static notebook viewer services like nbviewer.)';\n",
       "    } else if (res.status === 409) {\n",
       "        div.innerHTML = 'Visualization no longer in scope. Re-run this cell' +\n",
       "                        ' to see the visualization.';\n",
       "    } else if (res.ok) {\n",
       "        url = res.url;\n",
       "        div.innerHTML = '<iframe src=\\'' + url + '\\' style=\\'' +\n",
       "                        'width: 100%; height: 700px; border: 0;\\'>' +\n",
       "                        '</iframe><hr />Open in a: <a href=\\'' + url + '\\'' +\n",
       "                        ' target=\\'_blank\\'>new window</a>'\n",
       "    } else {\n",
       "        div.innerHTML = 'Something has gone wrong. Check notebook server for' +\n",
       "                        ' errors.';\n",
       "    }\n",
       "});\n",
       "})(this.parentElement, '/qiime2/redirect?location=/tmp/qiime2/jovyan/data/4ab74782-6f43-4f45-bcd5-d31e0f9a172f')\" src=\"data:image/gif;base64,R0lGODlhAQABAIAAAP///wAAACH5BAEAAAAALAAAAAABAAEAAAICRAEAOw==\" /></div>"
      ],
      "text/plain": [
       "<visualization: Visualization uuid: 4ab74782-6f43-4f45-bcd5-d31e0f9a172f>"
      ]
     },
     "execution_count": 12,
     "metadata": {},
     "output_type": "execute_result"
    }
   ],
   "source": [
    "Visualization.load(f\"{data_dir}/ancombc_cohort_number_l6_results.qzv\")"
   ]
  },
  {
   "cell_type": "markdown",
   "id": "649c8f47-00af-4d7d-aed3-e1252c3302d7",
   "metadata": {},
   "source": [
    "#### Species"
   ]
  },
  {
   "cell_type": "code",
   "execution_count": 13,
   "id": "a3c13f99-764a-4604-8004-0868c37ec092",
   "metadata": {
    "tags": []
   },
   "outputs": [
    {
     "data": {
      "text/html": [
       "<div><img onload=\"(function(div, url){\n",
       "if (typeof require !== 'undefined') {\n",
       "    var baseURL = require.toUrl('').split('/').slice(0, -2).join('/');\n",
       "} else {\n",
       "    var baseURL = JSON.parse(\n",
       "        document.getElementById('jupyter-config-data').innerHTML\n",
       "    ).baseUrl.slice(0, -1);\n",
       "}\n",
       "url = baseURL + url;\n",
       "fetch(url).then(function(res) {\n",
       "    if (res.status === 404) {\n",
       "        div.innerHTML = 'Install QIIME 2 Jupyter extension with:<br />' +\n",
       "                        '<code>jupyter serverextension enable --py qiime2' +\n",
       "                        ' --sys-prefix</code><br />then restart your server.' +\n",
       "                        '<br /><br />(Interactive output not available on ' +\n",
       "                        'static notebook viewer services like nbviewer.)';\n",
       "    } else if (res.status === 409) {\n",
       "        div.innerHTML = 'Visualization no longer in scope. Re-run this cell' +\n",
       "                        ' to see the visualization.';\n",
       "    } else if (res.ok) {\n",
       "        url = res.url;\n",
       "        div.innerHTML = '<iframe src=\\'' + url + '\\' style=\\'' +\n",
       "                        'width: 100%; height: 700px; border: 0;\\'>' +\n",
       "                        '</iframe><hr />Open in a: <a href=\\'' + url + '\\'' +\n",
       "                        ' target=\\'_blank\\'>new window</a>'\n",
       "    } else {\n",
       "        div.innerHTML = 'Something has gone wrong. Check notebook server for' +\n",
       "                        ' errors.';\n",
       "    }\n",
       "});\n",
       "})(this.parentElement, '/qiime2/redirect?location=/tmp/qiime2/jovyan/data/94304cec-8537-4ae9-9a0a-7c160f0262b2')\" src=\"data:image/gif;base64,R0lGODlhAQABAIAAAP///wAAACH5BAEAAAAALAAAAAABAAEAAAICRAEAOw==\" /></div>"
      ],
      "text/plain": [
       "<visualization: Visualization uuid: 94304cec-8537-4ae9-9a0a-7c160f0262b2>"
      ]
     },
     "execution_count": 13,
     "metadata": {},
     "output_type": "execute_result"
    }
   ],
   "source": [
    "Visualization.load(f\"{data_dir}/ancombc_cohort_number_l7_barplot.qzv\")"
   ]
  },
  {
   "cell_type": "code",
   "execution_count": 14,
   "id": "14710db9-c31a-41dc-8884-a2b533a94966",
   "metadata": {
    "tags": []
   },
   "outputs": [
    {
     "data": {
      "text/html": [
       "<div><img onload=\"(function(div, url){\n",
       "if (typeof require !== 'undefined') {\n",
       "    var baseURL = require.toUrl('').split('/').slice(0, -2).join('/');\n",
       "} else {\n",
       "    var baseURL = JSON.parse(\n",
       "        document.getElementById('jupyter-config-data').innerHTML\n",
       "    ).baseUrl.slice(0, -1);\n",
       "}\n",
       "url = baseURL + url;\n",
       "fetch(url).then(function(res) {\n",
       "    if (res.status === 404) {\n",
       "        div.innerHTML = 'Install QIIME 2 Jupyter extension with:<br />' +\n",
       "                        '<code>jupyter serverextension enable --py qiime2' +\n",
       "                        ' --sys-prefix</code><br />then restart your server.' +\n",
       "                        '<br /><br />(Interactive output not available on ' +\n",
       "                        'static notebook viewer services like nbviewer.)';\n",
       "    } else if (res.status === 409) {\n",
       "        div.innerHTML = 'Visualization no longer in scope. Re-run this cell' +\n",
       "                        ' to see the visualization.';\n",
       "    } else if (res.ok) {\n",
       "        url = res.url;\n",
       "        div.innerHTML = '<iframe src=\\'' + url + '\\' style=\\'' +\n",
       "                        'width: 100%; height: 700px; border: 0;\\'>' +\n",
       "                        '</iframe><hr />Open in a: <a href=\\'' + url + '\\'' +\n",
       "                        ' target=\\'_blank\\'>new window</a>'\n",
       "    } else {\n",
       "        div.innerHTML = 'Something has gone wrong. Check notebook server for' +\n",
       "                        ' errors.';\n",
       "    }\n",
       "});\n",
       "})(this.parentElement, '/qiime2/redirect?location=/tmp/qiime2/jovyan/data/e67de1ad-818d-43bf-88aa-e65c372312c7')\" src=\"data:image/gif;base64,R0lGODlhAQABAIAAAP///wAAACH5BAEAAAAALAAAAAABAAEAAAICRAEAOw==\" /></div>"
      ],
      "text/plain": [
       "<visualization: Visualization uuid: e67de1ad-818d-43bf-88aa-e65c372312c7>"
      ]
     },
     "execution_count": 14,
     "metadata": {},
     "output_type": "execute_result"
    }
   ],
   "source": [
    "Visualization.load(f\"{data_dir}/ancombc_cohort_number_l7_results.qzv\")"
   ]
  },
  {
   "cell_type": "code",
   "execution_count": null,
   "id": "f860c951-7b2b-4fe1-82c3-697d94f8cdfb",
   "metadata": {},
   "outputs": [],
   "source": []
  }
 ],
 "metadata": {
  "kernelspec": {
   "display_name": "QIIME 2",
   "language": "python",
   "name": "python3"
  },
  "language_info": {
   "codemirror_mode": {
    "name": "ipython",
    "version": 3
   },
   "file_extension": ".py",
   "mimetype": "text/x-python",
   "name": "python",
   "nbconvert_exporter": "python",
   "pygments_lexer": "ipython3",
   "version": "3.9.19"
  }
 },
 "nbformat": 4,
 "nbformat_minor": 5
}
