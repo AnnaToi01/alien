{
 "cells": [
  {
   "cell_type": "markdown",
   "id": "d0d33c24-a911-4182-9dc8-9bf96946707c",
   "metadata": {},
   "source": [
    "# 07. Function Inference\n",
    "\n",
    "Author: Minghang Li\n",
    "\n",
    "In this Jupyter Notebook, we perform function inference using the `picrust2`\n",
    "plugin based on amplicon-based sequencing results.\n",
    "\n",
    "<div style=\"background-color: lightsalmon; padding: 10px;\">\n",
    "    \n",
    "**NOTE**: `q2-picrust2` plugin is not compatible with `qiime2-2024.10`\n",
    "</div>\n"
   ]
  },
  {
   "cell_type": "markdown",
   "id": "c33ddf8c-54fc-4b2c-a35e-548553c98121",
   "metadata": {},
   "source": [
    "\n",
    "**Notebook overview**<br>\n",
    "[1. Setup](#setup)<br>\n",
    "[2. Run `picrust2` full pipeline](#full_pipeline)<br>\n",
    "[3. Visualization](#visualization)<br>\n",
    "[4. Thoughts and discussion](#discussion)<br>"
   ]
  },
  {
   "cell_type": "markdown",
   "id": "b5887518-6c63-4fc9-a287-466702c2cc7a",
   "metadata": {},
   "source": [
    "## 1. Setup"
   ]
  },
  {
   "cell_type": "code",
   "execution_count": 1,
   "id": "8c2d9896-c67f-414e-87e2-bc46253d3e64",
   "metadata": {
    "tags": []
   },
   "outputs": [],
   "source": [
    "# importing all required packages & notebook extensions at the start of the notebook\n",
    "import os\n",
    "import numpy as np\n",
    "import matplotlib.pyplot as plt\n",
    "import seaborn as sns\n",
    "import pandas as pd\n",
    "import qiime2 as q2\n",
    "from qiime2 import Visualization\n",
    "\n",
    "%matplotlib inline"
   ]
  },
  {
   "cell_type": "code",
   "execution_count": 2,
   "id": "f1796bbe-d023-4aac-a519-b251b0891e8d",
   "metadata": {
    "tags": []
   },
   "outputs": [],
   "source": [
    "# get project root by finding .git folder\n",
    "root = !git rev-parse --show-toplevel\n",
    "root = root[0]\n",
    "\n",
    "# assigning variables throughout the notebook\n",
    "raw_data_dir = os.path.join(root, \"data/raw\")\n",
    "data_dir = os.path.join(root, \"data/processed\")\n",
    "vis_dir  = os.path.join(root, \"results\")"
   ]
  },
  {
   "cell_type": "markdown",
   "id": "535e463a-6cb7-4f7b-a1c3-7db89409155b",
   "metadata": {
    "tags": []
   },
   "source": [
    "## 2. Run `picrust2` full pipeline"
   ]
  },
  {
   "cell_type": "markdown",
   "id": "feb73de3-16a4-4ca2-996e-10db458dc618",
   "metadata": {
    "tags": []
   },
   "source": [
    "PICRUSt2 (Phylogenetic Investigation of Communities by Reconstruction of Unobserved States) is a software for predicting functional abundances based only on marker gene (here, it's 16S rRNA) sequences.\n",
    "\n",
    "\"Function\" here refers to gene families such as KEGG orthologs (KO), Enzyme Classification (EC) numbers, and metabolic (MetaCyc) pathways.\n",
    "\n",
    "Here we use **maximum parsimony** (`mp`) for hidden state predcition (HSP) and **SEPP** (SATé-Enabled Phylogenetic Placement) method for tree placement (cannot use `EPA-NG` due to limited RAM + trying to be consistent with `q2-feature-insertion`). `--p-edge-exponent` was set to be `0` for the pipeline to run successfully (as SEPP handles branch weighing internally)\n",
    "\n",
    "<div style=\"background-color: aliceblue; padding: 10px;\">\n",
    "\n",
    "**NOTE** `qiime picrust2 custom-tree-pipeline` can only use trees built from `aiime fragment-insertion sepp` as an input. So the tree built in `03_phylogeny.ipynb` cannot be used.\n",
    "</div>"
   ]
  },
  {
   "cell_type": "code",
   "execution_count": 9,
   "id": "f7ee7e8b-f86c-4b6c-80bd-acfe0cd403b7",
   "metadata": {
    "tags": []
   },
   "outputs": [
    {
     "name": "stdout",
     "output_type": "stream",
     "text": [
      "Warning - 4 input sequences aligned poorly to reference sequences (--min_align option specified a minimum proportion of 0.8 aligning to reference sequences). These input sequences will not be placed and will be excluded from downstream steps.\n",
      "\n",
      "This is the set of poorly aligned input sequences to be excluded: 6a4eaf1e947a173484f8ef3bff28907b, e42dfd4ac46119aac2bfb17fbaae27b8, 84c245c44938522d80bfe6f6345341ae, ad3c31a48752018b8466c44c29505c5e\n",
      "\n",
      "\n",
      "\n",
      "\n",
      "\n",
      "All ASVs were below the max NSTI cut-off of 2.0 and so all were retained for downstream analyses.\n",
      "\n",
      "All ASVs were below the max NSTI cut-off of 2.0 and so all were retained for downstream analyses.\n",
      "\n",
      "\n",
      "\u001b[32mSaved FeatureTable[Frequency] to: q2-picrust2_fullpipeline/ko_metagenome.qza\u001b[0m\n",
      "\u001b[32mSaved FeatureTable[Frequency] to: q2-picrust2_fullpipeline/ec_metagenome.qza\u001b[0m\n",
      "\u001b[32mSaved FeatureTable[Frequency] to: q2-picrust2_fullpipeline/pathway_abundance.qza\u001b[0m\n",
      "\u001b[0m"
     ]
    }
   ],
   "source": [
    "! qiime picrust2 full-pipeline \\\n",
    "    --i-table $data_dir/table-filtered.qza \\\n",
    "    --i-seq $data_dir/rep-seqs-filtered.qza \\\n",
    "    --p-threads 4 \\\n",
    "    --p-hsp-method mp \\\n",
    "    --p-edge-exponent 0 \\\n",
    "    --p-placement-tool sepp \\\n",
    "    --output-dir $data_dir/q2-picrust2_fullpipeline \\\n",
    "    --verbose"
   ]
  },
  {
   "cell_type": "markdown",
   "id": "64b1fa06-0d45-4466-9fe6-3aa617883cd9",
   "metadata": {},
   "source": [
    "## 3. Visualization\n"
   ]
  },
  {
   "cell_type": "code",
   "execution_count": 33,
   "id": "af794b90-a6de-4e81-83c5-1d631d830f6a",
   "metadata": {
    "tags": []
   },
   "outputs": [],
   "source": [
    "picrust_res = f\"{data_dir}/q2-picrust2_fullpipeline\""
   ]
  },
  {
   "cell_type": "markdown",
   "id": "6ceabe7f-d649-470e-bc51-b25c944d672a",
   "metadata": {},
   "source": [
    "### 3.1 Summarize the table"
   ]
  },
  {
   "cell_type": "markdown",
   "id": "0df8ca32-c80c-40cb-9b3f-8c6592431d0b",
   "metadata": {},
   "source": [
    "Summarize the information using `feature-table summarize`"
   ]
  },
  {
   "cell_type": "code",
   "execution_count": 27,
   "id": "98470fd0-7fa3-49fe-b023-45df0a777d0b",
   "metadata": {
    "tags": []
   },
   "outputs": [
    {
     "name": "stdout",
     "output_type": "stream",
     "text": [
      "\u001b[32mSaved Visualization to: /home/jovyan/project/alien/data/processed/q2-picrust2_fullpipeline/ko_metagenome.qzv\u001b[0m\n",
      "\u001b[0m\u001b[32mSaved Visualization to: /home/jovyan/project/alien/data/processed/q2-picrust2_fullpipeline/ec_metagenome.qzv\u001b[0m\n",
      "\u001b[0m\u001b[32mSaved Visualization to: /home/jovyan/project/alien/data/processed/q2-picrust2_fullpipeline/pathway_abundance.qzv\u001b[0m\n",
      "\u001b[0m"
     ]
    }
   ],
   "source": [
    "! qiime feature-table summarize \\\n",
    "   --i-table $picrust_res/ko_metagenome.qza \\\n",
    "   --o-visualization $picrust_res/ko_metagenome.qzv\n",
    "\n",
    "! qiime feature-table summarize \\\n",
    "   --i-table $picrust_res/ec_metagenome.qza \\\n",
    "   --o-visualization $picrust_res/ec_metagenome.qzv\n",
    "\n",
    "! qiime feature-table summarize \\\n",
    "   --i-table $picrust_res/pathway_abundance.qza \\\n",
    "   --o-visualization $picrust_res/pathway_abundance.qzv"
   ]
  },
  {
   "cell_type": "code",
   "execution_count": 34,
   "id": "4daa3041-6b87-4c45-96b2-cacb3cf8ba47",
   "metadata": {
    "tags": []
   },
   "outputs": [
    {
     "data": {
      "text/html": [
       "<div><img onload=\"(function(div, url){\n",
       "if (typeof require !== 'undefined') {\n",
       "    var baseURL = require.toUrl('').split('/').slice(0, -2).join('/');\n",
       "} else {\n",
       "    var baseURL = JSON.parse(\n",
       "        document.getElementById('jupyter-config-data').innerHTML\n",
       "    ).baseUrl.slice(0, -1);\n",
       "}\n",
       "url = baseURL + url;\n",
       "fetch(url).then(function(res) {\n",
       "    if (res.status === 404) {\n",
       "        div.innerHTML = 'Install QIIME 2 Jupyter extension with:<br />' +\n",
       "                        '<code>jupyter serverextension enable --py qiime2' +\n",
       "                        ' --sys-prefix</code><br />then restart your server.' +\n",
       "                        '<br /><br />(Interactive output not available on ' +\n",
       "                        'static notebook viewer services like nbviewer.)';\n",
       "    } else if (res.status === 409) {\n",
       "        div.innerHTML = 'Visualization no longer in scope. Re-run this cell' +\n",
       "                        ' to see the visualization.';\n",
       "    } else if (res.ok) {\n",
       "        url = res.url;\n",
       "        div.innerHTML = '<iframe src=\\'' + url + '\\' style=\\'' +\n",
       "                        'width: 100%; height: 700px; border: 0;\\'>' +\n",
       "                        '</iframe><hr />Open in a: <a href=\\'' + url + '\\'' +\n",
       "                        ' target=\\'_blank\\'>new window</a>'\n",
       "    } else {\n",
       "        div.innerHTML = 'Something has gone wrong. Check notebook server for' +\n",
       "                        ' errors.';\n",
       "    }\n",
       "});\n",
       "})(this.parentElement, '/qiime2/redirect?location=/tmp/qiime2/jovyan/data/9cd5edf0-56a5-43aa-94c9-2b3c028fe41c')\" src=\"data:image/gif;base64,R0lGODlhAQABAIAAAP///wAAACH5BAEAAAAALAAAAAABAAEAAAICRAEAOw==\" /></div>"
      ],
      "text/plain": [
       "<visualization: Visualization uuid: 9cd5edf0-56a5-43aa-94c9-2b3c028fe41c>"
      ]
     },
     "execution_count": 34,
     "metadata": {},
     "output_type": "execute_result"
    }
   ],
   "source": [
    "Visualization.load(f\"{picrust_res}/ko_metagenome.qzv\")"
   ]
  },
  {
   "cell_type": "code",
   "execution_count": 29,
   "id": "2e7f8960-8c50-4668-a418-5b616b455170",
   "metadata": {
    "tags": []
   },
   "outputs": [
    {
     "data": {
      "text/html": [
       "<div><img onload=\"(function(div, url){\n",
       "if (typeof require !== 'undefined') {\n",
       "    var baseURL = require.toUrl('').split('/').slice(0, -2).join('/');\n",
       "} else {\n",
       "    var baseURL = JSON.parse(\n",
       "        document.getElementById('jupyter-config-data').innerHTML\n",
       "    ).baseUrl.slice(0, -1);\n",
       "}\n",
       "url = baseURL + url;\n",
       "fetch(url).then(function(res) {\n",
       "    if (res.status === 404) {\n",
       "        div.innerHTML = 'Install QIIME 2 Jupyter extension with:<br />' +\n",
       "                        '<code>jupyter serverextension enable --py qiime2' +\n",
       "                        ' --sys-prefix</code><br />then restart your server.' +\n",
       "                        '<br /><br />(Interactive output not available on ' +\n",
       "                        'static notebook viewer services like nbviewer.)';\n",
       "    } else if (res.status === 409) {\n",
       "        div.innerHTML = 'Visualization no longer in scope. Re-run this cell' +\n",
       "                        ' to see the visualization.';\n",
       "    } else if (res.ok) {\n",
       "        url = res.url;\n",
       "        div.innerHTML = '<iframe src=\\'' + url + '\\' style=\\'' +\n",
       "                        'width: 100%; height: 700px; border: 0;\\'>' +\n",
       "                        '</iframe><hr />Open in a: <a href=\\'' + url + '\\'' +\n",
       "                        ' target=\\'_blank\\'>new window</a>'\n",
       "    } else {\n",
       "        div.innerHTML = 'Something has gone wrong. Check notebook server for' +\n",
       "                        ' errors.';\n",
       "    }\n",
       "});\n",
       "})(this.parentElement, '/qiime2/redirect?location=/tmp/qiime2/jovyan/data/d5c7f04f-a737-4c53-948b-653d760ee61c')\" src=\"data:image/gif;base64,R0lGODlhAQABAIAAAP///wAAACH5BAEAAAAALAAAAAABAAEAAAICRAEAOw==\" /></div>"
      ],
      "text/plain": [
       "<visualization: Visualization uuid: d5c7f04f-a737-4c53-948b-653d760ee61c>"
      ]
     },
     "execution_count": 29,
     "metadata": {},
     "output_type": "execute_result"
    }
   ],
   "source": [
    "Visualization.load(f\"{picrust_res}/ec_metagenome.qzv\")"
   ]
  },
  {
   "cell_type": "code",
   "execution_count": 30,
   "id": "4188497a-9add-46ec-ae69-2b6ba295ad52",
   "metadata": {
    "tags": []
   },
   "outputs": [
    {
     "data": {
      "text/html": [
       "<div><img onload=\"(function(div, url){\n",
       "if (typeof require !== 'undefined') {\n",
       "    var baseURL = require.toUrl('').split('/').slice(0, -2).join('/');\n",
       "} else {\n",
       "    var baseURL = JSON.parse(\n",
       "        document.getElementById('jupyter-config-data').innerHTML\n",
       "    ).baseUrl.slice(0, -1);\n",
       "}\n",
       "url = baseURL + url;\n",
       "fetch(url).then(function(res) {\n",
       "    if (res.status === 404) {\n",
       "        div.innerHTML = 'Install QIIME 2 Jupyter extension with:<br />' +\n",
       "                        '<code>jupyter serverextension enable --py qiime2' +\n",
       "                        ' --sys-prefix</code><br />then restart your server.' +\n",
       "                        '<br /><br />(Interactive output not available on ' +\n",
       "                        'static notebook viewer services like nbviewer.)';\n",
       "    } else if (res.status === 409) {\n",
       "        div.innerHTML = 'Visualization no longer in scope. Re-run this cell' +\n",
       "                        ' to see the visualization.';\n",
       "    } else if (res.ok) {\n",
       "        url = res.url;\n",
       "        div.innerHTML = '<iframe src=\\'' + url + '\\' style=\\'' +\n",
       "                        'width: 100%; height: 700px; border: 0;\\'>' +\n",
       "                        '</iframe><hr />Open in a: <a href=\\'' + url + '\\'' +\n",
       "                        ' target=\\'_blank\\'>new window</a>'\n",
       "    } else {\n",
       "        div.innerHTML = 'Something has gone wrong. Check notebook server for' +\n",
       "                        ' errors.';\n",
       "    }\n",
       "});\n",
       "})(this.parentElement, '/qiime2/redirect?location=/tmp/qiime2/jovyan/data/5a8f31d6-c765-4501-8ec5-f786e609da69')\" src=\"data:image/gif;base64,R0lGODlhAQABAIAAAP///wAAACH5BAEAAAAALAAAAAABAAEAAAICRAEAOw==\" /></div>"
      ],
      "text/plain": [
       "<visualization: Visualization uuid: 5a8f31d6-c765-4501-8ec5-f786e609da69>"
      ]
     },
     "execution_count": 30,
     "metadata": {},
     "output_type": "execute_result"
    }
   ],
   "source": [
    "Visualization.load(f\"{picrust_res}/pathway_abundance.qzv\")"
   ]
  },
  {
   "cell_type": "markdown",
   "id": "ee0ee5f2-2b08-4a77-bf62-b4a41c2f5bfb",
   "metadata": {},
   "source": [
    "### 3.2 Compute diversity"
   ]
  },
  {
   "cell_type": "markdown",
   "id": "c96be184-e5ab-4af8-b639-21dfeaac761f",
   "metadata": {
    "tags": []
   },
   "source": [
    "#### 3.2.1 KEGG"
   ]
  },
  {
   "cell_type": "code",
   "execution_count": null,
   "id": "b8f5a4e2-a9c8-4e90-8b6f-42d3f5f4fc40",
   "metadata": {
    "tags": []
   },
   "outputs": [],
   "source": [
    "! qiime diversity alpha-rarefaction \\\n",
    "    --i-table $picrust_res/ko_metagenome.qza \\\n",
    "    --p-max-depth 30000 \\\n",
    "    --m-metadata-file $data_dir/metadata.tsv \\\n",
    "    --o-visualization $data_dir/ko_metagenome/alpha-rarefaction-ko.qzv"
   ]
  },
  {
   "cell_type": "code",
   "execution_count": null,
   "id": "6ab69b38-4c29-403c-b6a7-babf44cd73e8",
   "metadata": {},
   "outputs": [],
   "source": [
    "! qiime diversity core-metrics \\\n",
    "   --i-table $picrust_res/ko_metagenome.qza \\\n",
    "   --p-sampling-depth ? \\\n",
    "   --m-metadata-file $data_dir/metadata.tsv \\\n",
    "   --output-dir ko_metagenome_core_metrics \\\n",
    "   --p-n-jobs 4"
   ]
  },
  {
   "cell_type": "markdown",
   "id": "c5c9544b-526e-4581-a8d6-4bb5b459c1c9",
   "metadata": {},
   "source": [
    "#### 3.2.2 EC counts"
   ]
  },
  {
   "cell_type": "code",
   "execution_count": null,
   "id": "3d519437-4d28-4012-b75b-91d861037c9c",
   "metadata": {},
   "outputs": [],
   "source": [
    "! qiime diversity alpha-rarefaction \\\n",
    "    --i-table $picrust_res/ec_metagenome.qza \\\n",
    "    --p-max-depth 10000 \\\n",
    "    --m-metadata-file $data_dir/metadata.tsv \\\n",
    "    --o-visualization $data_dir/alpha-rarefaction-ec.qzv"
   ]
  },
  {
   "cell_type": "code",
   "execution_count": null,
   "id": "b630b9bb-e271-4f5f-bfde-f0769276fc34",
   "metadata": {},
   "outputs": [],
   "source": [
    "! qiime diversity core-metrics \\\n",
    "   --i-table $picrust_res/ec_metagenome.qza \\\n",
    "   --p-sampling-depth ? \\\n",
    "   --m-metadata-file $data_dir/metadata.tsv \\\n",
    "   --output-dir ec_metagenome_core_metrics \\\n",
    "   --p-n-jobs 4"
   ]
  },
  {
   "cell_type": "markdown",
   "id": "1c91ec0a-0fb1-4461-acd0-f58a067fbf92",
   "metadata": {},
   "source": [
    "#### 3.2.3 Path abundance"
   ]
  },
  {
   "cell_type": "code",
   "execution_count": null,
   "id": "8d7d2937-d661-4762-a2b9-db33ffee4b67",
   "metadata": {},
   "outputs": [],
   "source": [
    "! qiime diversity alpha-rarefaction \\\n",
    "    --i-table $picrust_res/pathway_abundance.qza \\\n",
    "    --p-max-depth 5000 \\\n",
    "    --m-metadata-file $data_dir/metadata.tsv \\\n",
    "    --o-visualization $data_dir/alpha-rarefaction-pathabund.qzv"
   ]
  },
  {
   "cell_type": "code",
   "execution_count": null,
   "id": "33fe03a0-ef95-4293-b8b7-751f50660f1b",
   "metadata": {},
   "outputs": [],
   "source": [
    "! qiime diversity core-metrics \\\n",
    "   --i-table $picrust_res/pathway_abundance.qza \\\n",
    "   --p-sampling-depth ? \\\n",
    "   --m-metadata-file $data_dir/metadata.tsv \\\n",
    "   --output-dir pathway_abundance_core_metrics \\\n",
    "   --p-n-jobs 4"
   ]
  },
  {
   "cell_type": "markdown",
   "id": "67144ddb-b7bc-4d99-8208-22aadd382dd4",
   "metadata": {},
   "source": [
    "## 4. Thoughts and Discussion\n",
    "\n",
    "Although amplicon-based predictions may be highly correlated with functional profiles based on shotgun metagenomics sequencing data, differential abundance results will likely differ substantially from what would be found based on shotgun metagenomics data. As we requested data from our TA, it is important to compare the results generated from shotgun metagenomics analysis with the prediction from picrust."
   ]
  },
  {
   "cell_type": "markdown",
   "id": "116e97b4-cde7-4a47-9077-1c8bed8a3a6b",
   "metadata": {},
   "source": [
    "## Bibliography\n",
    "\n",
    "[1] G. M. Douglas et al., “PICRUSt2 for prediction of metagenome functions,” Nature Biotechnology, vol. 38, no. 6, pp. 685–688, Jun. 2020, doi: https://doi.org/10.1038/s41587-020-0548-6.\n",
    "\n",
    "‌[2] S. Purushothaman, M. Meola, and A. Egli, “Combination of Whole Genome Sequencing and Metagenomics for Microbiological Diagnostics,” International Journal of Molecular Sciences, vol. 23, no. 17, p. 9834, Aug. 2022, doi: https://doi.org/10.3390/ijms23179834.\n",
    "‌"
   ]
  }
 ],
 "metadata": {
  "kernelspec": {
   "display_name": "QIIME 2",
   "language": "python",
   "name": "python3"
  },
  "language_info": {
   "codemirror_mode": {
    "name": "ipython",
    "version": 3
   },
   "file_extension": ".py",
   "mimetype": "text/x-python",
   "name": "python",
   "nbconvert_exporter": "python",
   "pygments_lexer": "ipython3",
   "version": "3.9.19"
  }
 },
 "nbformat": 4,
 "nbformat_minor": 5
}
