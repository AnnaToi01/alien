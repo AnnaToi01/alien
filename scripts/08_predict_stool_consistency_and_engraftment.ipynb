{
 "cells": [
  {
   "cell_type": "markdown",
   "id": "a23ce4ac",
   "metadata": {},
   "source": [
    "# Week 12 Supervised Machine Learning\n",
    "\n",
    "In this tutorial we will be looking into the application of supervised machine learning (ML) methods in Q2 using the data from the Human Microbiome Project. \n",
    "\n",
    "\n",
    "\n",
    "We will be going through the following steps:         \n",
    "       \n",
    "[1. Import packages and download datasets](#sec1)                \n",
    "[2. Training and evaluating classifiers](#sec2)          \n",
    "[3. Training and evaluating regressors](#sec3)          \n",
    "[4. Over- vs. underfitting](#sec4)                \n",
    "[5. Creating predictions for all available samples](#sec5)          "
   ]
  },
  {
   "cell_type": "markdown",
   "id": "9467cdad",
   "metadata": {},
   "source": [
    "<a id='sec1'></a> "
   ]
  },
  {
   "cell_type": "markdown",
   "id": "489520b5",
   "metadata": {},
   "source": [
    "## 1. Import packages & download datasets\n",
    "\n",
    "As always, let's first import all packages and assign the variables we need in this notebook:"
   ]
  },
  {
   "cell_type": "code",
   "execution_count": 2,
   "id": "07a5a38b",
   "metadata": {
    "tags": []
   },
   "outputs": [],
   "source": [
    "# import all required packages\n",
    "import os\n",
    "import biom\n",
    "import qiime2 as q2\n",
    "import pandas as pd\n",
    "\n",
    "from qiime2 import Visualization"
   ]
  },
  {
   "cell_type": "code",
   "execution_count": 3,
   "id": "d4a5cf2b",
   "metadata": {
    "tags": []
   },
   "outputs": [],
   "source": [
    "# assigning variables used throughout the notebook\n",
    "\n",
    "# location of this week's data\n",
    "data_dir = 'w8_hmp_data'"
   ]
  },
  {
   "cell_type": "code",
   "execution_count": 4,
   "id": "f9e52287-2cec-4881-ae8a-4ee2138c5223",
   "metadata": {
    "tags": []
   },
   "outputs": [],
   "source": [
    "%%bash -s $data_dir\n",
    "# Please do NOT modify this cell - here we copy the required data into\n",
    "# your personal Jupyter workspace.\n",
    "\n",
    "mkdir -p \"$1\"\n",
    "cp -rn /data/w8_hmp_data/* \"$1\"\n",
    "chmod -R +rxw \"$1\""
   ]
  },
  {
   "cell_type": "markdown",
   "id": "c3d4c497",
   "metadata": {},
   "source": [
    "<a id='sec2'></a>  "
   ]
  },
  {
   "cell_type": "markdown",
   "id": "78bb55ca",
   "metadata": {},
   "source": [
    "## 2. Training and evaluating classifiers"
   ]
  },
  {
   "cell_type": "markdown",
   "id": "c0f03fe5",
   "metadata": {},
   "source": [
    "In supervised ML, the goal is to fit a model such that it correctly predicts a given target. If the target is discrete then we call the modelling task a classification."
   ]
  },
  {
   "cell_type": "markdown",
   "id": "0d92b998",
   "metadata": {},
   "source": [
    "### 2.1 Training classifier to predict  `sample_type` with microbial composition"
   ]
  },
  {
   "cell_type": "markdown",
   "id": "4b87de72",
   "metadata": {},
   "source": [
    "First we will train a classifier to predict each sample's type (metadata column `sample_type`) given its microbial composition. For this we will use the `classify-samples` method from `q2-sample-classifier`. This method provides different modelling setups and types of classifiers. Depending on which type of classifier you use, you can specify or tune defined hyperparameters of the classifier. \n",
    "\n",
    "\n",
    "Let's start with a simple modelling setup where we use the default hyperparameters of a Random Forest classifier. If you are interested in learning more about Random Forests in general, here is [an intuitive article](https://towardsdatascience.com/understanding-random-forest-58381e0602d2) and a more detailed [Wikipedia page](https://en.wikipedia.org/wiki/Random_forest) on this modelling class.        \n",
    "We aim to use `80%` of our `3'308` different samples as a train set to fit the classifier and the remaining `20%` as a test set to evaluate its modelling performance. In the Q2 CLI command below this is indicated by setting `--p-test-size` to `0.2`. This train-test split is being performed as a \"stratified spilt\". This means that we aim for these split proportions while ensuring that the distribution of targets is uniform across the splits. Essentially, we want the proportions of each target class to be preserved across splits.      \n",
    "To make the training of the classifier reproducible, we further choose a specific random seed (`--p-random-state 22`).          \n",
    "\n",
    "As mentioned at the start our goal is to predict the metadata column `sample_type` given the microbial composition (see below inputs to parameters `--i-table`, `--m-metadata-file` and `--m-metadata-column`). The microbial composition in our case is a `FeatureTable[Frequency]` artifact with individual microbial features depicted as the actual nucleotide sequence. "
   ]
  },
  {
   "cell_type": "code",
   "execution_count": 4,
   "id": "b9523dc7",
   "metadata": {
    "collapsed": true,
    "jupyter": {
     "outputs_hidden": true
    },
    "tags": []
   },
   "outputs": [
    {
     "name": "stdout",
     "output_type": "stream",
     "text": [
      "\u001b[32mSaved SampleEstimator[Classifier] to: w8_hmp_data/small-RF-classifier/sample_estimator.qza\u001b[0m\n",
      "\u001b[32mSaved FeatureData[Importance] to: w8_hmp_data/small-RF-classifier/feature_importance.qza\u001b[0m\n",
      "\u001b[32mSaved SampleData[ClassifierPredictions] to: w8_hmp_data/small-RF-classifier/predictions.qza\u001b[0m\n",
      "\u001b[32mSaved Visualization to: w8_hmp_data/small-RF-classifier/model_summary.qzv\u001b[0m\n",
      "\u001b[32mSaved Visualization to: w8_hmp_data/small-RF-classifier/accuracy_results.qzv\u001b[0m\n",
      "\u001b[32mSaved SampleData[Probabilities] to: w8_hmp_data/small-RF-classifier/probabilities.qza\u001b[0m\n",
      "\u001b[32mSaved Visualization to: w8_hmp_data/small-RF-classifier/heatmap.qzv\u001b[0m\n",
      "\u001b[32mSaved SampleData[TrueTargets] to: w8_hmp_data/small-RF-classifier/training_targets.qza\u001b[0m\n",
      "\u001b[32mSaved SampleData[TrueTargets] to: w8_hmp_data/small-RF-classifier/test_targets.qza\u001b[0m\n",
      "\u001b[0m"
     ]
    }
   ],
   "source": [
    "! qiime sample-classifier classify-samples \\\n",
    "  --i-table $data_dir/feature-table.qza \\\n",
    "  --m-metadata-file $data_dir/metadata_proc.tsv \\\n",
    "  --m-metadata-column sample_type \\\n",
    "  --p-test-size 0.2 \\\n",
    "  --p-estimator RandomForestClassifier \\\n",
    "  --p-random-state 22 \\\n",
    "  --p-n-jobs 3 \\\n",
    "  --output-dir $data_dir/small-RF-classifier"
   ]
  },
  {
   "cell_type": "markdown",
   "id": "22ac7513",
   "metadata": {},
   "source": [
    "**a)** Run below command and inspect the previously created output artifacts. Which artifact contains the trained classifier?"
   ]
  },
  {
   "cell_type": "code",
   "execution_count": 5,
   "id": "40a51b97",
   "metadata": {
    "collapsed": true,
    "jupyter": {
     "outputs_hidden": true
    },
    "tags": []
   },
   "outputs": [
    {
     "name": "stdout",
     "output_type": "stream",
     "text": [
      "Usage: \u001b[94mqiime sample-classifier classify-samples\u001b[0m [OPTIONS]\n",
      "\n",
      "  Predicts a categorical sample metadata column using a supervised learning\n",
      "  classifier. Splits input data into training and test sets. The training set\n",
      "  is used to train and test the estimator using a stratified k-fold cross-\n",
      "  validation scheme. This includes optional steps for automated feature\n",
      "  extraction and hyperparameter optimization. The test set validates\n",
      "  classification accuracy of the optimized estimator. Outputs classification\n",
      "  results for test set. For more details on the learning algorithm, see\n",
      "  http://scikit-learn.org/stable/supervised_learning.html\n",
      "\n",
      "\u001b[1mInputs\u001b[0m:\n",
      "  \u001b[94m\u001b[4m--i-table\u001b[0m ARTIFACT \u001b[32mFeatureTable[Frequency | RelativeFrequency |\u001b[0m\n",
      "    \u001b[32mPresenceAbsence | Composition]\u001b[0m\n",
      "                          Feature table containing all features that should\n",
      "                          be used for target prediction.            \u001b[35m[required]\u001b[0m\n",
      "\u001b[1mParameters\u001b[0m:\n",
      "  \u001b[94m\u001b[4m--m-metadata-file\u001b[0m METADATA\n",
      "  \u001b[94m\u001b[4m--m-metadata-column\u001b[0m COLUMN  \u001b[32mMetadataColumn[Categorical]\u001b[0m\n",
      "                          Categorical metadata column to use as prediction\n",
      "                          target.                                   \u001b[35m[required]\u001b[0m\n",
      "  \u001b[94m--p-test-size\u001b[0m PROPORTION\n",
      "    \u001b[32mRange(0.0, 1.0)\u001b[0m       Fraction of input samples to exclude from training\n",
      "                          set and use for classifier testing.   \u001b[35m[default: 0.2]\u001b[0m\n",
      "  \u001b[94m--p-step\u001b[0m PROPORTION \u001b[32mRange(0.0, 1.0, inclusive_start=False)\u001b[0m\n",
      "                          If \u001b[4moptimize-feature-selection\u001b[0m is True, step is the\n",
      "                          percentage of features to remove at each iteration.\n",
      "                                                               \u001b[35m[default: 0.05]\u001b[0m\n",
      "  \u001b[94m--p-cv\u001b[0m INTEGER          Number of k-fold cross-validations to perform.\n",
      "    \u001b[32mRange(1, None)\u001b[0m                                                \u001b[35m[default: 5]\u001b[0m\n",
      "  \u001b[94m--p-random-state\u001b[0m INTEGER\n",
      "                          Seed used by random number generator.     \u001b[35m[optional]\u001b[0m\n",
      "  \u001b[94m--p-n-jobs\u001b[0m NTHREADS     Number of jobs to run in parallel.      \u001b[35m[default: 1]\u001b[0m\n",
      "  \u001b[94m--p-n-estimators\u001b[0m INTEGER\n",
      "    \u001b[32mRange(1, None)\u001b[0m        Number of trees to grow for estimation. More trees\n",
      "                          will improve predictive accuracy up to a threshold\n",
      "                          level, but will also increase time and memory\n",
      "                          requirements. This parameter only affects ensemble\n",
      "                          estimators, such as Random Forest, AdaBoost,\n",
      "                          ExtraTrees, and GradientBoosting.     \u001b[35m[default: 100]\u001b[0m\n",
      "  \u001b[94m--p-estimator\u001b[0m TEXT \u001b[32mChoices('RandomForestClassifier',\u001b[0m\n",
      "    \u001b[32m'ExtraTreesClassifier', 'GradientBoostingClassifier',\u001b[0m\n",
      "    \u001b[32m'AdaBoostClassifier[DecisionTree]', 'AdaBoostClassifier[ExtraTrees]',\u001b[0m\n",
      "    \u001b[32m'KNeighborsClassifier', 'LinearSVC', 'SVC')\u001b[0m\n",
      "                          Estimator method to use for sample prediction.\n",
      "                                           \u001b[35m[default: 'RandomForestClassifier']\u001b[0m\n",
      "  \u001b[94m--p-optimize-feature-selection\u001b[0m / \u001b[94m--p-no-optimize-feature-selection\u001b[0m\n",
      "                          Automatically optimize input feature selection\n",
      "                          using recursive feature elimination.\n",
      "                                                              \u001b[35m[default: False]\u001b[0m\n",
      "  \u001b[94m--p-parameter-tuning\u001b[0m / \u001b[94m--p-no-parameter-tuning\u001b[0m\n",
      "                          Automatically tune hyperparameters using random\n",
      "                          grid search.                        \u001b[35m[default: False]\u001b[0m\n",
      "  \u001b[94m--p-palette\u001b[0m TEXT \u001b[32mChoices('YellowOrangeBrown', 'YellowOrangeRed',\u001b[0m\n",
      "    \u001b[32m'OrangeRed', 'PurpleRed', 'RedPurple', 'BluePurple', 'GreenBlue',\u001b[0m\n",
      "    \u001b[32m'PurpleBlue', 'YellowGreen', 'summer', 'copper', 'viridis', 'cividis',\u001b[0m\n",
      "    \u001b[32m'plasma', 'inferno', 'magma', 'sirocco', 'drifting', 'melancholy',\u001b[0m\n",
      "    \u001b[32m'enigma', 'eros', 'spectre', 'ambition', 'mysteriousstains', 'daydream',\u001b[0m\n",
      "    \u001b[32m'solano', 'navarro', 'dandelions', 'deepblue', 'verve', 'greyscale')\u001b[0m\n",
      "                          The color palette to use for plotting.\n",
      "                                                          \u001b[35m[default: 'sirocco']\u001b[0m\n",
      "  \u001b[94m--p-missing-samples\u001b[0m TEXT \u001b[32mChoices('error', 'ignore')\u001b[0m\n",
      "                          How to handle missing samples in metadata. \"error\"\n",
      "                          will fail if missing samples are detected. \"ignore\"\n",
      "                          will cause the feature table and metadata to be\n",
      "                          filtered, so that only samples found in both files\n",
      "                          are retained.                     \u001b[35m[default: 'error']\u001b[0m\n",
      "\u001b[1mOutputs\u001b[0m:\n",
      "  \u001b[94m\u001b[4m--o-sample-estimator\u001b[0m ARTIFACT \u001b[32mSampleEstimator[Classifier]\u001b[0m\n",
      "                          Trained sample estimator.                 \u001b[35m[required]\u001b[0m\n",
      "  \u001b[94m\u001b[4m--o-feature-importance\u001b[0m ARTIFACT \u001b[32mFeatureData[Importance]\u001b[0m\n",
      "                          Importance of each input feature to model accuracy.\n",
      "                                                                    \u001b[35m[required]\u001b[0m\n",
      "  \u001b[94m\u001b[4m--o-predictions\u001b[0m ARTIFACT \u001b[32mSampleData[ClassifierPredictions]\u001b[0m\n",
      "                          Predicted target values for each input sample.\n",
      "                                                                    \u001b[35m[required]\u001b[0m\n",
      "  \u001b[94m\u001b[4m--o-model-summary\u001b[0m VISUALIZATION\n",
      "                          Summarized parameter and (if enabled) feature\n",
      "                          selection information for the trained estimator.\n",
      "                                                                    \u001b[35m[required]\u001b[0m\n",
      "  \u001b[94m\u001b[4m--o-accuracy-results\u001b[0m VISUALIZATION\n",
      "                          Accuracy results visualization.           \u001b[35m[required]\u001b[0m\n",
      "  \u001b[94m\u001b[4m--o-probabilities\u001b[0m ARTIFACT \u001b[32mSampleData[Probabilities]\u001b[0m\n",
      "                          Predicted class probabilities for each input\n",
      "                          sample.                                   \u001b[35m[required]\u001b[0m\n",
      "  \u001b[94m\u001b[4m--o-heatmap\u001b[0m VISUALIZATION\n",
      "                          A heatmap of the top 50 most important features\n",
      "                          from the table.                           \u001b[35m[required]\u001b[0m\n",
      "  \u001b[94m\u001b[4m--o-training-targets\u001b[0m ARTIFACT \u001b[32mSampleData[TrueTargets]\u001b[0m\n",
      "                          Series containing true target values of train\n",
      "                          samples                                   \u001b[35m[required]\u001b[0m\n",
      "  \u001b[94m\u001b[4m--o-test-targets\u001b[0m ARTIFACT \u001b[32mSampleData[TrueTargets]\u001b[0m\n",
      "                          Series containing true target values of test\n",
      "                          samples                                   \u001b[35m[required]\u001b[0m\n",
      "\u001b[1mMiscellaneous\u001b[0m:\n",
      "  \u001b[94m--output-dir\u001b[0m PATH       Output unspecified results to a directory\n",
      "  \u001b[94m--verbose\u001b[0m / \u001b[94m--quiet\u001b[0m     Display verbose output to stdout and/or stderr\n",
      "                          during execution of this action. Or silence output\n",
      "                          if execution is successful (silence is golden).\n",
      "  \u001b[94m--recycle-pool\u001b[0m TEXT     Use a cache pool for pipeline resumption. QIIME 2\n",
      "                          will cache your results in this pool for reuse by\n",
      "                          future invocations. These pool are retained until\n",
      "                          deleted by the user. If not provided, QIIME 2 will\n",
      "                          create a pool which is automatically reused by\n",
      "                          invocations of the same action and removed if the\n",
      "                          action is successful. Note: these pools are local to\n",
      "                          the cache you are using.\n",
      "  \u001b[94m--no-recycle\u001b[0m            Do not recycle results from a previous failed\n",
      "                          pipeline run or save the results from this run for\n",
      "                          future recycling.\n",
      "  \u001b[94m--parallel\u001b[0m              Execute your action in parallel. This flag will use\n",
      "                          your default parallel config.\n",
      "  \u001b[94m--parallel-config\u001b[0m FILE  Execute your action in parallel using a config at\n",
      "                          the indicated path.\n",
      "  \u001b[94m--use-cache\u001b[0m DIRECTORY   Specify the cache to be used for the intermediate\n",
      "                          work of this pipeline. If not provided, the default\n",
      "                          cache under $TMP/qiime2/<uname> will be used.\n",
      "                          IMPORTANT FOR HPC USERS: If you are on an HPC system\n",
      "                          and are using parallel execution it is important to\n",
      "                          set this to a location that is globally accessible\n",
      "                          to all nodes in the cluster.\n",
      "  \u001b[94m--example-data\u001b[0m PATH     Write example data and exit.\n",
      "  \u001b[94m--citations\u001b[0m             Show citations and exit.\n",
      "  \u001b[94m--help\u001b[0m                  Show this message and exit.\n",
      "\u001b[0m"
     ]
    }
   ],
   "source": [
    "! qiime sample-classifier classify-samples --help"
   ]
  },
  {
   "cell_type": "markdown",
   "id": "642e4453",
   "metadata": {},
   "source": [
    "### 2.2 Evaluate trained classifier: Confusion matrix, accuracy & ROC"
   ]
  },
  {
   "cell_type": "markdown",
   "id": "c154c751",
   "metadata": {},
   "source": [
    "Running this command we obtain several output files. Let's first have a look at the produced visualisation `accuracy_results.qzv`. The first plot in this visualisation contains a so called **confusion matrix** which displays how frequently a class was predicted correctly.        \n",
    "\n",
    "The actual values of the depicted proportions can be found in the table below the confusion matrix. This table additionally contains the overall **accuracy** metrics of the classifier. The overall accuracy is a metric that depicts the fraction of times our test samples were assigned the correct class by the trained model. The baseline accuracy shows the accuracy we would reach by simply predicting the most frequent class for all samples.     "
   ]
  },
  {
   "cell_type": "markdown",
   "id": "d8bfef73",
   "metadata": {},
   "source": [
    "**a)** Have a look at the confusion matrix. Sum up the true count of samples of the `sample_type` classes. Why does the resulting sum not equal the expected count of test samples, namely `20%` of the `3'308` samples in the metadata?   "
   ]
  },
  {
   "cell_type": "code",
   "execution_count": 20,
   "id": "3c5f2ce7-99a4-4a23-9245-c04d6fb3e328",
   "metadata": {
    "tags": []
   },
   "outputs": [
    {
     "ename": "AssertionError",
     "evalue": "632 does not euqal to 20% of 3,308 (f662.0)",
     "output_type": "error",
     "traceback": [
      "\u001b[0;31m---------------------------------------------------------------------------\u001b[0m",
      "\u001b[0;31mAssertionError\u001b[0m                            Traceback (most recent call last)",
      "Cell \u001b[0;32mIn[20], line 1\u001b[0m\n\u001b[0;32m----> 1\u001b[0m \u001b[38;5;28;01massert\u001b[39;00m \u001b[38;5;241m56\u001b[39m \u001b[38;5;241m+\u001b[39m \u001b[38;5;241m279\u001b[39m \u001b[38;5;241m+\u001b[39m \u001b[38;5;241m173\u001b[39m \u001b[38;5;241m+\u001b[39m \u001b[38;5;241m42\u001b[39m \u001b[38;5;241m+\u001b[39m \u001b[38;5;241m41\u001b[39m \u001b[38;5;241m+\u001b[39m \u001b[38;5;241m41\u001b[39m \u001b[38;5;241m==\u001b[39m \u001b[38;5;241m0.2\u001b[39m \u001b[38;5;241m*\u001b[39m \u001b[38;5;241m3308\u001b[39m, \u001b[38;5;124mf\u001b[39m\u001b[38;5;124m\"\u001b[39m\u001b[38;5;132;01m{\u001b[39;00m\u001b[38;5;241m56\u001b[39m\u001b[38;5;250m \u001b[39m\u001b[38;5;241m+\u001b[39m\u001b[38;5;250m \u001b[39m\u001b[38;5;241m279\u001b[39m\u001b[38;5;250m \u001b[39m\u001b[38;5;241m+\u001b[39m\u001b[38;5;250m \u001b[39m\u001b[38;5;241m173\u001b[39m\u001b[38;5;250m \u001b[39m\u001b[38;5;241m+\u001b[39m\u001b[38;5;250m \u001b[39m\u001b[38;5;241m42\u001b[39m\u001b[38;5;250m \u001b[39m\u001b[38;5;241m+\u001b[39m\u001b[38;5;250m \u001b[39m\u001b[38;5;241m41\u001b[39m\u001b[38;5;250m \u001b[39m\u001b[38;5;241m+\u001b[39m\u001b[38;5;250m \u001b[39m\u001b[38;5;241m41\u001b[39m\u001b[38;5;132;01m}\u001b[39;00m\u001b[38;5;124m does not euqal to 20% of 3,308 (f\u001b[39m\u001b[38;5;132;01m{\u001b[39;00m\u001b[38;5;28mround\u001b[39m(\u001b[38;5;241m0.2\u001b[39m\u001b[38;5;250m \u001b[39m\u001b[38;5;241m*\u001b[39m\u001b[38;5;250m \u001b[39m\u001b[38;5;241m3308\u001b[39m,\u001b[38;5;250m \u001b[39mndigits\u001b[38;5;241m=\u001b[39m\u001b[38;5;241m0\u001b[39m)\u001b[38;5;132;01m}\u001b[39;00m\u001b[38;5;124m)\u001b[39m\u001b[38;5;124m\"\u001b[39m\n",
      "\u001b[0;31mAssertionError\u001b[0m: 632 does not euqal to 20% of 3,308 (f662.0)"
     ]
    }
   ],
   "source": [
    "assert 56 + 279 + 173 + 42 + 41 + 41 == 0.2 * 3308, f\"{56 + 279 + 173 + 42 + 41 + 41} does not euqal to 20% of 3,308 (f{round(0.2 * 3308, ndigits=0)})\""
   ]
  },
  {
   "cell_type": "markdown",
   "id": "f1c44043-f1da-4207-8c14-ab005c1436fc",
   "metadata": {},
   "source": [
    "Maybe some of the sample_type are NaN. Let's look at the original metadata"
   ]
  },
  {
   "cell_type": "code",
   "execution_count": 22,
   "id": "146146fe-c1b9-4832-a6a2-9588965d5625",
   "metadata": {
    "tags": []
   },
   "outputs": [
    {
     "data": {
      "text/html": [
       "<div>\n",
       "<style scoped>\n",
       "    .dataframe tbody tr th:only-of-type {\n",
       "        vertical-align: middle;\n",
       "    }\n",
       "\n",
       "    .dataframe tbody tr th {\n",
       "        vertical-align: top;\n",
       "    }\n",
       "\n",
       "    .dataframe thead th {\n",
       "        text-align: right;\n",
       "    }\n",
       "</style>\n",
       "<table border=\"1\" class=\"dataframe\">\n",
       "  <thead>\n",
       "    <tr style=\"text-align: right;\">\n",
       "      <th></th>\n",
       "      <th>sampleid</th>\n",
       "      <th>host_subject_id</th>\n",
       "      <th>env</th>\n",
       "      <th>body_site</th>\n",
       "      <th>sample_type</th>\n",
       "      <th>env_material</th>\n",
       "      <th>elevation</th>\n",
       "      <th>latitude</th>\n",
       "      <th>longitude</th>\n",
       "      <th>geo_loc_name</th>\n",
       "    </tr>\n",
       "  </thead>\n",
       "  <tbody>\n",
       "    <tr>\n",
       "      <th>0</th>\n",
       "      <td>1928.SRS063768.SRX020548.SRR049963</td>\n",
       "      <td>103092734</td>\n",
       "      <td>Skin</td>\n",
       "      <td>UBERON:skin of nose</td>\n",
       "      <td>sebum</td>\n",
       "      <td>sebum</td>\n",
       "      <td>97</td>\n",
       "      <td>38.98</td>\n",
       "      <td>-77.11</td>\n",
       "      <td>USA</td>\n",
       "    </tr>\n",
       "    <tr>\n",
       "      <th>1</th>\n",
       "      <td>1928.SRS064411.SRX020548.SRR049630</td>\n",
       "      <td>103092734</td>\n",
       "      <td>Skin</td>\n",
       "      <td>UBERON:skin of elbow</td>\n",
       "      <td>sebum</td>\n",
       "      <td>sebum</td>\n",
       "      <td>97</td>\n",
       "      <td>38.98</td>\n",
       "      <td>-77.11</td>\n",
       "      <td>USA</td>\n",
       "    </tr>\n",
       "    <tr>\n",
       "      <th>2</th>\n",
       "      <td>1928.SRS065595.SRX020548.SRR047332</td>\n",
       "      <td>103092734</td>\n",
       "      <td>Skin</td>\n",
       "      <td>UBERON:skin of elbow</td>\n",
       "      <td>sebum</td>\n",
       "      <td>sebum</td>\n",
       "      <td>97</td>\n",
       "      <td>38.98</td>\n",
       "      <td>-77.11</td>\n",
       "      <td>USA</td>\n",
       "    </tr>\n",
       "    <tr>\n",
       "      <th>3</th>\n",
       "      <td>1928.SRS045788.SRX020527.SRR049597</td>\n",
       "      <td>132902142</td>\n",
       "      <td>Skin</td>\n",
       "      <td>UBERON:skin of elbow</td>\n",
       "      <td>sebum</td>\n",
       "      <td>sebum</td>\n",
       "      <td>97</td>\n",
       "      <td>38.98</td>\n",
       "      <td>-77.11</td>\n",
       "      <td>USA</td>\n",
       "    </tr>\n",
       "    <tr>\n",
       "      <th>4</th>\n",
       "      <td>1928.SRS048971.SRX020527.SRR047153</td>\n",
       "      <td>132902142</td>\n",
       "      <td>Skin</td>\n",
       "      <td>UBERON:skin of external ear</td>\n",
       "      <td>sebum</td>\n",
       "      <td>sebum</td>\n",
       "      <td>97</td>\n",
       "      <td>38.98</td>\n",
       "      <td>-77.11</td>\n",
       "      <td>USA</td>\n",
       "    </tr>\n",
       "  </tbody>\n",
       "</table>\n",
       "</div>"
      ],
      "text/plain": [
       "                             sampleid  host_subject_id   env  \\\n",
       "0  1928.SRS063768.SRX020548.SRR049963        103092734  Skin   \n",
       "1  1928.SRS064411.SRX020548.SRR049630        103092734  Skin   \n",
       "2  1928.SRS065595.SRX020548.SRR047332        103092734  Skin   \n",
       "3  1928.SRS045788.SRX020527.SRR049597        132902142  Skin   \n",
       "4  1928.SRS048971.SRX020527.SRR047153        132902142  Skin   \n",
       "\n",
       "                     body_site sample_type env_material  elevation  latitude  \\\n",
       "0          UBERON:skin of nose       sebum        sebum         97     38.98   \n",
       "1         UBERON:skin of elbow       sebum        sebum         97     38.98   \n",
       "2         UBERON:skin of elbow       sebum        sebum         97     38.98   \n",
       "3         UBERON:skin of elbow       sebum        sebum         97     38.98   \n",
       "4  UBERON:skin of external ear       sebum        sebum         97     38.98   \n",
       "\n",
       "   longitude geo_loc_name  \n",
       "0     -77.11          USA  \n",
       "1     -77.11          USA  \n",
       "2     -77.11          USA  \n",
       "3     -77.11          USA  \n",
       "4     -77.11          USA  "
      ]
     },
     "execution_count": 22,
     "metadata": {},
     "output_type": "execute_result"
    }
   ],
   "source": [
    "meta = pd.read_csv(f\"{data_dir}/metadata_proc.tsv\", sep=\"\\t\")\n",
    "meta.head()"
   ]
  },
  {
   "cell_type": "code",
   "execution_count": 26,
   "id": "00dfb1b9-9895-4304-9620-56fb7587fea1",
   "metadata": {
    "tags": []
   },
   "outputs": [
    {
     "data": {
      "text/plain": [
       "3308"
      ]
     },
     "execution_count": 26,
     "metadata": {},
     "output_type": "execute_result"
    }
   ],
   "source": [
    "len(meta)"
   ]
  },
  {
   "cell_type": "code",
   "execution_count": 31,
   "id": "cbb6c173-7990-4b28-8ee9-4eb8b755f204",
   "metadata": {
    "tags": []
   },
   "outputs": [
    {
     "data": {
      "text/plain": [
       "sampleid           False\n",
       "host_subject_id    False\n",
       "env                False\n",
       "body_site          False\n",
       "sample_type        False\n",
       "env_material       False\n",
       "elevation          False\n",
       "latitude           False\n",
       "longitude          False\n",
       "geo_loc_name       False\n",
       "dtype: bool"
      ]
     },
     "execution_count": 31,
     "metadata": {},
     "output_type": "execute_result"
    }
   ],
   "source": [
    "meta.isna().any()"
   ]
  },
  {
   "cell_type": "code",
   "execution_count": 25,
   "id": "d4c41bfe-f914-4727-80dd-2d308267e8e8",
   "metadata": {
    "tags": []
   },
   "outputs": [
    {
     "data": {
      "text/html": [
       "<div>\n",
       "<style scoped>\n",
       "    .dataframe tbody tr th:only-of-type {\n",
       "        vertical-align: middle;\n",
       "    }\n",
       "\n",
       "    .dataframe tbody tr th {\n",
       "        vertical-align: top;\n",
       "    }\n",
       "\n",
       "    .dataframe thead th {\n",
       "        text-align: right;\n",
       "    }\n",
       "</style>\n",
       "<table border=\"1\" class=\"dataframe\">\n",
       "  <thead>\n",
       "    <tr style=\"text-align: right;\">\n",
       "      <th></th>\n",
       "      <th>TTCAACCTTGCGGTCGTACTCCCCAGGCGGAGTGCTTAATGCGTTAGCTACGGCACTAAACCCCGGAAAGGGTCTAACACCTAGCACTCATCGTTTACGGCGTGGACTACCAGGGTATCTAATCCTGTTTGCTCCCCACGCTTTCGAGCC</th>\n",
       "      <th>TTCAACCTTGCGGTCGTACTCCCCAGGCGGAGTGCTTAATGCGTTAGCTGCAGCACTGATCTCTTATGAGACCAACACTTAGCACTCATCGTTTACGGCGTGGACTACCAGGGTATCTAATCCTGTTTGCTCCCCACGCTTTCGCGCCTC</th>\n",
       "      <th>TTTAACCTTGCGGCCGTACTCCCCAGGCGGTCGATTTATCACGTTAGCTACGGGCGCCAAGCTTAAAGCTCAACCCCCAAATCGACATCGTTTACAGCGTGGACTACCAGGGTATCTAATCCTGTTTGCTCCCCACGCTTTCGCACATGA</th>\n",
       "      <th>TTCAACCTTGCGGTCGTACTCCCCAGGCGGAGTGCTTAATGCGTTAACTGCAGCACTGAAGGGCGGAAACCCTCCAACACTTAGCACTCATCGTTTACGGCGTGGACTACCAGGGTATCTAATCCTGTTTGCTACCCACGCTTTCGAGCC</th>\n",
       "      <th>TTCAACCTTGCGGTCGTACTCCCCAGGCGGAGTGCTTAATGCGTTAGCTGCGGCACTAAACCCCGGAAAGGGTCTAACACCTAGCACTCATCGTTTACGGCGTGGACTACCAGGGTATCTAATCCTGTTTGCTCCCCACGCTTTCGAGCC</th>\n",
       "      <th>TTCAACCTTGCGGTCGTACTCCCCAGGCGGGGTACTTATTGCGTTAACTCCGGCACAGAAGGGGTCGATACCTCCTACACCTAGTACCCATCGTTTACGGCCAGGACTACCGGGGTATCTAATCCCGTTCGCTCCCCTGGCTTTCGCGCC</th>\n",
       "      <th>TTTAGCCTTGCGGCCGTACTCCCCAGGCGGGGCACTTAATGCGTTAGCTACGGCGCGGAAAACGTGGAATGTTCCCCACACCTAGTGCCCAACGTTTACGGCATGGACTACCAGGGTATCTAATCCTGTTCGCTCCCCATGCTTTCGCTT</th>\n",
       "      <th>TTTAATCTTGCGACCGTACTCCCCAGGCGGTCGATTTCACGCGTTAGCTTCGCTACTAAGCAGTCATGCTGCCCAACAGCTAATCGACATCGTTTAGGGCGTGGACTACCAGGGTATCTAATCCTGTTTGCTACCCACGCTTTCGGGCAT</th>\n",
       "      <th>TTTAACCTTGCGGCCGTACTCCCCAGGCGGTCGATTTATCACGTTAGCTACGGGCGCCAAACTTAAAGTTCAACCCCCAAATCGACATCGTTTACAGCGTGGACTACCAGGGTATCTAATCCTGTTTGCTCCCCACGCTTTCGCACATGA</th>\n",
       "      <th>TTTAACCTTGCGGCCGTACTCCCCAGGCGGTCGATTTATCACGTTAGCTACGGGCACCAAGCTTAAAGCCCAATCCCCAAATCGACAGCGTTTACAGCGTGGACTACCAGGGTATCTAATCCTGTTTGCTCCCCACGCTTTCGCACATGA</th>\n",
       "      <th>...</th>\n",
       "      <th>TTCACCGTTGCCGGCGTACTCCCCAGGTGGGATGCTTAACGCTTTCGCTTAGCCGCGTACCATAATTGGCATACAGCGGGCATCCATCGTTTACTGTGCGGACTACCAGGGTATCTAATCCTGTTTGATACCCGCACCTTCGAGCTTAAG</th>\n",
       "      <th>TTCACCGTTGCCGGCGTACTCCCCAGGTGGGATGCTTAACGCTTTCGCTTGGCCGCTGAAATCAATATCCCAACGGCGGGCATCCATCGTTTACCGCGCGGACTACCAGGGTATCTAATCCTGTTCGATACCCGCGCTTTCGAGCCTCAG</th>\n",
       "      <th>TTCAACCTTGCGGTCGTACTCCCCAGGCGGAGTGCTTAATGCGTTAGCTGCGGCACTGAATCCCAGAAAGGATCCAACACCTAGCACTCATCGTTTACGGCGTGGACTACCAGGGTATCTAATCCTGTTCGCTCCCCACGCTTTCGAGCC</th>\n",
       "      <th>TTTAATCTTGCGACCGTACTCCCCAGGCGGAGTGCTTAATGCGTTAGCTGCGATACTGATCCGAAGACCAACATCTAGCACTCATCGTTTACAGCGTGGACTACCAGGGTATCTAATCCTGTTTGCTCCCCACGCTTTCGCGCCTTAGCG</th>\n",
       "      <th>TTCACTCTTGCGAGCGTACTCCCCAGGTGGGATACTTAACGCTTTCGCTAAGCCAGTAACTGTGTATCGCTACCAGCGAGTATCCATCGTTTACGGCGTGGACTACCAGGGTATCTAATCCTGTTCGCTCCCCACGCTTTCGTGCCTCAG</th>\n",
       "      <th>TTCACACTTGCGTGCGTACTCCCCAGGCGGAGTGTTTAATGCGTTAGCTGCGGCTCCCTGATTATTCCAAGAACCTAACACTCATCGTTTACAGCGTGGACTACCAGGGTATCTAATCCTGTTTGCTACCCACGCTTTCGTACCTCAGCG</th>\n",
       "      <th>TTTAACCTTGCGGTCGTACTCCCCAGGGCGGTCGATTTATCACGTTAGCTACGGGCGCCAAACTCAAAGTTCAACCCCCAAATCGACATCGTTTACAGCGTGGACTACCAGGGTATCTAATCCTGTTTGCTCCCCACGCTTTCGCACATG</th>\n",
       "      <th>TTTAACCTTGCGGTCGTACTCCCCCCAGGCGGTCGATTTATCACGTTAGCTACGGGCGCCAAACTCAAAGTTCAACCCCCAAATCGACATCGTTTACAGCGTGGACTACCAGGGTATCTAATCCTGTTTGCTCCCCACGCTTTCGCACAT</th>\n",
       "      <th>TTCATCCTTGCGGACGTACTCCCCAGGCGGGGTACTTATTGCGTTAACTCCGGCACAGAAGGGGTCGATACCTCCTACACCTAGTACCCATCGTTTACGGCCAGGACTACCGGGGTATCTAATCCCGTTCGCTACCCTGACTTTCGCATC</th>\n",
       "      <th>TTCAACCTTGCGGTCGTACTCCCCAGGTGGATTACTTATCGTGTTAACTGCGGCACTGAAGGGGTCAATCCTCCAACACCTAGTAATCATCGTTTACAGTGTGGACTACCAGGGTATCTAATCCTGTTTGCTACCCACACTTTCGAACCT</th>\n",
       "    </tr>\n",
       "  </thead>\n",
       "  <tbody>\n",
       "    <tr>\n",
       "      <th>1928.SRS015121.SRX020555.SRR045717</th>\n",
       "      <td>2297.0</td>\n",
       "      <td>1350.0</td>\n",
       "      <td>720.0</td>\n",
       "      <td>718.0</td>\n",
       "      <td>669.0</td>\n",
       "      <td>419.0</td>\n",
       "      <td>190.0</td>\n",
       "      <td>179.0</td>\n",
       "      <td>176.0</td>\n",
       "      <td>94.0</td>\n",
       "      <td>...</td>\n",
       "      <td>0.0</td>\n",
       "      <td>0.0</td>\n",
       "      <td>0.0</td>\n",
       "      <td>0.0</td>\n",
       "      <td>0.0</td>\n",
       "      <td>0.0</td>\n",
       "      <td>0.0</td>\n",
       "      <td>0.0</td>\n",
       "      <td>0.0</td>\n",
       "      <td>0.0</td>\n",
       "    </tr>\n",
       "    <tr>\n",
       "      <th>1928.SRS064354.SRX020689.SRR048775</th>\n",
       "      <td>0.0</td>\n",
       "      <td>0.0</td>\n",
       "      <td>0.0</td>\n",
       "      <td>0.0</td>\n",
       "      <td>0.0</td>\n",
       "      <td>0.0</td>\n",
       "      <td>0.0</td>\n",
       "      <td>0.0</td>\n",
       "      <td>0.0</td>\n",
       "      <td>0.0</td>\n",
       "      <td>...</td>\n",
       "      <td>0.0</td>\n",
       "      <td>0.0</td>\n",
       "      <td>0.0</td>\n",
       "      <td>0.0</td>\n",
       "      <td>0.0</td>\n",
       "      <td>0.0</td>\n",
       "      <td>0.0</td>\n",
       "      <td>0.0</td>\n",
       "      <td>0.0</td>\n",
       "      <td>0.0</td>\n",
       "    </tr>\n",
       "    <tr>\n",
       "      <th>1928.SRS063673.SRX020579.SRR047060</th>\n",
       "      <td>557.0</td>\n",
       "      <td>144.0</td>\n",
       "      <td>0.0</td>\n",
       "      <td>178.0</td>\n",
       "      <td>103.0</td>\n",
       "      <td>717.0</td>\n",
       "      <td>1.0</td>\n",
       "      <td>7.0</td>\n",
       "      <td>19.0</td>\n",
       "      <td>0.0</td>\n",
       "      <td>...</td>\n",
       "      <td>0.0</td>\n",
       "      <td>0.0</td>\n",
       "      <td>0.0</td>\n",
       "      <td>0.0</td>\n",
       "      <td>0.0</td>\n",
       "      <td>0.0</td>\n",
       "      <td>0.0</td>\n",
       "      <td>0.0</td>\n",
       "      <td>0.0</td>\n",
       "      <td>0.0</td>\n",
       "    </tr>\n",
       "    <tr>\n",
       "      <th>1928.SRS021145.SRX022230.SRR058093</th>\n",
       "      <td>0.0</td>\n",
       "      <td>0.0</td>\n",
       "      <td>0.0</td>\n",
       "      <td>5.0</td>\n",
       "      <td>8.0</td>\n",
       "      <td>3.0</td>\n",
       "      <td>0.0</td>\n",
       "      <td>0.0</td>\n",
       "      <td>0.0</td>\n",
       "      <td>0.0</td>\n",
       "      <td>...</td>\n",
       "      <td>0.0</td>\n",
       "      <td>0.0</td>\n",
       "      <td>0.0</td>\n",
       "      <td>0.0</td>\n",
       "      <td>0.0</td>\n",
       "      <td>0.0</td>\n",
       "      <td>0.0</td>\n",
       "      <td>0.0</td>\n",
       "      <td>0.0</td>\n",
       "      <td>0.0</td>\n",
       "    </tr>\n",
       "    <tr>\n",
       "      <th>1928.SRS017951.SRX019690.SRR041630</th>\n",
       "      <td>832.0</td>\n",
       "      <td>39.0</td>\n",
       "      <td>27.0</td>\n",
       "      <td>36.0</td>\n",
       "      <td>357.0</td>\n",
       "      <td>23.0</td>\n",
       "      <td>0.0</td>\n",
       "      <td>62.0</td>\n",
       "      <td>224.0</td>\n",
       "      <td>0.0</td>\n",
       "      <td>...</td>\n",
       "      <td>0.0</td>\n",
       "      <td>0.0</td>\n",
       "      <td>0.0</td>\n",
       "      <td>0.0</td>\n",
       "      <td>0.0</td>\n",
       "      <td>0.0</td>\n",
       "      <td>0.0</td>\n",
       "      <td>0.0</td>\n",
       "      <td>0.0</td>\n",
       "      <td>0.0</td>\n",
       "    </tr>\n",
       "  </tbody>\n",
       "</table>\n",
       "<p>5 rows × 6089 columns</p>\n",
       "</div>"
      ],
      "text/plain": [
       "                                    TTCAACCTTGCGGTCGTACTCCCCAGGCGGAGTGCTTAATGCGTTAGCTACGGCACTAAACCCCGGAAAGGGTCTAACACCTAGCACTCATCGTTTACGGCGTGGACTACCAGGGTATCTAATCCTGTTTGCTCCCCACGCTTTCGAGCC  \\\n",
       "1928.SRS015121.SRX020555.SRR045717                                             2297.0                                                                                                        \n",
       "1928.SRS064354.SRX020689.SRR048775                                                0.0                                                                                                        \n",
       "1928.SRS063673.SRX020579.SRR047060                                              557.0                                                                                                        \n",
       "1928.SRS021145.SRX022230.SRR058093                                                0.0                                                                                                        \n",
       "1928.SRS017951.SRX019690.SRR041630                                              832.0                                                                                                        \n",
       "\n",
       "                                    TTCAACCTTGCGGTCGTACTCCCCAGGCGGAGTGCTTAATGCGTTAGCTGCAGCACTGATCTCTTATGAGACCAACACTTAGCACTCATCGTTTACGGCGTGGACTACCAGGGTATCTAATCCTGTTTGCTCCCCACGCTTTCGCGCCTC  \\\n",
       "1928.SRS015121.SRX020555.SRR045717                                             1350.0                                                                                                        \n",
       "1928.SRS064354.SRX020689.SRR048775                                                0.0                                                                                                        \n",
       "1928.SRS063673.SRX020579.SRR047060                                              144.0                                                                                                        \n",
       "1928.SRS021145.SRX022230.SRR058093                                                0.0                                                                                                        \n",
       "1928.SRS017951.SRX019690.SRR041630                                               39.0                                                                                                        \n",
       "\n",
       "                                    TTTAACCTTGCGGCCGTACTCCCCAGGCGGTCGATTTATCACGTTAGCTACGGGCGCCAAGCTTAAAGCTCAACCCCCAAATCGACATCGTTTACAGCGTGGACTACCAGGGTATCTAATCCTGTTTGCTCCCCACGCTTTCGCACATGA  \\\n",
       "1928.SRS015121.SRX020555.SRR045717                                              720.0                                                                                                        \n",
       "1928.SRS064354.SRX020689.SRR048775                                                0.0                                                                                                        \n",
       "1928.SRS063673.SRX020579.SRR047060                                                0.0                                                                                                        \n",
       "1928.SRS021145.SRX022230.SRR058093                                                0.0                                                                                                        \n",
       "1928.SRS017951.SRX019690.SRR041630                                               27.0                                                                                                        \n",
       "\n",
       "                                    TTCAACCTTGCGGTCGTACTCCCCAGGCGGAGTGCTTAATGCGTTAACTGCAGCACTGAAGGGCGGAAACCCTCCAACACTTAGCACTCATCGTTTACGGCGTGGACTACCAGGGTATCTAATCCTGTTTGCTACCCACGCTTTCGAGCC  \\\n",
       "1928.SRS015121.SRX020555.SRR045717                                              718.0                                                                                                        \n",
       "1928.SRS064354.SRX020689.SRR048775                                                0.0                                                                                                        \n",
       "1928.SRS063673.SRX020579.SRR047060                                              178.0                                                                                                        \n",
       "1928.SRS021145.SRX022230.SRR058093                                                5.0                                                                                                        \n",
       "1928.SRS017951.SRX019690.SRR041630                                               36.0                                                                                                        \n",
       "\n",
       "                                    TTCAACCTTGCGGTCGTACTCCCCAGGCGGAGTGCTTAATGCGTTAGCTGCGGCACTAAACCCCGGAAAGGGTCTAACACCTAGCACTCATCGTTTACGGCGTGGACTACCAGGGTATCTAATCCTGTTTGCTCCCCACGCTTTCGAGCC  \\\n",
       "1928.SRS015121.SRX020555.SRR045717                                              669.0                                                                                                        \n",
       "1928.SRS064354.SRX020689.SRR048775                                                0.0                                                                                                        \n",
       "1928.SRS063673.SRX020579.SRR047060                                              103.0                                                                                                        \n",
       "1928.SRS021145.SRX022230.SRR058093                                                8.0                                                                                                        \n",
       "1928.SRS017951.SRX019690.SRR041630                                              357.0                                                                                                        \n",
       "\n",
       "                                    TTCAACCTTGCGGTCGTACTCCCCAGGCGGGGTACTTATTGCGTTAACTCCGGCACAGAAGGGGTCGATACCTCCTACACCTAGTACCCATCGTTTACGGCCAGGACTACCGGGGTATCTAATCCCGTTCGCTCCCCTGGCTTTCGCGCC  \\\n",
       "1928.SRS015121.SRX020555.SRR045717                                              419.0                                                                                                        \n",
       "1928.SRS064354.SRX020689.SRR048775                                                0.0                                                                                                        \n",
       "1928.SRS063673.SRX020579.SRR047060                                              717.0                                                                                                        \n",
       "1928.SRS021145.SRX022230.SRR058093                                                3.0                                                                                                        \n",
       "1928.SRS017951.SRX019690.SRR041630                                               23.0                                                                                                        \n",
       "\n",
       "                                    TTTAGCCTTGCGGCCGTACTCCCCAGGCGGGGCACTTAATGCGTTAGCTACGGCGCGGAAAACGTGGAATGTTCCCCACACCTAGTGCCCAACGTTTACGGCATGGACTACCAGGGTATCTAATCCTGTTCGCTCCCCATGCTTTCGCTT  \\\n",
       "1928.SRS015121.SRX020555.SRR045717                                              190.0                                                                                                        \n",
       "1928.SRS064354.SRX020689.SRR048775                                                0.0                                                                                                        \n",
       "1928.SRS063673.SRX020579.SRR047060                                                1.0                                                                                                        \n",
       "1928.SRS021145.SRX022230.SRR058093                                                0.0                                                                                                        \n",
       "1928.SRS017951.SRX019690.SRR041630                                                0.0                                                                                                        \n",
       "\n",
       "                                    TTTAATCTTGCGACCGTACTCCCCAGGCGGTCGATTTCACGCGTTAGCTTCGCTACTAAGCAGTCATGCTGCCCAACAGCTAATCGACATCGTTTAGGGCGTGGACTACCAGGGTATCTAATCCTGTTTGCTACCCACGCTTTCGGGCAT  \\\n",
       "1928.SRS015121.SRX020555.SRR045717                                              179.0                                                                                                        \n",
       "1928.SRS064354.SRX020689.SRR048775                                                0.0                                                                                                        \n",
       "1928.SRS063673.SRX020579.SRR047060                                                7.0                                                                                                        \n",
       "1928.SRS021145.SRX022230.SRR058093                                                0.0                                                                                                        \n",
       "1928.SRS017951.SRX019690.SRR041630                                               62.0                                                                                                        \n",
       "\n",
       "                                    TTTAACCTTGCGGCCGTACTCCCCAGGCGGTCGATTTATCACGTTAGCTACGGGCGCCAAACTTAAAGTTCAACCCCCAAATCGACATCGTTTACAGCGTGGACTACCAGGGTATCTAATCCTGTTTGCTCCCCACGCTTTCGCACATGA  \\\n",
       "1928.SRS015121.SRX020555.SRR045717                                              176.0                                                                                                        \n",
       "1928.SRS064354.SRX020689.SRR048775                                                0.0                                                                                                        \n",
       "1928.SRS063673.SRX020579.SRR047060                                               19.0                                                                                                        \n",
       "1928.SRS021145.SRX022230.SRR058093                                                0.0                                                                                                        \n",
       "1928.SRS017951.SRX019690.SRR041630                                              224.0                                                                                                        \n",
       "\n",
       "                                    TTTAACCTTGCGGCCGTACTCCCCAGGCGGTCGATTTATCACGTTAGCTACGGGCACCAAGCTTAAAGCCCAATCCCCAAATCGACAGCGTTTACAGCGTGGACTACCAGGGTATCTAATCCTGTTTGCTCCCCACGCTTTCGCACATGA  \\\n",
       "1928.SRS015121.SRX020555.SRR045717                                               94.0                                                                                                        \n",
       "1928.SRS064354.SRX020689.SRR048775                                                0.0                                                                                                        \n",
       "1928.SRS063673.SRX020579.SRR047060                                                0.0                                                                                                        \n",
       "1928.SRS021145.SRX022230.SRR058093                                                0.0                                                                                                        \n",
       "1928.SRS017951.SRX019690.SRR041630                                                0.0                                                                                                        \n",
       "\n",
       "                                    ...  \\\n",
       "1928.SRS015121.SRX020555.SRR045717  ...   \n",
       "1928.SRS064354.SRX020689.SRR048775  ...   \n",
       "1928.SRS063673.SRX020579.SRR047060  ...   \n",
       "1928.SRS021145.SRX022230.SRR058093  ...   \n",
       "1928.SRS017951.SRX019690.SRR041630  ...   \n",
       "\n",
       "                                    TTCACCGTTGCCGGCGTACTCCCCAGGTGGGATGCTTAACGCTTTCGCTTAGCCGCGTACCATAATTGGCATACAGCGGGCATCCATCGTTTACTGTGCGGACTACCAGGGTATCTAATCCTGTTTGATACCCGCACCTTCGAGCTTAAG  \\\n",
       "1928.SRS015121.SRX020555.SRR045717                                                0.0                                                                                                        \n",
       "1928.SRS064354.SRX020689.SRR048775                                                0.0                                                                                                        \n",
       "1928.SRS063673.SRX020579.SRR047060                                                0.0                                                                                                        \n",
       "1928.SRS021145.SRX022230.SRR058093                                                0.0                                                                                                        \n",
       "1928.SRS017951.SRX019690.SRR041630                                                0.0                                                                                                        \n",
       "\n",
       "                                    TTCACCGTTGCCGGCGTACTCCCCAGGTGGGATGCTTAACGCTTTCGCTTGGCCGCTGAAATCAATATCCCAACGGCGGGCATCCATCGTTTACCGCGCGGACTACCAGGGTATCTAATCCTGTTCGATACCCGCGCTTTCGAGCCTCAG  \\\n",
       "1928.SRS015121.SRX020555.SRR045717                                                0.0                                                                                                        \n",
       "1928.SRS064354.SRX020689.SRR048775                                                0.0                                                                                                        \n",
       "1928.SRS063673.SRX020579.SRR047060                                                0.0                                                                                                        \n",
       "1928.SRS021145.SRX022230.SRR058093                                                0.0                                                                                                        \n",
       "1928.SRS017951.SRX019690.SRR041630                                                0.0                                                                                                        \n",
       "\n",
       "                                    TTCAACCTTGCGGTCGTACTCCCCAGGCGGAGTGCTTAATGCGTTAGCTGCGGCACTGAATCCCAGAAAGGATCCAACACCTAGCACTCATCGTTTACGGCGTGGACTACCAGGGTATCTAATCCTGTTCGCTCCCCACGCTTTCGAGCC  \\\n",
       "1928.SRS015121.SRX020555.SRR045717                                                0.0                                                                                                        \n",
       "1928.SRS064354.SRX020689.SRR048775                                                0.0                                                                                                        \n",
       "1928.SRS063673.SRX020579.SRR047060                                                0.0                                                                                                        \n",
       "1928.SRS021145.SRX022230.SRR058093                                                0.0                                                                                                        \n",
       "1928.SRS017951.SRX019690.SRR041630                                                0.0                                                                                                        \n",
       "\n",
       "                                    TTTAATCTTGCGACCGTACTCCCCAGGCGGAGTGCTTAATGCGTTAGCTGCGATACTGATCCGAAGACCAACATCTAGCACTCATCGTTTACAGCGTGGACTACCAGGGTATCTAATCCTGTTTGCTCCCCACGCTTTCGCGCCTTAGCG  \\\n",
       "1928.SRS015121.SRX020555.SRR045717                                                0.0                                                                                                        \n",
       "1928.SRS064354.SRX020689.SRR048775                                                0.0                                                                                                        \n",
       "1928.SRS063673.SRX020579.SRR047060                                                0.0                                                                                                        \n",
       "1928.SRS021145.SRX022230.SRR058093                                                0.0                                                                                                        \n",
       "1928.SRS017951.SRX019690.SRR041630                                                0.0                                                                                                        \n",
       "\n",
       "                                    TTCACTCTTGCGAGCGTACTCCCCAGGTGGGATACTTAACGCTTTCGCTAAGCCAGTAACTGTGTATCGCTACCAGCGAGTATCCATCGTTTACGGCGTGGACTACCAGGGTATCTAATCCTGTTCGCTCCCCACGCTTTCGTGCCTCAG  \\\n",
       "1928.SRS015121.SRX020555.SRR045717                                                0.0                                                                                                        \n",
       "1928.SRS064354.SRX020689.SRR048775                                                0.0                                                                                                        \n",
       "1928.SRS063673.SRX020579.SRR047060                                                0.0                                                                                                        \n",
       "1928.SRS021145.SRX022230.SRR058093                                                0.0                                                                                                        \n",
       "1928.SRS017951.SRX019690.SRR041630                                                0.0                                                                                                        \n",
       "\n",
       "                                    TTCACACTTGCGTGCGTACTCCCCAGGCGGAGTGTTTAATGCGTTAGCTGCGGCTCCCTGATTATTCCAAGAACCTAACACTCATCGTTTACAGCGTGGACTACCAGGGTATCTAATCCTGTTTGCTACCCACGCTTTCGTACCTCAGCG  \\\n",
       "1928.SRS015121.SRX020555.SRR045717                                                0.0                                                                                                        \n",
       "1928.SRS064354.SRX020689.SRR048775                                                0.0                                                                                                        \n",
       "1928.SRS063673.SRX020579.SRR047060                                                0.0                                                                                                        \n",
       "1928.SRS021145.SRX022230.SRR058093                                                0.0                                                                                                        \n",
       "1928.SRS017951.SRX019690.SRR041630                                                0.0                                                                                                        \n",
       "\n",
       "                                    TTTAACCTTGCGGTCGTACTCCCCAGGGCGGTCGATTTATCACGTTAGCTACGGGCGCCAAACTCAAAGTTCAACCCCCAAATCGACATCGTTTACAGCGTGGACTACCAGGGTATCTAATCCTGTTTGCTCCCCACGCTTTCGCACATG  \\\n",
       "1928.SRS015121.SRX020555.SRR045717                                                0.0                                                                                                        \n",
       "1928.SRS064354.SRX020689.SRR048775                                                0.0                                                                                                        \n",
       "1928.SRS063673.SRX020579.SRR047060                                                0.0                                                                                                        \n",
       "1928.SRS021145.SRX022230.SRR058093                                                0.0                                                                                                        \n",
       "1928.SRS017951.SRX019690.SRR041630                                                0.0                                                                                                        \n",
       "\n",
       "                                    TTTAACCTTGCGGTCGTACTCCCCCCAGGCGGTCGATTTATCACGTTAGCTACGGGCGCCAAACTCAAAGTTCAACCCCCAAATCGACATCGTTTACAGCGTGGACTACCAGGGTATCTAATCCTGTTTGCTCCCCACGCTTTCGCACAT  \\\n",
       "1928.SRS015121.SRX020555.SRR045717                                                0.0                                                                                                        \n",
       "1928.SRS064354.SRX020689.SRR048775                                                0.0                                                                                                        \n",
       "1928.SRS063673.SRX020579.SRR047060                                                0.0                                                                                                        \n",
       "1928.SRS021145.SRX022230.SRR058093                                                0.0                                                                                                        \n",
       "1928.SRS017951.SRX019690.SRR041630                                                0.0                                                                                                        \n",
       "\n",
       "                                    TTCATCCTTGCGGACGTACTCCCCAGGCGGGGTACTTATTGCGTTAACTCCGGCACAGAAGGGGTCGATACCTCCTACACCTAGTACCCATCGTTTACGGCCAGGACTACCGGGGTATCTAATCCCGTTCGCTACCCTGACTTTCGCATC  \\\n",
       "1928.SRS015121.SRX020555.SRR045717                                                0.0                                                                                                        \n",
       "1928.SRS064354.SRX020689.SRR048775                                                0.0                                                                                                        \n",
       "1928.SRS063673.SRX020579.SRR047060                                                0.0                                                                                                        \n",
       "1928.SRS021145.SRX022230.SRR058093                                                0.0                                                                                                        \n",
       "1928.SRS017951.SRX019690.SRR041630                                                0.0                                                                                                        \n",
       "\n",
       "                                    TTCAACCTTGCGGTCGTACTCCCCAGGTGGATTACTTATCGTGTTAACTGCGGCACTGAAGGGGTCAATCCTCCAACACCTAGTAATCATCGTTTACAGTGTGGACTACCAGGGTATCTAATCCTGTTTGCTACCCACACTTTCGAACCT  \n",
       "1928.SRS015121.SRX020555.SRR045717                                                0.0                                                                                                       \n",
       "1928.SRS064354.SRX020689.SRR048775                                                0.0                                                                                                       \n",
       "1928.SRS063673.SRX020579.SRR047060                                                0.0                                                                                                       \n",
       "1928.SRS021145.SRX022230.SRR058093                                                0.0                                                                                                       \n",
       "1928.SRS017951.SRX019690.SRR041630                                                0.0                                                                                                       \n",
       "\n",
       "[5 rows x 6089 columns]"
      ]
     },
     "execution_count": 25,
     "metadata": {},
     "output_type": "execute_result"
    }
   ],
   "source": [
    "feature = q2.Artifact.load(f\"{data_dir}/feature-table.qza\").view(pd.DataFrame)\n",
    "feature.head()"
   ]
  },
  {
   "cell_type": "code",
   "execution_count": 27,
   "id": "1b70f885-3bd5-46fa-8710-01bb30e396dc",
   "metadata": {
    "tags": []
   },
   "outputs": [
    {
     "data": {
      "text/plain": [
       "3157"
      ]
     },
     "execution_count": 27,
     "metadata": {},
     "output_type": "execute_result"
    }
   ],
   "source": [
    "len(feature)"
   ]
  },
  {
   "cell_type": "markdown",
   "id": "c5ed3fad-981d-4f1f-ab17-bd43ac7c2829",
   "metadata": {
    "tags": []
   },
   "source": [
    "We can see that the feature table is not of the same length as the metadata table. Now joining them:m"
   ]
  },
  {
   "cell_type": "code",
   "execution_count": 34,
   "id": "08e34c93-fc25-4a31-9f98-41e23ecec40f",
   "metadata": {
    "tags": []
   },
   "outputs": [
    {
     "data": {
      "text/html": [
       "<div>\n",
       "<style scoped>\n",
       "    .dataframe tbody tr th:only-of-type {\n",
       "        vertical-align: middle;\n",
       "    }\n",
       "\n",
       "    .dataframe tbody tr th {\n",
       "        vertical-align: top;\n",
       "    }\n",
       "\n",
       "    .dataframe thead th {\n",
       "        text-align: right;\n",
       "    }\n",
       "</style>\n",
       "<table border=\"1\" class=\"dataframe\">\n",
       "  <thead>\n",
       "    <tr style=\"text-align: right;\">\n",
       "      <th></th>\n",
       "      <th>sampleid</th>\n",
       "      <th>host_subject_id</th>\n",
       "      <th>env</th>\n",
       "      <th>body_site</th>\n",
       "      <th>sample_type</th>\n",
       "      <th>env_material</th>\n",
       "      <th>elevation</th>\n",
       "      <th>latitude</th>\n",
       "      <th>longitude</th>\n",
       "      <th>geo_loc_name</th>\n",
       "      <th>...</th>\n",
       "      <th>TTCACCGTTGCCGGCGTACTCCCCAGGTGGGATGCTTAACGCTTTCGCTTAGCCGCGTACCATAATTGGCATACAGCGGGCATCCATCGTTTACTGTGCGGACTACCAGGGTATCTAATCCTGTTTGATACCCGCACCTTCGAGCTTAAG</th>\n",
       "      <th>TTCACCGTTGCCGGCGTACTCCCCAGGTGGGATGCTTAACGCTTTCGCTTGGCCGCTGAAATCAATATCCCAACGGCGGGCATCCATCGTTTACCGCGCGGACTACCAGGGTATCTAATCCTGTTCGATACCCGCGCTTTCGAGCCTCAG</th>\n",
       "      <th>TTCAACCTTGCGGTCGTACTCCCCAGGCGGAGTGCTTAATGCGTTAGCTGCGGCACTGAATCCCAGAAAGGATCCAACACCTAGCACTCATCGTTTACGGCGTGGACTACCAGGGTATCTAATCCTGTTCGCTCCCCACGCTTTCGAGCC</th>\n",
       "      <th>TTTAATCTTGCGACCGTACTCCCCAGGCGGAGTGCTTAATGCGTTAGCTGCGATACTGATCCGAAGACCAACATCTAGCACTCATCGTTTACAGCGTGGACTACCAGGGTATCTAATCCTGTTTGCTCCCCACGCTTTCGCGCCTTAGCG</th>\n",
       "      <th>TTCACTCTTGCGAGCGTACTCCCCAGGTGGGATACTTAACGCTTTCGCTAAGCCAGTAACTGTGTATCGCTACCAGCGAGTATCCATCGTTTACGGCGTGGACTACCAGGGTATCTAATCCTGTTCGCTCCCCACGCTTTCGTGCCTCAG</th>\n",
       "      <th>TTCACACTTGCGTGCGTACTCCCCAGGCGGAGTGTTTAATGCGTTAGCTGCGGCTCCCTGATTATTCCAAGAACCTAACACTCATCGTTTACAGCGTGGACTACCAGGGTATCTAATCCTGTTTGCTACCCACGCTTTCGTACCTCAGCG</th>\n",
       "      <th>TTTAACCTTGCGGTCGTACTCCCCAGGGCGGTCGATTTATCACGTTAGCTACGGGCGCCAAACTCAAAGTTCAACCCCCAAATCGACATCGTTTACAGCGTGGACTACCAGGGTATCTAATCCTGTTTGCTCCCCACGCTTTCGCACATG</th>\n",
       "      <th>TTTAACCTTGCGGTCGTACTCCCCCCAGGCGGTCGATTTATCACGTTAGCTACGGGCGCCAAACTCAAAGTTCAACCCCCAAATCGACATCGTTTACAGCGTGGACTACCAGGGTATCTAATCCTGTTTGCTCCCCACGCTTTCGCACAT</th>\n",
       "      <th>TTCATCCTTGCGGACGTACTCCCCAGGCGGGGTACTTATTGCGTTAACTCCGGCACAGAAGGGGTCGATACCTCCTACACCTAGTACCCATCGTTTACGGCCAGGACTACCGGGGTATCTAATCCCGTTCGCTACCCTGACTTTCGCATC</th>\n",
       "      <th>TTCAACCTTGCGGTCGTACTCCCCAGGTGGATTACTTATCGTGTTAACTGCGGCACTGAAGGGGTCAATCCTCCAACACCTAGTAATCATCGTTTACAGTGTGGACTACCAGGGTATCTAATCCTGTTTGCTACCCACACTTTCGAACCT</th>\n",
       "    </tr>\n",
       "  </thead>\n",
       "  <tbody>\n",
       "    <tr>\n",
       "      <th>0</th>\n",
       "      <td>1928.SRS063768.SRX020548.SRR049963</td>\n",
       "      <td>103092734</td>\n",
       "      <td>Skin</td>\n",
       "      <td>UBERON:skin of nose</td>\n",
       "      <td>sebum</td>\n",
       "      <td>sebum</td>\n",
       "      <td>97</td>\n",
       "      <td>38.98</td>\n",
       "      <td>-77.11</td>\n",
       "      <td>USA</td>\n",
       "      <td>...</td>\n",
       "      <td>0.0</td>\n",
       "      <td>0.0</td>\n",
       "      <td>0.0</td>\n",
       "      <td>0.0</td>\n",
       "      <td>0.0</td>\n",
       "      <td>0.0</td>\n",
       "      <td>0.0</td>\n",
       "      <td>0.0</td>\n",
       "      <td>0.0</td>\n",
       "      <td>0.0</td>\n",
       "    </tr>\n",
       "    <tr>\n",
       "      <th>1</th>\n",
       "      <td>1928.SRS064411.SRX020548.SRR049630</td>\n",
       "      <td>103092734</td>\n",
       "      <td>Skin</td>\n",
       "      <td>UBERON:skin of elbow</td>\n",
       "      <td>sebum</td>\n",
       "      <td>sebum</td>\n",
       "      <td>97</td>\n",
       "      <td>38.98</td>\n",
       "      <td>-77.11</td>\n",
       "      <td>USA</td>\n",
       "      <td>...</td>\n",
       "      <td>0.0</td>\n",
       "      <td>0.0</td>\n",
       "      <td>0.0</td>\n",
       "      <td>0.0</td>\n",
       "      <td>0.0</td>\n",
       "      <td>0.0</td>\n",
       "      <td>0.0</td>\n",
       "      <td>0.0</td>\n",
       "      <td>0.0</td>\n",
       "      <td>0.0</td>\n",
       "    </tr>\n",
       "    <tr>\n",
       "      <th>2</th>\n",
       "      <td>1928.SRS065595.SRX020548.SRR047332</td>\n",
       "      <td>103092734</td>\n",
       "      <td>Skin</td>\n",
       "      <td>UBERON:skin of elbow</td>\n",
       "      <td>sebum</td>\n",
       "      <td>sebum</td>\n",
       "      <td>97</td>\n",
       "      <td>38.98</td>\n",
       "      <td>-77.11</td>\n",
       "      <td>USA</td>\n",
       "      <td>...</td>\n",
       "      <td>0.0</td>\n",
       "      <td>0.0</td>\n",
       "      <td>0.0</td>\n",
       "      <td>0.0</td>\n",
       "      <td>0.0</td>\n",
       "      <td>0.0</td>\n",
       "      <td>0.0</td>\n",
       "      <td>0.0</td>\n",
       "      <td>0.0</td>\n",
       "      <td>0.0</td>\n",
       "    </tr>\n",
       "    <tr>\n",
       "      <th>3</th>\n",
       "      <td>1928.SRS045788.SRX020527.SRR049597</td>\n",
       "      <td>132902142</td>\n",
       "      <td>Skin</td>\n",
       "      <td>UBERON:skin of elbow</td>\n",
       "      <td>sebum</td>\n",
       "      <td>sebum</td>\n",
       "      <td>97</td>\n",
       "      <td>38.98</td>\n",
       "      <td>-77.11</td>\n",
       "      <td>USA</td>\n",
       "      <td>...</td>\n",
       "      <td>0.0</td>\n",
       "      <td>0.0</td>\n",
       "      <td>0.0</td>\n",
       "      <td>0.0</td>\n",
       "      <td>0.0</td>\n",
       "      <td>0.0</td>\n",
       "      <td>0.0</td>\n",
       "      <td>0.0</td>\n",
       "      <td>0.0</td>\n",
       "      <td>0.0</td>\n",
       "    </tr>\n",
       "    <tr>\n",
       "      <th>4</th>\n",
       "      <td>1928.SRS048971.SRX020527.SRR047153</td>\n",
       "      <td>132902142</td>\n",
       "      <td>Skin</td>\n",
       "      <td>UBERON:skin of external ear</td>\n",
       "      <td>sebum</td>\n",
       "      <td>sebum</td>\n",
       "      <td>97</td>\n",
       "      <td>38.98</td>\n",
       "      <td>-77.11</td>\n",
       "      <td>USA</td>\n",
       "      <td>...</td>\n",
       "      <td>0.0</td>\n",
       "      <td>0.0</td>\n",
       "      <td>0.0</td>\n",
       "      <td>0.0</td>\n",
       "      <td>0.0</td>\n",
       "      <td>0.0</td>\n",
       "      <td>0.0</td>\n",
       "      <td>0.0</td>\n",
       "      <td>0.0</td>\n",
       "      <td>0.0</td>\n",
       "    </tr>\n",
       "  </tbody>\n",
       "</table>\n",
       "<p>5 rows × 6099 columns</p>\n",
       "</div>"
      ],
      "text/plain": [
       "                             sampleid  host_subject_id   env  \\\n",
       "0  1928.SRS063768.SRX020548.SRR049963        103092734  Skin   \n",
       "1  1928.SRS064411.SRX020548.SRR049630        103092734  Skin   \n",
       "2  1928.SRS065595.SRX020548.SRR047332        103092734  Skin   \n",
       "3  1928.SRS045788.SRX020527.SRR049597        132902142  Skin   \n",
       "4  1928.SRS048971.SRX020527.SRR047153        132902142  Skin   \n",
       "\n",
       "                     body_site sample_type env_material  elevation  latitude  \\\n",
       "0          UBERON:skin of nose       sebum        sebum         97     38.98   \n",
       "1         UBERON:skin of elbow       sebum        sebum         97     38.98   \n",
       "2         UBERON:skin of elbow       sebum        sebum         97     38.98   \n",
       "3         UBERON:skin of elbow       sebum        sebum         97     38.98   \n",
       "4  UBERON:skin of external ear       sebum        sebum         97     38.98   \n",
       "\n",
       "   longitude geo_loc_name  ...  \\\n",
       "0     -77.11          USA  ...   \n",
       "1     -77.11          USA  ...   \n",
       "2     -77.11          USA  ...   \n",
       "3     -77.11          USA  ...   \n",
       "4     -77.11          USA  ...   \n",
       "\n",
       "   TTCACCGTTGCCGGCGTACTCCCCAGGTGGGATGCTTAACGCTTTCGCTTAGCCGCGTACCATAATTGGCATACAGCGGGCATCCATCGTTTACTGTGCGGACTACCAGGGTATCTAATCCTGTTTGATACCCGCACCTTCGAGCTTAAG  \\\n",
       "0                                                0.0                                                                                                        \n",
       "1                                                0.0                                                                                                        \n",
       "2                                                0.0                                                                                                        \n",
       "3                                                0.0                                                                                                        \n",
       "4                                                0.0                                                                                                        \n",
       "\n",
       "   TTCACCGTTGCCGGCGTACTCCCCAGGTGGGATGCTTAACGCTTTCGCTTGGCCGCTGAAATCAATATCCCAACGGCGGGCATCCATCGTTTACCGCGCGGACTACCAGGGTATCTAATCCTGTTCGATACCCGCGCTTTCGAGCCTCAG  \\\n",
       "0                                                0.0                                                                                                        \n",
       "1                                                0.0                                                                                                        \n",
       "2                                                0.0                                                                                                        \n",
       "3                                                0.0                                                                                                        \n",
       "4                                                0.0                                                                                                        \n",
       "\n",
       "   TTCAACCTTGCGGTCGTACTCCCCAGGCGGAGTGCTTAATGCGTTAGCTGCGGCACTGAATCCCAGAAAGGATCCAACACCTAGCACTCATCGTTTACGGCGTGGACTACCAGGGTATCTAATCCTGTTCGCTCCCCACGCTTTCGAGCC  \\\n",
       "0                                                0.0                                                                                                        \n",
       "1                                                0.0                                                                                                        \n",
       "2                                                0.0                                                                                                        \n",
       "3                                                0.0                                                                                                        \n",
       "4                                                0.0                                                                                                        \n",
       "\n",
       "   TTTAATCTTGCGACCGTACTCCCCAGGCGGAGTGCTTAATGCGTTAGCTGCGATACTGATCCGAAGACCAACATCTAGCACTCATCGTTTACAGCGTGGACTACCAGGGTATCTAATCCTGTTTGCTCCCCACGCTTTCGCGCCTTAGCG  \\\n",
       "0                                                0.0                                                                                                        \n",
       "1                                                0.0                                                                                                        \n",
       "2                                                0.0                                                                                                        \n",
       "3                                                0.0                                                                                                        \n",
       "4                                                0.0                                                                                                        \n",
       "\n",
       "   TTCACTCTTGCGAGCGTACTCCCCAGGTGGGATACTTAACGCTTTCGCTAAGCCAGTAACTGTGTATCGCTACCAGCGAGTATCCATCGTTTACGGCGTGGACTACCAGGGTATCTAATCCTGTTCGCTCCCCACGCTTTCGTGCCTCAG  \\\n",
       "0                                                0.0                                                                                                        \n",
       "1                                                0.0                                                                                                        \n",
       "2                                                0.0                                                                                                        \n",
       "3                                                0.0                                                                                                        \n",
       "4                                                0.0                                                                                                        \n",
       "\n",
       "   TTCACACTTGCGTGCGTACTCCCCAGGCGGAGTGTTTAATGCGTTAGCTGCGGCTCCCTGATTATTCCAAGAACCTAACACTCATCGTTTACAGCGTGGACTACCAGGGTATCTAATCCTGTTTGCTACCCACGCTTTCGTACCTCAGCG  \\\n",
       "0                                                0.0                                                                                                        \n",
       "1                                                0.0                                                                                                        \n",
       "2                                                0.0                                                                                                        \n",
       "3                                                0.0                                                                                                        \n",
       "4                                                0.0                                                                                                        \n",
       "\n",
       "   TTTAACCTTGCGGTCGTACTCCCCAGGGCGGTCGATTTATCACGTTAGCTACGGGCGCCAAACTCAAAGTTCAACCCCCAAATCGACATCGTTTACAGCGTGGACTACCAGGGTATCTAATCCTGTTTGCTCCCCACGCTTTCGCACATG  \\\n",
       "0                                                0.0                                                                                                        \n",
       "1                                                0.0                                                                                                        \n",
       "2                                                0.0                                                                                                        \n",
       "3                                                0.0                                                                                                        \n",
       "4                                                0.0                                                                                                        \n",
       "\n",
       "   TTTAACCTTGCGGTCGTACTCCCCCCAGGCGGTCGATTTATCACGTTAGCTACGGGCGCCAAACTCAAAGTTCAACCCCCAAATCGACATCGTTTACAGCGTGGACTACCAGGGTATCTAATCCTGTTTGCTCCCCACGCTTTCGCACAT  \\\n",
       "0                                                0.0                                                                                                        \n",
       "1                                                0.0                                                                                                        \n",
       "2                                                0.0                                                                                                        \n",
       "3                                                0.0                                                                                                        \n",
       "4                                                0.0                                                                                                        \n",
       "\n",
       "   TTCATCCTTGCGGACGTACTCCCCAGGCGGGGTACTTATTGCGTTAACTCCGGCACAGAAGGGGTCGATACCTCCTACACCTAGTACCCATCGTTTACGGCCAGGACTACCGGGGTATCTAATCCCGTTCGCTACCCTGACTTTCGCATC  \\\n",
       "0                                                0.0                                                                                                        \n",
       "1                                                0.0                                                                                                        \n",
       "2                                                0.0                                                                                                        \n",
       "3                                                0.0                                                                                                        \n",
       "4                                                0.0                                                                                                        \n",
       "\n",
       "   TTCAACCTTGCGGTCGTACTCCCCAGGTGGATTACTTATCGTGTTAACTGCGGCACTGAAGGGGTCAATCCTCCAACACCTAGTAATCATCGTTTACAGTGTGGACTACCAGGGTATCTAATCCTGTTTGCTACCCACACTTTCGAACCT  \n",
       "0                                                0.0                                                                                                       \n",
       "1                                                0.0                                                                                                       \n",
       "2                                                0.0                                                                                                       \n",
       "3                                                0.0                                                                                                       \n",
       "4                                                0.0                                                                                                       \n",
       "\n",
       "[5 rows x 6099 columns]"
      ]
     },
     "execution_count": 34,
     "metadata": {},
     "output_type": "execute_result"
    }
   ],
   "source": [
    "joined = pd.merge(meta, feature, how=\"left\", left_on=\"sampleid\", right_index=True)\n",
    "joined.head()"
   ]
  },
  {
   "cell_type": "code",
   "execution_count": 37,
   "id": "30cb3ece-35ee-4561-bb34-074566026b73",
   "metadata": {
    "tags": []
   },
   "outputs": [
    {
     "data": {
      "text/html": [
       "<div>\n",
       "<style scoped>\n",
       "    .dataframe tbody tr th:only-of-type {\n",
       "        vertical-align: middle;\n",
       "    }\n",
       "\n",
       "    .dataframe tbody tr th {\n",
       "        vertical-align: top;\n",
       "    }\n",
       "\n",
       "    .dataframe thead th {\n",
       "        text-align: right;\n",
       "    }\n",
       "</style>\n",
       "<table border=\"1\" class=\"dataframe\">\n",
       "  <thead>\n",
       "    <tr style=\"text-align: right;\">\n",
       "      <th></th>\n",
       "      <th>sampleid</th>\n",
       "      <th>host_subject_id</th>\n",
       "      <th>env</th>\n",
       "      <th>body_site</th>\n",
       "      <th>sample_type</th>\n",
       "      <th>env_material</th>\n",
       "      <th>elevation</th>\n",
       "      <th>latitude</th>\n",
       "      <th>longitude</th>\n",
       "      <th>geo_loc_name</th>\n",
       "      <th>...</th>\n",
       "      <th>TTCACCGTTGCCGGCGTACTCCCCAGGTGGGATGCTTAACGCTTTCGCTTAGCCGCGTACCATAATTGGCATACAGCGGGCATCCATCGTTTACTGTGCGGACTACCAGGGTATCTAATCCTGTTTGATACCCGCACCTTCGAGCTTAAG</th>\n",
       "      <th>TTCACCGTTGCCGGCGTACTCCCCAGGTGGGATGCTTAACGCTTTCGCTTGGCCGCTGAAATCAATATCCCAACGGCGGGCATCCATCGTTTACCGCGCGGACTACCAGGGTATCTAATCCTGTTCGATACCCGCGCTTTCGAGCCTCAG</th>\n",
       "      <th>TTCAACCTTGCGGTCGTACTCCCCAGGCGGAGTGCTTAATGCGTTAGCTGCGGCACTGAATCCCAGAAAGGATCCAACACCTAGCACTCATCGTTTACGGCGTGGACTACCAGGGTATCTAATCCTGTTCGCTCCCCACGCTTTCGAGCC</th>\n",
       "      <th>TTTAATCTTGCGACCGTACTCCCCAGGCGGAGTGCTTAATGCGTTAGCTGCGATACTGATCCGAAGACCAACATCTAGCACTCATCGTTTACAGCGTGGACTACCAGGGTATCTAATCCTGTTTGCTCCCCACGCTTTCGCGCCTTAGCG</th>\n",
       "      <th>TTCACTCTTGCGAGCGTACTCCCCAGGTGGGATACTTAACGCTTTCGCTAAGCCAGTAACTGTGTATCGCTACCAGCGAGTATCCATCGTTTACGGCGTGGACTACCAGGGTATCTAATCCTGTTCGCTCCCCACGCTTTCGTGCCTCAG</th>\n",
       "      <th>TTCACACTTGCGTGCGTACTCCCCAGGCGGAGTGTTTAATGCGTTAGCTGCGGCTCCCTGATTATTCCAAGAACCTAACACTCATCGTTTACAGCGTGGACTACCAGGGTATCTAATCCTGTTTGCTACCCACGCTTTCGTACCTCAGCG</th>\n",
       "      <th>TTTAACCTTGCGGTCGTACTCCCCAGGGCGGTCGATTTATCACGTTAGCTACGGGCGCCAAACTCAAAGTTCAACCCCCAAATCGACATCGTTTACAGCGTGGACTACCAGGGTATCTAATCCTGTTTGCTCCCCACGCTTTCGCACATG</th>\n",
       "      <th>TTTAACCTTGCGGTCGTACTCCCCCCAGGCGGTCGATTTATCACGTTAGCTACGGGCGCCAAACTCAAAGTTCAACCCCCAAATCGACATCGTTTACAGCGTGGACTACCAGGGTATCTAATCCTGTTTGCTCCCCACGCTTTCGCACAT</th>\n",
       "      <th>TTCATCCTTGCGGACGTACTCCCCAGGCGGGGTACTTATTGCGTTAACTCCGGCACAGAAGGGGTCGATACCTCCTACACCTAGTACCCATCGTTTACGGCCAGGACTACCGGGGTATCTAATCCCGTTCGCTACCCTGACTTTCGCATC</th>\n",
       "      <th>TTCAACCTTGCGGTCGTACTCCCCAGGTGGATTACTTATCGTGTTAACTGCGGCACTGAAGGGGTCAATCCTCCAACACCTAGTAATCATCGTTTACAGTGTGGACTACCAGGGTATCTAATCCTGTTTGCTACCCACACTTTCGAACCT</th>\n",
       "    </tr>\n",
       "  </thead>\n",
       "  <tbody>\n",
       "    <tr>\n",
       "      <th>42</th>\n",
       "      <td>1928.SRS021613.SRX020679.SRR048054</td>\n",
       "      <td>158013734</td>\n",
       "      <td>Oral</td>\n",
       "      <td>UBERON:tongue</td>\n",
       "      <td>saliva</td>\n",
       "      <td>sebum</td>\n",
       "      <td>97</td>\n",
       "      <td>38.98</td>\n",
       "      <td>-77.11</td>\n",
       "      <td>USA</td>\n",
       "      <td>...</td>\n",
       "      <td>NaN</td>\n",
       "      <td>NaN</td>\n",
       "      <td>NaN</td>\n",
       "      <td>NaN</td>\n",
       "      <td>NaN</td>\n",
       "      <td>NaN</td>\n",
       "      <td>NaN</td>\n",
       "      <td>NaN</td>\n",
       "      <td>NaN</td>\n",
       "      <td>NaN</td>\n",
       "    </tr>\n",
       "    <tr>\n",
       "      <th>147</th>\n",
       "      <td>1928.SRS022127.SRX020197.SRR042796</td>\n",
       "      <td>158337416</td>\n",
       "      <td>Skin</td>\n",
       "      <td>UBERON:skin of elbow</td>\n",
       "      <td>sebum</td>\n",
       "      <td>sebum</td>\n",
       "      <td>97</td>\n",
       "      <td>38.98</td>\n",
       "      <td>-77.11</td>\n",
       "      <td>USA</td>\n",
       "      <td>...</td>\n",
       "      <td>NaN</td>\n",
       "      <td>NaN</td>\n",
       "      <td>NaN</td>\n",
       "      <td>NaN</td>\n",
       "      <td>NaN</td>\n",
       "      <td>NaN</td>\n",
       "      <td>NaN</td>\n",
       "      <td>NaN</td>\n",
       "      <td>NaN</td>\n",
       "      <td>NaN</td>\n",
       "    </tr>\n",
       "    <tr>\n",
       "      <th>288</th>\n",
       "      <td>1928.SRS023577.SRX020197.SRR042796</td>\n",
       "      <td>158802708</td>\n",
       "      <td>Skin</td>\n",
       "      <td>UBERON:skin of elbow</td>\n",
       "      <td>sebum</td>\n",
       "      <td>sebum</td>\n",
       "      <td>97</td>\n",
       "      <td>38.98</td>\n",
       "      <td>-77.11</td>\n",
       "      <td>USA</td>\n",
       "      <td>...</td>\n",
       "      <td>NaN</td>\n",
       "      <td>NaN</td>\n",
       "      <td>NaN</td>\n",
       "      <td>NaN</td>\n",
       "      <td>NaN</td>\n",
       "      <td>NaN</td>\n",
       "      <td>NaN</td>\n",
       "      <td>NaN</td>\n",
       "      <td>NaN</td>\n",
       "      <td>NaN</td>\n",
       "    </tr>\n",
       "    <tr>\n",
       "      <th>289</th>\n",
       "      <td>1928.SRS011290.SRX020515.SRR045368</td>\n",
       "      <td>158802708</td>\n",
       "      <td>Skin</td>\n",
       "      <td>UBERON:skin of external ear</td>\n",
       "      <td>sebum</td>\n",
       "      <td>sebum</td>\n",
       "      <td>97</td>\n",
       "      <td>38.98</td>\n",
       "      <td>-77.11</td>\n",
       "      <td>USA</td>\n",
       "      <td>...</td>\n",
       "      <td>NaN</td>\n",
       "      <td>NaN</td>\n",
       "      <td>NaN</td>\n",
       "      <td>NaN</td>\n",
       "      <td>NaN</td>\n",
       "      <td>NaN</td>\n",
       "      <td>NaN</td>\n",
       "      <td>NaN</td>\n",
       "      <td>NaN</td>\n",
       "      <td>NaN</td>\n",
       "    </tr>\n",
       "    <tr>\n",
       "      <th>302</th>\n",
       "      <td>1928.SRS011163.SRX020570.SRR045452</td>\n",
       "      <td>158822939</td>\n",
       "      <td>Oral</td>\n",
       "      <td>UBERON:hard palate</td>\n",
       "      <td>saliva</td>\n",
       "      <td>sebum</td>\n",
       "      <td>97</td>\n",
       "      <td>38.98</td>\n",
       "      <td>-77.11</td>\n",
       "      <td>USA</td>\n",
       "      <td>...</td>\n",
       "      <td>NaN</td>\n",
       "      <td>NaN</td>\n",
       "      <td>NaN</td>\n",
       "      <td>NaN</td>\n",
       "      <td>NaN</td>\n",
       "      <td>NaN</td>\n",
       "      <td>NaN</td>\n",
       "      <td>NaN</td>\n",
       "      <td>NaN</td>\n",
       "      <td>NaN</td>\n",
       "    </tr>\n",
       "  </tbody>\n",
       "</table>\n",
       "<p>5 rows × 6099 columns</p>\n",
       "</div>"
      ],
      "text/plain": [
       "                               sampleid  host_subject_id   env  \\\n",
       "42   1928.SRS021613.SRX020679.SRR048054        158013734  Oral   \n",
       "147  1928.SRS022127.SRX020197.SRR042796        158337416  Skin   \n",
       "288  1928.SRS023577.SRX020197.SRR042796        158802708  Skin   \n",
       "289  1928.SRS011290.SRX020515.SRR045368        158802708  Skin   \n",
       "302  1928.SRS011163.SRX020570.SRR045452        158822939  Oral   \n",
       "\n",
       "                       body_site sample_type env_material  elevation  \\\n",
       "42                 UBERON:tongue      saliva        sebum         97   \n",
       "147         UBERON:skin of elbow       sebum        sebum         97   \n",
       "288         UBERON:skin of elbow       sebum        sebum         97   \n",
       "289  UBERON:skin of external ear       sebum        sebum         97   \n",
       "302           UBERON:hard palate      saliva        sebum         97   \n",
       "\n",
       "     latitude  longitude geo_loc_name  ...  \\\n",
       "42      38.98     -77.11          USA  ...   \n",
       "147     38.98     -77.11          USA  ...   \n",
       "288     38.98     -77.11          USA  ...   \n",
       "289     38.98     -77.11          USA  ...   \n",
       "302     38.98     -77.11          USA  ...   \n",
       "\n",
       "     TTCACCGTTGCCGGCGTACTCCCCAGGTGGGATGCTTAACGCTTTCGCTTAGCCGCGTACCATAATTGGCATACAGCGGGCATCCATCGTTTACTGTGCGGACTACCAGGGTATCTAATCCTGTTTGATACCCGCACCTTCGAGCTTAAG  \\\n",
       "42                                                 NaN                                                                                                        \n",
       "147                                                NaN                                                                                                        \n",
       "288                                                NaN                                                                                                        \n",
       "289                                                NaN                                                                                                        \n",
       "302                                                NaN                                                                                                        \n",
       "\n",
       "     TTCACCGTTGCCGGCGTACTCCCCAGGTGGGATGCTTAACGCTTTCGCTTGGCCGCTGAAATCAATATCCCAACGGCGGGCATCCATCGTTTACCGCGCGGACTACCAGGGTATCTAATCCTGTTCGATACCCGCGCTTTCGAGCCTCAG  \\\n",
       "42                                                 NaN                                                                                                        \n",
       "147                                                NaN                                                                                                        \n",
       "288                                                NaN                                                                                                        \n",
       "289                                                NaN                                                                                                        \n",
       "302                                                NaN                                                                                                        \n",
       "\n",
       "     TTCAACCTTGCGGTCGTACTCCCCAGGCGGAGTGCTTAATGCGTTAGCTGCGGCACTGAATCCCAGAAAGGATCCAACACCTAGCACTCATCGTTTACGGCGTGGACTACCAGGGTATCTAATCCTGTTCGCTCCCCACGCTTTCGAGCC  \\\n",
       "42                                                 NaN                                                                                                        \n",
       "147                                                NaN                                                                                                        \n",
       "288                                                NaN                                                                                                        \n",
       "289                                                NaN                                                                                                        \n",
       "302                                                NaN                                                                                                        \n",
       "\n",
       "     TTTAATCTTGCGACCGTACTCCCCAGGCGGAGTGCTTAATGCGTTAGCTGCGATACTGATCCGAAGACCAACATCTAGCACTCATCGTTTACAGCGTGGACTACCAGGGTATCTAATCCTGTTTGCTCCCCACGCTTTCGCGCCTTAGCG  \\\n",
       "42                                                 NaN                                                                                                        \n",
       "147                                                NaN                                                                                                        \n",
       "288                                                NaN                                                                                                        \n",
       "289                                                NaN                                                                                                        \n",
       "302                                                NaN                                                                                                        \n",
       "\n",
       "     TTCACTCTTGCGAGCGTACTCCCCAGGTGGGATACTTAACGCTTTCGCTAAGCCAGTAACTGTGTATCGCTACCAGCGAGTATCCATCGTTTACGGCGTGGACTACCAGGGTATCTAATCCTGTTCGCTCCCCACGCTTTCGTGCCTCAG  \\\n",
       "42                                                 NaN                                                                                                        \n",
       "147                                                NaN                                                                                                        \n",
       "288                                                NaN                                                                                                        \n",
       "289                                                NaN                                                                                                        \n",
       "302                                                NaN                                                                                                        \n",
       "\n",
       "     TTCACACTTGCGTGCGTACTCCCCAGGCGGAGTGTTTAATGCGTTAGCTGCGGCTCCCTGATTATTCCAAGAACCTAACACTCATCGTTTACAGCGTGGACTACCAGGGTATCTAATCCTGTTTGCTACCCACGCTTTCGTACCTCAGCG  \\\n",
       "42                                                 NaN                                                                                                        \n",
       "147                                                NaN                                                                                                        \n",
       "288                                                NaN                                                                                                        \n",
       "289                                                NaN                                                                                                        \n",
       "302                                                NaN                                                                                                        \n",
       "\n",
       "     TTTAACCTTGCGGTCGTACTCCCCAGGGCGGTCGATTTATCACGTTAGCTACGGGCGCCAAACTCAAAGTTCAACCCCCAAATCGACATCGTTTACAGCGTGGACTACCAGGGTATCTAATCCTGTTTGCTCCCCACGCTTTCGCACATG  \\\n",
       "42                                                 NaN                                                                                                        \n",
       "147                                                NaN                                                                                                        \n",
       "288                                                NaN                                                                                                        \n",
       "289                                                NaN                                                                                                        \n",
       "302                                                NaN                                                                                                        \n",
       "\n",
       "     TTTAACCTTGCGGTCGTACTCCCCCCAGGCGGTCGATTTATCACGTTAGCTACGGGCGCCAAACTCAAAGTTCAACCCCCAAATCGACATCGTTTACAGCGTGGACTACCAGGGTATCTAATCCTGTTTGCTCCCCACGCTTTCGCACAT  \\\n",
       "42                                                 NaN                                                                                                        \n",
       "147                                                NaN                                                                                                        \n",
       "288                                                NaN                                                                                                        \n",
       "289                                                NaN                                                                                                        \n",
       "302                                                NaN                                                                                                        \n",
       "\n",
       "     TTCATCCTTGCGGACGTACTCCCCAGGCGGGGTACTTATTGCGTTAACTCCGGCACAGAAGGGGTCGATACCTCCTACACCTAGTACCCATCGTTTACGGCCAGGACTACCGGGGTATCTAATCCCGTTCGCTACCCTGACTTTCGCATC  \\\n",
       "42                                                 NaN                                                                                                        \n",
       "147                                                NaN                                                                                                        \n",
       "288                                                NaN                                                                                                        \n",
       "289                                                NaN                                                                                                        \n",
       "302                                                NaN                                                                                                        \n",
       "\n",
       "     TTCAACCTTGCGGTCGTACTCCCCAGGTGGATTACTTATCGTGTTAACTGCGGCACTGAAGGGGTCAATCCTCCAACACCTAGTAATCATCGTTTACAGTGTGGACTACCAGGGTATCTAATCCTGTTTGCTACCCACACTTTCGAACCT  \n",
       "42                                                 NaN                                                                                                       \n",
       "147                                                NaN                                                                                                       \n",
       "288                                                NaN                                                                                                       \n",
       "289                                                NaN                                                                                                       \n",
       "302                                                NaN                                                                                                       \n",
       "\n",
       "[5 rows x 6099 columns]"
      ]
     },
     "execution_count": 37,
     "metadata": {},
     "output_type": "execute_result"
    }
   ],
   "source": [
    "# filter the rows that contians NA\n",
    "rows_with_nan = joined[joined.isna().any(axis=1)]\n",
    "rows_with_nan.head()"
   ]
  },
  {
   "cell_type": "code",
   "execution_count": 38,
   "id": "a93748a1-3314-492e-8fea-99fcc5b35d55",
   "metadata": {
    "tags": []
   },
   "outputs": [
    {
     "data": {
      "text/plain": [
       "151"
      ]
     },
     "execution_count": 38,
     "metadata": {},
     "output_type": "execute_result"
    }
   ],
   "source": [
    "len(rows_with_nan)"
   ]
  },
  {
   "cell_type": "markdown",
   "id": "d517a8c5-9d73-4e1c-bd5d-724655d320ca",
   "metadata": {},
   "source": [
    "The resulting sum actually equal to the 20% of the rows in the feature table, i.e. the samples that pass the QC and have counts."
   ]
  },
  {
   "cell_type": "code",
   "execution_count": 42,
   "id": "32df022b-7fdf-461d-b574-60f0735c700d",
   "metadata": {
    "tags": []
   },
   "outputs": [
    {
     "data": {
      "text/plain": [
       "631.4000000000001"
      ]
     },
     "execution_count": 42,
     "metadata": {},
     "output_type": "execute_result"
    }
   ],
   "source": [
    "len(feature) * 0.2"
   ]
  },
  {
   "cell_type": "code",
   "execution_count": 40,
   "id": "e631aba6-c2b5-47d2-8c25-c7109db342f2",
   "metadata": {
    "tags": []
   },
   "outputs": [
    {
     "data": {
      "text/plain": [
       "632"
      ]
     },
     "execution_count": 40,
     "metadata": {},
     "output_type": "execute_result"
    }
   ],
   "source": [
    "56 + 279 + 173 + 42 + 41 + 41"
   ]
  },
  {
   "cell_type": "code",
   "execution_count": 5,
   "id": "5c033d1f-b1bb-49ad-9ed1-065c347cf072",
   "metadata": {},
   "outputs": [
    {
     "data": {
      "text/html": [
       "<div><img onload=\"(function(div, url){\n",
       "if (typeof require !== 'undefined') {\n",
       "    var baseURL = require.toUrl('').split('/').slice(0, -2).join('/');\n",
       "} else {\n",
       "    var baseURL = JSON.parse(\n",
       "        document.getElementById('jupyter-config-data').innerHTML\n",
       "    ).baseUrl.slice(0, -1);\n",
       "}\n",
       "url = baseURL + url;\n",
       "fetch(url).then(function(res) {\n",
       "    if (res.status === 404) {\n",
       "        div.innerHTML = 'Install QIIME 2 Jupyter extension with:<br />' +\n",
       "                        '<code>jupyter serverextension enable --py qiime2' +\n",
       "                        ' --sys-prefix</code><br />then restart your server.' +\n",
       "                        '<br /><br />(Interactive output not available on ' +\n",
       "                        'static notebook viewer services like nbviewer.)';\n",
       "    } else if (res.status === 409) {\n",
       "        div.innerHTML = 'Visualization no longer in scope. Re-run this cell' +\n",
       "                        ' to see the visualization.';\n",
       "    } else if (res.ok) {\n",
       "        url = res.url;\n",
       "        div.innerHTML = '<iframe src=\\'' + url + '\\' style=\\'' +\n",
       "                        'width: 100%; height: 700px; border: 0;\\'>' +\n",
       "                        '</iframe><hr />Open in a: <a href=\\'' + url + '\\'' +\n",
       "                        ' target=\\'_blank\\'>new window</a>'\n",
       "    } else {\n",
       "        div.innerHTML = 'Something has gone wrong. Check notebook server for' +\n",
       "                        ' errors.';\n",
       "    }\n",
       "});\n",
       "})(this.parentElement, '/qiime2/redirect?location=/tmp/qiime2/jovyan/data/a770659d-734c-44fe-bb82-1914a5bf6d78')\" src=\"data:image/gif;base64,R0lGODlhAQABAIAAAP///wAAACH5BAEAAAAALAAAAAABAAEAAAICRAEAOw==\" /></div>"
      ],
      "text/plain": [
       "<visualization: Visualization uuid: a770659d-734c-44fe-bb82-1914a5bf6d78>"
      ]
     },
     "execution_count": 5,
     "metadata": {},
     "output_type": "execute_result"
    }
   ],
   "source": [
    "Visualization.load(f\"{data_dir}/small-RF-classifier/accuracy_results.qzv\")"
   ]
  },
  {
   "cell_type": "markdown",
   "id": "7202ee94-19dc-4b70-a0bb-291c2917cdbe",
   "metadata": {},
   "source": [
    "**b)** Which `sample_type` class does our model predict accurately and which ones does it predict less accurately? (List `sample_type` in decreasing accuracy)\n",
    "            "
   ]
  },
  {
   "cell_type": "markdown",
   "id": "7a679dbf-4d23-44d7-ab05-98cdc01082ba",
   "metadata": {},
   "source": [
    "- Most accurately: `muscus`, which has accuracy near 100%.\n",
    "- Less accurately: `subgingival dental plaque` and `supragingival dental plaque`, which have accuracy ~61% and ~68%, respectively."
   ]
  },
  {
   "cell_type": "markdown",
   "id": "bf83a773-e017-4562-9b08-5fbc6d575786",
   "metadata": {},
   "source": [
    "**c)** By which factor is our trained classifier more accurate compared to a model that always predicts the most frequent class?        \n",
    "       "
   ]
  },
  {
   "cell_type": "markdown",
   "id": "f684e54d-a41d-495c-8e74-41d31c3e9c94",
   "metadata": {},
   "source": [
    "It says \"2.1\" (accuracy ratio) in the output confusion matrix tsv."
   ]
  },
  {
   "cell_type": "markdown",
   "id": "9f370721-71cc-4d6c-98e9-e91868831a3b",
   "metadata": {},
   "source": [
    "**d)** Which other `sample_type` does our trained classifier mix up true `supragingival dental plaque` samples with most frequently?      \n",
    "           "
   ]
  },
  {
   "cell_type": "markdown",
   "id": "71b97086-14b4-4ebd-bd89-7e5af77c0310",
   "metadata": {},
   "source": [
    "It's `subgingival dental plaque` (that's natural)"
   ]
  },
  {
   "cell_type": "markdown",
   "id": "27e80039-e01d-44be-b58d-bd88d6af793a",
   "metadata": {},
   "source": [
    "The last plot in `accuracy_results.qzv` depicts two [Receiver Operating Characteristic (ROC) curves](https://en.wikipedia.org/wiki/Receiver_operating_characteristic). The ROC curve is a frequently used graphical representation of how well a trained classifier performs. It plots the relationship between the true positive rate (TPR on y-axis) and the false positive rate (FPR on x-axis) at various thresholds. If our classifier were to choose at random between two classes (\"Chance\" classifier), the ROC curve would be the grey linear line with slope 1. The further the ROC curve is to the top-left corner, the better the classifier. Frequently, when plotting the ROC curve one also calculates the area under the ROC curve (AUC). The larger the AUC of the ROC curve, the better the trained classifier in distingishing the target classes. "
   ]
  },
  {
   "cell_type": "markdown",
   "id": "68cc2530-ed89-4b94-93a5-8ca05162d216",
   "metadata": {},
   "source": [
    "**e)** According to the ROC curves and their AUC values, which `sample_type` is predicted least accurately?       "
   ]
  },
  {
   "cell_type": "markdown",
   "id": "5fe7d019-b84f-43c8-aa40-d6f4887d2edb",
   "metadata": {},
   "source": [
    "`supragingival dental plaque`"
   ]
  },
  {
   "cell_type": "markdown",
   "id": "85e3bb17-f5a1-4e25-a32b-89f176758893",
   "metadata": {},
   "source": [
    "**f)** How would you evaluate our trained classifier's modelling performance overall?"
   ]
  },
  {
   "cell_type": "markdown",
   "id": "03f8ece6-cfaf-42d6-8316-24f34995ca25",
   "metadata": {},
   "source": [
    "Looks pretty good, the ROC curve is very steep (pushed up to the upper left corner), indicating high TPR and very low FPR. Also the AUC is all nearly 1.0."
   ]
  },
  {
   "cell_type": "markdown",
   "id": "d9cfc8d7-58df-4a24-9f66-8708d4f74502",
   "metadata": {},
   "source": [
    "**g)** Train another classifier to predict `env` from the metadata. How does this classifier's performance compare to the `sample_type` classifier?        "
   ]
  },
  {
   "cell_type": "code",
   "execution_count": 43,
   "id": "65712b5f-1978-4628-bda3-78a7f9ecb685",
   "metadata": {
    "tags": []
   },
   "outputs": [
    {
     "name": "stdout",
     "output_type": "stream",
     "text": [
      "\u001b[32mSaved SampleEstimator[Classifier] to: w8_hmp_data/small-RF-classifier-env/sample_estimator.qza\u001b[0m\n",
      "\u001b[32mSaved FeatureData[Importance] to: w8_hmp_data/small-RF-classifier-env/feature_importance.qza\u001b[0m\n",
      "\u001b[32mSaved SampleData[ClassifierPredictions] to: w8_hmp_data/small-RF-classifier-env/predictions.qza\u001b[0m\n",
      "\u001b[32mSaved Visualization to: w8_hmp_data/small-RF-classifier-env/model_summary.qzv\u001b[0m\n",
      "\u001b[32mSaved Visualization to: w8_hmp_data/small-RF-classifier-env/accuracy_results.qzv\u001b[0m\n",
      "\u001b[32mSaved SampleData[Probabilities] to: w8_hmp_data/small-RF-classifier-env/probabilities.qza\u001b[0m\n",
      "\u001b[32mSaved Visualization to: w8_hmp_data/small-RF-classifier-env/heatmap.qzv\u001b[0m\n",
      "\u001b[32mSaved SampleData[TrueTargets] to: w8_hmp_data/small-RF-classifier-env/training_targets.qza\u001b[0m\n",
      "\u001b[32mSaved SampleData[TrueTargets] to: w8_hmp_data/small-RF-classifier-env/test_targets.qza\u001b[0m\n",
      "\u001b[0m"
     ]
    }
   ],
   "source": [
    "! qiime sample-classifier classify-samples \\\n",
    "  --i-table $data_dir/feature-table.qza \\\n",
    "  --m-metadata-file $data_dir/metadata_proc.tsv \\\n",
    "  --m-metadata-column env \\\n",
    "  --p-test-size 0.2 \\\n",
    "  --p-estimator RandomForestClassifier \\\n",
    "  --p-random-state 22 \\\n",
    "  --p-n-jobs 3 \\\n",
    "  --output-dir $data_dir/small-RF-classifier-env"
   ]
  },
  {
   "cell_type": "code",
   "execution_count": 44,
   "id": "d70efae4-77a5-4b5f-86af-1e6a479e4977",
   "metadata": {
    "tags": []
   },
   "outputs": [
    {
     "data": {
      "text/html": [
       "<div><img onload=\"(function(div, url){\n",
       "if (typeof require !== 'undefined') {\n",
       "    var baseURL = require.toUrl('').split('/').slice(0, -2).join('/');\n",
       "} else {\n",
       "    var baseURL = JSON.parse(\n",
       "        document.getElementById('jupyter-config-data').innerHTML\n",
       "    ).baseUrl.slice(0, -1);\n",
       "}\n",
       "url = baseURL + url;\n",
       "fetch(url).then(function(res) {\n",
       "    if (res.status === 404) {\n",
       "        div.innerHTML = 'Install QIIME 2 Jupyter extension with:<br />' +\n",
       "                        '<code>jupyter serverextension enable --py qiime2' +\n",
       "                        ' --sys-prefix</code><br />then restart your server.' +\n",
       "                        '<br /><br />(Interactive output not available on ' +\n",
       "                        'static notebook viewer services like nbviewer.)';\n",
       "    } else if (res.status === 409) {\n",
       "        div.innerHTML = 'Visualization no longer in scope. Re-run this cell' +\n",
       "                        ' to see the visualization.';\n",
       "    } else if (res.ok) {\n",
       "        url = res.url;\n",
       "        div.innerHTML = '<iframe src=\\'' + url + '\\' style=\\'' +\n",
       "                        'width: 100%; height: 700px; border: 0;\\'>' +\n",
       "                        '</iframe><hr />Open in a: <a href=\\'' + url + '\\'' +\n",
       "                        ' target=\\'_blank\\'>new window</a>'\n",
       "    } else {\n",
       "        div.innerHTML = 'Something has gone wrong. Check notebook server for' +\n",
       "                        ' errors.';\n",
       "    }\n",
       "});\n",
       "})(this.parentElement, '/qiime2/redirect?location=/tmp/qiime2/jovyan/data/b688f5d2-daff-4926-8e2b-f0a4fed21583')\" src=\"data:image/gif;base64,R0lGODlhAQABAIAAAP///wAAACH5BAEAAAAALAAAAAABAAEAAAICRAEAOw==\" /></div>"
      ],
      "text/plain": [
       "<visualization: Visualization uuid: b688f5d2-daff-4926-8e2b-f0a4fed21583>"
      ]
     },
     "execution_count": 44,
     "metadata": {},
     "output_type": "execute_result"
    }
   ],
   "source": [
    "Visualization.load(f\"{data_dir}/small-RF-classifier-env/accuracy_results.qzv\")"
   ]
  },
  {
   "cell_type": "markdown",
   "id": "d2344912-8832-4c04-9b92-1debcc44797a",
   "metadata": {},
   "source": [
    "Wow, almost every class prediction is 1.0 accuracy, the ROC curve is even more pushed to the upper left, and the AUC values are all 1.0. It works even better than the `sample_type` classifier."
   ]
  },
  {
   "cell_type": "markdown",
   "id": "9b00b3f2",
   "metadata": {},
   "source": [
    "### 2.3 Evaluate trained classifier: Individual predictions"
   ]
  },
  {
   "cell_type": "markdown",
   "id": "49e387c7",
   "metadata": {},
   "source": [
    "Another output that one obtains when training a classifier in Q2 are the individual test sample's predictions and probabilities, in `predictions.qza` and `probabilities.qza` respectively, and their true values, in `test_targets.qza`. We can view them in the Q2 CLI with:"
   ]
  },
  {
   "cell_type": "code",
   "execution_count": 45,
   "id": "32e26d54",
   "metadata": {},
   "outputs": [
    {
     "name": "stdout",
     "output_type": "stream",
     "text": [
      "/opt/conda/lib/python3.9/site-packages/q2_sample_classifier/_transformer.py:76: FutureWarning: errors='ignore' is deprecated and will raise in a future version. Use to_numeric without passing `errors` and catch exceptions explicitly instead\n",
      "  lambda x: pd.to_numeric(x, errors='ignore')))\n",
      "/opt/conda/lib/python3.9/site-packages/q2_sample_classifier/_transformer.py:76: FutureWarning: errors='ignore' is deprecated and will raise in a future version. Use to_numeric without passing `errors` and catch exceptions explicitly instead\n",
      "  lambda x: pd.to_numeric(x, errors='ignore')))\n",
      "\u001b[32mSaved Visualization to: w8_hmp_data/small-RF-classifier/test_predprob.qzv\u001b[0m\n",
      "\u001b[0m"
     ]
    }
   ],
   "source": [
    "! qiime metadata tabulate \\\n",
    "  --m-input-file $data_dir/small-RF-classifier/test_targets.qza \\\n",
    "  --m-input-file $data_dir/small-RF-classifier/predictions.qza \\\n",
    "  --m-input-file $data_dir/small-RF-classifier/probabilities.qza \\\n",
    "  --o-visualization $data_dir/small-RF-classifier/test_predprob.qzv"
   ]
  },
  {
   "cell_type": "markdown",
   "id": "26a0ed91",
   "metadata": {},
   "source": [
    "**a)** Have a look at the rows of sampleid `1928.SRS011475.SRX020664.SRR047524`. Why was the sample classified as `stool`?  "
   ]
  },
  {
   "cell_type": "code",
   "execution_count": 46,
   "id": "ebfd5ab8-5855-4473-a8c6-e5cf25c7e229",
   "metadata": {
    "collapsed": true,
    "jupyter": {
     "outputs_hidden": true
    },
    "tags": []
   },
   "outputs": [
    {
     "data": {
      "text/html": [
       "<div><img onload=\"(function(div, url){\n",
       "if (typeof require !== 'undefined') {\n",
       "    var baseURL = require.toUrl('').split('/').slice(0, -2).join('/');\n",
       "} else {\n",
       "    var baseURL = JSON.parse(\n",
       "        document.getElementById('jupyter-config-data').innerHTML\n",
       "    ).baseUrl.slice(0, -1);\n",
       "}\n",
       "url = baseURL + url;\n",
       "fetch(url).then(function(res) {\n",
       "    if (res.status === 404) {\n",
       "        div.innerHTML = 'Install QIIME 2 Jupyter extension with:<br />' +\n",
       "                        '<code>jupyter serverextension enable --py qiime2' +\n",
       "                        ' --sys-prefix</code><br />then restart your server.' +\n",
       "                        '<br /><br />(Interactive output not available on ' +\n",
       "                        'static notebook viewer services like nbviewer.)';\n",
       "    } else if (res.status === 409) {\n",
       "        div.innerHTML = 'Visualization no longer in scope. Re-run this cell' +\n",
       "                        ' to see the visualization.';\n",
       "    } else if (res.ok) {\n",
       "        url = res.url;\n",
       "        div.innerHTML = '<iframe src=\\'' + url + '\\' style=\\'' +\n",
       "                        'width: 100%; height: 700px; border: 0;\\'>' +\n",
       "                        '</iframe><hr />Open in a: <a href=\\'' + url + '\\'' +\n",
       "                        ' target=\\'_blank\\'>new window</a>'\n",
       "    } else {\n",
       "        div.innerHTML = 'Something has gone wrong. Check notebook server for' +\n",
       "                        ' errors.';\n",
       "    }\n",
       "});\n",
       "})(this.parentElement, '/qiime2/redirect?location=/tmp/qiime2/jovyan/data/5770f923-04de-4540-887d-4ff42d45c3da')\" src=\"data:image/gif;base64,R0lGODlhAQABAIAAAP///wAAACH5BAEAAAAALAAAAAABAAEAAAICRAEAOw==\" /></div>"
      ],
      "text/plain": [
       "<visualization: Visualization uuid: 5770f923-04de-4540-887d-4ff42d45c3da>"
      ]
     },
     "execution_count": 46,
     "metadata": {},
     "output_type": "execute_result"
    }
   ],
   "source": [
    "Visualization.load(f\"{data_dir}/small-RF-classifier/test_predprob.qzv\")"
   ]
  },
  {
   "cell_type": "code",
   "execution_count": 52,
   "id": "bbbb6a91-8421-48e8-b0b1-f01f98792d3c",
   "metadata": {
    "tags": []
   },
   "outputs": [],
   "source": [
    "qza = f\"{data_dir}/small-RF-classifier/test_predprob.qzv\"\n",
    "a = !unzip -o $qza\n",
    "digest = a[1].split('/')[0].replace(\"  inflating: \",\"\")\n",
    "fname = os.path.join(digest, \"data\", \"metadata.tsv\")\n",
    "meta_pred = pd.read_csv(fname, sep=\"\\t\", index_col=[0])\n",
    "!rm -r $digest"
   ]
  },
  {
   "cell_type": "code",
   "execution_count": 54,
   "id": "80abdf89-9325-4a71-8884-23270d2cec43",
   "metadata": {
    "tags": []
   },
   "outputs": [
    {
     "data": {
      "text/plain": [
       "sample_type                    sebum\n",
       "prediction                     stool\n",
       "mucus                           0.08\n",
       "saliva                          0.13\n",
       "sebum                           0.35\n",
       "stool                           0.43\n",
       "subgingival dental plaque       0.01\n",
       "supragingival dental plaque        0\n",
       "Name: 1928.SRS011475.SRX020664.SRR047524, dtype: object"
      ]
     },
     "execution_count": 54,
     "metadata": {},
     "output_type": "execute_result"
    }
   ],
   "source": [
    "meta_pred.loc[\"1928.SRS011475.SRX020664.SRR047524\", :]"
   ]
  },
  {
   "cell_type": "markdown",
   "id": "7e6b5214-cba5-4a6f-bb36-1578f3a6c641",
   "metadata": {},
   "source": [
    "Because the classifier thinks the chance of the sample being `stool` (`0.43`) is higher than that of `sebum` (`0.35`)? Or maybe the prediced probability of `stool` supasses the threshold to be predicted as `stool`, so it is classified as `stool` (maybe it overwrites other predictions). Although the `sebum` classification is the second highest."
   ]
  },
  {
   "cell_type": "markdown",
   "id": "52f3bd31",
   "metadata": {},
   "source": [
    "**b)** If we evaluated the stool predicted probability at a threshold of `0.5`, would it still be classified as stool?         \n",
    "           \n"
   ]
  },
  {
   "cell_type": "markdown",
   "id": "9956cd8a-7753-4b5c-aa1f-f746665e738a",
   "metadata": {},
   "source": [
    "Nope, because the predicted probability is 0.43 "
   ]
  },
  {
   "cell_type": "markdown",
   "id": "16dd2d1b",
   "metadata": {},
   "source": [
    "### 2.4 Evaluate trained classifier: Feature importances \n",
    "\n",
    "Knowing that our classifier predicts `sample_types` quite accurately, we are now interested in knowing which microbial compositions are the most important ones for distinguishing the `sample_types`. We can find a list of most predictive features in the produced output `feature_importance.qza`.     \n",
    "\n",
    "**a)** Tabulate the `feature_importance.qza` and view the created visualisation. What are the first 5 nucleotides of the most important feature in distinguishing `sample_types` as indicated by the highest feature importance score?          \n",
    "\n",
    "\n",
    "Note: For the Human Microbiome project dataset we never performed a taxonomic classification of the features. Hence, we'd need more information on the features to make interesting conclusions from the most predictive features of our trained classifier. "
   ]
  },
  {
   "cell_type": "code",
   "execution_count": 56,
   "id": "d5672f8b-65ef-4e1c-a84d-63e4896fa9da",
   "metadata": {
    "tags": []
   },
   "outputs": [
    {
     "name": "stdout",
     "output_type": "stream",
     "text": [
      "\u001b[32mSaved Visualization to: w8_hmp_data/small-RF-classifier/feature_importance.qzv\u001b[0m\n",
      "\u001b[0m"
     ]
    }
   ],
   "source": [
    "! qiime metadata tabulate \\\n",
    "  --m-input-file $data_dir/small-RF-classifier/feature_importance.qza \\\n",
    "  --o-visualization $data_dir/small-RF-classifier/feature_importance.qzv"
   ]
  },
  {
   "cell_type": "code",
   "execution_count": 58,
   "id": "0b73e73b-58e9-4e74-8058-8d6ce26eff3e",
   "metadata": {
    "collapsed": true,
    "jupyter": {
     "outputs_hidden": true
    },
    "tags": []
   },
   "outputs": [
    {
     "data": {
      "text/html": [
       "<div><img onload=\"(function(div, url){\n",
       "if (typeof require !== 'undefined') {\n",
       "    var baseURL = require.toUrl('').split('/').slice(0, -2).join('/');\n",
       "} else {\n",
       "    var baseURL = JSON.parse(\n",
       "        document.getElementById('jupyter-config-data').innerHTML\n",
       "    ).baseUrl.slice(0, -1);\n",
       "}\n",
       "url = baseURL + url;\n",
       "fetch(url).then(function(res) {\n",
       "    if (res.status === 404) {\n",
       "        div.innerHTML = 'Install QIIME 2 Jupyter extension with:<br />' +\n",
       "                        '<code>jupyter serverextension enable --py qiime2' +\n",
       "                        ' --sys-prefix</code><br />then restart your server.' +\n",
       "                        '<br /><br />(Interactive output not available on ' +\n",
       "                        'static notebook viewer services like nbviewer.)';\n",
       "    } else if (res.status === 409) {\n",
       "        div.innerHTML = 'Visualization no longer in scope. Re-run this cell' +\n",
       "                        ' to see the visualization.';\n",
       "    } else if (res.ok) {\n",
       "        url = res.url;\n",
       "        div.innerHTML = '<iframe src=\\'' + url + '\\' style=\\'' +\n",
       "                        'width: 100%; height: 700px; border: 0;\\'>' +\n",
       "                        '</iframe><hr />Open in a: <a href=\\'' + url + '\\'' +\n",
       "                        ' target=\\'_blank\\'>new window</a>'\n",
       "    } else {\n",
       "        div.innerHTML = 'Something has gone wrong. Check notebook server for' +\n",
       "                        ' errors.';\n",
       "    }\n",
       "});\n",
       "})(this.parentElement, '/qiime2/redirect?location=/tmp/qiime2/jovyan/data/63e52b91-4d3b-4cbc-92de-071ee6ef5bf4')\" src=\"data:image/gif;base64,R0lGODlhAQABAIAAAP///wAAACH5BAEAAAAALAAAAAABAAEAAAICRAEAOw==\" /></div>"
      ],
      "text/plain": [
       "<visualization: Visualization uuid: 63e52b91-4d3b-4cbc-92de-071ee6ef5bf4>"
      ]
     },
     "execution_count": 58,
     "metadata": {},
     "output_type": "execute_result"
    }
   ],
   "source": [
    "Visualization.load(f\"{data_dir}/small-RF-classifier/feature_importance.qzv\")"
   ]
  },
  {
   "cell_type": "code",
   "execution_count": 60,
   "id": "731caa27-ed36-4af4-af45-ad8c08e23eac",
   "metadata": {
    "tags": []
   },
   "outputs": [],
   "source": [
    "feat_importance = q2.Artifact.load(f\"{data_dir}/small-RF-classifier/feature_importance.qza\").view(pd.DataFrame)"
   ]
  },
  {
   "cell_type": "code",
   "execution_count": 61,
   "id": "e91103a5-aff8-4d2e-ae3c-ee2167466639",
   "metadata": {
    "tags": []
   },
   "outputs": [
    {
     "data": {
      "text/plain": [
       "Index(['importance'], dtype='object')"
      ]
     },
     "execution_count": 61,
     "metadata": {},
     "output_type": "execute_result"
    }
   ],
   "source": [
    "feat_importance.columns"
   ]
  },
  {
   "cell_type": "code",
   "execution_count": 62,
   "id": "3f629b2c-8296-4859-9fc1-be95f410f452",
   "metadata": {
    "tags": []
   },
   "outputs": [
    {
     "data": {
      "text/plain": [
       "Index(['TTTAGCCTTGCGGCCGTACTCCCCAGGCGGGGTACTTAAAGCGTTAGCTACGGCACGGAACCCGTGGAATGGACCCCACACCTAGTACCCACCGTTTACAGCGTGGACTACCAGGGTATCTAAGCCTGTTCGCTCCCCACGCTTTCGCTC',\n",
       "       'TTCAACCTTGCGGTCGTACTCCCCAGGCGGAGTGCTTAATGCGTTAGCTGCAGCACTAAGGGGCGGAAACCCCCTAACACTTAGCACTCATCGTTTACGGCGTGGACTACCAGGGTATCTAATCCTGTTTGATCCCCACGCTTTCGCACA',\n",
       "       'TTCAACCTTGCGGTCGTACTCCCCAGGCGGAGTGCTTAATGCGTTAGCTGCAGCACTGAGAGGCGGAAACCTCCCAACACTTAGCACTCATCGTTTACGGCATGGACTACCAGGGTATCTAATCCTGTTCGCTACCCATGCTTTCGAGCC',\n",
       "       'TTTAGCCTTGCGGCCGTACTCCCCAGGCGGGGCGCTTAATGCGTTAGCTACGGCACGAAAGTCGTGAAAAGACCCTCACACCTAGCGCCCACCGTTTACGGCATGGACTACCAGGGTATCTAATCCTGTTCGCTACCCATGCTTTCGCTC',\n",
       "       'TTCAACCTTGCGGTCGTACTCCCCAGGCGGAGTGCTTAATGCGTTAGCTACGGCACTAAACCCCGGAAAGGGTCTAACACCTAGCACTCATCGTTTACGGCGTGGACTACCAGGGTATCTAATCCTGTTTGCTCCCCACGCTTTCGAGCC'],\n",
       "      dtype='object', name='id')"
      ]
     },
     "execution_count": 62,
     "metadata": {},
     "output_type": "execute_result"
    }
   ],
   "source": [
    "feat_importance.sort_values(by=\"importance\", ascending=False).head(5).index"
   ]
  },
  {
   "cell_type": "markdown",
   "id": "f0a30946",
   "metadata": {},
   "source": [
    "Q2 further allows you to investigate the top feature abundances in your sample groups of interest with below command:"
   ]
  },
  {
   "cell_type": "code",
   "execution_count": 63,
   "id": "20c4605b",
   "metadata": {},
   "outputs": [
    {
     "name": "stdout",
     "output_type": "stream",
     "text": [
      "\u001b[32mSaved Visualization to: w8_hmp_data/small-RF-classifier/important-feature-heatmap.qzv\u001b[0m\n",
      "\u001b[32mSaved FeatureTable[Frequency] to: w8_hmp_data/small-RF-classifier/important-feature-table-top-30.qza\u001b[0m\n",
      "\u001b[0m"
     ]
    }
   ],
   "source": [
    "! qiime sample-classifier heatmap \\\n",
    "  --i-table $data_dir/feature-table.qza \\\n",
    "  --i-importance $data_dir/small-RF-classifier/feature_importance.qza \\\n",
    "  --m-sample-metadata-file $data_dir/metadata_proc.tsv  \\\n",
    "  --m-sample-metadata-column sample_type \\\n",
    "  --p-group-samples \\\n",
    "  --p-feature-count 30 \\\n",
    "  --o-filtered-table $data_dir/small-RF-classifier/important-feature-table-top-30.qza \\\n",
    "  --o-heatmap $data_dir/small-RF-classifier/important-feature-heatmap.qzv"
   ]
  },
  {
   "cell_type": "markdown",
   "id": "13d08365",
   "metadata": {},
   "source": [
    "**b)** Inspect the created visualisation in `$data_dir/small-RF-classifier/important-feature-heatmap.qzv`. Which `sample_types` depict clustered abundances of the top features?"
   ]
  },
  {
   "cell_type": "code",
   "execution_count": 64,
   "id": "a0e79d18-7945-4265-bbc8-9829e76329d4",
   "metadata": {
    "collapsed": true,
    "jupyter": {
     "outputs_hidden": true
    },
    "tags": []
   },
   "outputs": [
    {
     "data": {
      "text/html": [
       "<div><img onload=\"(function(div, url){\n",
       "if (typeof require !== 'undefined') {\n",
       "    var baseURL = require.toUrl('').split('/').slice(0, -2).join('/');\n",
       "} else {\n",
       "    var baseURL = JSON.parse(\n",
       "        document.getElementById('jupyter-config-data').innerHTML\n",
       "    ).baseUrl.slice(0, -1);\n",
       "}\n",
       "url = baseURL + url;\n",
       "fetch(url).then(function(res) {\n",
       "    if (res.status === 404) {\n",
       "        div.innerHTML = 'Install QIIME 2 Jupyter extension with:<br />' +\n",
       "                        '<code>jupyter serverextension enable --py qiime2' +\n",
       "                        ' --sys-prefix</code><br />then restart your server.' +\n",
       "                        '<br /><br />(Interactive output not available on ' +\n",
       "                        'static notebook viewer services like nbviewer.)';\n",
       "    } else if (res.status === 409) {\n",
       "        div.innerHTML = 'Visualization no longer in scope. Re-run this cell' +\n",
       "                        ' to see the visualization.';\n",
       "    } else if (res.ok) {\n",
       "        url = res.url;\n",
       "        div.innerHTML = '<iframe src=\\'' + url + '\\' style=\\'' +\n",
       "                        'width: 100%; height: 700px; border: 0;\\'>' +\n",
       "                        '</iframe><hr />Open in a: <a href=\\'' + url + '\\'' +\n",
       "                        ' target=\\'_blank\\'>new window</a>'\n",
       "    } else {\n",
       "        div.innerHTML = 'Something has gone wrong. Check notebook server for' +\n",
       "                        ' errors.';\n",
       "    }\n",
       "});\n",
       "})(this.parentElement, '/qiime2/redirect?location=/tmp/qiime2/jovyan/data/9dcd782e-4673-433d-8ceb-9dabb23b9f73')\" src=\"data:image/gif;base64,R0lGODlhAQABAIAAAP///wAAACH5BAEAAAAALAAAAAABAAEAAAICRAEAOw==\" /></div>"
      ],
      "text/plain": [
       "<visualization: Visualization uuid: 9dcd782e-4673-433d-8ceb-9dabb23b9f73>"
      ]
     },
     "execution_count": 64,
     "metadata": {},
     "output_type": "execute_result"
    }
   ],
   "source": [
    "Visualization.load(f\"{data_dir}/small-RF-classifier/important-feature-heatmap.qzv\")"
   ]
  },
  {
   "cell_type": "markdown",
   "id": "d3df78bc-7bf9-475c-9652-3fedc4058d90",
   "metadata": {},
   "source": [
    "- Dental plaque samples (both subgingival and supragingival): Form another distinct cluster with similar abundance patterns\n",
    "- The oral-related samples (saliva and mucus): Show somewhat related abundance patterns (the first 2 and the last several top features), which makes sense given they're both from the oral cavity"
   ]
  },
  {
   "cell_type": "markdown",
   "id": "5dbd9929",
   "metadata": {},
   "source": [
    "<a id='sec3'></a>  "
   ]
  },
  {
   "cell_type": "markdown",
   "id": "108850b9",
   "metadata": {},
   "source": [
    "## 3. Training and evaluating regressors"
   ]
  },
  {
   "cell_type": "markdown",
   "id": "6ae33920",
   "metadata": {},
   "source": [
    "If the target to be predicted in supervised ML is of a numeric type, then we call the modelling task a regression. \n",
    "\n",
    "There's not really a regression task suitable given the Human Microbiome Project as all the numeric columns are constant across all samples (latitude and longitude). Hence, we will use a slightly edited dataset from the Earth Microbiome Project here."
   ]
  },
  {
   "cell_type": "code",
   "execution_count": 65,
   "id": "602c5ae8",
   "metadata": {},
   "outputs": [],
   "source": [
    "# new earth microbiome folder:\n",
    "dir_earth = 'w8_emp_data'"
   ]
  },
  {
   "cell_type": "code",
   "execution_count": 66,
   "id": "6f3d89f3-6cb0-431a-bb11-634bfa397ae3",
   "metadata": {},
   "outputs": [],
   "source": [
    "%%bash -s $dir_earth\n",
    "# Please do NOT modify this cell - here we copy the required data into\n",
    "# your personal Jupyter workspace.\n",
    "\n",
    "mkdir -p \"$1\"\n",
    "cp -rn /data/w8_emp_data/* \"$1\"\n",
    "chmod -R +rxw \"$1\""
   ]
  },
  {
   "cell_type": "markdown",
   "id": "1ed2d9b6",
   "metadata": {
    "heading_collapsed": true
   },
   "source": [
    "### 3.1 Choosing target and setup for regression"
   ]
  },
  {
   "cell_type": "markdown",
   "id": "797e8b41",
   "metadata": {
    "hidden": true
   },
   "source": [
    "**a)** Inspect the downloaded metadata. Which column(s) would be suitable as a regression target? Why?"
   ]
  },
  {
   "cell_type": "markdown",
   "id": "b7944359",
   "metadata": {
    "hidden": true
   },
   "source": [
    "**b)** How many samples do we have in this excerpt of the Earth Microbiome Project? Is this enough to train a regressor? (Hint: Check out [this nice overview on choosing the right ML model](https://scikit-learn.org/stable/tutorial/machine_learning_map/index.html) by scikit-learn)"
   ]
  },
  {
   "cell_type": "markdown",
   "id": "ce03db4f",
   "metadata": {},
   "source": [
    "### 3.2 Training regressor to predict `age` with microbial composition"
   ]
  },
  {
   "cell_type": "markdown",
   "id": "92c2b84d",
   "metadata": {},
   "source": [
    "Let's now train two different regression models that predicts `age` with the microbial composition which is here given as a `FeatureTable[Frequency]` table. Given our limited sample size we choose the Lasso regression & a RandomForestRegressor. For more information about Lasso regression read [this short description](https://scikit-learn.org/stable/modules/linear_model.html#lasso) and for more information on RandomForestRegressors read [this description](https://scikit-learn.org/stable/modules/generated/sklearn.ensemble.RandomForestRegressor.html). For both models we choose a simple 80% to 20% train-test split with a fixed random seed for reproducibility. "
   ]
  },
  {
   "cell_type": "markdown",
   "id": "4dd0aad7",
   "metadata": {},
   "source": [
    "Training the Lasso regressor:"
   ]
  },
  {
   "cell_type": "code",
   "execution_count": 67,
   "id": "cd167e6f",
   "metadata": {},
   "outputs": [
    {
     "name": "stdout",
     "output_type": "stream",
     "text": [
      "\u001b[32mSaved SampleEstimator[Regressor] to: w8_emp_data/lasso-regressor/sample_estimator.qza\u001b[0m\n",
      "\u001b[32mSaved FeatureData[Importance] to: w8_emp_data/lasso-regressor/feature_importance.qza\u001b[0m\n",
      "\u001b[32mSaved SampleData[RegressorPredictions] to: w8_emp_data/lasso-regressor/predictions.qza\u001b[0m\n",
      "\u001b[32mSaved Visualization to: w8_emp_data/lasso-regressor/model_summary.qzv\u001b[0m\n",
      "\u001b[32mSaved Visualization to: w8_emp_data/lasso-regressor/accuracy_results.qzv\u001b[0m\n",
      "\u001b[0m"
     ]
    }
   ],
   "source": [
    "! qiime sample-classifier regress-samples \\\n",
    "  --i-table $dir_earth/table.qza \\\n",
    "  --m-metadata-file $dir_earth/sample-metadata.tsv \\\n",
    "  --m-metadata-column age \\\n",
    "  --p-test-size 0.2 \\\n",
    "  --p-estimator Lasso \\\n",
    "  --p-random-state 22 \\\n",
    "  --output-dir $dir_earth/lasso-regressor"
   ]
  },
  {
   "cell_type": "markdown",
   "id": "c240d38b",
   "metadata": {},
   "source": [
    "Training the RandomForestRegressor:"
   ]
  },
  {
   "cell_type": "code",
   "execution_count": 68,
   "id": "cf7f8b64",
   "metadata": {},
   "outputs": [
    {
     "name": "stdout",
     "output_type": "stream",
     "text": [
      "\u001b[32mSaved SampleEstimator[Regressor] to: w8_emp_data/rf-regressor/sample_estimator.qza\u001b[0m\n",
      "\u001b[32mSaved FeatureData[Importance] to: w8_emp_data/rf-regressor/feature_importance.qza\u001b[0m\n",
      "\u001b[32mSaved SampleData[RegressorPredictions] to: w8_emp_data/rf-regressor/predictions.qza\u001b[0m\n",
      "\u001b[32mSaved Visualization to: w8_emp_data/rf-regressor/model_summary.qzv\u001b[0m\n",
      "\u001b[32mSaved Visualization to: w8_emp_data/rf-regressor/accuracy_results.qzv\u001b[0m\n",
      "\u001b[0m"
     ]
    }
   ],
   "source": [
    "! qiime sample-classifier regress-samples \\\n",
    "  --i-table $dir_earth/table.qza \\\n",
    "  --m-metadata-file $dir_earth/sample-metadata.tsv \\\n",
    "  --m-metadata-column age \\\n",
    "  --p-test-size 0.2 \\\n",
    "  --p-estimator RandomForestRegressor \\\n",
    "  --p-random-state 22 \\\n",
    "  --output-dir $dir_earth/rf-regressor"
   ]
  },
  {
   "cell_type": "markdown",
   "id": "566fa47b",
   "metadata": {},
   "source": [
    "### 3.3 Evaluate trained regressor: Accuracy"
   ]
  },
  {
   "cell_type": "markdown",
   "id": "b06bd18e",
   "metadata": {},
   "source": [
    "When training a regressor in Q2, we obtain a `accuracy_results.qzv` visualisation. As opposed to the previously trained classifier, this artifact contains a scatter plot displaying predicted values (y-axis) vs. true values (x-axis) for each sample of the test set. The scatter plot further contains a linear regression line fitted to the test data with 95% confidence intervals and a dotted line representing where the predictions of a \"perfect\" regressor would lie (\"perfect\" regressor predicting each true value correctly). "
   ]
  },
  {
   "cell_type": "markdown",
   "id": "0749ec08",
   "metadata": {},
   "source": [
    "**a)** Inspect the `accuracy_results` of both trained regressors. Which regressor performs better?"
   ]
  },
  {
   "cell_type": "code",
   "execution_count": 69,
   "id": "b36bfaf7-1cb7-4d66-8e15-8897c48ec0a5",
   "metadata": {},
   "outputs": [
    {
     "data": {
      "text/html": [
       "<div><img onload=\"(function(div, url){\n",
       "if (typeof require !== 'undefined') {\n",
       "    var baseURL = require.toUrl('').split('/').slice(0, -2).join('/');\n",
       "} else {\n",
       "    var baseURL = JSON.parse(\n",
       "        document.getElementById('jupyter-config-data').innerHTML\n",
       "    ).baseUrl.slice(0, -1);\n",
       "}\n",
       "url = baseURL + url;\n",
       "fetch(url).then(function(res) {\n",
       "    if (res.status === 404) {\n",
       "        div.innerHTML = 'Install QIIME 2 Jupyter extension with:<br />' +\n",
       "                        '<code>jupyter serverextension enable --py qiime2' +\n",
       "                        ' --sys-prefix</code><br />then restart your server.' +\n",
       "                        '<br /><br />(Interactive output not available on ' +\n",
       "                        'static notebook viewer services like nbviewer.)';\n",
       "    } else if (res.status === 409) {\n",
       "        div.innerHTML = 'Visualization no longer in scope. Re-run this cell' +\n",
       "                        ' to see the visualization.';\n",
       "    } else if (res.ok) {\n",
       "        url = res.url;\n",
       "        div.innerHTML = '<iframe src=\\'' + url + '\\' style=\\'' +\n",
       "                        'width: 100%; height: 700px; border: 0;\\'>' +\n",
       "                        '</iframe><hr />Open in a: <a href=\\'' + url + '\\'' +\n",
       "                        ' target=\\'_blank\\'>new window</a>'\n",
       "    } else {\n",
       "        div.innerHTML = 'Something has gone wrong. Check notebook server for' +\n",
       "                        ' errors.';\n",
       "    }\n",
       "});\n",
       "})(this.parentElement, '/qiime2/redirect?location=/tmp/qiime2/jovyan/data/dadb4964-735f-4bbe-ab5a-7d8b004eee88')\" src=\"data:image/gif;base64,R0lGODlhAQABAIAAAP///wAAACH5BAEAAAAALAAAAAABAAEAAAICRAEAOw==\" /></div>"
      ],
      "text/plain": [
       "<visualization: Visualization uuid: dadb4964-735f-4bbe-ab5a-7d8b004eee88>"
      ]
     },
     "execution_count": 69,
     "metadata": {},
     "output_type": "execute_result"
    }
   ],
   "source": [
    "Visualization.load(f\"{dir_earth}/lasso-regressor/accuracy_results.qzv\")"
   ]
  },
  {
   "cell_type": "code",
   "execution_count": 70,
   "id": "8bcd99cd-7f55-47e6-bda6-4fa4ab83e7ea",
   "metadata": {},
   "outputs": [
    {
     "data": {
      "text/html": [
       "<div><img onload=\"(function(div, url){\n",
       "if (typeof require !== 'undefined') {\n",
       "    var baseURL = require.toUrl('').split('/').slice(0, -2).join('/');\n",
       "} else {\n",
       "    var baseURL = JSON.parse(\n",
       "        document.getElementById('jupyter-config-data').innerHTML\n",
       "    ).baseUrl.slice(0, -1);\n",
       "}\n",
       "url = baseURL + url;\n",
       "fetch(url).then(function(res) {\n",
       "    if (res.status === 404) {\n",
       "        div.innerHTML = 'Install QIIME 2 Jupyter extension with:<br />' +\n",
       "                        '<code>jupyter serverextension enable --py qiime2' +\n",
       "                        ' --sys-prefix</code><br />then restart your server.' +\n",
       "                        '<br /><br />(Interactive output not available on ' +\n",
       "                        'static notebook viewer services like nbviewer.)';\n",
       "    } else if (res.status === 409) {\n",
       "        div.innerHTML = 'Visualization no longer in scope. Re-run this cell' +\n",
       "                        ' to see the visualization.';\n",
       "    } else if (res.ok) {\n",
       "        url = res.url;\n",
       "        div.innerHTML = '<iframe src=\\'' + url + '\\' style=\\'' +\n",
       "                        'width: 100%; height: 700px; border: 0;\\'>' +\n",
       "                        '</iframe><hr />Open in a: <a href=\\'' + url + '\\'' +\n",
       "                        ' target=\\'_blank\\'>new window</a>'\n",
       "    } else {\n",
       "        div.innerHTML = 'Something has gone wrong. Check notebook server for' +\n",
       "                        ' errors.';\n",
       "    }\n",
       "});\n",
       "})(this.parentElement, '/qiime2/redirect?location=/tmp/qiime2/jovyan/data/f4903338-68a7-42aa-a848-72ca3ee97d28')\" src=\"data:image/gif;base64,R0lGODlhAQABAIAAAP///wAAACH5BAEAAAAALAAAAAABAAEAAAICRAEAOw==\" /></div>"
      ],
      "text/plain": [
       "<visualization: Visualization uuid: f4903338-68a7-42aa-a848-72ca3ee97d28>"
      ]
     },
     "execution_count": 70,
     "metadata": {},
     "output_type": "execute_result"
    }
   ],
   "source": [
    "Visualization.load(f\"{dir_earth}/rf-regressor/accuracy_results.qzv\")"
   ]
  },
  {
   "cell_type": "markdown",
   "id": "df878af4-26d0-41e9-ac17-1298cba72982",
   "metadata": {},
   "source": [
    "The Random Forest Regressor performs better because:\n",
    "\n",
    "1. Higher r-squared value (0.235 vs 0.008)\n",
    "2. Lower mean squared error (0.178 vs 0.332)\n",
    "\n",
    "But I tend to say neither model performs exceptionally well..."
   ]
  },
  {
   "cell_type": "markdown",
   "id": "7ae24a95",
   "metadata": {},
   "source": [
    "### 3.4 Training regressor to predict `age` with metadata AND microbial composition"
   ]
  },
  {
   "cell_type": "markdown",
   "id": "26f7fd0b",
   "metadata": {},
   "source": [
    "Let's try to improve our regressor by adding metadata features to the microbial composition features.        \n",
    "\n",
    "Currently Q2 only allows for numeric metadata features to be used to enrich a FeatureTable not categoricals (for more info see output of `! qiime sample-classifier metatable --help`).\n",
    "Let's use the `metatable` method in sample-classifier to convert our metadata table to a feature table and see which features our feature table is enriched with:"
   ]
  },
  {
   "cell_type": "code",
   "execution_count": 71,
   "id": "252c68ef",
   "metadata": {},
   "outputs": [
    {
     "name": "stdout",
     "output_type": "stream",
     "text": [
      "\u001b[32mSaved FeatureTable[Frequency] to: w8_emp_data/table-w-metadata.qza\u001b[0m\n",
      "\u001b[0m"
     ]
    }
   ],
   "source": [
    "! qiime sample-classifier metatable \\\n",
    "  --i-table $dir_earth/table.qza \\\n",
    "  --m-metadata-file $dir_earth/sample-metadata.tsv \\\n",
    "  --o-converted-table $dir_earth/table-w-metadata.qza"
   ]
  },
  {
   "cell_type": "markdown",
   "id": "2abe2988",
   "metadata": {},
   "source": [
    "**a)** Inspect the created feature table. Which columns were added to the microbial features?"
   ]
  },
  {
   "cell_type": "code",
   "execution_count": 75,
   "id": "bbea0178-085a-4044-ad7f-05a011dd662c",
   "metadata": {
    "tags": []
   },
   "outputs": [
    {
     "data": {
      "text/plain": [
       "['age', 'height']"
      ]
     },
     "execution_count": 75,
     "metadata": {},
     "output_type": "execute_result"
    }
   ],
   "source": [
    "table_w_meta = q2.Artifact.load(f\"{dir_earth}/table-w-metadata.qza\").view(pd.DataFrame)\n",
    "[c for c in table_w_meta.columns if len(c) < len(\"fdcd6808ef8269653d25dce4a55a025d\") ]"
   ]
  },
  {
   "cell_type": "markdown",
   "id": "3054461d-df26-4071-acfb-e71814f6fd83",
   "metadata": {},
   "source": [
    "`age` and `height` are added to the microbial features."
   ]
  },
  {
   "cell_type": "markdown",
   "id": "b2af38f5",
   "metadata": {},
   "source": [
    "Let's now train a RandomForestRegressor with the new feature table. "
   ]
  },
  {
   "cell_type": "code",
   "execution_count": 76,
   "id": "c7d6f7e3",
   "metadata": {},
   "outputs": [
    {
     "name": "stdout",
     "output_type": "stream",
     "text": [
      "\u001b[32mSaved SampleEstimator[Regressor] to: w8_emp_data/rf-regressor-dangerous/sample_estimator.qza\u001b[0m\n",
      "\u001b[32mSaved FeatureData[Importance] to: w8_emp_data/rf-regressor-dangerous/feature_importance.qza\u001b[0m\n",
      "\u001b[32mSaved SampleData[RegressorPredictions] to: w8_emp_data/rf-regressor-dangerous/predictions.qza\u001b[0m\n",
      "\u001b[32mSaved Visualization to: w8_emp_data/rf-regressor-dangerous/model_summary.qzv\u001b[0m\n",
      "\u001b[32mSaved Visualization to: w8_emp_data/rf-regressor-dangerous/accuracy_results.qzv\u001b[0m\n",
      "\u001b[0m"
     ]
    }
   ],
   "source": [
    "! qiime sample-classifier regress-samples \\\n",
    "  --i-table $dir_earth/table-w-metadata.qza \\\n",
    "  --m-metadata-file $dir_earth/sample-metadata.tsv \\\n",
    "  --m-metadata-column age \\\n",
    "  --p-test-size 0.2 \\\n",
    "  --p-estimator RandomForestRegressor \\\n",
    "  --p-random-state 22 \\\n",
    "  --output-dir $dir_earth/rf-regressor-dangerous"
   ]
  },
  {
   "cell_type": "markdown",
   "id": "74b7a969",
   "metadata": {},
   "source": [
    "**b)** Inspect the model's performance. Why is the trained model equal to a \"perfect\" predictor? Is this actually the \"perfect\" model or did we do something that could be considered cheating during training? \n",
    "\n"
   ]
  },
  {
   "cell_type": "markdown",
   "id": "d4608dac-909b-4af4-a1c8-b99dd73fe5a9",
   "metadata": {},
   "source": [
    "Because we included our target variable `age` in the feature table 😂 so when we then trained the random forest regressor, we were essentially using `age` to predict `age`! This is a major form of data leakage -- It didn't learn any real patterns & meaningful relationships from the microbial composition or other features (`height` etc)."
   ]
  },
  {
   "cell_type": "code",
   "execution_count": 77,
   "id": "b35cf434-bfc5-4005-aaaa-0c606c65a428",
   "metadata": {},
   "outputs": [
    {
     "data": {
      "text/html": [
       "<div><img onload=\"(function(div, url){\n",
       "if (typeof require !== 'undefined') {\n",
       "    var baseURL = require.toUrl('').split('/').slice(0, -2).join('/');\n",
       "} else {\n",
       "    var baseURL = JSON.parse(\n",
       "        document.getElementById('jupyter-config-data').innerHTML\n",
       "    ).baseUrl.slice(0, -1);\n",
       "}\n",
       "url = baseURL + url;\n",
       "fetch(url).then(function(res) {\n",
       "    if (res.status === 404) {\n",
       "        div.innerHTML = 'Install QIIME 2 Jupyter extension with:<br />' +\n",
       "                        '<code>jupyter serverextension enable --py qiime2' +\n",
       "                        ' --sys-prefix</code><br />then restart your server.' +\n",
       "                        '<br /><br />(Interactive output not available on ' +\n",
       "                        'static notebook viewer services like nbviewer.)';\n",
       "    } else if (res.status === 409) {\n",
       "        div.innerHTML = 'Visualization no longer in scope. Re-run this cell' +\n",
       "                        ' to see the visualization.';\n",
       "    } else if (res.ok) {\n",
       "        url = res.url;\n",
       "        div.innerHTML = '<iframe src=\\'' + url + '\\' style=\\'' +\n",
       "                        'width: 100%; height: 700px; border: 0;\\'>' +\n",
       "                        '</iframe><hr />Open in a: <a href=\\'' + url + '\\'' +\n",
       "                        ' target=\\'_blank\\'>new window</a>'\n",
       "    } else {\n",
       "        div.innerHTML = 'Something has gone wrong. Check notebook server for' +\n",
       "                        ' errors.';\n",
       "    }\n",
       "});\n",
       "})(this.parentElement, '/qiime2/redirect?location=/tmp/qiime2/jovyan/data/f9e70fee-cabd-407f-bb28-a3ceb465cf39')\" src=\"data:image/gif;base64,R0lGODlhAQABAIAAAP///wAAACH5BAEAAAAALAAAAAABAAEAAAICRAEAOw==\" /></div>"
      ],
      "text/plain": [
       "<visualization: Visualization uuid: f9e70fee-cabd-407f-bb28-a3ceb465cf39>"
      ]
     },
     "execution_count": 77,
     "metadata": {},
     "output_type": "execute_result"
    }
   ],
   "source": [
    "Visualization.load(f\"{dir_earth}/rf-regressor-dangerous/accuracy_results.qzv\")"
   ]
  },
  {
   "cell_type": "markdown",
   "id": "80d2949e",
   "metadata": {},
   "source": [
    "Generally when training any sort of model, you want to ensure that the features that are used are not secretly (or obviously) carrying the target data within. Another less obvious example for this would be having a feature of height in `cm` and the target being height in `km`.           \n",
    "Another important point is to ensure that different samples are being used to train and to evaluate the model. If you train and evaluate the model on the same samples, you lack the information on how your model performs on previously unseen samples.  \n"
   ]
  },
  {
   "cell_type": "markdown",
   "id": "4d63a4c5",
   "metadata": {},
   "source": [
    "Okay, so keeping all this in mind, let's now remove `age` from the `$dir_earth/table-w-metadata.qza` file and re-train the RandomForestRegressor:    "
   ]
  },
  {
   "cell_type": "code",
   "execution_count": 78,
   "id": "0f426bc0",
   "metadata": {},
   "outputs": [
    {
     "data": {
      "text/plain": [
       "'w8_emp_data/table-w-metadata-corr.qza'"
      ]
     },
     "execution_count": 78,
     "metadata": {},
     "output_type": "execute_result"
    }
   ],
   "source": [
    "# load artifact and view as pandas dataframe\n",
    "df_table_all = q2.Artifact.load(\n",
    "    f\"{dir_earth}/table-w-metadata.qza\").view(pd.DataFrame)\n",
    "\n",
    "# drop age column\n",
    "df_table_corr = df_table_all.drop(columns=['age'])\n",
    "\n",
    "# assert that age is not a column in tha dataframe anymore\n",
    "assert('age' not in df_table_corr.columns)\n",
    "\n",
    "# re-import pandas feature table into QIIME 2\n",
    "table_corr_artifact = q2.Artifact.import_data(\n",
    "    'FeatureTable[Frequency]', df_table_corr)\n",
    "\n",
    "# save QIIME 2 Artifact\n",
    "table_corr_artifact.save(f'{dir_earth}/table-w-metadata-corr.qza')"
   ]
  },
  {
   "cell_type": "code",
   "execution_count": 79,
   "id": "09d36afd",
   "metadata": {},
   "outputs": [
    {
     "name": "stdout",
     "output_type": "stream",
     "text": [
      "\u001b[32mSaved SampleEstimator[Regressor] to: w8_emp_data/rf-regressor-corr/sample_estimator.qza\u001b[0m\n",
      "\u001b[32mSaved FeatureData[Importance] to: w8_emp_data/rf-regressor-corr/feature_importance.qza\u001b[0m\n",
      "\u001b[32mSaved SampleData[RegressorPredictions] to: w8_emp_data/rf-regressor-corr/predictions.qza\u001b[0m\n",
      "\u001b[32mSaved Visualization to: w8_emp_data/rf-regressor-corr/model_summary.qzv\u001b[0m\n",
      "\u001b[32mSaved Visualization to: w8_emp_data/rf-regressor-corr/accuracy_results.qzv\u001b[0m\n",
      "\u001b[0m"
     ]
    }
   ],
   "source": [
    "# re-training the RandomForestRegressor w/o age as input feature and target:\n",
    "! qiime sample-classifier regress-samples \\\n",
    "  --i-table $dir_earth/table-w-metadata-corr.qza \\\n",
    "  --m-metadata-file $dir_earth/sample-metadata.tsv \\\n",
    "  --m-metadata-column age \\\n",
    "  --p-test-size 0.2 \\\n",
    "  --p-estimator RandomForestRegressor \\\n",
    "  --p-random-state 22 \\\n",
    "  --output-dir $dir_earth/rf-regressor-corr"
   ]
  },
  {
   "cell_type": "markdown",
   "id": "868e347e",
   "metadata": {},
   "source": [
    "**c)** Compare the model performance of this new RandomForest regressor (`$dir_earth/rf-regressor-corr`) trained on microbial features and metadata (only `height`) to the RandomForest regressor we had previously trained on only microbial features (`$dir_earth/rf-regressor`). Which model performs better?         "
   ]
  },
  {
   "cell_type": "markdown",
   "id": "8bfbe9b6-1b89-4885-8ddd-aff355be3923",
   "metadata": {
    "tags": []
   },
   "source": [
    "The new regressor performed way better! It has $R^2 \\approx 0.81 \\gg 0.24$, $MSE \\approx 0.04 \\ll 0.17$. The predicted points clustered very close to the true prediction line, and the predicted line almost align exactly with the true prediction line."
   ]
  },
  {
   "cell_type": "code",
   "execution_count": 80,
   "id": "6b5cd7b7-72f8-4e0a-82e8-583203a29bd3",
   "metadata": {},
   "outputs": [
    {
     "data": {
      "text/html": [
       "<div><img onload=\"(function(div, url){\n",
       "if (typeof require !== 'undefined') {\n",
       "    var baseURL = require.toUrl('').split('/').slice(0, -2).join('/');\n",
       "} else {\n",
       "    var baseURL = JSON.parse(\n",
       "        document.getElementById('jupyter-config-data').innerHTML\n",
       "    ).baseUrl.slice(0, -1);\n",
       "}\n",
       "url = baseURL + url;\n",
       "fetch(url).then(function(res) {\n",
       "    if (res.status === 404) {\n",
       "        div.innerHTML = 'Install QIIME 2 Jupyter extension with:<br />' +\n",
       "                        '<code>jupyter serverextension enable --py qiime2' +\n",
       "                        ' --sys-prefix</code><br />then restart your server.' +\n",
       "                        '<br /><br />(Interactive output not available on ' +\n",
       "                        'static notebook viewer services like nbviewer.)';\n",
       "    } else if (res.status === 409) {\n",
       "        div.innerHTML = 'Visualization no longer in scope. Re-run this cell' +\n",
       "                        ' to see the visualization.';\n",
       "    } else if (res.ok) {\n",
       "        url = res.url;\n",
       "        div.innerHTML = '<iframe src=\\'' + url + '\\' style=\\'' +\n",
       "                        'width: 100%; height: 700px; border: 0;\\'>' +\n",
       "                        '</iframe><hr />Open in a: <a href=\\'' + url + '\\'' +\n",
       "                        ' target=\\'_blank\\'>new window</a>'\n",
       "    } else {\n",
       "        div.innerHTML = 'Something has gone wrong. Check notebook server for' +\n",
       "                        ' errors.';\n",
       "    }\n",
       "});\n",
       "})(this.parentElement, '/qiime2/redirect?location=/tmp/qiime2/jovyan/data/3b57a4a5-b42e-4c9a-b364-26f8640cda9e')\" src=\"data:image/gif;base64,R0lGODlhAQABAIAAAP///wAAACH5BAEAAAAALAAAAAABAAEAAAICRAEAOw==\" /></div>"
      ],
      "text/plain": [
       "<visualization: Visualization uuid: 3b57a4a5-b42e-4c9a-b364-26f8640cda9e>"
      ]
     },
     "execution_count": 80,
     "metadata": {},
     "output_type": "execute_result"
    }
   ],
   "source": [
    "Visualization.load(f\"{dir_earth}/rf-regressor-corr/accuracy_results.qzv\")"
   ]
  },
  {
   "cell_type": "code",
   "execution_count": 81,
   "id": "8069ef39-3729-48b3-8b73-9b475bda9cd2",
   "metadata": {},
   "outputs": [
    {
     "data": {
      "text/html": [
       "<div><img onload=\"(function(div, url){\n",
       "if (typeof require !== 'undefined') {\n",
       "    var baseURL = require.toUrl('').split('/').slice(0, -2).join('/');\n",
       "} else {\n",
       "    var baseURL = JSON.parse(\n",
       "        document.getElementById('jupyter-config-data').innerHTML\n",
       "    ).baseUrl.slice(0, -1);\n",
       "}\n",
       "url = baseURL + url;\n",
       "fetch(url).then(function(res) {\n",
       "    if (res.status === 404) {\n",
       "        div.innerHTML = 'Install QIIME 2 Jupyter extension with:<br />' +\n",
       "                        '<code>jupyter serverextension enable --py qiime2' +\n",
       "                        ' --sys-prefix</code><br />then restart your server.' +\n",
       "                        '<br /><br />(Interactive output not available on ' +\n",
       "                        'static notebook viewer services like nbviewer.)';\n",
       "    } else if (res.status === 409) {\n",
       "        div.innerHTML = 'Visualization no longer in scope. Re-run this cell' +\n",
       "                        ' to see the visualization.';\n",
       "    } else if (res.ok) {\n",
       "        url = res.url;\n",
       "        div.innerHTML = '<iframe src=\\'' + url + '\\' style=\\'' +\n",
       "                        'width: 100%; height: 700px; border: 0;\\'>' +\n",
       "                        '</iframe><hr />Open in a: <a href=\\'' + url + '\\'' +\n",
       "                        ' target=\\'_blank\\'>new window</a>'\n",
       "    } else {\n",
       "        div.innerHTML = 'Something has gone wrong. Check notebook server for' +\n",
       "                        ' errors.';\n",
       "    }\n",
       "});\n",
       "})(this.parentElement, '/qiime2/redirect?location=/tmp/qiime2/jovyan/data/f4903338-68a7-42aa-a848-72ca3ee97d28')\" src=\"data:image/gif;base64,R0lGODlhAQABAIAAAP///wAAACH5BAEAAAAALAAAAAABAAEAAAICRAEAOw==\" /></div>"
      ],
      "text/plain": [
       "<visualization: Visualization uuid: f4903338-68a7-42aa-a848-72ca3ee97d28>"
      ]
     },
     "execution_count": 81,
     "metadata": {},
     "output_type": "execute_result"
    }
   ],
   "source": [
    "Visualization.load(f\"{dir_earth}/rf-regressor/accuracy_results.qzv\")"
   ]
  },
  {
   "cell_type": "markdown",
   "id": "6bef01ba",
   "metadata": {},
   "source": [
    "<a id='sec4'></a>    "
   ]
  },
  {
   "cell_type": "markdown",
   "id": "fed2adb7",
   "metadata": {},
   "source": [
    "## 4. Over- vs. underfitting\n"
   ]
  },
  {
   "cell_type": "markdown",
   "id": "50fccff0",
   "metadata": {},
   "source": [
    "Another way of evaluating a trained supervised ML model (classifier or regressor) is by checking whether the model tends to overfit or underfit the data. \n",
    "\n",
    "Let's first define these two terms: \n",
    "* Underfitting: The model displays poor performance on the training as well as the test dataset. It essentially fails to learn from the data provided.  \n",
    "* Overfitting: The model fits the training data very well (almost learns it by heart) but its performance on the test data is disproportionally bad. \n",
    "\n",
    "As we have seen above in the classification section 2.2, our initially trained classifier (in `$data_dir/small-RF-classifier/sample_estimator.qza`) performs very well on the test set. Hence, it generalises well on previously unseen data. If the test performance is that high, there is usually no need to worry about over- or underfitting as these are both indicated by low test performance. But assuming the above trained model performed very bad on the test set, we would want to find out whether this was due to over- or underfitting. In case of overfitting, we would need to restrict the model's learning, e.g. by regularisation or choosing a simpler model. In case of underfitting, we might need to choose a more complex model or create some sophisticated features (feature engineering). \n",
    "\n",
    "Now you might be interested in how you could find out whether your model over- or underfits in QIIME 2. Great thought :). To do this, you want to create predictions on the previously used train set, evaluate the model on these and compare this model performance to the model performance on the test set.\n",
    "\n",
    "If you want see the model performance on the train set, run and inspect the commands provided below.\n",
    "\n",
    "\n",
    "* Our first goal is to get a feature table that only contains features of the train set. For this we first want to filter the metadata file by the train targets that were used to train the classifier:\n"
   ]
  },
  {
   "cell_type": "code",
   "execution_count": 83,
   "id": "25061209",
   "metadata": {},
   "outputs": [
    {
     "data": {
      "text/plain": [
       "(3308, 9)"
      ]
     },
     "execution_count": 83,
     "metadata": {},
     "output_type": "execute_result"
    }
   ],
   "source": [
    "# defining some paths\n",
    "path2classifier_results = f'{data_dir}/small-RF-classifier/'\n",
    "path2train_targets = os.path.join(\n",
    "    path2classifier_results, 'training_targets.qza')\n",
    "\n",
    "# load complete metadata table to dataframe & check shape\n",
    "df_metadata = q2.Metadata.load(f'{data_dir}/metadata_proc.tsv').to_dataframe()\n",
    "df_metadata.shape"
   ]
  },
  {
   "cell_type": "code",
   "execution_count": 84,
   "id": "140ebeb6",
   "metadata": {},
   "outputs": [
    {
     "name": "stderr",
     "output_type": "stream",
     "text": [
      "/opt/conda/lib/python3.9/site-packages/q2_sample_classifier/_transformer.py:69: FutureWarning: errors='ignore' is deprecated and will raise in a future version. Use to_numeric without passing `errors` and catch exceptions explicitly instead\n",
      "  return pd.to_numeric(df.iloc[:, 0], errors='ignore')\n"
     ]
    },
    {
     "data": {
      "text/plain": [
       "(2525,)"
      ]
     },
     "execution_count": 84,
     "metadata": {},
     "output_type": "execute_result"
    }
   ],
   "source": [
    "# load training targets artifact, view as pandas series & check shape\n",
    "ser_train_target = q2.Artifact.load(path2train_targets).view(pd.Series)\n",
    "ser_train_target.shape\n"
   ]
  },
  {
   "cell_type": "code",
   "execution_count": 85,
   "id": "af95d9cf",
   "metadata": {},
   "outputs": [
    {
     "data": {
      "text/plain": [
       "(2525, 9)"
      ]
     },
     "execution_count": 85,
     "metadata": {},
     "output_type": "execute_result"
    }
   ],
   "source": [
    "# filter df_metadata to only contain train samples\n",
    "df_metadata_train = df_metadata[df_metadata.index.isin(ser_train_target.index)]\n",
    "df_metadata_train.shape"
   ]
  },
  {
   "cell_type": "code",
   "execution_count": 86,
   "id": "dbaa7e76",
   "metadata": {},
   "outputs": [
    {
     "data": {
      "text/plain": [
       "'w8_hmp_data/metadata_proc_train.tsv'"
      ]
     },
     "execution_count": 86,
     "metadata": {},
     "output_type": "execute_result"
    }
   ],
   "source": [
    "# save filtered metadata to q2 artifact\n",
    "q2.Metadata(df_metadata_train).save(f'{data_dir}/metadata_proc_train.tsv')"
   ]
  },
  {
   "cell_type": "markdown",
   "id": "10a18940",
   "metadata": {},
   "source": [
    "* With the metadata only containing the training samples, we want to filter the feature table such that it also only includes the training samples: "
   ]
  },
  {
   "cell_type": "code",
   "execution_count": 87,
   "id": "c6159782",
   "metadata": {},
   "outputs": [
    {
     "name": "stdout",
     "output_type": "stream",
     "text": [
      "\u001b[32mSaved FeatureTable[Frequency] to: w8_hmp_data/feature-table-train.qza\u001b[0m\n",
      "\u001b[0m"
     ]
    }
   ],
   "source": [
    "# filter feature table by filtered metadata creating feature table of only samples belonging to train set\n",
    "! qiime feature-table filter-samples \\\n",
    "    --i-table $data_dir/feature-table.qza \\\n",
    "    --m-metadata-file $data_dir/metadata_proc_train.tsv \\\n",
    "    --o-filtered-table $data_dir/feature-table-train.qza"
   ]
  },
  {
   "cell_type": "markdown",
   "id": "addfcceb",
   "metadata": {},
   "source": [
    "* Now we're ready to create predictions with the formerly trained classifier only for the train set:"
   ]
  },
  {
   "cell_type": "code",
   "execution_count": 88,
   "id": "4edec77b",
   "metadata": {},
   "outputs": [
    {
     "name": "stdout",
     "output_type": "stream",
     "text": [
      "\u001b[32mSaved SampleData[ClassifierPredictions] to: w8_hmp_data/small-RF-classifier/training-predictions/predictions.qza\u001b[0m\n",
      "\u001b[32mSaved SampleData[Probabilities] to: w8_hmp_data/small-RF-classifier/training-predictions/probabilities.qza\u001b[0m\n",
      "\u001b[0m"
     ]
    }
   ],
   "source": [
    "! qiime sample-classifier predict-classification \\\n",
    "   --i-table $data_dir/feature-table-train.qza \\\n",
    "   --i-sample-estimator $data_dir/small-RF-classifier/sample_estimator.qza \\\n",
    "   --output-dir $data_dir/small-RF-classifier/training-predictions"
   ]
  },
  {
   "cell_type": "markdown",
   "id": "8ac29217",
   "metadata": {},
   "source": [
    "* Lastly, we evaluate the created train predictions & inspect the visualisation:"
   ]
  },
  {
   "cell_type": "code",
   "execution_count": 89,
   "id": "ca661d69",
   "metadata": {},
   "outputs": [
    {
     "name": "stdout",
     "output_type": "stream",
     "text": [
      "\u001b[32mSaved Visualization to: w8_hmp_data/small-RF-classifier/training-predictions/model_performance.qzv\u001b[0m\n",
      "\u001b[0m"
     ]
    }
   ],
   "source": [
    "! qiime sample-classifier confusion-matrix \\\n",
    "   --i-predictions $data_dir/small-RF-classifier/training-predictions/predictions.qza \\\n",
    "   --i-probabilities $data_dir/small-RF-classifier/training-predictions/probabilities.qza \\\n",
    "   --m-truth-file $data_dir/metadata_proc_train.tsv \\\n",
    "   --m-truth-column sample_type \\\n",
    "   --o-visualization $data_dir/small-RF-classifier/training-predictions/model_performance"
   ]
  },
  {
   "cell_type": "code",
   "execution_count": 90,
   "id": "4ede0829-c45a-44bb-b85f-a21fe705f514",
   "metadata": {},
   "outputs": [
    {
     "data": {
      "text/html": [
       "<div><img onload=\"(function(div, url){\n",
       "if (typeof require !== 'undefined') {\n",
       "    var baseURL = require.toUrl('').split('/').slice(0, -2).join('/');\n",
       "} else {\n",
       "    var baseURL = JSON.parse(\n",
       "        document.getElementById('jupyter-config-data').innerHTML\n",
       "    ).baseUrl.slice(0, -1);\n",
       "}\n",
       "url = baseURL + url;\n",
       "fetch(url).then(function(res) {\n",
       "    if (res.status === 404) {\n",
       "        div.innerHTML = 'Install QIIME 2 Jupyter extension with:<br />' +\n",
       "                        '<code>jupyter serverextension enable --py qiime2' +\n",
       "                        ' --sys-prefix</code><br />then restart your server.' +\n",
       "                        '<br /><br />(Interactive output not available on ' +\n",
       "                        'static notebook viewer services like nbviewer.)';\n",
       "    } else if (res.status === 409) {\n",
       "        div.innerHTML = 'Visualization no longer in scope. Re-run this cell' +\n",
       "                        ' to see the visualization.';\n",
       "    } else if (res.ok) {\n",
       "        url = res.url;\n",
       "        div.innerHTML = '<iframe src=\\'' + url + '\\' style=\\'' +\n",
       "                        'width: 100%; height: 700px; border: 0;\\'>' +\n",
       "                        '</iframe><hr />Open in a: <a href=\\'' + url + '\\'' +\n",
       "                        ' target=\\'_blank\\'>new window</a>'\n",
       "    } else {\n",
       "        div.innerHTML = 'Something has gone wrong. Check notebook server for' +\n",
       "                        ' errors.';\n",
       "    }\n",
       "});\n",
       "})(this.parentElement, '/qiime2/redirect?location=/tmp/qiime2/jovyan/data/a33a115c-e963-4fab-8f4d-7b506e42a5b6')\" src=\"data:image/gif;base64,R0lGODlhAQABAIAAAP///wAAACH5BAEAAAAALAAAAAABAAEAAAICRAEAOw==\" /></div>"
      ],
      "text/plain": [
       "<visualization: Visualization uuid: a33a115c-e963-4fab-8f4d-7b506e42a5b6>"
      ]
     },
     "execution_count": 90,
     "metadata": {},
     "output_type": "execute_result"
    }
   ],
   "source": [
    "Visualization.load(f\"{data_dir}/small-RF-classifier/training-predictions/model_performance.qzv\")"
   ]
  },
  {
   "cell_type": "markdown",
   "id": "055e2b88",
   "metadata": {},
   "source": [
    "<a id='sec5'></a>    "
   ]
  },
  {
   "cell_type": "markdown",
   "id": "b43a9837",
   "metadata": {},
   "source": [
    "## 5. Creating predictions for all available samples\n"
   ]
  },
  {
   "cell_type": "markdown",
   "id": "943056b9",
   "metadata": {},
   "source": [
    "Throughout this exercise sheet we have always employed a 80%:20% train:test split. Allowing us to evaluate the trained model on the test samples (20%). In some cases you are interested in creating predictions for all available samples, without using the same samples to train the model (! no data leakage). If you are interested in how this works (could be helpful for your group project), have a look at the section \"Nested cross-validation provides predictions for all samples\" in [this Q2 tutorial](https://docs.qiime2.org/2024.5/tutorials/sample-classifier/). "
   ]
  },
  {
   "cell_type": "code",
   "execution_count": null,
   "id": "de2ab50c-c541-4446-b768-87356f672c72",
   "metadata": {},
   "outputs": [],
   "source": []
  }
 ],
 "metadata": {
  "interpreter": {
   "hash": "ef6b3953c2a7154c26c5a4f14c4cc2a4833129758a476c0199a2b5e88f221faa"
  },
  "kernelspec": {
   "display_name": "QIIME 2",
   "language": "python",
   "name": "python3"
  },
  "language_info": {
   "codemirror_mode": {
    "name": "ipython",
    "version": 3
   },
   "file_extension": ".py",
   "mimetype": "text/x-python",
   "name": "python",
   "nbconvert_exporter": "python",
   "pygments_lexer": "ipython3",
   "version": "3.9.19"
  }
 },
 "nbformat": 4,
 "nbformat_minor": 5
}
