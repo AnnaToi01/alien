{
 "cells": [
  {
   "cell_type": "markdown",
   "id": "c282bed1-720d-423f-ab35-fbbab2ebaada",
   "metadata": {},
   "source": [
    "#### S2. Predictive Biomarkers\n",
    "\n",
    "Author: Willem Fuetterer\n",
    "\n",
    "\n",
    "In this Jupyter Notebook characteristics of microbial communities and identification of predictive biomarkers for the speed of recovery are analyzed\n",
    "\n",
    "**Exercise overview:**<br>\n",
    "[1. Setup](#setup)<br>\n",
    "[2. Identification of correct sampling depth](#depth)<br>\n",
    "[3. Calculating the alpha diversity](#calc)<br>\n",
    "[4. Testing the associations between categorical metadata columns and the diversity metric](#categorical)<br>\n",
    "[5. Testing whether numeric sample metadata columns are correlated with microbial community richness](#numeric)<br>\n",
    "[6. Loading the results into variables to plot figures](#figures)<br>"
   ]
  },
  {
   "cell_type": "markdown",
   "id": "fa991257-96dd-4dc5-bbec-16114bfcc7c6",
   "metadata": {},
   "source": [
    "<a id='setup'></a>\n",
    "\n",
    "## 1. Setup"
   ]
  },
  {
   "cell_type": "code",
   "execution_count": 3,
   "id": "347ae2f2-6d9f-430e-9200-be3822bbd396",
   "metadata": {
    "tags": []
   },
   "outputs": [],
   "source": [
    "# importing all required packages & notebook extensions at the start of the notebook\n",
    "import os\n",
    "import biom\n",
    "import numpy as np\n",
    "import matplotlib.pyplot as plt\n",
    "import seaborn as sns\n",
    "import pandas as pd\n",
    "import qiime2 as q2\n",
    "from qiime2 import Visualization\n",
    "from scipy.stats import spearmanr\n",
    "from scipy.stats import linregress\n",
    "\n",
    "%matplotlib inline"
   ]
  },
  {
   "cell_type": "code",
   "execution_count": 4,
   "id": "6a139d25-4d73-4289-be57-41ed6d36aca8",
   "metadata": {
    "tags": []
   },
   "outputs": [],
   "source": [
    "# assigning variables throughout the notebook\n",
    "\n",
    "# location of this week's data and all the results produced by this notebook\n",
    "# - this should be a path relative to your working directory\n",
    "raw_data_dir = \"../data/raw\"\n",
    "data_dir = \"../data/processed\"\n",
    "vis_dir  = \"../results\""
   ]
  },
  {
   "cell_type": "markdown",
   "id": "2cb2a434-6e42-4ca1-bd5f-8d8959b21133",
   "metadata": {},
   "source": [
    "<a id='depth'></a>\n",
    "\n",
    "## 2. Statistical Analysis and Correlation with Recovery Speed"
   ]
  },
  {
   "cell_type": "code",
   "execution_count": 59,
   "id": "4fb005df-ca17-4b1f-8e10-26a65d94cacb",
   "metadata": {
    "tags": []
   },
   "outputs": [
    {
     "name": "stdout",
     "output_type": "stream",
     "text": [
      "     metric  Spearman correlation   p-value   n\n",
      "0   shannon             -0.095223  0.519707  48\n",
      "1  evenness             -0.116704  0.429564  48\n",
      "2  faith_pd             -0.139653  0.343797  48\n"
     ]
    },
    {
     "name": "stderr",
     "output_type": "stream",
     "text": [
      "/opt/conda/lib/python3.9/site-packages/q2_types/sample_data/_transformer.py:27: FutureWarning: errors='ignore' is deprecated and will raise in a future version. Use to_numeric without passing `errors` and catch exceptions explicitly instead\n",
      "  df[cols] = df[cols].apply(pd.to_numeric, errors='ignore')\n",
      "/opt/conda/lib/python3.9/site-packages/q2_types/sample_data/_transformer.py:27: FutureWarning: errors='ignore' is deprecated and will raise in a future version. Use to_numeric without passing `errors` and catch exceptions explicitly instead\n",
      "  df[cols] = df[cols].apply(pd.to_numeric, errors='ignore')\n",
      "/opt/conda/lib/python3.9/site-packages/q2_types/sample_data/_transformer.py:27: FutureWarning: errors='ignore' is deprecated and will raise in a future version. Use to_numeric without passing `errors` and catch exceptions explicitly instead\n",
      "  df[cols] = df[cols].apply(pd.to_numeric, errors='ignore')\n"
     ]
    }
   ],
   "source": [
    "# Load metadata\n",
    "metadata = pd.read_csv(f\"{data_dir}/metadata.tsv\", sep='\\t')\n",
    "\n",
    "# Define diversity metrics\n",
    "metrics = ['shannon', 'evenness', 'faith_pd']  # Metrics to analyze\n",
    "results = []  # To store results for each metric\n",
    "\n",
    "# Function to perform Spearman correlation\n",
    "def calculate_spearman(diversity_metric_name, diversity_qza_file, metadata, post_transplant):\n",
    "    # Load diversity vector (.qza file)\n",
    "    diversity_metric = qiime2.Artifact.load(diversity_qza_file)\n",
    "    \n",
    "    # Extract the diversity vector as a pandas Series\n",
    "    diversity_series = diversity_metric.view(pd.Series)\n",
    "    \n",
    "    # Convert to a DataFrame and reset the index\n",
    "    diversity_df = diversity_series.reset_index()\n",
    "    diversity_df.columns = ['sample-id', diversity_metric_name]  # Rename columns for clarity\n",
    "    \n",
    "    # Merge diversity data with metadata\n",
    "    merged = metadata.set_index('sample-id').join(diversity_df.set_index('sample-id'))\n",
    "    \n",
    "    # Filter post-transplantation samples (if only interested in post-transplant)\n",
    "    post_transplant = merged[merged['Cohort_Number'] == 1]\n",
    "    \n",
    "    # Check for missing values and drop rows if necessary\n",
    "    post_transplant = post_transplant.dropna(subset=[diversity_metric_name, 'Recovery_Day'])\n",
    "    \n",
    "    # Check if there are enough samples\n",
    "    n_samples = post_transplant.shape[0]\n",
    "    \n",
    "    # Perform Spearman correlation between the diversity metric and Recovery_Day\n",
    "    correlation, p_value = spearmanr(post_transplant[diversity_metric_name], post_transplant['Recovery_Day'])\n",
    "    \n",
    "    return {\n",
    "        'metric': diversity_metric_name,\n",
    "        'Spearman correlation': correlation,\n",
    "        'p-value': p_value,\n",
    "        'n': n_samples\n",
    "    }\n",
    "\n",
    "# Loop through each metric and calculate the results\n",
    "for metric in metrics:\n",
    "    # Define file paths based on the metric\n",
    "    diversity_qza_file = f\"{data_dir}/core-metrics-results-bt/{metric}_vector.qza\"\n",
    "    \n",
    "    # Calculate Spearman correlation for the current metric\n",
    "    result = calculate_spearman(metric, diversity_qza_file, metadata, post_transplant)\n",
    "    \n",
    "    # Append the result to the results list\n",
    "    results.append(result)\n",
    "\n",
    "# Create a DataFrame to display results\n",
    "results_df = pd.DataFrame(results)\n",
    "\n",
    "# Save results to a CSV file\n",
    "#results_df.to_csv(f\"{data_dir}/alpha_diversity_correlation_results.csv\", index=False)\n",
    "\n",
    "# Print the results\n",
    "print(results_df)"
   ]
  },
  {
   "cell_type": "markdown",
   "id": "c059950c-0929-48cb-a6a2-a0abc15b291c",
   "metadata": {},
   "source": [
    "## What I would like to do is calculate correlation between recovery day with diversity, composition, specific species, features, genes, etc. to see if any of these are predicitive for a quick recovery"
   ]
  },
  {
   "cell_type": "markdown",
   "id": "fde491f7-90d9-4d28-ac4b-b43a6fb4bd4a",
   "metadata": {},
   "source": [
    "other"
   ]
  },
  {
   "cell_type": "code",
   "execution_count": 52,
   "id": "10a5e52e-84f1-46e5-a4d8-08497828f202",
   "metadata": {
    "tags": []
   },
   "outputs": [
    {
     "name": "stdout",
     "output_type": "stream",
     "text": [
      "\u001b[32mExported ../data/processed/core-metrics-results-bt/bray_curtis_pcoa_results.qza as OrdinationDirectoryFormat to directory ../data/processed/core-metrics-results-bt/bray_curtis_pcoa_exported\u001b[0m\n",
      "\u001b[0m"
     ]
    }
   ],
   "source": [
    "!qiime tools export \\\n",
    "  --input-path $data_dir/core-metrics-results-bt/bray_curtis_pcoa_results.qza \\\n",
    "  --output-path $data_dir/core-metrics-results-bt/bray_curtis_pcoa_exported"
   ]
  },
  {
   "cell_type": "markdown",
   "id": "0aa44b10-7558-47f6-998e-e9427a54bb04",
   "metadata": {},
   "source": [
    "PERMANOVA only for categorical "
   ]
  },
  {
   "cell_type": "code",
   "execution_count": 15,
   "id": "a832ad9a-eab0-4a0c-a221-141c3dd1af5d",
   "metadata": {
    "collapsed": true,
    "jupyter": {
     "outputs_hidden": true
    },
    "tags": []
   },
   "outputs": [
    {
     "name": "stdout",
     "output_type": "stream",
     "text": [
      "Usage: \u001b[94mqiime diversity beta-group-significance\u001b[0m [OPTIONS]\n",
      "\n",
      "  Determine whether groups of samples are significantly different from one\n",
      "  another using a permutation-based statistical test.\n",
      "\n",
      "\u001b[1mInputs\u001b[0m:\n",
      "  \u001b[94m\u001b[4m--i-distance-matrix\u001b[0m ARTIFACT\n",
      "    \u001b[32mDistanceMatrix\u001b[0m     Matrix of distances between pairs of samples.\n",
      "                                                                    \u001b[35m[required]\u001b[0m\n",
      "\u001b[1mParameters\u001b[0m:\n",
      "  \u001b[94m\u001b[4m--m-metadata-file\u001b[0m METADATA\n",
      "  \u001b[94m\u001b[4m--m-metadata-column\u001b[0m COLUMN  \u001b[32mMetadataColumn[Categorical]\u001b[0m\n",
      "                       Categorical sample metadata column.          \u001b[35m[required]\u001b[0m\n",
      "  \u001b[94m--p-method\u001b[0m TEXT \u001b[32mChoices('permanova', 'anosim', 'permdisp')\u001b[0m\n",
      "                       The group significance test to be applied.\n",
      "                                                        \u001b[35m[default: 'permanova']\u001b[0m\n",
      "  \u001b[94m--p-pairwise\u001b[0m / \u001b[94m--p-no-pairwise\u001b[0m\n",
      "                       Perform pairwise tests between all pairs of groups in\n",
      "                       addition to the test across all groups. This can be\n",
      "                       very slow if there are a lot of groups in the metadata\n",
      "                       column.                                \u001b[35m[default: False]\u001b[0m\n",
      "  \u001b[94m--p-permutations\u001b[0m INTEGER\n",
      "                       The number of permutations to be run when computing\n",
      "                       p-values.                                \u001b[35m[default: 999]\u001b[0m\n",
      "\u001b[1mOutputs\u001b[0m:\n",
      "  \u001b[94m\u001b[4m--o-visualization\u001b[0m VISUALIZATION\n",
      "                                                                    \u001b[35m[required]\u001b[0m\n",
      "\u001b[1mMiscellaneous\u001b[0m:\n",
      "  \u001b[94m--output-dir\u001b[0m PATH    Output unspecified results to a directory\n",
      "  \u001b[94m--verbose\u001b[0m / \u001b[94m--quiet\u001b[0m  Display verbose output to stdout and/or stderr during\n",
      "                       execution of this action. Or silence output if\n",
      "                       execution is successful (silence is golden).\n",
      "  \u001b[94m--example-data\u001b[0m PATH  Write example data and exit.\n",
      "  \u001b[94m--citations\u001b[0m          Show citations and exit.\n",
      "  \u001b[94m--help\u001b[0m               Show this message and exit.\n",
      "\n",
      "\u001b[33m                    There was a problem with the command:                     \u001b[0m\n",
      "\u001b[31m\u001b[1m (1/1) Invalid value for '--m-metadata-file': Metadata column is of type\n",
      "  'numeric', but expected Categorical.\u001b[0m\n",
      "\u001b[0m"
     ]
    }
   ],
   "source": [
    "! qiime diversity beta-group-significance \\\n",
    "    --i-distance-matrix $data_dir/core-metrics-results-bt/bray_curtis_distance_matrix.qza \\\n",
    "    --m-metadata-file $data_dir/metadata.tsv \\\n",
    "    --m-metadata-column Recovery_Day \\\n",
    "    --p-method permdisp \\\n",
    "    --o-visualization $data_dir/beta-group-significance.qzv\n"
   ]
  },
  {
   "cell_type": "markdown",
   "id": "553cda0d-c9fd-4ea9-91d2-caa981c51e6c",
   "metadata": {},
   "source": [
    "This approach can be ignored"
   ]
  },
  {
   "cell_type": "code",
   "execution_count": 17,
   "id": "d9c01511-32b0-44c4-82f6-3c3c42416f69",
   "metadata": {
    "tags": []
   },
   "outputs": [
    {
     "name": "stdout",
     "output_type": "stream",
     "text": [
      "\u001b[32mUUID\u001b[0m:        702565bb-ce3d-472e-acd6-4b914601f892\n",
      "\u001b[32mType\u001b[0m:        FeatureTable[Frequency]\n",
      "\u001b[32mData format\u001b[0m: BIOMV210DirFmt\n"
     ]
    }
   ],
   "source": [
    "! qiime tools peek $data_dir/table-filtered.qza #-> FeatureTable[Frequency]"
   ]
  },
  {
   "cell_type": "code",
   "execution_count": 21,
   "id": "d4c91af1-0ff6-4973-9c7c-5b8a7af60e9c",
   "metadata": {
    "tags": []
   },
   "outputs": [
    {
     "name": "stdout",
     "output_type": "stream",
     "text": [
      "\u001b[32mSaved FeatureTable[Frequency] to: ../data/processed/genus-table.qza\u001b[0m\n",
      "\u001b[0m"
     ]
    }
   ],
   "source": [
    "! qiime taxa collapse \\\n",
    "  --i-table $data_dir/table-filtered.qza \\\n",
    "  --i-taxonomy $data_dir/taxonomy.qza \\\n",
    "  --p-level 6 \\\n",
    "  --o-collapsed-table $data_dir/genus-table.qza"
   ]
  },
  {
   "cell_type": "code",
   "execution_count": 22,
   "id": "22c1f666-35cf-4d15-be36-5ba3558c2b5c",
   "metadata": {
    "tags": []
   },
   "outputs": [
    {
     "name": "stdout",
     "output_type": "stream",
     "text": [
      "\u001b[32mSaved FeatureTable[Frequency] to: ../data/processed/filtered-genus-table.qza\u001b[0m\n",
      "\u001b[0m"
     ]
    }
   ],
   "source": [
    "! qiime feature-table filter-features-conditionally \\\n",
    "  --i-table $data_dir/genus-table.qza \\\n",
    "  --p-prevalence 0.1 \\\n",
    "  --p-abundance 0.01 \\\n",
    "  --o-filtered-table $data_dir/filtered-genus-table.qza"
   ]
  },
  {
   "cell_type": "code",
   "execution_count": 23,
   "id": "0b895bc3-958d-40f0-b344-f7a9a058c957",
   "metadata": {
    "tags": []
   },
   "outputs": [
    {
     "name": "stdout",
     "output_type": "stream",
     "text": [
      "\u001b[32mSaved FeatureTable[RelativeFrequency] to: ../data/processed/genus-rf-table.qza\u001b[0m\n",
      "\u001b[0m"
     ]
    }
   ],
   "source": [
    "! qiime feature-table relative-frequency \\\n",
    "  --i-table $data_dir/filtered-genus-table.qza \\\n",
    "  --o-relative-frequency-table $data_dir/genus-rf-table.qza"
   ]
  },
  {
   "cell_type": "markdown",
   "id": "ac0e03b6-68a3-4a0a-912f-932c4df5f92e",
   "metadata": {
    "tags": []
   },
   "source": [
    "Volatility plots"
   ]
  },
  {
   "cell_type": "code",
   "execution_count": 28,
   "id": "c548158a-0dec-4b06-9b99-8f5f842c3d64",
   "metadata": {
    "tags": []
   },
   "outputs": [
    {
     "name": "stdout",
     "output_type": "stream",
     "text": [
      "\u001b[32mSaved Visualization to: ../data/processed/volatility-plot-1.qzv\u001b[0m\n",
      "\u001b[0m"
     ]
    }
   ],
   "source": [
    "! qiime longitudinal volatility \\\n",
    "  --i-table $data_dir/genus-rf-table.qza \\\n",
    "  --p-state-column Recovery_Day \\\n",
    "  --m-metadata-file $data_dir/metadata.tsv \\\n",
    "  --p-individual-id-column Patient_ID \\\n",
    "  --o-visualization $data_dir/volatility-plot-1.qzv"
   ]
  },
  {
   "cell_type": "code",
   "execution_count": 29,
   "id": "fae6a8c9-e81a-4110-b1f9-a356cce5adf1",
   "metadata": {
    "tags": []
   },
   "outputs": [
    {
     "data": {
      "text/html": [
       "<div><img onload=\"(function(div, url){\n",
       "if (typeof require !== 'undefined') {\n",
       "    var baseURL = require.toUrl('').split('/').slice(0, -2).join('/');\n",
       "} else {\n",
       "    var baseURL = JSON.parse(\n",
       "        document.getElementById('jupyter-config-data').innerHTML\n",
       "    ).baseUrl.slice(0, -1);\n",
       "}\n",
       "url = baseURL + url;\n",
       "fetch(url).then(function(res) {\n",
       "    if (res.status === 404) {\n",
       "        div.innerHTML = 'Install QIIME 2 Jupyter extension with:<br />' +\n",
       "                        '<code>jupyter serverextension enable --py qiime2' +\n",
       "                        ' --sys-prefix</code><br />then restart your server.' +\n",
       "                        '<br /><br />(Interactive output not available on ' +\n",
       "                        'static notebook viewer services like nbviewer.)';\n",
       "    } else if (res.status === 409) {\n",
       "        div.innerHTML = 'Visualization no longer in scope. Re-run this cell' +\n",
       "                        ' to see the visualization.';\n",
       "    } else if (res.ok) {\n",
       "        url = res.url;\n",
       "        div.innerHTML = '<iframe src=\\'' + url + '\\' style=\\'' +\n",
       "                        'width: 100%; height: 700px; border: 0;\\'>' +\n",
       "                        '</iframe><hr />Open in a: <a href=\\'' + url + '\\'' +\n",
       "                        ' target=\\'_blank\\'>new window</a>'\n",
       "    } else {\n",
       "        div.innerHTML = 'Something has gone wrong. Check notebook server for' +\n",
       "                        ' errors.';\n",
       "    }\n",
       "});\n",
       "})(this.parentElement, '/qiime2/redirect?location=/tmp/qiime2/jovyan/data/bb2a7362-9f3c-48da-9ef0-b247dd4e7a4e')\" src=\"data:image/gif;base64,R0lGODlhAQABAIAAAP///wAAACH5BAEAAAAALAAAAAABAAEAAAICRAEAOw==\" /></div>"
      ],
      "text/plain": [
       "<visualization: Visualization uuid: bb2a7362-9f3c-48da-9ef0-b247dd4e7a4e>"
      ]
     },
     "execution_count": 29,
     "metadata": {},
     "output_type": "execute_result"
    }
   ],
   "source": [
    "Visualization.load(f\"{data_dir}/volatility-plot-1.qzv\")"
   ]
  }
 ],
 "metadata": {
  "kernelspec": {
   "display_name": "QIIME 2",
   "language": "python",
   "name": "python3"
  },
  "language_info": {
   "codemirror_mode": {
    "name": "ipython",
    "version": 3
   },
   "file_extension": ".py",
   "mimetype": "text/x-python",
   "name": "python",
   "nbconvert_exporter": "python",
   "pygments_lexer": "ipython3",
   "version": "3.9.19"
  }
 },
 "nbformat": 4,
 "nbformat_minor": 5
}
