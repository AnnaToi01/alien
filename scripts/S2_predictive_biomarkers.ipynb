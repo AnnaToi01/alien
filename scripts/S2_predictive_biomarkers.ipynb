{
 "cells": [
  {
   "cell_type": "markdown",
   "id": "c282bed1-720d-423f-ab35-fbbab2ebaada",
   "metadata": {},
   "source": [
    "#### S2. Predictive Biomarkers\n",
    "\n",
    "Author: Willem Fuetterer\n",
    "\n",
    "\n",
    "In this Jupyter Notebook characteristics of microbial communities and identification of predictive biomarkers for the speed of recovery are analyzed\n",
    "\n",
    "**Exercise overview:**<br>\n",
    "[1. Setup](#setup)<br>\n",
    "[2. Identification of correct sampling depth](#depth)<br>\n",
    "[3. Calculating the alpha diversity](#calc)<br>\n",
    "[4. Testing the associations between categorical metadata columns and the diversity metric](#categorical)<br>\n",
    "[5. Testing whether numeric sample metadata columns are correlated with microbial community richness](#numeric)<br>\n",
    "[6. Loading the results into variables to plot figures](#figures)<br>"
   ]
  },
  {
   "cell_type": "markdown",
   "id": "fa991257-96dd-4dc5-bbec-16114bfcc7c6",
   "metadata": {},
   "source": [
    "<a id='setup'></a>\n",
    "\n",
    "## 1. Setup"
   ]
  },
  {
   "cell_type": "code",
   "execution_count": 3,
   "id": "347ae2f2-6d9f-430e-9200-be3822bbd396",
   "metadata": {
    "tags": []
   },
   "outputs": [],
   "source": [
    "# importing all required packages & notebook extensions at the start of the notebook\n",
    "import os\n",
    "import biom\n",
    "import numpy as np\n",
    "import matplotlib.pyplot as plt\n",
    "import seaborn as sns\n",
    "import pandas as pd\n",
    "import qiime2 as q2\n",
    "from qiime2 import Visualization\n",
    "from scipy.stats import spearmanr\n",
    "from scipy.stats import linregress\n",
    "\n",
    "%matplotlib inline"
   ]
  },
  {
   "cell_type": "code",
   "execution_count": 1,
   "id": "6a139d25-4d73-4289-be57-41ed6d36aca8",
   "metadata": {
    "tags": []
   },
   "outputs": [],
   "source": [
    "# defining location of data\n",
    "raw_data_dir = \"../data/raw\"\n",
    "data_dir = \"../data/processed\"\n",
    "vis_dir  = \"../results\""
   ]
  },
  {
   "cell_type": "markdown",
   "id": "2cb2a434-6e42-4ca1-bd5f-8d8959b21133",
   "metadata": {},
   "source": [
    "<a id='depth'></a>\n",
    "\n",
    "## 2. Statistical Analysis and Correlation with Recovery Speed"
   ]
  },
  {
   "cell_type": "code",
   "execution_count": 2,
   "id": "4fb005df-ca17-4b1f-8e10-26a65d94cacb",
   "metadata": {
    "tags": []
   },
   "outputs": [
    {
     "ename": "NameError",
     "evalue": "name 'pd' is not defined",
     "output_type": "error",
     "traceback": [
      "\u001b[0;31m---------------------------------------------------------------------------\u001b[0m",
      "\u001b[0;31mNameError\u001b[0m                                 Traceback (most recent call last)",
      "Cell \u001b[0;32mIn[2], line 2\u001b[0m\n\u001b[1;32m      1\u001b[0m \u001b[38;5;66;03m# Load metadata\u001b[39;00m\n\u001b[0;32m----> 2\u001b[0m metadata \u001b[38;5;241m=\u001b[39m \u001b[43mpd\u001b[49m\u001b[38;5;241m.\u001b[39mread_csv(\u001b[38;5;124mf\u001b[39m\u001b[38;5;124m\"\u001b[39m\u001b[38;5;132;01m{\u001b[39;00mdata_dir\u001b[38;5;132;01m}\u001b[39;00m\u001b[38;5;124m/metadata.tsv\u001b[39m\u001b[38;5;124m\"\u001b[39m, sep\u001b[38;5;241m=\u001b[39m\u001b[38;5;124m'\u001b[39m\u001b[38;5;130;01m\\t\u001b[39;00m\u001b[38;5;124m'\u001b[39m)\n\u001b[1;32m      4\u001b[0m \u001b[38;5;66;03m# Define diversity metrics\u001b[39;00m\n\u001b[1;32m      5\u001b[0m metrics \u001b[38;5;241m=\u001b[39m [\u001b[38;5;124m'\u001b[39m\u001b[38;5;124mshannon\u001b[39m\u001b[38;5;124m'\u001b[39m, \u001b[38;5;124m'\u001b[39m\u001b[38;5;124mevenness\u001b[39m\u001b[38;5;124m'\u001b[39m, \u001b[38;5;124m'\u001b[39m\u001b[38;5;124mfaith_pd\u001b[39m\u001b[38;5;124m'\u001b[39m]  \u001b[38;5;66;03m# Metrics to analyze\u001b[39;00m\n",
      "\u001b[0;31mNameError\u001b[0m: name 'pd' is not defined"
     ]
    }
   ],
   "source": [
    "# Load metadata\n",
    "metadata = pd.read_csv(f\"{data_dir}/metadata.tsv\", sep='\\t')\n",
    "\n",
    "# Define diversity metrics\n",
    "metrics = ['shannon', 'evenness', 'faith_pd']  # Metrics to analyze\n",
    "results = []  # To store results for each metric\n",
    "\n",
    "# Function to perform Spearman correlation\n",
    "def calculate_spearman(diversity_metric_name, diversity_qza_file, metadata, post_transplant):\n",
    "    # Load diversity vector (.qza file)\n",
    "    diversity_metric = qiime2.Artifact.load(diversity_qza_file)\n",
    "    \n",
    "    # Extract the diversity vector as a pandas Series\n",
    "    diversity_series = diversity_metric.view(pd.Series)\n",
    "    \n",
    "    # Convert to a DataFrame and reset the index\n",
    "    diversity_df = diversity_series.reset_index()\n",
    "    diversity_df.columns = ['sample-id', diversity_metric_name]  # Rename columns for clarity\n",
    "    \n",
    "    # Merge diversity data with metadata\n",
    "    merged = metadata.set_index('sample-id').join(diversity_df.set_index('sample-id'))\n",
    "    \n",
    "    # Filter post-transplantation samples (if only interested in post-transplant)\n",
    "    post_transplant = merged[merged['Cohort_Number'] == 1]\n",
    "    \n",
    "    # Check for missing values and drop rows if necessary\n",
    "    post_transplant = post_transplant.dropna(subset=[diversity_metric_name, 'Recovery_Day'])\n",
    "    \n",
    "    # Check if there are enough samples\n",
    "    n_samples = post_transplant.shape[0]\n",
    "    \n",
    "    # Perform Spearman correlation between the diversity metric and Recovery_Day\n",
    "    correlation, p_value = spearmanr(post_transplant[diversity_metric_name], post_transplant['Recovery_Day'])\n",
    "    \n",
    "    return {\n",
    "        'metric': diversity_metric_name,\n",
    "        'Spearman correlation': correlation,\n",
    "        'p-value': p_value,\n",
    "        'n': n_samples\n",
    "    }\n",
    "\n",
    "# Loop through each metric and calculate the results\n",
    "for metric in metrics:\n",
    "    # Define file paths based on the metric\n",
    "    diversity_qza_file = f\"{data_dir}/core-metrics-results-bt/{metric}_vector.qza\"\n",
    "    \n",
    "    # Calculate Spearman correlation for the current metric\n",
    "    result = calculate_spearman(metric, diversity_qza_file, metadata, post_transplant)\n",
    "    \n",
    "    # Append the result to the results list\n",
    "    results.append(result)\n",
    "\n",
    "# Create a DataFrame to display results\n",
    "results_df = pd.DataFrame(results)\n",
    "\n",
    "# Save results to a CSV file\n",
    "#results_df.to_csv(f\"{data_dir}/alpha_diversity_correlation_results.csv\", index=False) -> change to Excel later\n",
    "\n",
    "# Print the results\n",
    "print(results_df)"
   ]
  },
  {
   "cell_type": "markdown",
   "id": "c059950c-0929-48cb-a6a2-a0abc15b291c",
   "metadata": {},
   "source": [
    "Further steps: What I would like to do is calculate correlation between recovery day with diversity, composition, specific species, features, genes, etc. to see if any of these are predicitive for a quick recovery"
   ]
  }
 ],
 "metadata": {
  "kernelspec": {
   "display_name": "QIIME 2",
   "language": "python",
   "name": "python3"
  },
  "language_info": {
   "codemirror_mode": {
    "name": "ipython",
    "version": 3
   },
   "file_extension": ".py",
   "mimetype": "text/x-python",
   "name": "python",
   "nbconvert_exporter": "python",
   "pygments_lexer": "ipython3",
   "version": "3.9.19"
  }
 },
 "nbformat": 4,
 "nbformat_minor": 5
}
