{
 "cells": [
  {
   "cell_type": "markdown",
   "metadata": {},
   "source": [
    "# Taxonomy classification\n",
    "\n",
    "Author: **Anna Toidze**\n",
    "\n",
    "In this Jupyter Notebook we analyze the taxonomy of the provided samples. That means that we will identify the organisms present in our samples by exploration of the 16S rRNA gene sequence data and the taxonomy assignment of the features into bacterial species.\n",
    "\n",
    "**Notebook overview:**<br>\n",
    "[1. Setup](#setup)<br>\n",
    "[2. Taxonomy assignment](#tax_assignment_main)<br>\n",
    "&nbsp;&nbsp;&nbsp;&nbsp;[2.1 Reference database construction](#ref_db)<br>\n",
    "&nbsp;&nbsp;&nbsp;&nbsp;[2.2 Training taxonomy classifier](#train_classifier)<br>\n",
    "&nbsp;&nbsp;&nbsp;&nbsp;[2.3 Taxonomy assignment](#tax_assignment)<br>\n",
    "&nbsp;&nbsp;&nbsp;&nbsp;[2.4 Taxonomy visualization](#tax_visualization)<br>\n",
    "&nbsp;&nbsp;&nbsp;&nbsp;[2.5 Exploring feature data with pandas](#yay_pandas)<br>\n",
    "&nbsp;&nbsp;&nbsp;&nbsp;[2.6 Plotting the taxonomy](#plotting)<br>\n",
    "\n",
    "We will be following the following [tutorial](!https://forum.qiime2.org/t/processing-filtering-and-evaluating-the-silva-database-and-other-reference-sequence-data-with-rescript/15494?u=nicholas_bokulich) and also using the exercise from W4 as a reference."
   ]
  },
  {
   "cell_type": "markdown",
   "metadata": {},
   "source": [
    "<a id='setup'></a>\n",
    "\n",
    "## 1. Setup"
   ]
  },
  {
   "cell_type": "markdown",
   "metadata": {},
   "source": [
    "The cell below will import all the packages required in the downstream analyses as well as set all the necessary variables and data paths."
   ]
  },
  {
   "cell_type": "code",
   "execution_count": 2,
   "metadata": {},
   "outputs": [],
   "source": [
    "import os\n",
    "import pandas as pd\n",
    "import matplotlib.pyplot as plt\n",
    "import matplotlib.cm as cm\n",
    "import matplotlib.colors as x\n",
    "import numpy as np\n",
    "\n",
    "import qiime2 as q2\n",
    "\n",
    "%matplotlib inline"
   ]
  },
  {
   "cell_type": "code",
   "execution_count": 3,
   "metadata": {},
   "outputs": [],
   "source": [
    "# assigning variables throughout the notebook\n",
    "\n",
    "# location of this week's data and all the results produced by this notebook\n",
    "# - this should be a path relative to your working directory\n",
    "raw_data_dir = \"../data/raw\"\n",
    "data_dir = \"../data/processed\"\n",
    "vis_dir  = \"../results\""
   ]
  },
  {
   "cell_type": "markdown",
   "metadata": {},
   "source": [
    "<a id='tax_assignment_main'></a>\n",
    "\n",
    "## 2. Taxonomy assignment\n",
    "\n",
    "We will use a machine learning classifier trained on a reference database to classify the corresponding species. Here, we will be using the SILVA database [3], which targets bacterial rRNA genes, is curated by experts and contains uncultured sequences, which could be useful for our research. We will construct a reference database to train the classifier on it and then use it to identify our species. \n"
   ]
  },
  {
   "cell_type": "markdown",
   "metadata": {},
   "source": [
    "<a id='ref_db'></a>\n",
    "\n",
    "### 2.1 Reference database construction\n",
    "\n",
    "In this step, we will:\n",
    "\n",
    "- Retrieve the SILVA 16S RefSeqs database (**v. 138.1**) using the `RESCRIPt` plugin\n",
    "- Refine the database by removing sequences of potentially lower quality\n",
    "- Extract the target region from the 16S rRNA gene, based on the primers used for amplifying the NGS library\n",
    "\n",
    "**About RESCRIPt:**  \n",
    "`RESCRIPt` (Reference Sequence Annotation and Curation Pipeline) is a Python package and QIIME 2 plugin designed for formatting, managing, and curating sequence reference databases. It supports the assembly, modification, and evaluation of databases from sources like SILVA, NCBI, Greengenes, and GTDB, and aids in creating reference databases for use with QIIME 2 or other microbiome analysis software and taxonomy classifiers."
   ]
  },
  {
   "cell_type": "markdown",
   "metadata": {},
   "source": [
    "There is an easy way to create a reference database, which in gritty details would include: \n",
    "\n",
    "- downloading Taxonomy rank, Taxonomy map, Taxonomy tree files and SILVA NR99 sequences (non-redundant and unaligned).\n",
    "- importing all of these files into QIIIME 2\n",
    "- reverse transribing the RNA sequences stored in SILVA database (`FeatureData[RNASequence]`) to DNA (`FeatureData[DNASequence]`)\n",
    "- preparing the silva taxonomy by uniting all the Taxonomy files.\n",
    "  \n",
    "Thankfully, we could skip all of the individual steps (except reverse transription) by the following command (but individual steps can be looked up in the cited tutorial). \n",
    "\n",
    "#### 2.1.1 Data download"
   ]
  },
  {
   "cell_type": "code",
   "execution_count": 4,
   "metadata": {},
   "outputs": [
    {
     "name": "stderr",
     "output_type": "stream",
     "text": [
      "536.75s - pydevd: Sending message related to process being replaced timed-out after 5 seconds\n"
     ]
    },
    {
     "name": "stdout",
     "output_type": "stream",
     "text": [
      "\u001b[32mSaved FeatureData[RNASequence] to: ../data/raw/silva-138.1-ssu-nr99-rna-seqs.qza\u001b[0m\n",
      "\u001b[32mSaved FeatureData[Taxonomy] to: ../data/raw/silva-138.1-ssu-nr99-tax.qza\u001b[0m\n",
      "\u001b[0m"
     ]
    }
   ],
   "source": [
    "! qiime rescript get-silva-data \\\n",
    "    --p-version '138.1' \\\n",
    "    --p-target 'SSURef_NR99' \\\n",
    "    --o-silva-sequences $data_dir/silva-138.1-ssu-nr99-rna-seqs.qza \\\n",
    "    --o-silva-taxonomy $data_dir/silva-138.1-ssu-nr99-tax.qza"
   ]
  },
  {
   "cell_type": "markdown",
   "metadata": {},
   "source": [
    "The data in SILVA is stored as RNA sequences, imported as `FeatureData[RNASequence]`. To ensure compatibility in downstream processes, we’ll convert the data to `FeatureData[DNASequence]` as follows:"
   ]
  },
  {
   "cell_type": "code",
   "execution_count": 6,
   "metadata": {},
   "outputs": [
    {
     "name": "stderr",
     "output_type": "stream",
     "text": [
      "717.13s - pydevd: Sending message related to process being replaced timed-out after 5 seconds\n"
     ]
    },
    {
     "name": "stdout",
     "output_type": "stream",
     "text": [
      "\u001b[32mSaved FeatureData[Sequence] to: ../data/raw/silva-138.1-ssu-nr99-seqs.qza\u001b[0m\n",
      "\u001b[0m"
     ]
    }
   ],
   "source": [
    "! qiime rescript reverse-transcribe \\\n",
    "    --i-rna-sequences $data_dir/silva-138.1-ssu-nr99-rna-seqs.qza \\\n",
    "    --o-dna-sequences $data_dir/silva-138.1-ssu-nr99-seqs.qza"
   ]
  },
  {
   "cell_type": "markdown",
   "metadata": {},
   "source": [
    "#### 2.1.2 Database curation\n",
    "\n",
    "##### Culling\n",
    "In this step, we’re “culling” low-quality sequences using `cull-seqs`. Specifically, we’ll filter out sequences containing 5 or more ambiguous bases (IUPAC-compliant ambiguity codes) and any homopolymers with a length of 8 or more bases."
   ]
  },
  {
   "cell_type": "code",
   "execution_count": 8,
   "metadata": {},
   "outputs": [
    {
     "name": "stderr",
     "output_type": "stream",
     "text": [
      "865.12s - pydevd: Sending message related to process being replaced timed-out after 5 seconds\n"
     ]
    },
    {
     "name": "stdout",
     "output_type": "stream",
     "text": [
      "\u001b[32mSaved FeatureData[Sequence] to: ../data/raw/silva-138.1-ssu-nr99-seqs-cleaned.qza\u001b[0m\n",
      "\u001b[0m"
     ]
    }
   ],
   "source": [
    "! qiime rescript cull-seqs \\\n",
    "    --i-sequences $data_dir/silva-138.1-ssu-nr99-seqs.qza \\\n",
    "    --o-clean-sequences $data_dir/silva-138.1-ssu-nr99-seqs-cleaned.qza"
   ]
  },
  {
   "cell_type": "markdown",
   "metadata": {},
   "source": [
    "##### Filtering sequences by length and taxonomy\n",
    "\n",
    "Instead of applying a uniform length filter across all reference sequences, we’ll filter based on taxonomy to avoid bias. For example, removing sequences shorter than 1000 or 1200 bp would disproportionately eliminate many Archaea and some Bacteria sequences, potentially increasing retention of shorter, lower-quality Bacterial or Eukaryal sequences, leading to selection bias in the database. To address this, we’ll filter sequences by length criteria specific to each taxonomic group: Archaea (16S) ≥ 900 bp, Bacteria (16S) ≥ 1200 bp, and Eukaryota (18S) ≥ 1400 bp. Refer to the help text for more details."
   ]
  },
  {
   "cell_type": "code",
   "execution_count": 9,
   "metadata": {},
   "outputs": [
    {
     "name": "stderr",
     "output_type": "stream",
     "text": [
      "1157.00s - pydevd: Sending message related to process being replaced timed-out after 5 seconds\n"
     ]
    },
    {
     "name": "stdout",
     "output_type": "stream",
     "text": [
      "\u001b[32mSaved FeatureData[Sequence] to: ../data/raw/silva-138.1-ssu-nr99-seqs-filt.qza\u001b[0m\n",
      "\u001b[32mSaved FeatureData[Sequence] to: ../data/raw/silva-138.1-ssu-nr99-seqs-discard.qza\u001b[0m\n",
      "\u001b[0m"
     ]
    }
   ],
   "source": [
    "! qiime rescript filter-seqs-length-by-taxon \\\n",
    "    --i-sequences $data_dir/silva-138.1-ssu-nr99-seqs-cleaned.qza \\\n",
    "    --i-taxonomy $data_dir/silva-138.1-ssu-nr99-tax.qza \\\n",
    "    --p-labels Archaea Bacteria Eukaryota \\\n",
    "    --p-min-lens 900 1200 1400 \\\n",
    "    --o-filtered-seqs $data_dir/silva-138.1-ssu-nr99-seqs-filt.qza \\\n",
    "    --o-discarded-seqs $data_dir/silva-138.1-ssu-nr99-seqs-discard.qza \n"
   ]
  },
  {
   "cell_type": "markdown",
   "metadata": {},
   "source": [
    "##### Dereplicating Sequences and Taxonomy\n",
    "According to the notes on the SILVA 138.1 NR99 842 release, there may be identical full-length sequences with either the same or different taxonomies. To streamline the data before further processing, we’ll first dereplicate it, removing redundant sequence entries. We’ll use the default `uniq` mode here, which retains identical sequences even if they have different taxonomies. "
   ]
  },
  {
   "cell_type": "code",
   "execution_count": 10,
   "metadata": {},
   "outputs": [
    {
     "name": "stderr",
     "output_type": "stream",
     "text": [
      "1308.42s - pydevd: Sending message related to process being replaced timed-out after 5 seconds\n"
     ]
    },
    {
     "name": "stdout",
     "output_type": "stream",
     "text": [
      "\u001b[32mSaved FeatureData[Sequence] to: ../data/raw/silva-138.1-ssu-nr99-seqs-derep-uniq.qza\u001b[0m\n",
      "\u001b[32mSaved FeatureData[Taxonomy] to: ../data/raw/silva-138.1-ssu-nr99-tax-derep-uniq.qza\u001b[0m\n",
      "\u001b[0m"
     ]
    }
   ],
   "source": [
    "! qiime rescript dereplicate \\\n",
    "    --i-sequences $data_dir/silva-138.1-ssu-nr99-seqs-filt.qza  \\\n",
    "    --i-taxa $data_dir/silva-138.1-ssu-nr99-tax.qza \\\n",
    "    --p-mode 'uniq' \\\n",
    "    --o-dereplicated-sequences $data_dir/silva-138.1-ssu-nr99-seqs-derep-uniq.qza \\\n",
    "    --o-dereplicated-taxa $data_dir/silva-138.1-ssu-nr99-tax-derep-uniq.qza"
   ]
  },
  {
   "cell_type": "markdown",
   "metadata": {},
   "source": [
    "##### Fit classifier"
   ]
  },
  {
   "cell_type": "markdown",
   "metadata": {},
   "source": [
    "This is not an amplicon-region specific classifier, but could be used for other purposes. "
   ]
  },
  {
   "cell_type": "code",
   "execution_count": 11,
   "metadata": {},
   "outputs": [
    {
     "name": "stderr",
     "output_type": "stream",
     "text": [
      "1453.91s - pydevd: Sending message related to process being replaced timed-out after 5 seconds\n"
     ]
    },
    {
     "name": "stdout",
     "output_type": "stream",
     "text": [
      "\u001b[32mSaved TaxonomicClassifier to: ../data/raw/silva-138.1-ssu-nr99-classifier.qza\u001b[0m\n",
      "\u001b[0m"
     ]
    }
   ],
   "source": [
    "! qiime feature-classifier fit-classifier-naive-bayes \\\n",
    "  --i-reference-reads  $data_dir/silva-138.1-ssu-nr99-seqs-derep-uniq.qza \\\n",
    "  --i-reference-taxonomy $data_dir/silva-138.1-ssu-nr99-tax-derep-uniq.qza \\\n",
    "  --o-classifier $data_dir/silva-138.1-ssu-nr99-classifier.qza"
   ]
  },
  {
   "cell_type": "markdown",
   "metadata": {},
   "source": [
    "#### 2.1.3 Creating an Amplicon-Region Specific Classifier by PCR-region extraction\n",
    "\n",
    "\n",
    "\n",
    "Creating an Amplicon-Region Specific Classifier\n",
    "In this section, we’ll cover how to build an amplicon-specific classifier, which enables more accurate taxonomic classification of sequencing data (Werner et al. 2011, Bokulich et al. 2018). To achieve this, we’ll use the same primer sequences from our PCR/sequencing to extract the targeted amplicon region from the reference database. Following primers in the 5'-3' direction were used for amplification:\n",
    "\n",
    "- Forward primer: ACTCCTRCGGGAGGCAGCAG\n",
    "- Reverse primer: GGACTACHVGGGTATCTAATCCTGT\n",
    "\n",
    "We’ll extract this amplicon region from our pre-filtered full-length sequences. Additionally, we’ll set --p-read-orientation 'forward', aligning with the forward-curated orientation of the SILVA database, which allows for quicker processing without accounting for mixed orientations during primer search.\n",
    "\n",
    "Since classifiers perform best when trained on data that precisely matches the amplicon region used for later identification, extracting this region from the full RNA sequences in the database is crucial. Primer sequences can also be located in experiment metadata, such as through the SRA Run Selector for additional details."
   ]
  },
  {
   "cell_type": "code",
   "execution_count": 32,
   "metadata": {},
   "outputs": [
    {
     "name": "stderr",
     "output_type": "stream",
     "text": [
      "85454.64s - pydevd: Sending message related to process being replaced timed-out after 5 seconds\n"
     ]
    },
    {
     "name": "stdout",
     "output_type": "stream",
     "text": [
      "\u001b[32mSaved FeatureData[Sequence] to: ../data/processed/silva-138.1-ssu-nr99-seqs-515f-806r.qza\u001b[0m\n",
      "\u001b[0m"
     ]
    }
   ],
   "source": [
    "!qiime feature-classifier extract-reads \\\n",
    "    --i-sequences  $data_dir/silva-138.1-ssu-nr99-seqs-derep-uniq.qza \\\n",
    "    --p-f-primer ACTCCTRCGGGAGGCAGCAG \\\n",
    "    --p-r-primer GGACTACHVGGGTATCTAATCCTGTT \\\n",
    "    --p-n-jobs 8 \\\n",
    "    --p-read-orientation 'forward' \\\n",
    "    --o-reads  $data_dir/silva-138.1-ssu-nr99-seqs-515f-806r.qza"
   ]
  },
  {
   "cell_type": "markdown",
   "metadata": {},
   "source": [
    "##### Dereplicating the Extracted Region\n",
    "Although we previously dereplicated the full-length sequences, we’ll repeat this step because the extracted amplicon regions may now be identical across shorter sequences. This process will reduce the database size by removing redundant entries where different full-length sequences now share identical taxonomy in the extracted region.\n",
    "\n",
    "Some unique sequences may also correspond to different taxonomies (e.g., at the genus level) after extraction, requiring us to choose an appropriate handling method. We can manage these cases by selecting one of the available --p-mode options to guide the taxonomy assignment for these sequences."
   ]
  },
  {
   "cell_type": "code",
   "execution_count": 33,
   "metadata": {},
   "outputs": [
    {
     "name": "stderr",
     "output_type": "stream",
     "text": [
      "85658.98s - pydevd: Sending message related to process being replaced timed-out after 5 seconds\n"
     ]
    },
    {
     "name": "stdout",
     "output_type": "stream",
     "text": [
      "\u001b[32mSaved FeatureData[Sequence] to: ../data/processed/silva-138.1-ssu-nr99-seqs-515f-806r-uniq.qza\u001b[0m\n",
      "\u001b[32mSaved FeatureData[Taxonomy] to: ../data/processed/silva-138.1-ssu-nr99-tax-515f-806r-derep-uniq.qza\u001b[0m\n",
      "\u001b[0m"
     ]
    }
   ],
   "source": [
    "! qiime rescript dereplicate \\\n",
    "    --i-sequences $data_dir/silva-138.1-ssu-nr99-seqs-515f-806r.qza \\\n",
    "    --i-taxa $data_dir/silva-138.1-ssu-nr99-tax-derep-uniq.qza \\\n",
    "    --p-threads 8 \\\n",
    "    --p-mode 'uniq' \\\n",
    "    --o-dereplicated-sequences $data_dir/silva-138.1-ssu-nr99-seqs-515f-806r-uniq.qza \\\n",
    "    --o-dereplicated-taxa  $data_dir/silva-138.1-ssu-nr99-tax-515f-806r-derep-uniq.qza"
   ]
  },
  {
   "cell_type": "markdown",
   "metadata": {},
   "source": [
    "<a id='train_classifier'></a>\n",
    "\n",
    "### 2.2 Training taxonomy classifier"
   ]
  },
  {
   "cell_type": "markdown",
   "metadata": {},
   "source": [
    "We’re now ready to train our machine learning classifier using the extracted, dereplicated reads as inputs and their corresponding taxonomies as outputs. We will train a Naive Bayes classifier, known for its strong classification performance and low computational cost."
   ]
  },
  {
   "cell_type": "code",
   "execution_count": 34,
   "metadata": {},
   "outputs": [
    {
     "name": "stderr",
     "output_type": "stream",
     "text": [
      "85736.71s - pydevd: Sending message related to process being replaced timed-out after 5 seconds\n"
     ]
    },
    {
     "name": "stdout",
     "output_type": "stream",
     "text": [
      "\u001b[32mSaved TaxonomicClassifier to: ../data/processed/silva-138.1-ssu-nr99-515f-806r-classifier.qza\u001b[0m\n",
      "\u001b[0m"
     ]
    }
   ],
   "source": [
    "! qiime feature-classifier fit-classifier-naive-bayes \\\n",
    "    --i-reference-reads $data_dir/silva-138.1-ssu-nr99-seqs-515f-806r-uniq.qza \\\n",
    "    --i-reference-taxonomy $data_dir/silva-138.1-ssu-nr99-tax-515f-806r-derep-uniq.qza \\\n",
    "    --p-classify--chunk-size 4000 \\\n",
    "    --o-classifier $data_dir/silva-138.1-ssu-nr99-515f-806r-classifier.qza # \\\n",
    "    # if [ ! $? -eq 0 ]; then echo \"Command failed - most likely reason is not enough memory.\"; fi"
   ]
  },
  {
   "cell_type": "markdown",
   "metadata": {},
   "source": [
    "<a id='tax_assignment'></a>\n",
    "\n",
    "### 2.3 Taxonomy Assignment\n",
    "\n",
    "We’re now prepared to assign taxonomy labels to the ASVs from data download and preprocessing. To do this, we will use the `classify-sklearn` action from the `feature-classifier` plugin. This action requires two inputs:\n",
    "\n",
    "- The classifier trained in the previous step\n",
    "- The sequences to be classified\n",
    "\n",
    "This process will utilize the `FeatureData[Sequence]` artifact containing our ASVs which we generated in the previous notebook `01_data_download_and_preprocessing.ipynb`."
   ]
  },
  {
   "cell_type": "code",
   "execution_count": 35,
   "metadata": {},
   "outputs": [
    {
     "name": "stderr",
     "output_type": "stream",
     "text": [
      "86050.58s - pydevd: Sending message related to process being replaced timed-out after 5 seconds\n"
     ]
    },
    {
     "name": "stdout",
     "output_type": "stream",
     "text": [
      "\u001b[32mSaved FeatureData[Taxonomy] to: ../data/processed/taxonomy.qza\u001b[0m\n",
      "\u001b[0m"
     ]
    }
   ],
   "source": [
    "! qiime feature-classifier classify-sklearn \\\n",
    "    --i-classifier $data_dir/silva-138.1-ssu-nr99-515f-806r-classifier.qza  \\\n",
    "    --i-reads $data_dir/rep-seqs.qza \\\n",
    "    --o-classification $data_dir/taxonomy.qza"
   ]
  },
  {
   "cell_type": "markdown",
   "metadata": {},
   "source": [
    "<a id='tax_visualization'></a>\n",
    "\n",
    "### 2.4 Taxonomy Visualization\n",
    "\n",
    "Now, let’s examine the composition of our samples. We can start by creating a tabular representation of all the features along with their corresponding taxonomy labels:"
   ]
  },
  {
   "cell_type": "code",
   "execution_count": 36,
   "metadata": {},
   "outputs": [
    {
     "name": "stderr",
     "output_type": "stream",
     "text": [
      "86067.95s - pydevd: Sending message related to process being replaced timed-out after 5 seconds\n"
     ]
    },
    {
     "name": "stdout",
     "output_type": "stream",
     "text": [
      "\u001b[32mSaved Visualization to: ../data/processed/taxonomy.qzv\u001b[0m\n",
      "\u001b[0m"
     ]
    }
   ],
   "source": [
    "! qiime metadata tabulate \\\n",
    "    --m-input-file $data_dir/taxonomy.qza \\\n",
    "    --o-visualization $data_dir/taxonomy.qzv"
   ]
  },
  {
   "cell_type": "code",
   "execution_count": null,
   "metadata": {},
   "outputs": [],
   "source": [
    "! qiime tools view $data_dir/taxonomy.qzv"
   ]
  },
  {
   "cell_type": "markdown",
   "metadata": {},
   "source": [
    "##### Barplotting"
   ]
  },
  {
   "cell_type": "code",
   "execution_count": 37,
   "metadata": {},
   "outputs": [
    {
     "name": "stderr",
     "output_type": "stream",
     "text": [
      "86079.55s - pydevd: Sending message related to process being replaced timed-out after 5 seconds\n"
     ]
    },
    {
     "name": "stdout",
     "output_type": "stream",
     "text": [
      "\u001b[32mSaved Visualization to: ../data/processed/taxa-bar-plots.qzv\u001b[0m\n",
      "\u001b[0m"
     ]
    }
   ],
   "source": [
    "! qiime taxa barplot \\\n",
    "    --i-table $data_dir/table.qza \\\n",
    "    --i-taxonomy $data_dir/taxonomy.qza \\\n",
    "    --m-metadata-file $data_dir/metadata.tsv\\\n",
    "    --o-visualization $data_dir/taxa-bar-plots.qzv"
   ]
  },
  {
   "cell_type": "code",
   "execution_count": 54,
   "metadata": {},
   "outputs": [
    {
     "name": "stderr",
     "output_type": "stream",
     "text": [
      "156287.36s - pydevd: Sending message related to process being replaced timed-out after 5 seconds\n"
     ]
    },
    {
     "name": "stdout",
     "output_type": "stream",
     "text": [
      "Press the 'q' key, Control-C, or Control-D to quit. This view may no longer be accessible or work correctly after quitting.\n",
      "Press the 'q' key, Control-C, or Control-D to quit. This view may no longer be accessible or work correctly after quitting."
     ]
    }
   ],
   "source": [
    "! qiime tools view $data_dir/taxa-bar-plots.qzv"
   ]
  },
  {
   "cell_type": "markdown",
   "metadata": {},
   "source": [
    "### Filtering feature tables and sequences based on taxonomy annotations\n"
   ]
  },
  {
   "cell_type": "markdown",
   "metadata": {},
   "source": [
    "We need to filter out sequences, classified only to the phylum or class level, as these are often non-target sequences (e.g., host or dietary DNA traces) and potential contaminants. In host-associated microbiome samples, typical contaminants include mitochondria and chloroplasts. Here, we also discovered Unassigned class, which we exclude. \n",
    "\n",
    "This filtering process can be applied by providing the feature table and the taxonomic annotations created earlier. To include only specific features, the `--p-include` parameter specifies that an annotation must contain the prefix `c__`, which in the SILVA taxonomy denotes class-level assignments. Any taxonomic labels lacking c__ will thus be assigned to the phylum level at most. Additionally, this filter will exclude features labeled only with c__ (indicating that no named class was assigned) and annotations containing \"Chloroplast\" or \"Mitochondria\" (which correspond to organelle 16S sequences) or \"Unassigned\".\n",
    "\n"
   ]
  },
  {
   "cell_type": "code",
   "execution_count": 51,
   "metadata": {},
   "outputs": [
    {
     "name": "stderr",
     "output_type": "stream",
     "text": [
      "155957.41s - pydevd: Sending message related to process being replaced timed-out after 5 seconds\n"
     ]
    },
    {
     "name": "stdout",
     "output_type": "stream",
     "text": [
      "\u001b[32mSaved FeatureTable[Frequency] to: ../data/processed/table-filtered.qza\u001b[0m\n",
      "\u001b[0m"
     ]
    },
    {
     "name": "stderr",
     "output_type": "stream",
     "text": [
      "155974.98s - pydevd: Sending message related to process being replaced timed-out after 5 seconds\n"
     ]
    },
    {
     "name": "stdout",
     "output_type": "stream",
     "text": [
      "\u001b[32mSaved FeatureData[Sequence] to: ../data/processed/rep-seqs-filtered.qza\u001b[0m\n",
      "\u001b[0m"
     ]
    }
   ],
   "source": [
    "! qiime taxa filter-table \\\n",
    "    --i-table $data_dir/table.qza \\\n",
    "    --i-taxonomy $data_dir/taxonomy.qza \\\n",
    "    --p-exclude Unassigned,mitochondria,chloroplast \\\n",
    "    --p-include c__ \\\n",
    "    --o-filtered-table $data_dir/table-filtered.qza\n",
    "\n",
    "! qiime taxa filter-seqs \\\n",
    "    --i-sequences $data_dir/rep-seqs.qza \\\n",
    "    --i-taxonomy $data_dir/taxonomy.qza \\\n",
    "    --p-exclude Unassigned,mitochondria,chloroplast \\\n",
    "    --p-include c__ \\\n",
    "    --o-filtered-sequences $data_dir/rep-seqs-filtered.qza"
   ]
  },
  {
   "cell_type": "code",
   "execution_count": 52,
   "metadata": {},
   "outputs": [
    {
     "name": "stderr",
     "output_type": "stream",
     "text": [
      "155990.49s - pydevd: Sending message related to process being replaced timed-out after 5 seconds\n"
     ]
    },
    {
     "name": "stdout",
     "output_type": "stream",
     "text": [
      "\u001b[32mSaved Visualization to: ../data/processed/taxa-bar-plots-filtered.qzv\u001b[0m\n",
      "\u001b[0m"
     ]
    }
   ],
   "source": [
    "! qiime taxa barplot \\\n",
    "    --i-table $data_dir/table-filtered.qza \\\n",
    "    --i-taxonomy $data_dir/taxonomy.qza \\\n",
    "    --m-metadata-file $data_dir/metadata.tsv \\\n",
    "    --o-visualization $data_dir/taxa-bar-plots-filtered.qzv"
   ]
  },
  {
   "cell_type": "code",
   "execution_count": 4,
   "metadata": {},
   "outputs": [
    {
     "name": "stdout",
     "output_type": "stream",
     "text": [
      "Press the 'q' key, Control-C, or Control-D to quit. This view may no longer be accessible or work correctly after quitting.\n",
      "Press the 'q' key, Control-C, or Control-D to quit. This view may no longer be accessible or work correctly after quitting."
     ]
    }
   ],
   "source": [
    "!qiime tools view $data_dir/taxa-bar-plots-filtered.qzv"
   ]
  },
  {
   "cell_type": "markdown",
   "metadata": {},
   "source": [
    "<a id='yay_pandas'></a>\n",
    "\n",
    "### 2.5 Exploring feature data with pandas"
   ]
  },
  {
   "cell_type": "code",
   "execution_count": 157,
   "metadata": {},
   "outputs": [],
   "source": [
    "# first let's increase the displayed column width, as some of the taxonomy annotations\n",
    "# are quite long and get cut off in the default display.\n",
    "pd.set_option('max_colwidth', 150)"
   ]
  },
  {
   "cell_type": "code",
   "execution_count": 158,
   "metadata": {},
   "outputs": [],
   "source": [
    "# note: QIIME 2 artifact files can be loaded as python objects! This is how.\n",
    "taxa = q2.Artifact.load(f'{data_dir}/taxonomy.qza')\n",
    "# view as a `pandas.DataFrame`. Note: Only some Artifact types can be transformed to DataFrames\n",
    "taxa = taxa.view(pd.DataFrame)"
   ]
  },
  {
   "cell_type": "code",
   "execution_count": 227,
   "metadata": {},
   "outputs": [
    {
     "data": {
      "text/html": [
       "<div>\n",
       "<style scoped>\n",
       "    .dataframe tbody tr th:only-of-type {\n",
       "        vertical-align: middle;\n",
       "    }\n",
       "\n",
       "    .dataframe tbody tr th {\n",
       "        vertical-align: top;\n",
       "    }\n",
       "\n",
       "    .dataframe thead th {\n",
       "        text-align: right;\n",
       "    }\n",
       "</style>\n",
       "<table border=\"1\" class=\"dataframe\">\n",
       "  <thead>\n",
       "    <tr style=\"text-align: right;\">\n",
       "      <th></th>\n",
       "      <th>Taxon</th>\n",
       "      <th>Confidence</th>\n",
       "    </tr>\n",
       "    <tr>\n",
       "      <th>Feature ID</th>\n",
       "      <th></th>\n",
       "      <th></th>\n",
       "    </tr>\n",
       "  </thead>\n",
       "  <tbody>\n",
       "    <tr>\n",
       "      <th>65c81b7f020fa6530e5995cfadbed4b8</th>\n",
       "      <td>d__Bacteria;p__Firmicutes;c__Clostridia;o__Lachnospirales;f__Lachnospiraceae;g__Blautia;s__</td>\n",
       "      <td>0.995352999769101</td>\n",
       "    </tr>\n",
       "    <tr>\n",
       "      <th>3b5167fc05d221e402cb1748506b8442</th>\n",
       "      <td>d__Bacteria;p__Firmicutes;c__Clostridia;o__Lachnospirales;f__Lachnospiraceae;g__Blautia;s__</td>\n",
       "      <td>0.9947820597188002</td>\n",
       "    </tr>\n",
       "    <tr>\n",
       "      <th>8b03f72e05e140685a739928d4dd2619</th>\n",
       "      <td>d__Bacteria;p__Firmicutes;c__Clostridia;o__Lachnospirales;f__Lachnospiraceae;g__Blautia;s__</td>\n",
       "      <td>0.9806855368923134</td>\n",
       "    </tr>\n",
       "    <tr>\n",
       "      <th>dc5e130892eb358854eb477a790f8af9</th>\n",
       "      <td>d__Bacteria;p__Actinobacteriota;c__Actinobacteria;o__Bifidobacteriales;f__Bifidobacteriaceae;g__Bifidobacterium;s__</td>\n",
       "      <td>0.999971217732479</td>\n",
       "    </tr>\n",
       "    <tr>\n",
       "      <th>9b4ec0ce1b21a5a1172c2f0452d9f241</th>\n",
       "      <td>d__Bacteria;p__Verrucomicrobiota;c__Verrucomicrobiae;o__Verrucomicrobiales;f__Akkermansiaceae;g__Akkermansia;s__</td>\n",
       "      <td>0.9999999999999716</td>\n",
       "    </tr>\n",
       "    <tr>\n",
       "      <th>20898187149c3e7f0a482709960f130b</th>\n",
       "      <td>d__Bacteria;p__Firmicutes;c__Clostridia;o__Lachnospirales;f__Lachnospiraceae;g__Dorea;s__</td>\n",
       "      <td>0.9938838415196969</td>\n",
       "    </tr>\n",
       "    <tr>\n",
       "      <th>43ead7aa9cfdad4f483a1ddabe1b3a6e</th>\n",
       "      <td>d__Bacteria;p__Firmicutes;c__Clostridia;o__Peptostreptococcales-Tissierellales;f__Peptostreptococcaceae;g__Intestinibacter;s__</td>\n",
       "      <td>0.9886554004334034</td>\n",
       "    </tr>\n",
       "    <tr>\n",
       "      <th>0182133cb1244e92ed02de4137f6c59b</th>\n",
       "      <td>d__Bacteria;p__Firmicutes;c__Clostridia;o__Peptostreptococcales-Tissierellales;f__Peptostreptococcaceae;g__Terrisporobacter;s__</td>\n",
       "      <td>0.9992741070800925</td>\n",
       "    </tr>\n",
       "    <tr>\n",
       "      <th>ab77d8f021728a5119d41179672e75a4</th>\n",
       "      <td>d__Bacteria;p__Firmicutes;c__Clostridia;o__Lachnospirales;f__Lachnospiraceae;g__Agathobacter;s__</td>\n",
       "      <td>0.9634819981564366</td>\n",
       "    </tr>\n",
       "    <tr>\n",
       "      <th>6c147f01e54eaf3caf57083f85cb11c0</th>\n",
       "      <td>d__Bacteria;p__Firmicutes;c__Clostridia;o__Lachnospirales;f__Lachnospiraceae;g__Lachnoclostridium;s__</td>\n",
       "      <td>0.9072172108057477</td>\n",
       "    </tr>\n",
       "  </tbody>\n",
       "</table>\n",
       "</div>"
      ],
      "text/plain": [
       "                                                                                                                                                            Taxon  \\\n",
       "Feature ID                                                                                                                                                          \n",
       "65c81b7f020fa6530e5995cfadbed4b8                                      d__Bacteria;p__Firmicutes;c__Clostridia;o__Lachnospirales;f__Lachnospiraceae;g__Blautia;s__   \n",
       "3b5167fc05d221e402cb1748506b8442                                      d__Bacteria;p__Firmicutes;c__Clostridia;o__Lachnospirales;f__Lachnospiraceae;g__Blautia;s__   \n",
       "8b03f72e05e140685a739928d4dd2619                                      d__Bacteria;p__Firmicutes;c__Clostridia;o__Lachnospirales;f__Lachnospiraceae;g__Blautia;s__   \n",
       "dc5e130892eb358854eb477a790f8af9              d__Bacteria;p__Actinobacteriota;c__Actinobacteria;o__Bifidobacteriales;f__Bifidobacteriaceae;g__Bifidobacterium;s__   \n",
       "9b4ec0ce1b21a5a1172c2f0452d9f241                 d__Bacteria;p__Verrucomicrobiota;c__Verrucomicrobiae;o__Verrucomicrobiales;f__Akkermansiaceae;g__Akkermansia;s__   \n",
       "20898187149c3e7f0a482709960f130b                                        d__Bacteria;p__Firmicutes;c__Clostridia;o__Lachnospirales;f__Lachnospiraceae;g__Dorea;s__   \n",
       "43ead7aa9cfdad4f483a1ddabe1b3a6e   d__Bacteria;p__Firmicutes;c__Clostridia;o__Peptostreptococcales-Tissierellales;f__Peptostreptococcaceae;g__Intestinibacter;s__   \n",
       "0182133cb1244e92ed02de4137f6c59b  d__Bacteria;p__Firmicutes;c__Clostridia;o__Peptostreptococcales-Tissierellales;f__Peptostreptococcaceae;g__Terrisporobacter;s__   \n",
       "ab77d8f021728a5119d41179672e75a4                                 d__Bacteria;p__Firmicutes;c__Clostridia;o__Lachnospirales;f__Lachnospiraceae;g__Agathobacter;s__   \n",
       "6c147f01e54eaf3caf57083f85cb11c0                            d__Bacteria;p__Firmicutes;c__Clostridia;o__Lachnospirales;f__Lachnospiraceae;g__Lachnoclostridium;s__   \n",
       "\n",
       "                                          Confidence  \n",
       "Feature ID                                            \n",
       "65c81b7f020fa6530e5995cfadbed4b8   0.995352999769101  \n",
       "3b5167fc05d221e402cb1748506b8442  0.9947820597188002  \n",
       "8b03f72e05e140685a739928d4dd2619  0.9806855368923134  \n",
       "dc5e130892eb358854eb477a790f8af9   0.999971217732479  \n",
       "9b4ec0ce1b21a5a1172c2f0452d9f241  0.9999999999999716  \n",
       "20898187149c3e7f0a482709960f130b  0.9938838415196969  \n",
       "43ead7aa9cfdad4f483a1ddabe1b3a6e  0.9886554004334034  \n",
       "0182133cb1244e92ed02de4137f6c59b  0.9992741070800925  \n",
       "ab77d8f021728a5119d41179672e75a4  0.9634819981564366  \n",
       "6c147f01e54eaf3caf57083f85cb11c0  0.9072172108057477  "
      ]
     },
     "execution_count": 227,
     "metadata": {},
     "output_type": "execute_result"
    }
   ],
   "source": [
    "taxa.head(10)"
   ]
  },
  {
   "cell_type": "code",
   "execution_count": 160,
   "metadata": {},
   "outputs": [],
   "source": [
    "taxa_sorted = taxa.sort_values(\"Confidence\")"
   ]
  },
  {
   "cell_type": "code",
   "execution_count": 228,
   "metadata": {},
   "outputs": [
    {
     "data": {
      "text/html": [
       "<div>\n",
       "<style scoped>\n",
       "    .dataframe tbody tr th:only-of-type {\n",
       "        vertical-align: middle;\n",
       "    }\n",
       "\n",
       "    .dataframe tbody tr th {\n",
       "        vertical-align: top;\n",
       "    }\n",
       "\n",
       "    .dataframe thead th {\n",
       "        text-align: right;\n",
       "    }\n",
       "</style>\n",
       "<table border=\"1\" class=\"dataframe\">\n",
       "  <thead>\n",
       "    <tr style=\"text-align: right;\">\n",
       "      <th></th>\n",
       "      <th>Taxon</th>\n",
       "      <th>Confidence</th>\n",
       "    </tr>\n",
       "    <tr>\n",
       "      <th>Feature ID</th>\n",
       "      <th></th>\n",
       "      <th></th>\n",
       "    </tr>\n",
       "  </thead>\n",
       "  <tbody>\n",
       "    <tr>\n",
       "      <th>54c6ab0b1570dd0525a2df10fd0145b1</th>\n",
       "      <td>Unassigned</td>\n",
       "      <td>0.3227778646543433</td>\n",
       "    </tr>\n",
       "    <tr>\n",
       "      <th>f8b597d22528ccd009b7c4f2f7f0505c</th>\n",
       "      <td>d__Bacteria;p__Firmicutes;c__Clostridia;o__Lachnospirales;f__Lachnospiraceae;g__[Ruminococcus]_torques_group;s__</td>\n",
       "      <td>0.7017845359587578</td>\n",
       "    </tr>\n",
       "    <tr>\n",
       "      <th>c8703d3d624bdfd6fa70431bf6ec2d5d</th>\n",
       "      <td>d__Bacteria;p__Firmicutes;c__Clostridia;o__Lachnospirales;f__Lachnospiraceae;g__Roseburia;s__</td>\n",
       "      <td>0.703102058263672</td>\n",
       "    </tr>\n",
       "    <tr>\n",
       "      <th>1a7ef7798d546edecfebaa16a2829d18</th>\n",
       "      <td>d__Bacteria;p__Firmicutes;c__Clostridia;o__Lachnospirales;f__Lachnospiraceae;g__[Ruminococcus]_torques_group;s__</td>\n",
       "      <td>0.7045141750825356</td>\n",
       "    </tr>\n",
       "    <tr>\n",
       "      <th>3fcd4da087ffe0a4aadbae49375a8515</th>\n",
       "      <td>d__Bacteria;p__Firmicutes;c__Clostridia;o__Lachnospirales;f__Lachnospiraceae;g__Agathobacter;s__</td>\n",
       "      <td>0.7052001288123767</td>\n",
       "    </tr>\n",
       "    <tr>\n",
       "      <th>1d93bce7d29167e61e7c1cabe53c2cea</th>\n",
       "      <td>d__Bacteria;p__Firmicutes;c__Bacilli;o__Lactobacillales;f__Lactobacillaceae;g__HT002;s__</td>\n",
       "      <td>0.7067161140679239</td>\n",
       "    </tr>\n",
       "    <tr>\n",
       "      <th>ef797d55874dd0d4ed8ea1f88ac59b2f</th>\n",
       "      <td>d__Bacteria;p__Firmicutes;c__Clostridia;o__Lachnospirales;f__Lachnospiraceae;g__Lachnospiraceae_NC2004_group;s__</td>\n",
       "      <td>0.7078966731383076</td>\n",
       "    </tr>\n",
       "    <tr>\n",
       "      <th>75730470e54af58658e4eadc1d0b68a2</th>\n",
       "      <td>d__Bacteria;p__Firmicutes;c__Clostridia;o__Lachnospirales;f__Lachnospiraceae;g__[Ruminococcus]_torques_group;s__</td>\n",
       "      <td>0.7083037503745344</td>\n",
       "    </tr>\n",
       "    <tr>\n",
       "      <th>48f7ff44391288a646e1e268ef7e2111</th>\n",
       "      <td>d__Bacteria;p__Firmicutes;c__Clostridia;o__Lachnospirales;f__Lachnospiraceae;g__Blautia;s__</td>\n",
       "      <td>0.7128043085269679</td>\n",
       "    </tr>\n",
       "    <tr>\n",
       "      <th>f3f84f2cf845dc7255c5d29a04ecd772</th>\n",
       "      <td>d__Bacteria;p__Firmicutes;c__Clostridia;o__Christensenellales;f__Christensenellaceae;g__Christensenellaceae_R-7_group;s__</td>\n",
       "      <td>0.713995212792773</td>\n",
       "    </tr>\n",
       "  </tbody>\n",
       "</table>\n",
       "</div>"
      ],
      "text/plain": [
       "                                                                                                                                                      Taxon  \\\n",
       "Feature ID                                                                                                                                                    \n",
       "54c6ab0b1570dd0525a2df10fd0145b1                                                                                                                 Unassigned   \n",
       "f8b597d22528ccd009b7c4f2f7f0505c           d__Bacteria;p__Firmicutes;c__Clostridia;o__Lachnospirales;f__Lachnospiraceae;g__[Ruminococcus]_torques_group;s__   \n",
       "c8703d3d624bdfd6fa70431bf6ec2d5d                              d__Bacteria;p__Firmicutes;c__Clostridia;o__Lachnospirales;f__Lachnospiraceae;g__Roseburia;s__   \n",
       "1a7ef7798d546edecfebaa16a2829d18           d__Bacteria;p__Firmicutes;c__Clostridia;o__Lachnospirales;f__Lachnospiraceae;g__[Ruminococcus]_torques_group;s__   \n",
       "3fcd4da087ffe0a4aadbae49375a8515                           d__Bacteria;p__Firmicutes;c__Clostridia;o__Lachnospirales;f__Lachnospiraceae;g__Agathobacter;s__   \n",
       "1d93bce7d29167e61e7c1cabe53c2cea                                   d__Bacteria;p__Firmicutes;c__Bacilli;o__Lactobacillales;f__Lactobacillaceae;g__HT002;s__   \n",
       "ef797d55874dd0d4ed8ea1f88ac59b2f           d__Bacteria;p__Firmicutes;c__Clostridia;o__Lachnospirales;f__Lachnospiraceae;g__Lachnospiraceae_NC2004_group;s__   \n",
       "75730470e54af58658e4eadc1d0b68a2           d__Bacteria;p__Firmicutes;c__Clostridia;o__Lachnospirales;f__Lachnospiraceae;g__[Ruminococcus]_torques_group;s__   \n",
       "48f7ff44391288a646e1e268ef7e2111                                d__Bacteria;p__Firmicutes;c__Clostridia;o__Lachnospirales;f__Lachnospiraceae;g__Blautia;s__   \n",
       "f3f84f2cf845dc7255c5d29a04ecd772  d__Bacteria;p__Firmicutes;c__Clostridia;o__Christensenellales;f__Christensenellaceae;g__Christensenellaceae_R-7_group;s__   \n",
       "\n",
       "                                          Confidence  \n",
       "Feature ID                                            \n",
       "54c6ab0b1570dd0525a2df10fd0145b1  0.3227778646543433  \n",
       "f8b597d22528ccd009b7c4f2f7f0505c  0.7017845359587578  \n",
       "c8703d3d624bdfd6fa70431bf6ec2d5d   0.703102058263672  \n",
       "1a7ef7798d546edecfebaa16a2829d18  0.7045141750825356  \n",
       "3fcd4da087ffe0a4aadbae49375a8515  0.7052001288123767  \n",
       "1d93bce7d29167e61e7c1cabe53c2cea  0.7067161140679239  \n",
       "ef797d55874dd0d4ed8ea1f88ac59b2f  0.7078966731383076  \n",
       "75730470e54af58658e4eadc1d0b68a2  0.7083037503745344  \n",
       "48f7ff44391288a646e1e268ef7e2111  0.7128043085269679  \n",
       "f3f84f2cf845dc7255c5d29a04ecd772   0.713995212792773  "
      ]
     },
     "execution_count": 228,
     "metadata": {},
     "output_type": "execute_result"
    }
   ],
   "source": [
    "taxa_sorted.head(10)"
   ]
  },
  {
   "cell_type": "code",
   "execution_count": 231,
   "metadata": {},
   "outputs": [
    {
     "name": "stderr",
     "output_type": "stream",
     "text": [
      "242814.22s - pydevd: Sending message related to process being replaced timed-out after 5 seconds\n"
     ]
    },
    {
     "name": "stdout",
     "output_type": "stream",
     "text": [
      "Press the 'q' key, Control-C, or Control-D to quit. This view may no longer be accessible or work correctly after quitting.\n",
      "Press the 'q' key, Control-C, or Control-D to quit. This view may no longer be accessible or work correctly after quitting."
     ]
    }
   ],
   "source": [
    "!qiime tools view $data_dir/rep-seqs.qzv"
   ]
  },
  {
   "cell_type": "markdown",
   "metadata": {},
   "source": [
    "Blasting `54c6ab0b1570dd0525a2df10fd0145b1` led to it being classified definitely as part of human mitochondrial genome"
   ]
  },
  {
   "cell_type": "code",
   "execution_count": 230,
   "metadata": {},
   "outputs": [
    {
     "data": {
      "text/html": [
       "<div>\n",
       "<style scoped>\n",
       "    .dataframe tbody tr th:only-of-type {\n",
       "        vertical-align: middle;\n",
       "    }\n",
       "\n",
       "    .dataframe tbody tr th {\n",
       "        vertical-align: top;\n",
       "    }\n",
       "\n",
       "    .dataframe thead th {\n",
       "        text-align: right;\n",
       "    }\n",
       "</style>\n",
       "<table border=\"1\" class=\"dataframe\">\n",
       "  <thead>\n",
       "    <tr style=\"text-align: right;\">\n",
       "      <th></th>\n",
       "      <th>Taxon</th>\n",
       "      <th>Confidence</th>\n",
       "    </tr>\n",
       "    <tr>\n",
       "      <th>Feature ID</th>\n",
       "      <th></th>\n",
       "      <th></th>\n",
       "    </tr>\n",
       "  </thead>\n",
       "  <tbody>\n",
       "    <tr>\n",
       "      <th>cb7115deb3a45689469e82d8dd81e316</th>\n",
       "      <td>d__Bacteria</td>\n",
       "      <td>0.9999999999996786</td>\n",
       "    </tr>\n",
       "  </tbody>\n",
       "</table>\n",
       "</div>"
      ],
      "text/plain": [
       "                                        Taxon          Confidence\n",
       "Feature ID                                                       \n",
       "cb7115deb3a45689469e82d8dd81e316  d__Bacteria  0.9999999999996786"
      ]
     },
     "execution_count": 230,
     "metadata": {},
     "output_type": "execute_result"
    }
   ],
   "source": [
    "taxa_sorted[~taxa_sorted[\"Taxon\"].str.contains(\"p__\")]"
   ]
  },
  {
   "cell_type": "markdown",
   "metadata": {},
   "source": [
    "Blasing `cb7115deb3a45689469e82d8dd81e316` led it to being mapping to uncultured bacteria."
   ]
  },
  {
   "cell_type": "markdown",
   "metadata": {},
   "source": [
    "Merging the taxonomy annotations with the Feature table."
   ]
  },
  {
   "cell_type": "code",
   "execution_count": 167,
   "metadata": {},
   "outputs": [
    {
     "data": {
      "text/html": [
       "<div>\n",
       "<style scoped>\n",
       "    .dataframe tbody tr th:only-of-type {\n",
       "        vertical-align: middle;\n",
       "    }\n",
       "\n",
       "    .dataframe tbody tr th {\n",
       "        vertical-align: top;\n",
       "    }\n",
       "\n",
       "    .dataframe thead th {\n",
       "        text-align: right;\n",
       "    }\n",
       "</style>\n",
       "<table border=\"1\" class=\"dataframe\">\n",
       "  <thead>\n",
       "    <tr style=\"text-align: right;\">\n",
       "      <th></th>\n",
       "      <th>EG0024</th>\n",
       "      <th>EG0031</th>\n",
       "      <th>EG0039</th>\n",
       "      <th>EG0055</th>\n",
       "      <th>EG0057</th>\n",
       "      <th>EG0070</th>\n",
       "      <th>EG0088</th>\n",
       "      <th>EG0101</th>\n",
       "      <th>EG0118</th>\n",
       "      <th>EG0136</th>\n",
       "      <th>...</th>\n",
       "      <th>EG2473</th>\n",
       "      <th>EG2490</th>\n",
       "      <th>EG2518</th>\n",
       "      <th>EG2537</th>\n",
       "      <th>EG2559</th>\n",
       "      <th>EG2580</th>\n",
       "      <th>EG2591</th>\n",
       "      <th>EG2608</th>\n",
       "      <th>EG2638</th>\n",
       "      <th>EG2659</th>\n",
       "    </tr>\n",
       "  </thead>\n",
       "  <tbody>\n",
       "    <tr>\n",
       "      <th>4755bc974c5753fb702d525dc1c03970</th>\n",
       "      <td>0.0</td>\n",
       "      <td>0.0</td>\n",
       "      <td>0.0</td>\n",
       "      <td>0.0</td>\n",
       "      <td>0.0</td>\n",
       "      <td>0.0</td>\n",
       "      <td>0.0</td>\n",
       "      <td>0.0</td>\n",
       "      <td>0.0</td>\n",
       "      <td>0.0</td>\n",
       "      <td>...</td>\n",
       "      <td>0.0</td>\n",
       "      <td>0.0</td>\n",
       "      <td>0.0</td>\n",
       "      <td>0.0</td>\n",
       "      <td>0.0</td>\n",
       "      <td>0.0</td>\n",
       "      <td>0.0</td>\n",
       "      <td>0.0</td>\n",
       "      <td>0.0</td>\n",
       "      <td>0.0</td>\n",
       "    </tr>\n",
       "    <tr>\n",
       "      <th>c8703d3d624bdfd6fa70431bf6ec2d5d</th>\n",
       "      <td>0.0</td>\n",
       "      <td>0.0</td>\n",
       "      <td>0.0</td>\n",
       "      <td>0.0</td>\n",
       "      <td>0.0</td>\n",
       "      <td>0.0</td>\n",
       "      <td>0.0</td>\n",
       "      <td>0.0</td>\n",
       "      <td>0.0</td>\n",
       "      <td>0.0</td>\n",
       "      <td>...</td>\n",
       "      <td>0.0</td>\n",
       "      <td>0.0</td>\n",
       "      <td>0.0</td>\n",
       "      <td>0.0</td>\n",
       "      <td>0.0</td>\n",
       "      <td>0.0</td>\n",
       "      <td>0.0</td>\n",
       "      <td>0.0</td>\n",
       "      <td>0.0</td>\n",
       "      <td>0.0</td>\n",
       "    </tr>\n",
       "    <tr>\n",
       "      <th>a17a009460b5d55c0bd0acbab9dfb98e</th>\n",
       "      <td>0.0</td>\n",
       "      <td>0.0</td>\n",
       "      <td>0.0</td>\n",
       "      <td>0.0</td>\n",
       "      <td>0.0</td>\n",
       "      <td>0.0</td>\n",
       "      <td>0.0</td>\n",
       "      <td>0.0</td>\n",
       "      <td>0.0</td>\n",
       "      <td>0.0</td>\n",
       "      <td>...</td>\n",
       "      <td>0.0</td>\n",
       "      <td>0.0</td>\n",
       "      <td>0.0</td>\n",
       "      <td>0.0</td>\n",
       "      <td>0.0</td>\n",
       "      <td>0.0</td>\n",
       "      <td>0.0</td>\n",
       "      <td>0.0</td>\n",
       "      <td>8828.0</td>\n",
       "      <td>0.0</td>\n",
       "    </tr>\n",
       "    <tr>\n",
       "      <th>119fc7a300c0fbd786dd1f4ef4d6476b</th>\n",
       "      <td>113.0</td>\n",
       "      <td>0.0</td>\n",
       "      <td>0.0</td>\n",
       "      <td>0.0</td>\n",
       "      <td>0.0</td>\n",
       "      <td>0.0</td>\n",
       "      <td>0.0</td>\n",
       "      <td>0.0</td>\n",
       "      <td>0.0</td>\n",
       "      <td>0.0</td>\n",
       "      <td>...</td>\n",
       "      <td>0.0</td>\n",
       "      <td>0.0</td>\n",
       "      <td>0.0</td>\n",
       "      <td>0.0</td>\n",
       "      <td>0.0</td>\n",
       "      <td>0.0</td>\n",
       "      <td>0.0</td>\n",
       "      <td>0.0</td>\n",
       "      <td>0.0</td>\n",
       "      <td>0.0</td>\n",
       "    </tr>\n",
       "    <tr>\n",
       "      <th>5ab2232b49bd2e923a345f3f1fdf5ea7</th>\n",
       "      <td>0.0</td>\n",
       "      <td>0.0</td>\n",
       "      <td>0.0</td>\n",
       "      <td>0.0</td>\n",
       "      <td>0.0</td>\n",
       "      <td>0.0</td>\n",
       "      <td>0.0</td>\n",
       "      <td>0.0</td>\n",
       "      <td>0.0</td>\n",
       "      <td>0.0</td>\n",
       "      <td>...</td>\n",
       "      <td>0.0</td>\n",
       "      <td>0.0</td>\n",
       "      <td>0.0</td>\n",
       "      <td>0.0</td>\n",
       "      <td>0.0</td>\n",
       "      <td>0.0</td>\n",
       "      <td>0.0</td>\n",
       "      <td>0.0</td>\n",
       "      <td>0.0</td>\n",
       "      <td>0.0</td>\n",
       "    </tr>\n",
       "    <tr>\n",
       "      <th>...</th>\n",
       "      <td>...</td>\n",
       "      <td>...</td>\n",
       "      <td>...</td>\n",
       "      <td>...</td>\n",
       "      <td>...</td>\n",
       "      <td>...</td>\n",
       "      <td>...</td>\n",
       "      <td>...</td>\n",
       "      <td>...</td>\n",
       "      <td>...</td>\n",
       "      <td>...</td>\n",
       "      <td>...</td>\n",
       "      <td>...</td>\n",
       "      <td>...</td>\n",
       "      <td>...</td>\n",
       "      <td>...</td>\n",
       "      <td>...</td>\n",
       "      <td>...</td>\n",
       "      <td>...</td>\n",
       "      <td>...</td>\n",
       "      <td>...</td>\n",
       "    </tr>\n",
       "    <tr>\n",
       "      <th>42fa009bb25cff89306e3284a07556eb</th>\n",
       "      <td>0.0</td>\n",
       "      <td>0.0</td>\n",
       "      <td>0.0</td>\n",
       "      <td>0.0</td>\n",
       "      <td>0.0</td>\n",
       "      <td>0.0</td>\n",
       "      <td>0.0</td>\n",
       "      <td>0.0</td>\n",
       "      <td>0.0</td>\n",
       "      <td>0.0</td>\n",
       "      <td>...</td>\n",
       "      <td>0.0</td>\n",
       "      <td>0.0</td>\n",
       "      <td>0.0</td>\n",
       "      <td>0.0</td>\n",
       "      <td>0.0</td>\n",
       "      <td>0.0</td>\n",
       "      <td>1437.0</td>\n",
       "      <td>0.0</td>\n",
       "      <td>35441.0</td>\n",
       "      <td>0.0</td>\n",
       "    </tr>\n",
       "    <tr>\n",
       "      <th>57d339f297021768f50e922416f0a972</th>\n",
       "      <td>0.0</td>\n",
       "      <td>0.0</td>\n",
       "      <td>0.0</td>\n",
       "      <td>0.0</td>\n",
       "      <td>0.0</td>\n",
       "      <td>0.0</td>\n",
       "      <td>0.0</td>\n",
       "      <td>0.0</td>\n",
       "      <td>0.0</td>\n",
       "      <td>0.0</td>\n",
       "      <td>...</td>\n",
       "      <td>0.0</td>\n",
       "      <td>0.0</td>\n",
       "      <td>0.0</td>\n",
       "      <td>0.0</td>\n",
       "      <td>0.0</td>\n",
       "      <td>0.0</td>\n",
       "      <td>0.0</td>\n",
       "      <td>0.0</td>\n",
       "      <td>0.0</td>\n",
       "      <td>0.0</td>\n",
       "    </tr>\n",
       "    <tr>\n",
       "      <th>7f584d41a22278d51dc518dd36aa6c48</th>\n",
       "      <td>0.0</td>\n",
       "      <td>0.0</td>\n",
       "      <td>0.0</td>\n",
       "      <td>0.0</td>\n",
       "      <td>0.0</td>\n",
       "      <td>0.0</td>\n",
       "      <td>0.0</td>\n",
       "      <td>0.0</td>\n",
       "      <td>0.0</td>\n",
       "      <td>11.0</td>\n",
       "      <td>...</td>\n",
       "      <td>0.0</td>\n",
       "      <td>0.0</td>\n",
       "      <td>0.0</td>\n",
       "      <td>0.0</td>\n",
       "      <td>0.0</td>\n",
       "      <td>0.0</td>\n",
       "      <td>0.0</td>\n",
       "      <td>0.0</td>\n",
       "      <td>0.0</td>\n",
       "      <td>0.0</td>\n",
       "    </tr>\n",
       "    <tr>\n",
       "      <th>36ae305da84d7a32e471d8629a2dd72d</th>\n",
       "      <td>0.0</td>\n",
       "      <td>0.0</td>\n",
       "      <td>0.0</td>\n",
       "      <td>0.0</td>\n",
       "      <td>0.0</td>\n",
       "      <td>0.0</td>\n",
       "      <td>0.0</td>\n",
       "      <td>0.0</td>\n",
       "      <td>0.0</td>\n",
       "      <td>0.0</td>\n",
       "      <td>...</td>\n",
       "      <td>0.0</td>\n",
       "      <td>0.0</td>\n",
       "      <td>0.0</td>\n",
       "      <td>0.0</td>\n",
       "      <td>0.0</td>\n",
       "      <td>0.0</td>\n",
       "      <td>0.0</td>\n",
       "      <td>0.0</td>\n",
       "      <td>0.0</td>\n",
       "      <td>0.0</td>\n",
       "    </tr>\n",
       "    <tr>\n",
       "      <th>32eb9b2410a4907fd57135cc61a33d06</th>\n",
       "      <td>0.0</td>\n",
       "      <td>0.0</td>\n",
       "      <td>0.0</td>\n",
       "      <td>0.0</td>\n",
       "      <td>0.0</td>\n",
       "      <td>0.0</td>\n",
       "      <td>0.0</td>\n",
       "      <td>0.0</td>\n",
       "      <td>0.0</td>\n",
       "      <td>6.0</td>\n",
       "      <td>...</td>\n",
       "      <td>0.0</td>\n",
       "      <td>0.0</td>\n",
       "      <td>0.0</td>\n",
       "      <td>0.0</td>\n",
       "      <td>0.0</td>\n",
       "      <td>0.0</td>\n",
       "      <td>73.0</td>\n",
       "      <td>0.0</td>\n",
       "      <td>0.0</td>\n",
       "      <td>0.0</td>\n",
       "    </tr>\n",
       "  </tbody>\n",
       "</table>\n",
       "<p>1990 rows × 102 columns</p>\n",
       "</div>"
      ],
      "text/plain": [
       "                                  EG0024  EG0031  EG0039  EG0055  EG0057  \\\n",
       "4755bc974c5753fb702d525dc1c03970     0.0     0.0     0.0     0.0     0.0   \n",
       "c8703d3d624bdfd6fa70431bf6ec2d5d     0.0     0.0     0.0     0.0     0.0   \n",
       "a17a009460b5d55c0bd0acbab9dfb98e     0.0     0.0     0.0     0.0     0.0   \n",
       "119fc7a300c0fbd786dd1f4ef4d6476b   113.0     0.0     0.0     0.0     0.0   \n",
       "5ab2232b49bd2e923a345f3f1fdf5ea7     0.0     0.0     0.0     0.0     0.0   \n",
       "...                                  ...     ...     ...     ...     ...   \n",
       "42fa009bb25cff89306e3284a07556eb     0.0     0.0     0.0     0.0     0.0   \n",
       "57d339f297021768f50e922416f0a972     0.0     0.0     0.0     0.0     0.0   \n",
       "7f584d41a22278d51dc518dd36aa6c48     0.0     0.0     0.0     0.0     0.0   \n",
       "36ae305da84d7a32e471d8629a2dd72d     0.0     0.0     0.0     0.0     0.0   \n",
       "32eb9b2410a4907fd57135cc61a33d06     0.0     0.0     0.0     0.0     0.0   \n",
       "\n",
       "                                  EG0070  EG0088  EG0101  EG0118  EG0136  ...  \\\n",
       "4755bc974c5753fb702d525dc1c03970     0.0     0.0     0.0     0.0     0.0  ...   \n",
       "c8703d3d624bdfd6fa70431bf6ec2d5d     0.0     0.0     0.0     0.0     0.0  ...   \n",
       "a17a009460b5d55c0bd0acbab9dfb98e     0.0     0.0     0.0     0.0     0.0  ...   \n",
       "119fc7a300c0fbd786dd1f4ef4d6476b     0.0     0.0     0.0     0.0     0.0  ...   \n",
       "5ab2232b49bd2e923a345f3f1fdf5ea7     0.0     0.0     0.0     0.0     0.0  ...   \n",
       "...                                  ...     ...     ...     ...     ...  ...   \n",
       "42fa009bb25cff89306e3284a07556eb     0.0     0.0     0.0     0.0     0.0  ...   \n",
       "57d339f297021768f50e922416f0a972     0.0     0.0     0.0     0.0     0.0  ...   \n",
       "7f584d41a22278d51dc518dd36aa6c48     0.0     0.0     0.0     0.0    11.0  ...   \n",
       "36ae305da84d7a32e471d8629a2dd72d     0.0     0.0     0.0     0.0     0.0  ...   \n",
       "32eb9b2410a4907fd57135cc61a33d06     0.0     0.0     0.0     0.0     6.0  ...   \n",
       "\n",
       "                                  EG2473  EG2490  EG2518  EG2537  EG2559  \\\n",
       "4755bc974c5753fb702d525dc1c03970     0.0     0.0     0.0     0.0     0.0   \n",
       "c8703d3d624bdfd6fa70431bf6ec2d5d     0.0     0.0     0.0     0.0     0.0   \n",
       "a17a009460b5d55c0bd0acbab9dfb98e     0.0     0.0     0.0     0.0     0.0   \n",
       "119fc7a300c0fbd786dd1f4ef4d6476b     0.0     0.0     0.0     0.0     0.0   \n",
       "5ab2232b49bd2e923a345f3f1fdf5ea7     0.0     0.0     0.0     0.0     0.0   \n",
       "...                                  ...     ...     ...     ...     ...   \n",
       "42fa009bb25cff89306e3284a07556eb     0.0     0.0     0.0     0.0     0.0   \n",
       "57d339f297021768f50e922416f0a972     0.0     0.0     0.0     0.0     0.0   \n",
       "7f584d41a22278d51dc518dd36aa6c48     0.0     0.0     0.0     0.0     0.0   \n",
       "36ae305da84d7a32e471d8629a2dd72d     0.0     0.0     0.0     0.0     0.0   \n",
       "32eb9b2410a4907fd57135cc61a33d06     0.0     0.0     0.0     0.0     0.0   \n",
       "\n",
       "                                  EG2580  EG2591  EG2608   EG2638  EG2659  \n",
       "4755bc974c5753fb702d525dc1c03970     0.0     0.0     0.0      0.0     0.0  \n",
       "c8703d3d624bdfd6fa70431bf6ec2d5d     0.0     0.0     0.0      0.0     0.0  \n",
       "a17a009460b5d55c0bd0acbab9dfb98e     0.0     0.0     0.0   8828.0     0.0  \n",
       "119fc7a300c0fbd786dd1f4ef4d6476b     0.0     0.0     0.0      0.0     0.0  \n",
       "5ab2232b49bd2e923a345f3f1fdf5ea7     0.0     0.0     0.0      0.0     0.0  \n",
       "...                                  ...     ...     ...      ...     ...  \n",
       "42fa009bb25cff89306e3284a07556eb     0.0  1437.0     0.0  35441.0     0.0  \n",
       "57d339f297021768f50e922416f0a972     0.0     0.0     0.0      0.0     0.0  \n",
       "7f584d41a22278d51dc518dd36aa6c48     0.0     0.0     0.0      0.0     0.0  \n",
       "36ae305da84d7a32e471d8629a2dd72d     0.0     0.0     0.0      0.0     0.0  \n",
       "32eb9b2410a4907fd57135cc61a33d06     0.0    73.0     0.0      0.0     0.0  \n",
       "\n",
       "[1990 rows x 102 columns]"
      ]
     },
     "execution_count": 167,
     "metadata": {},
     "output_type": "execute_result"
    }
   ],
   "source": [
    "features = q2.Artifact.load(f\"{data_dir}/table-filtered.qza\")\n",
    "features = features.view(pd.DataFrame).transpose()\n",
    "features"
   ]
  },
  {
   "cell_type": "code",
   "execution_count": 221,
   "metadata": {},
   "outputs": [],
   "source": [
    "df = pd.concat([taxa, features], axis=1, join='inner')"
   ]
  },
  {
   "cell_type": "markdown",
   "metadata": {},
   "source": [
    "<a id='plotting'></a>\n",
    "\n",
    "### 2.6 Plotting the taxonomy"
   ]
  },
  {
   "cell_type": "code",
   "execution_count": 224,
   "metadata": {},
   "outputs": [],
   "source": [
    "def plot_taxonomic_abundance(df, ranks, color_map='Accent', sort_target='Firmicutes'):\n",
    "    \"\"\"\n",
    "    Plots relative abundance stacked bar plots for each taxonomic rank in ranks.\n",
    "    \n",
    "    Parameters:\n",
    "    - df: DataFrame containing taxonomic data with a 'Taxon' column and abundance columns for each sample.\n",
    "    - ranks: List of taxonomic ranks to extract and plot (e.g., [\"Phylum\", \"Class\", \"Order\", \"Family\", \"Genus\", \"Species\"]).\n",
    "    - color_map: Colormap to use for distinct colors (default is 'Accent').\n",
    "    - sort_target: The taxonomic entry to use for sample sorting (default is 'Firmicutes').\n",
    "    \"\"\"\n",
    "    # Extract each taxonomic rank from the 'Taxon' column\n",
    "    for rank in ranks:\n",
    "        df[rank] = df['Taxon'].str.extract(rf'{rank[:1].lower()}__([^;]+)')\n",
    "\n",
    "    # Define a color palette using the specified color map\n",
    "    colors = cm.get_cmap(color_map).colors\n",
    "    \n",
    "    # Loop over each taxonomic rank and generate the plot\n",
    "    for rank in ranks:\n",
    "        # Prepare data for the specific rank by dropping other rank columns\n",
    "        data_for_plot = df.reset_index(drop=True).drop(columns=['Taxon', 'Confidence'] + [r for r in ranks if r != rank])\n",
    "\n",
    "        # Sum values by the current rank level for each sample\n",
    "        rank_sums = data_for_plot.groupby(rank).sum()\n",
    "\n",
    "        # Convert to relative abundance for each sample\n",
    "        rank_relative = rank_sums.div(rank_sums.sum(axis=0), axis=1) * 100\n",
    "\n",
    "        # Sort samples by the abundance of the specified sort_target (e.g., 'Firmicutes') if available\n",
    "        if sort_target in rank_relative.index:\n",
    "            sorted_samples = rank_relative.loc[sort_target].sort_values(ascending=True).index\n",
    "        else:\n",
    "            sort_target = rank_relative.sum(axis=1).sort_values(ascending=False).index[0]\n",
    "            sorted_samples = rank_relative.loc[sort_target].sort_values(ascending=True).index\n",
    "        rank_relative_sorted = rank_relative[sorted_samples]\n",
    "\n",
    "        # Order rank indices based on total abundance across all samples\n",
    "        rank_total_abundance = rank_relative_sorted.sum(axis=1)\n",
    "        rank_order = rank_total_abundance.sort_values(ascending=True).index\n",
    "        rank_relative_sorted = rank_relative_sorted.reindex(rank_order)\n",
    "\n",
    "        # Map colors to the ordered indices (reverse order for a visual gradient)\n",
    "        rank_colors = {entry: colors[i % len(colors)] for i, entry in enumerate(rank_order[::-1])}\n",
    "\n",
    "        # Plot with specified colormap colors for the current rank\n",
    "        plt.figure(figsize=(15, 8))\n",
    "        rank_relative_sorted.T.plot(\n",
    "            kind='bar', stacked=True, figsize=(20, 10), width=0.8, \n",
    "            color=[rank_colors[entry] for entry in rank_relative_sorted.index]\n",
    "        )\n",
    "        plt.xlabel(\"Sample\", fontsize=14)\n",
    "        plt.ylabel(\"Relative Abundance (%)\", fontsize=14)\n",
    "        plt.title(f\"Relative Abundance of {rank} Across Samples\", fontsize=18)\n",
    "        plt.legend(title=rank, bbox_to_anchor=(1.05, 1), loc='upper left')\n",
    "        plt.tight_layout()\n",
    "        plt.savefig(f\"{vis_dir}/taxa-bar-plots-{rank}.png\")"
   ]
  },
  {
   "cell_type": "code",
   "execution_count": 225,
   "metadata": {},
   "outputs": [
    {
     "name": "stderr",
     "output_type": "stream",
     "text": [
      "/var/folders/5x/72bglw1x1178wdf5_zjmlpjw0000gn/T/ipykernel_27527/3850872949.py:16: MatplotlibDeprecationWarning: The get_cmap function was deprecated in Matplotlib 3.7 and will be removed two minor releases later. Use ``matplotlib.colormaps[name]`` or ``matplotlib.colormaps.get_cmap(obj)`` instead.\n",
      "  colors = cm.get_cmap(color_map).colors\n"
     ]
    },
    {
     "data": {
      "text/plain": [
       "<Figure size 1500x800 with 0 Axes>"
      ]
     },
     "metadata": {},
     "output_type": "display_data"
    },
    {
     "data": {
      "image/png": "[encoded data removed]",
      "text/plain": [
       "<Figure size 2000x1000 with 1 Axes>"
      ]
     },
     "metadata": {},
     "output_type": "display_data"
    },
    {
     "data": {
      "text/plain": [
       "<Figure size 1500x800 with 0 Axes>"
      ]
     },
     "metadata": {},
     "output_type": "display_data"
    },
    {
     "data": {
      "image/png": "[encoded data removed]",
      "text/plain": [
       "<Figure size 2000x1000 with 1 Axes>"
      ]
     },
     "metadata": {},
     "output_type": "display_data"
    }
   ],
   "source": [
    "# ranks = [\"Phylum\", \"Class\", \"Order\", \"Family\", \"Genus\", \"Species\"]\n",
    "\n",
    "ranks = [\"Phylum\", \"Class\"]\n",
    "\n",
    "plot_taxonomic_abundance(df, ranks)"
   ]
  },
  {
   "cell_type": "markdown",
   "metadata": {},
   "source": [
    "## Bibliography\n",
    "\n",
    "[1] Michael S Robeson II, Devon R O'Rourke, Benjamin D Kaehler, Michal Ziemski, Matthew R Dillon, Jeffrey T Foster, Nicholas A Bokulich. 2021. \"RESCRIPt: Reproducible sequence taxonomy reference database management\". PLoS Computational Biology 17 (11): e1009581.; doi: 10.1371/journal.pcbi.1009581\n",
    "\n",
    "[2] Pruesse, Elmar, Christian Quast, Katrin Knittel, Bernhard M. Fuchs, Wolfgang Ludwig, Jörg Peplies, and Frank Oliver Glöckner. 2007. “SILVA: A Comprehensive Online Resource for Quality Checked and Aligned Ribosomal RNA Sequence Data Compatible with ARB.” Nucleic Acids Research 35 (21): 7188–96. doi: 10.1093/nar/gkm864\n",
    "\n",
    "[3] Quast, Christian, Elmar Pruesse, Pelin Yilmaz, Jan Gerken, Timmy Schweer, Pablo Yarza, Jörg Peplies, and Frank Oliver Glöckner. 2013. “The SILVA Ribosomal RNA Gene Database Project: Improved Data Processing and Web-Based Tools.” Nucleic Acids Research 41: D590–96. doi: 10.1093/nar/gks1219"
   ]
  },
  {
   "cell_type": "code",
   "execution_count": null,
   "metadata": {},
   "outputs": [],
   "source": []
  }
 ],
 "metadata": {
  "kernelspec": {
   "display_name": "qiime2-amplicon-2024.5",
   "language": "python",
   "name": "python3"
  },
  "language_info": {
   "codemirror_mode": {
    "name": "ipython",
    "version": 3
   },
   "file_extension": ".py",
   "mimetype": "text/x-python",
   "name": "python",
   "nbconvert_exporter": "python",
   "pygments_lexer": "ipython3",
   "version": "3.9.19"
  }
 },
 "nbformat": 4,
 "nbformat_minor": 2
}
