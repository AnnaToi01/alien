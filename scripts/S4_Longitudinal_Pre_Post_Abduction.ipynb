{
 "cells": [
  {
   "cell_type": "markdown",
   "metadata": {},
   "source": [
    "### Analysis with Longitudinal\n",
    "\n",
    "Making a metadata file that only contains patients with samples pre- and post-abduction so comparison is possible (cohort 1 & 2)"
   ]
  },
  {
   "cell_type": "code",
   "execution_count": null,
   "metadata": {},
   "outputs": [],
   "source": [
    "#filter metadata for patients in both samples\n",
    "\n",
    "# Load metadata\n",
    "metadata = pd.read_csv(f\"{data_dir}/metadata.tsv\", sep='\\t')\n",
    "\n",
    "# Ensure `Cohort_Number` contains both 1 (pre) and 2 (post) for comparison\n",
    "valid_patients = metadata.groupby('Patient_ID')['Cohort_Number'].apply(lambda x: set(x)).reset_index()\n",
    "valid_patients = valid_patients[valid_patients['Cohort_Number'].apply(lambda x: {1, 2}.issubset(x))]\n",
    "\n",
    "# Filter metadata for these patients\n",
    "metadata_pre_post = metadata[metadata['Patient_ID'].isin(valid_patients['Patient_ID'])]\n",
    "\n",
    "# New row to add at the beginning\n",
    "# Corrected dictionary with placeholders as values\n",
    "new_row = {\n",
    "    'sample-id': '#q2:types',  # This could represent a placeholder for a sample type\n",
    "    'Patient_ID': 'categorical',  # Placeholder for categorical data type\n",
    "    'Stool_Consistency': 'categorical',  # Placeholder for categorical data type\n",
    "    'Patient_Sex': 'categorical',  # Placeholder for categorical data type\n",
    "    'Sample_Day': 'numeric',  # Placeholder for numerical data type\n",
    "    'Recovery_Day': 'numeric',  # Placeholder for numerical data type\n",
    "    'Cohort_Number': 'numeric'  # Placeholder for categorical data type\n",
    "}\n",
    "\n",
    "# Convert the new row to a DataFrame\n",
    "new_row_df = pd.DataFrame([new_row])\n",
    "\n",
    "# Concatenate the new row with the original DataFrame\n",
    "metadata_pre_post = pd.concat([new_row_df, metadata_pre_post], ignore_index=True)\n",
    "\n",
    "# Save the filtered metadata\n",
    "metadata_pre_post.to_csv(f\"{data_dir}/metadata_pre_post.tsv\", sep='\\t', index=False)\n",
    "\n",
    "pd.read_csv(f\"{data_dir}/metadata_pre_post.tsv\", sep='\\t')"
   ]
  },
  {
   "cell_type": "code",
   "execution_count": null,
   "metadata": {},
   "outputs": [],
   "source": [
    "#Importing the metadata from the Shannon and Faith PD results\n",
    "Shannon_categorical = pd.read_csv(f'{data_dir}/core-metrics-results-bt/shannon-group-significance_exported/metadata.tsv', sep='\\t')\n",
    "FaithPD_categorical = pd.read_csv(f'{data_dir}/core-metrics-results-bt/faith-pd-group-significance_exported/metadata.tsv', sep='\\t')\n",
    "metadata = pd.read_csv(f\"{data_dir}/metadata.tsv\", sep=\"\\t\")\n",
    "\n",
    "#Merging both tables for easier handling and changing Shannon Entropy and Faith PD to numerical for plotting\n",
    "categorical = pd.merge(Shannon_categorical, FaithPD_categorical, how='inner', on=['Patient_ID', 'id', 'Patient_Sex', 'Stool_Consistency'])\n",
    "categorical = categorical.loc[categorical.index != 0]\n",
    "categorical = categorical.sort_values(by=\"Patient_ID\", ascending=True) \n",
    "categorical['shannon_entropy'] = pd.to_numeric(categorical['shannon_entropy'], errors='coerce')\n",
    "categorical['faith_pd'] = pd.to_numeric(categorical['faith_pd'], errors='coerce')\n",
    "categorical.shape\n",
    "categorical.rename(columns={'id': 'sample-id'}, inplace=True)\n",
    "metadata_alpha = pd.merge(metadata, categorical,  how='left', on=['Patient_ID', 'sample-id', 'Patient_Sex', 'Stool_Consistency'])\n",
    "metadata_alpha.to_csv(f\"{data_dir}/metadata_alpha.tsv\", sep=\"\\t\", index=False)\n",
    "metadata_alpha\n",
    "\n",
    "metadata_pre_post_alpha = pd.merge(metadata_pre_post, categorical, how='left', on=['Patient_ID', 'sample-id', 'Patient_Sex', 'Stool_Consistency'])\n",
    "metadata_pre_post_alpha.to_csv(f\"{data_dir}/metadata_pre_post_alpha.tsv\", sep=\"\\t\", index=False)\n",
    "pd.read_csv(f\"{data_dir}/metadata_pre_post_alpha.tsv\", sep='\\t')"
   ]
  },
  {
   "cell_type": "code",
   "execution_count": null,
   "metadata": {},
   "outputs": [],
   "source": [
    "#Creates a FeatureTable[RelativeFrequency] that is needed for the qiime longitudinal pairwise-differences command\n",
    "! qiime feature-table relative-frequency \\\n",
    "  --i-table $data_dir/table-filtered.qza \\\n",
    "  --o-relative-frequency-table $data_dir/relative-frequency-table.qza"
   ]
  },
  {
   "cell_type": "markdown",
   "metadata": {},
   "source": [
    "### Testing alpha diversity differences between cohorts pairwise"
   ]
  },
  {
   "cell_type": "code",
   "execution_count": null,
   "metadata": {},
   "outputs": [],
   "source": [
    "! qiime longitudinal pairwise-differences \\\n",
    "  --i-table $data_dir/relative-frequency-table.qza \\\n",
    "  --m-metadata-file $data_dir/metadata_pre_post_alpha.tsv \\\n",
    "  --p-state-column Cohort_Number \\\n",
    "  --p-state-1 1 \\\n",
    "  --p-state-2 2 \\\n",
    "  --p-group-column Patient_Sex \\\n",
    "  --p-individual-id-column Patient_ID \\\n",
    "  --p-replicate-handling random \\\n",
    "  --p-metric shannon_entropy \\\n",
    "  --o-visualization $data_dir/pairwise_differences_pre_post_shannon.qzv\n",
    " "
   ]
  },
  {
   "cell_type": "code",
   "execution_count": null,
   "metadata": {},
   "outputs": [],
   "source": [
    "! qiime tools view $data_dir/pairwise_differences_pre_post_shannon.qzv"
   ]
  },
  {
   "cell_type": "markdown",
   "metadata": {},
   "source": [
    "This might mean than the difference in alpha diversity for each patient is significantly less in cohort 2 compared to cohort 1"
   ]
  },
  {
   "cell_type": "code",
   "execution_count": null,
   "metadata": {},
   "outputs": [],
   "source": [
    "! qiime longitudinal pairwise-differences \\\n",
    "  --m-metadata-file $data_dir/metadata_pre_post_alpha.tsv \\\n",
    "  --p-metric faith_pd \\\n",
    "  --p-state-column Cohort_Number \\\n",
    "  --p-state-1 1 \\\n",
    "  --p-state-2 2 \\\n",
    "  --p-individual-id-column Patient_ID \\\n",
    "  --p-replicate-handling random \\\n",
    "  --o-visualization $data_dir/pairwise_differences_pre_post_faith_pd.qzv\n",
    "\n",
    "# --p-group-column *insert grouping column* \\"
   ]
  },
  {
   "cell_type": "code",
   "execution_count": null,
   "metadata": {},
   "outputs": [],
   "source": [
    "! qiime tools view $data_dir/pairwise_differences_pre_post_faith_pd.qzv"
   ]
  },
  {
   "cell_type": "markdown",
   "metadata": {},
   "source": [
    "### Testing changes of feature abundance on a single patient level"
   ]
  },
  {
   "cell_type": "code",
   "execution_count": null,
   "metadata": {},
   "outputs": [],
   "source": [
    "#Importing the metadata from the Shannon and Faith PD results\n",
    "Shannon_categorical = pd.read_csv(f'{data_dir}/core-metrics-results-bt/shannon-group-significance_exported/metadata.tsv', sep='\\t')\n",
    "FaithPD_categorical = pd.read_csv(f'{data_dir}/core-metrics-results-bt/faith-pd-group-significance_exported/metadata.tsv', sep='\\t')\n",
    "metadata = pd.read_csv(f\"{data_dir}/metadata.tsv\", sep=\"\\t\")\n",
    "\n",
    "#Merging both tables for easier handling and changing Shannon Entropy and Faith PD to numerical for plotting\n",
    "categorical = pd.merge(Shannon_categorical, FaithPD_categorical, how='inner', on=['Patient_ID', 'id', 'Patient_Sex', 'Stool_Consistency'])\n",
    "categorical = categorical.loc[categorical.index != 0]\n",
    "categorical = categorical.sort_values(by=\"Patient_ID\", ascending=True) \n",
    "categorical['shannon_entropy'] = pd.to_numeric(categorical['shannon_entropy'], errors='coerce')\n",
    "categorical['faith_pd'] = pd.to_numeric(categorical['faith_pd'], errors='coerce')\n",
    "categorical.shape\n",
    "categorical.rename(columns={'id': 'sample-id'}, inplace=True)\n",
    "metadata_alpha = pd.merge(metadata, categorical,  how='left', on=['Patient_ID', 'sample-id', 'Patient_Sex', 'Stool_Consistency'])\n",
    "metadata_alpha.to_csv(f\"{data_dir}/metadata_alpha.tsv\", sep=\"\\t\", index=False)\n",
    "metadata_alpha"
   ]
  },
  {
   "cell_type": "code",
   "execution_count": null,
   "metadata": {},
   "outputs": [],
   "source": [
    "#filtering for features that are abundant in at least 10 patients\n",
    "! qiime feature-table filter-features \\\n",
    "  --i-table $data_dir/table-filtered.qza \\\n",
    "  --p-min-samples 10 \\\n",
    "  --o-filtered-table $data_dir/table-filtered-min-abund.qza\n"
   ]
  },
  {
   "cell_type": "code",
   "execution_count": null,
   "metadata": {},
   "outputs": [],
   "source": [
    "#volatility\n",
    "\n",
    "! qiime longitudinal feature-volatility \\\n",
    "  --i-table $data_dir/table-filtered-min-abund.qza  \\\n",
    "  --m-metadata-file $data_dir/metadata_alpha.tsv \\\n",
    "  --p-state-column Cohort_Number \\\n",
    "  --p-individual-id-column Patient_ID \\\n",
    "  --p-n-estimators 10 \\\n",
    "  --p-random-state 17 \\\n",
    "  --output-dir $data_dir/feat-volatility-min"
   ]
  },
  {
   "cell_type": "code",
   "execution_count": null,
   "metadata": {},
   "outputs": [],
   "source": [
    "! qiime tools view $data_dir/feat-volatility-min/volatility_plot.qzv"
   ]
  },
  {
   "cell_type": "code",
   "execution_count": null,
   "metadata": {},
   "outputs": [],
   "source": [
    "! qiime tools export \\\n",
    "    --input-path $data_dir/feat-volatility-min/volatility_plot.qzv \\\n",
    "    --output-path $data_dir/feat-volatility-min/volatility_plot-exported"
   ]
  },
  {
   "cell_type": "code",
   "execution_count": null,
   "metadata": {},
   "outputs": [],
   "source": [
    "volatility = pd.read_csv(f\"{data_dir}/feat-volatility-min/volatility_plot-exported/data.tsv\", sep='\\t')\n",
    "\n",
    "volatility.head()"
   ]
  },
  {
   "cell_type": "code",
   "execution_count": null,
   "metadata": {},
   "outputs": [],
   "source": [
    "change = pd.read_csv(f\"{data_dir}/feat-volatility-min/volatility_plot-exported/feature_metadata.tsv\", sep='\\t')\n",
    "\n",
    "# Convert 'importance' to numeric, setting non-numeric values to NaN\n",
    "change['importance'] = pd.to_numeric(change['importance'], errors='coerce')\n",
    "\n",
    "# Filter for numeric values > 0\n",
    "change[change['importance'] > 0]\n"
   ]
  },
  {
   "cell_type": "markdown",
   "metadata": {},
   "source": [
    "### Testing differences in relative abundance of features between cohorts pairwise"
   ]
  },
  {
   "cell_type": "code",
   "execution_count": null,
   "metadata": {},
   "outputs": [],
   "source": [
    "#Creates a FeatureTable[RelativeFrequency] that is needed for the qiime longitudinal pairwise-differences command\n",
    "! qiime feature-table relative-frequency \\\n",
    "  --i-table $data_dir/table-filtered-min-abund.qza \\\n",
    "  --o-relative-frequency-table $data_dir/relative-frequency-table-min-abund.qza"
   ]
  },
  {
   "cell_type": "markdown",
   "metadata": {},
   "source": [
    "Shows a list of all the feature names"
   ]
  },
  {
   "cell_type": "code",
   "execution_count": null,
   "metadata": {},
   "outputs": [],
   "source": [
    "# Load the FeatureTable[RelativeFrequency]\n",
    "feature_table = Artifact.load(f\"{data_dir}/relative-frequency-table.qza\")\n",
    "# Extract the feature table as a Pandas DataFrame\n",
    "table = feature_table.view(pd.DataFrame)\n",
    "# Get the list of feature IDs\n",
    "features = table.columns.tolist()\n",
    "\n",
    "# Load the FeatureTable[RelativeFrequency]\n",
    "feature_table_filtered = Artifact.load(f\"{data_dir}/relative-frequency-table-min-abund.qza\")\n",
    "# Extract the feature table as a Pandas DataFrame\n",
    "table_filtered = feature_table_filtered.view(pd.DataFrame)\n",
    "# Get the list of feature IDs\n",
    "features_filtered = table_filtered.columns.tolist()\n",
    "len(features_filtered)\n",
    "\n",
    "print(\"The feature table originally contained\", len(features), \"features and after filtering for features that are present in at least 10 samples\", len(features_filtered),\"features remain\")"
   ]
  },
  {
   "cell_type": "markdown",
   "metadata": {},
   "source": [
    "Analysis if the relative abundance of a feature changes between pre- and post-abduction pairwise"
   ]
  },
  {
   "cell_type": "code",
   "execution_count": null,
   "metadata": {},
   "outputs": [],
   "source": [
    "#can be used to check if the difference in abundance of a specific feature is actually significantly\n",
    "! qiime longitudinal pairwise-differences \\\n",
    "  --i-table $data_dir/relative-frequency-table-min-abund.qza \\\n",
    "  --m-metadata-file $data_dir/metadata_pre_post_alpha.tsv \\\n",
    "  --p-metric 3bb5ef006f820704249b8e9ca9597079\t \\\n",
    "  --p-state-column Cohort_Number \\\n",
    "  --p-state-1 1 \\\n",
    "  --p-state-2 2 \\\n",
    "  --p-individual-id-column Patient_ID \\\n",
    "  --p-replicate-handling random \\\n",
    "  --o-visualization $data_dir/pairwise_differences_pre_post_feature.qzv\n",
    "\n",
    "! qiime tools view $data_dir/pairwise_differences_pre_post_feature.qzv"
   ]
  }
 ],
 "metadata": {
  "kernelspec": {
   "display_name": "qiime2-amplicon-2024.10",
   "language": "python",
   "name": "python3"
  },
  "language_info": {
   "name": "python",
   "version": "3.10.14"
  }
 },
 "nbformat": 4,
 "nbformat_minor": 2
}
