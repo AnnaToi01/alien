{
 "cells": [
  {
   "cell_type": "markdown",
   "id": "f1856481-412c-4b22-ae84-89ce9e9d8d6e",
   "metadata": {},
   "source": [
    "#### 04. Alpha Diversity \n",
    "\n",
    "Author: Willem Fuetterer\n",
    "\n",
    "\n",
    "In this Jupyter Notebook the alpha diversity of the samples is analyzed.\n",
    "\n",
    "**Exercise overview:**<br>\n",
    "[1. Setup](#setup)<br>\n",
    "[2. Identification of correct sampling depth](#depth)<br>\n",
    "[3. Calculating the alpha diversity](#calc)<br>\n",
    "[4. Testing the associations between categorical metadata columns and the diversity metric](#categorical)<br>\n",
    "[5. Testing whether numeric sample metadata columns are correlated with microbial community richness](#numeric)<br>\n",
    "\n",
    "\n",
    "\n",
    "\n"
   ]
  },
  {
   "cell_type": "markdown",
   "id": "5f2acad0-e265-42de-ab89-a77d1b8a6762",
   "metadata": {
    "tags": []
   },
   "source": [
    "<a id='setup'></a>\n",
    "\n",
    "## 1. Setup"
   ]
  },
  {
   "cell_type": "code",
   "execution_count": 1,
   "id": "d48f9089-5a6f-4b95-bddd-9faa98698488",
   "metadata": {
    "tags": []
   },
   "outputs": [],
   "source": [
    "# importing all required packages & notebook extensions at the start of the notebook\n",
    "import os\n",
    "import biom\n",
    "import numpy as np\n",
    "import matplotlib.pyplot as plt\n",
    "import seaborn as sns\n",
    "import pandas as pd\n",
    "import qiime2 as q2\n",
    "from qiime2 import Visualization\n",
    "\n",
    "%matplotlib inline"
   ]
  },
  {
   "cell_type": "code",
   "execution_count": 2,
   "id": "821fac4d-b006-4db9-99be-5219a8a468c9",
   "metadata": {
    "tags": []
   },
   "outputs": [],
   "source": [
    "# assigning variables throughout the notebook\n",
    "\n",
    "# location of this week's data and all the results produced by this notebook\n",
    "# - this should be a path relative to your working directory\n",
    "raw_data_dir = \"../data/raw\"\n",
    "data_dir = \"../data/processed\"\n",
    "vis_dir  = \"../results\""
   ]
  },
  {
   "cell_type": "markdown",
   "id": "04d5d16c-ea47-48ec-bc95-e943cdb6e2f2",
   "metadata": {
    "tags": []
   },
   "source": [
    "<a id='depth'></a>\n",
    "\n",
    "## 2. Identification of correct sampling depth"
   ]
  },
  {
   "cell_type": "code",
   "execution_count": 4,
   "id": "d3899cd9-09ac-444c-b9e5-08e5cccd48a0",
   "metadata": {
    "tags": []
   },
   "outputs": [
    {
     "name": "stdout",
     "output_type": "stream",
     "text": [
      "\u001b[32mUUID\u001b[0m:        702565bb-ce3d-472e-acd6-4b914601f892\n",
      "\u001b[32mType\u001b[0m:        FeatureTable[Frequency]\n",
      "\u001b[32mData format\u001b[0m: BIOMV210DirFmt\n"
     ]
    }
   ],
   "source": [
    "! qiime tools peek $data_dir/table-filtered.qza #-> FeatureTable[Frequency]"
   ]
  },
  {
   "cell_type": "code",
   "execution_count": 12,
   "id": "a2bd736f-32c6-4558-b8e0-386bfee95d85",
   "metadata": {
    "tags": []
   },
   "outputs": [
    {
     "name": "stdout",
     "output_type": "stream",
     "text": [
      "\u001b[32mUUID\u001b[0m:        0eabf2a9-d83b-4ef2-950c-d00a600e77fd\n",
      "\u001b[32mType\u001b[0m:        FeatureData[Taxonomy]\n",
      "\u001b[32mData format\u001b[0m: TSVTaxonomyDirectoryFormat\n"
     ]
    }
   ],
   "source": [
    "! qiime tools peek $data_dir/taxonomy.qza #-> FeatureData[Taxonomy]"
   ]
  },
  {
   "cell_type": "code",
   "execution_count": 7,
   "id": "d0396f81-5af1-4111-9f0c-9aa4ac19a2bf",
   "metadata": {
    "tags": []
   },
   "outputs": [
    {
     "name": "stdout",
     "output_type": "stream",
     "text": [
      "\u001b[32mUUID\u001b[0m:        54dbac30-b904-41cf-bdc2-9ac608bc6561\n",
      "\u001b[32mType\u001b[0m:        Phylogeny[Rooted]\n",
      "\u001b[32mData format\u001b[0m: NewickDirectoryFormat\n"
     ]
    }
   ],
   "source": [
    "! qiime tools peek $data_dir/fasttree-tree-rooted.qza #-> Phylogeny[Rooted]"
   ]
  },
  {
   "cell_type": "markdown",
   "id": "1574fa11",
   "metadata": {},
   "source": [
    "Summary of feature table"
   ]
  },
  {
   "cell_type": "code",
   "execution_count": 6,
   "id": "d6157ec8-bb02-42b1-bf3b-ab2b72ebba82",
   "metadata": {},
   "outputs": [
    {
     "name": "stdout",
     "output_type": "stream",
     "text": [
      "\u001b[32mSaved Visualization to: ../data/processed/feature-table-filtered-summary.qzv\u001b[0m\n",
      "\u001b[0m"
     ]
    }
   ],
   "source": [
    "! qiime feature-table summarize \\\n",
    "  --i-table $data_dir/table-filtered.qza \\\n",
    "  --m-sample-metadata-file $data_dir/metadata.tsv \\\n",
    "  --o-visualization $data_dir/feature-table-filtered-summary.qzv"
   ]
  },
  {
   "cell_type": "code",
   "execution_count": 3,
   "id": "14527fda-9821-41c5-8c44-cf4a7f628c9f",
   "metadata": {
    "tags": []
   },
   "outputs": [
    {
     "data": {
      "text/html": [
       "<div><img onload=\"(function(div, url){\n",
       "if (typeof require !== 'undefined') {\n",
       "    var baseURL = require.toUrl('').split('/').slice(0, -2).join('/');\n",
       "} else {\n",
       "    var baseURL = JSON.parse(\n",
       "        document.getElementById('jupyter-config-data').innerHTML\n",
       "    ).baseUrl.slice(0, -1);\n",
       "}\n",
       "url = baseURL + url;\n",
       "fetch(url).then(function(res) {\n",
       "    if (res.status === 404) {\n",
       "        div.innerHTML = 'Install QIIME 2 Jupyter extension with:<br />' +\n",
       "                        '<code>jupyter serverextension enable --py qiime2' +\n",
       "                        ' --sys-prefix</code><br />then restart your server.' +\n",
       "                        '<br /><br />(Interactive output not available on ' +\n",
       "                        'static notebook viewer services like nbviewer.)';\n",
       "    } else if (res.status === 409) {\n",
       "        div.innerHTML = 'Visualization no longer in scope. Re-run this cell' +\n",
       "                        ' to see the visualization.';\n",
       "    } else if (res.ok) {\n",
       "        url = res.url;\n",
       "        div.innerHTML = '<iframe src=\\'' + url + '\\' style=\\'' +\n",
       "                        'width: 100%; height: 700px; border: 0;\\'>' +\n",
       "                        '</iframe><hr />Open in a: <a href=\\'' + url + '\\'' +\n",
       "                        ' target=\\'_blank\\'>new window</a>'\n",
       "    } else {\n",
       "        div.innerHTML = 'Something has gone wrong. Check notebook server for' +\n",
       "                        ' errors.';\n",
       "    }\n",
       "});\n",
       "})(this.parentElement, '/qiime2/redirect?location=/tmp/qiime2/jovyan/data/f78241ec-9fa6-4d1f-b97e-57fd075fb09b')\" src=\"data:image/gif;base64,R0lGODlhAQABAIAAAP///wAAACH5BAEAAAAALAAAAAABAAEAAAICRAEAOw==\" /></div>"
      ],
      "text/plain": [
       "<visualization: Visualization uuid: f78241ec-9fa6-4d1f-b97e-57fd075fb09b>"
      ]
     },
     "execution_count": 3,
     "metadata": {},
     "output_type": "execute_result"
    }
   ],
   "source": [
    "Visualization.load(f\"{data_dir}/feature-table-filtered-summary.qzv\")"
   ]
  },
  {
   "cell_type": "markdown",
   "id": "0729a7ed-c11f-4f18-a0fc-47030c955565",
   "metadata": {},
   "source": [
    "### Alpha rarefaction"
   ]
  },
  {
   "cell_type": "code",
   "execution_count": 11,
   "id": "6224546f-55c6-458b-a24b-841bf28bfa15",
   "metadata": {
    "tags": []
   },
   "outputs": [
    {
     "name": "stdout",
     "output_type": "stream",
     "text": [
      "\u001b[32mSaved Visualization to: ../data/processed/alpha-rarefaction.qzv\u001b[0m\n",
      "\u001b[0m"
     ]
    }
   ],
   "source": [
    "! qiime diversity alpha-rarefaction \\\n",
    "    --i-table $data_dir/table-filtered.qza \\\n",
    "    --i-phylogeny $data_dir/fasttree-tree-rooted.qza \\\n",
    "    --p-max-depth 290000 \\\n",
    "    --m-metadata-file $data_dir/metadata.tsv \\\n",
    "    --o-visualization $data_dir/alpha-rarefaction.qzv"
   ]
  },
  {
   "cell_type": "code",
   "execution_count": 4,
   "id": "0a5e0573-b656-407b-8820-fb0adef6a926",
   "metadata": {
    "tags": []
   },
   "outputs": [
    {
     "data": {
      "text/html": [
       "<div><img onload=\"(function(div, url){\n",
       "if (typeof require !== 'undefined') {\n",
       "    var baseURL = require.toUrl('').split('/').slice(0, -2).join('/');\n",
       "} else {\n",
       "    var baseURL = JSON.parse(\n",
       "        document.getElementById('jupyter-config-data').innerHTML\n",
       "    ).baseUrl.slice(0, -1);\n",
       "}\n",
       "url = baseURL + url;\n",
       "fetch(url).then(function(res) {\n",
       "    if (res.status === 404) {\n",
       "        div.innerHTML = 'Install QIIME 2 Jupyter extension with:<br />' +\n",
       "                        '<code>jupyter serverextension enable --py qiime2' +\n",
       "                        ' --sys-prefix</code><br />then restart your server.' +\n",
       "                        '<br /><br />(Interactive output not available on ' +\n",
       "                        'static notebook viewer services like nbviewer.)';\n",
       "    } else if (res.status === 409) {\n",
       "        div.innerHTML = 'Visualization no longer in scope. Re-run this cell' +\n",
       "                        ' to see the visualization.';\n",
       "    } else if (res.ok) {\n",
       "        url = res.url;\n",
       "        div.innerHTML = '<iframe src=\\'' + url + '\\' style=\\'' +\n",
       "                        'width: 100%; height: 700px; border: 0;\\'>' +\n",
       "                        '</iframe><hr />Open in a: <a href=\\'' + url + '\\'' +\n",
       "                        ' target=\\'_blank\\'>new window</a>'\n",
       "    } else {\n",
       "        div.innerHTML = 'Something has gone wrong. Check notebook server for' +\n",
       "                        ' errors.';\n",
       "    }\n",
       "});\n",
       "})(this.parentElement, '/qiime2/redirect?location=/tmp/qiime2/jovyan/data/7be7bdaa-66a9-4e06-9479-2abef3706f5c')\" src=\"data:image/gif;base64,R0lGODlhAQABAIAAAP///wAAACH5BAEAAAAALAAAAAABAAEAAAICRAEAOw==\" /></div>"
      ],
      "text/plain": [
       "<visualization: Visualization uuid: 7be7bdaa-66a9-4e06-9479-2abef3706f5c>"
      ]
     },
     "execution_count": 4,
     "metadata": {},
     "output_type": "execute_result"
    }
   ],
   "source": [
    "Visualization.load(f\"{data_dir}/alpha-rarefaction.qzv\")"
   ]
  },
  {
   "cell_type": "markdown",
   "id": "957df7f9-58a6-4a33-bdae-f6533632d18f",
   "metadata": {
    "tags": []
   },
   "source": [
    "Based on the alpha rarefaction a sequencing depth of 40000 seems to be a good cutoff point, maximizing the rarefying threshold while minimizing loss of samples due to insufficient coverage"
   ]
  },
  {
   "cell_type": "markdown",
   "id": "11869671-f0eb-42a3-942e-8696edfadaf0",
   "metadata": {},
   "source": [
    "<a id='calc'></a>\n",
    "\n",
    "## 3. Calculating the alpha diversity"
   ]
  },
  {
   "cell_type": "markdown",
   "id": "81e765f0-3914-424d-a497-d5283aebd053",
   "metadata": {},
   "source": [
    "Calculating the alpha diversity"
   ]
  },
  {
   "cell_type": "code",
   "execution_count": 15,
   "id": "a14cbd0a-18df-48f2-8850-ae579eb1055e",
   "metadata": {},
   "outputs": [
    {
     "name": "stdout",
     "output_type": "stream",
     "text": [
      "\u001b[32mSaved FeatureTable[Frequency] to: ../data/processed/core-metrics-results/rarefied_table.qza\u001b[0m\n",
      "\u001b[32mSaved SampleData[AlphaDiversity] to: ../data/processed/core-metrics-results/faith_pd_vector.qza\u001b[0m\n",
      "\u001b[32mSaved SampleData[AlphaDiversity] to: ../data/processed/core-metrics-results/observed_features_vector.qza\u001b[0m\n",
      "\u001b[32mSaved SampleData[AlphaDiversity] to: ../data/processed/core-metrics-results/shannon_vector.qza\u001b[0m\n",
      "\u001b[32mSaved SampleData[AlphaDiversity] to: ../data/processed/core-metrics-results/evenness_vector.qza\u001b[0m\n",
      "\u001b[32mSaved DistanceMatrix to: ../data/processed/core-metrics-results/unweighted_unifrac_distance_matrix.qza\u001b[0m\n",
      "\u001b[32mSaved DistanceMatrix to: ../data/processed/core-metrics-results/weighted_unifrac_distance_matrix.qza\u001b[0m\n",
      "\u001b[32mSaved DistanceMatrix to: ../data/processed/core-metrics-results/jaccard_distance_matrix.qza\u001b[0m\n",
      "\u001b[32mSaved DistanceMatrix to: ../data/processed/core-metrics-results/bray_curtis_distance_matrix.qza\u001b[0m\n",
      "\u001b[32mSaved PCoAResults to: ../data/processed/core-metrics-results/unweighted_unifrac_pcoa_results.qza\u001b[0m\n",
      "\u001b[32mSaved PCoAResults to: ../data/processed/core-metrics-results/weighted_unifrac_pcoa_results.qza\u001b[0m\n",
      "\u001b[32mSaved PCoAResults to: ../data/processed/core-metrics-results/jaccard_pcoa_results.qza\u001b[0m\n",
      "\u001b[32mSaved PCoAResults to: ../data/processed/core-metrics-results/bray_curtis_pcoa_results.qza\u001b[0m\n",
      "\u001b[32mSaved Visualization to: ../data/processed/core-metrics-results/unweighted_unifrac_emperor.qzv\u001b[0m\n",
      "\u001b[32mSaved Visualization to: ../data/processed/core-metrics-results/weighted_unifrac_emperor.qzv\u001b[0m\n",
      "\u001b[32mSaved Visualization to: ../data/processed/core-metrics-results/jaccard_emperor.qzv\u001b[0m\n",
      "\u001b[32mSaved Visualization to: ../data/processed/core-metrics-results/bray_curtis_emperor.qzv\u001b[0m\n",
      "\u001b[0m"
     ]
    }
   ],
   "source": [
    "! qiime diversity core-metrics-phylogenetic \\\n",
    "  --i-table $data_dir/table-filtered.qza \\\n",
    "  --i-phylogeny $data_dir/fasttree-tree-rooted.qza \\\n",
    "  --m-metadata-file $data_dir/metadata.tsv \\\n",
    "  --p-sampling-depth 40000 \\\n",
    "  --output-dir $data_dir/core-metrics-results"
   ]
  },
  {
   "cell_type": "markdown",
   "id": "d59f4f48-0057-4874-9598-a569f2c59808",
   "metadata": {},
   "source": [
    "<a id='categorical'></a>\n",
    "\n",
    "## 4. Testing the associations between categorical metadata columns and the diversity metric"
   ]
  },
  {
   "cell_type": "markdown",
   "id": "8c46d7f5-53f3-4f37-a99b-924e2f19ffc3",
   "metadata": {},
   "source": [
    "### Shannon"
   ]
  },
  {
   "cell_type": "code",
   "execution_count": 16,
   "id": "43f45171-83db-4a82-aeb7-ad3f98b32088",
   "metadata": {
    "tags": []
   },
   "outputs": [
    {
     "name": "stdout",
     "output_type": "stream",
     "text": [
      "\u001b[32mSaved Visualization to: ../data/processed/core-metrics-results/shannon-group-significance.qzv\u001b[0m\n",
      "\u001b[0m"
     ]
    }
   ],
   "source": [
    "! qiime diversity alpha-group-significance \\\n",
    "  --i-alpha-diversity $data_dir/core-metrics-results/shannon_vector.qza \\\n",
    "  --m-metadata-file $data_dir/metadata.tsv \\\n",
    "  --o-visualization $data_dir/core-metrics-results/shannon-group-significance.qzv"
   ]
  },
  {
   "cell_type": "code",
   "execution_count": 5,
   "id": "041320bf-c73f-4277-a01d-3f11a9bd68e1",
   "metadata": {
    "tags": []
   },
   "outputs": [
    {
     "data": {
      "text/html": [
       "<div><img onload=\"(function(div, url){\n",
       "if (typeof require !== 'undefined') {\n",
       "    var baseURL = require.toUrl('').split('/').slice(0, -2).join('/');\n",
       "} else {\n",
       "    var baseURL = JSON.parse(\n",
       "        document.getElementById('jupyter-config-data').innerHTML\n",
       "    ).baseUrl.slice(0, -1);\n",
       "}\n",
       "url = baseURL + url;\n",
       "fetch(url).then(function(res) {\n",
       "    if (res.status === 404) {\n",
       "        div.innerHTML = 'Install QIIME 2 Jupyter extension with:<br />' +\n",
       "                        '<code>jupyter serverextension enable --py qiime2' +\n",
       "                        ' --sys-prefix</code><br />then restart your server.' +\n",
       "                        '<br /><br />(Interactive output not available on ' +\n",
       "                        'static notebook viewer services like nbviewer.)';\n",
       "    } else if (res.status === 409) {\n",
       "        div.innerHTML = 'Visualization no longer in scope. Re-run this cell' +\n",
       "                        ' to see the visualization.';\n",
       "    } else if (res.ok) {\n",
       "        url = res.url;\n",
       "        div.innerHTML = '<iframe src=\\'' + url + '\\' style=\\'' +\n",
       "                        'width: 100%; height: 700px; border: 0;\\'>' +\n",
       "                        '</iframe><hr />Open in a: <a href=\\'' + url + '\\'' +\n",
       "                        ' target=\\'_blank\\'>new window</a>'\n",
       "    } else {\n",
       "        div.innerHTML = 'Something has gone wrong. Check notebook server for' +\n",
       "                        ' errors.';\n",
       "    }\n",
       "});\n",
       "})(this.parentElement, '/qiime2/redirect?location=/tmp/qiime2/jovyan/data/9d9df169-acb6-434b-b2df-68828048d4eb')\" src=\"data:image/gif;base64,R0lGODlhAQABAIAAAP///wAAACH5BAEAAAAALAAAAAABAAEAAAICRAEAOw==\" /></div>"
      ],
      "text/plain": [
       "<visualization: Visualization uuid: 9d9df169-acb6-434b-b2df-68828048d4eb>"
      ]
     },
     "execution_count": 5,
     "metadata": {},
     "output_type": "execute_result"
    }
   ],
   "source": [
    "Visualization.load(f\"{data_dir}/core-metrics-results/shannon-group-significance.qzv\")"
   ]
  },
  {
   "cell_type": "code",
   "execution_count": 8,
   "id": "8a27a17c-f2a5-4f66-b4de-29fd82c2f1fa",
   "metadata": {
    "tags": []
   },
   "outputs": [
    {
     "name": "stdout",
     "output_type": "stream",
     "text": [
      "\u001b[32mExported ../data/processed/core-metrics-results/shannon-group-significance.qzv as Visualization to directory ../data/processed/core-metrics-results/shannon-group-significance_exported\u001b[0m\n"
     ]
    }
   ],
   "source": [
    "! qiime tools export \\\n",
    "    --input-path $data_dir/core-metrics-results/shannon-group-significance.qzv \\\n",
    "    --output-path $data_dir/core-metrics-results/shannon-group-significance_exported"
   ]
  },
  {
   "cell_type": "markdown",
   "id": "498c7a6e-31f9-4dfb-8c33-d8cb8c5963eb",
   "metadata": {},
   "source": [
    "### Faith PD"
   ]
  },
  {
   "cell_type": "code",
   "execution_count": 18,
   "id": "f3819f70-0023-4809-8f20-74dd3074e0a8",
   "metadata": {
    "tags": []
   },
   "outputs": [
    {
     "name": "stdout",
     "output_type": "stream",
     "text": [
      "\u001b[32mSaved Visualization to: ../data/processed/core-metrics-results/faith-pd-group-significance.qzv\u001b[0m\n",
      "\u001b[0m"
     ]
    }
   ],
   "source": [
    "! qiime diversity alpha-group-significance \\\n",
    "  --i-alpha-diversity $data_dir/core-metrics-results/faith_pd_vector.qza \\\n",
    "  --m-metadata-file $data_dir/metadata.tsv \\\n",
    "  --o-visualization $data_dir/core-metrics-results/faith-pd-group-significance.qzv"
   ]
  },
  {
   "cell_type": "code",
   "execution_count": 6,
   "id": "a616c653-b27e-4aa0-8e2e-df06a48879ab",
   "metadata": {
    "tags": []
   },
   "outputs": [
    {
     "data": {
      "text/html": [
       "<div><img onload=\"(function(div, url){\n",
       "if (typeof require !== 'undefined') {\n",
       "    var baseURL = require.toUrl('').split('/').slice(0, -2).join('/');\n",
       "} else {\n",
       "    var baseURL = JSON.parse(\n",
       "        document.getElementById('jupyter-config-data').innerHTML\n",
       "    ).baseUrl.slice(0, -1);\n",
       "}\n",
       "url = baseURL + url;\n",
       "fetch(url).then(function(res) {\n",
       "    if (res.status === 404) {\n",
       "        div.innerHTML = 'Install QIIME 2 Jupyter extension with:<br />' +\n",
       "                        '<code>jupyter serverextension enable --py qiime2' +\n",
       "                        ' --sys-prefix</code><br />then restart your server.' +\n",
       "                        '<br /><br />(Interactive output not available on ' +\n",
       "                        'static notebook viewer services like nbviewer.)';\n",
       "    } else if (res.status === 409) {\n",
       "        div.innerHTML = 'Visualization no longer in scope. Re-run this cell' +\n",
       "                        ' to see the visualization.';\n",
       "    } else if (res.ok) {\n",
       "        url = res.url;\n",
       "        div.innerHTML = '<iframe src=\\'' + url + '\\' style=\\'' +\n",
       "                        'width: 100%; height: 700px; border: 0;\\'>' +\n",
       "                        '</iframe><hr />Open in a: <a href=\\'' + url + '\\'' +\n",
       "                        ' target=\\'_blank\\'>new window</a>'\n",
       "    } else {\n",
       "        div.innerHTML = 'Something has gone wrong. Check notebook server for' +\n",
       "                        ' errors.';\n",
       "    }\n",
       "});\n",
       "})(this.parentElement, '/qiime2/redirect?location=/tmp/qiime2/jovyan/data/ab7fe9e8-4aa7-4c1d-bc4c-d428d988c4ae')\" src=\"data:image/gif;base64,R0lGODlhAQABAIAAAP///wAAACH5BAEAAAAALAAAAAABAAEAAAICRAEAOw==\" /></div>"
      ],
      "text/plain": [
       "<visualization: Visualization uuid: ab7fe9e8-4aa7-4c1d-bc4c-d428d988c4ae>"
      ]
     },
     "execution_count": 6,
     "metadata": {},
     "output_type": "execute_result"
    }
   ],
   "source": [
    "Visualization.load(f\"{data_dir}/core-metrics-results/faith-pd-group-significance.qzv\")"
   ]
  },
  {
   "cell_type": "code",
   "execution_count": 7,
   "id": "30bce03a-be3d-40fd-8983-f912000a18db",
   "metadata": {
    "tags": []
   },
   "outputs": [
    {
     "name": "stdout",
     "output_type": "stream",
     "text": [
      "\u001b[32mExported ../data/processed/core-metrics-results/faith-pd-group-significance.qzv as Visualization to directory ../data/processed/core-metrics-results/faith-pd-group-significance_exported\u001b[0m\n"
     ]
    }
   ],
   "source": [
    "! qiime tools export \\\n",
    "    --input-path $data_dir/core-metrics-results/faith-pd-group-significance.qzv \\\n",
    "    --output-path $data_dir/core-metrics-results/faith-pd-group-significance_exported"
   ]
  },
  {
   "cell_type": "markdown",
   "id": "3bc69e04-b5be-42be-aff3-71805e43528b",
   "metadata": {},
   "source": [
    "<a id='numeric'></a>\n",
    "\n",
    "## 5. Testing whether numeric sample metadata columns are correlated with microbial community richness"
   ]
  },
  {
   "cell_type": "markdown",
   "id": "1c2449f2-f9d1-4fad-96bf-0ebbb413902a",
   "metadata": {},
   "source": [
    "### Shannon"
   ]
  },
  {
   "cell_type": "code",
   "execution_count": 20,
   "id": "b11b8225-3b17-44bd-9f52-f4b0dea6dec1",
   "metadata": {
    "tags": []
   },
   "outputs": [
    {
     "name": "stdout",
     "output_type": "stream",
     "text": [
      "\u001b[32mSaved Visualization to: ../data/processed/core-metrics-results/shannon-group-significance-numeric.qzv\u001b[0m\n",
      "\u001b[0m"
     ]
    }
   ],
   "source": [
    "! qiime diversity alpha-correlation \\\n",
    "  --i-alpha-diversity $data_dir/core-metrics-results/shannon_vector.qza \\\n",
    "  --m-metadata-file $data_dir/metadata.tsv \\\n",
    "  --o-visualization $data_dir/core-metrics-results/shannon-group-significance-numeric.qzv"
   ]
  },
  {
   "cell_type": "code",
   "execution_count": 9,
   "id": "86476308-b430-4850-aca6-5727a745cff5",
   "metadata": {
    "collapsed": true,
    "jupyter": {
     "outputs_hidden": true
    },
    "tags": []
   },
   "outputs": [
    {
     "data": {
      "text/html": [
       "<div><img onload=\"(function(div, url){\n",
       "if (typeof require !== 'undefined') {\n",
       "    var baseURL = require.toUrl('').split('/').slice(0, -2).join('/');\n",
       "} else {\n",
       "    var baseURL = JSON.parse(\n",
       "        document.getElementById('jupyter-config-data').innerHTML\n",
       "    ).baseUrl.slice(0, -1);\n",
       "}\n",
       "url = baseURL + url;\n",
       "fetch(url).then(function(res) {\n",
       "    if (res.status === 404) {\n",
       "        div.innerHTML = 'Install QIIME 2 Jupyter extension with:<br />' +\n",
       "                        '<code>jupyter serverextension enable --py qiime2' +\n",
       "                        ' --sys-prefix</code><br />then restart your server.' +\n",
       "                        '<br /><br />(Interactive output not available on ' +\n",
       "                        'static notebook viewer services like nbviewer.)';\n",
       "    } else if (res.status === 409) {\n",
       "        div.innerHTML = 'Visualization no longer in scope. Re-run this cell' +\n",
       "                        ' to see the visualization.';\n",
       "    } else if (res.ok) {\n",
       "        url = res.url;\n",
       "        div.innerHTML = '<iframe src=\\'' + url + '\\' style=\\'' +\n",
       "                        'width: 100%; height: 700px; border: 0;\\'>' +\n",
       "                        '</iframe><hr />Open in a: <a href=\\'' + url + '\\'' +\n",
       "                        ' target=\\'_blank\\'>new window</a>'\n",
       "    } else {\n",
       "        div.innerHTML = 'Something has gone wrong. Check notebook server for' +\n",
       "                        ' errors.';\n",
       "    }\n",
       "});\n",
       "})(this.parentElement, '/qiime2/redirect?location=/tmp/qiime2/jovyan/data/c9b30863-4521-4420-b3ec-0adaedce8dca')\" src=\"data:image/gif;base64,R0lGODlhAQABAIAAAP///wAAACH5BAEAAAAALAAAAAABAAEAAAICRAEAOw==\" /></div>"
      ],
      "text/plain": [
       "<visualization: Visualization uuid: c9b30863-4521-4420-b3ec-0adaedce8dca>"
      ]
     },
     "execution_count": 9,
     "metadata": {},
     "output_type": "execute_result"
    }
   ],
   "source": [
    "Visualization.load(f\"{data_dir}/core-metrics-results/shannon-group-significance-numeric.qzv\")"
   ]
  },
  {
   "cell_type": "code",
   "execution_count": 10,
   "id": "b6a48caa-ce9f-46ce-86a0-9ab3055961e7",
   "metadata": {
    "tags": []
   },
   "outputs": [
    {
     "name": "stdout",
     "output_type": "stream",
     "text": [
      "\u001b[32mExported ../data/processed/core-metrics-results/shannon-group-significance-numeric.qzv as Visualization to directory ../data/processed/core-metrics-results/shannon-group-significance-numeric_exported\u001b[0m\n"
     ]
    }
   ],
   "source": [
    "! qiime tools export \\\n",
    "    --input-path $data_dir/core-metrics-results/shannon-group-significance-numeric.qzv \\\n",
    "    --output-path $data_dir/core-metrics-results/shannon-group-significance-numeric_exported"
   ]
  },
  {
   "cell_type": "markdown",
   "id": "32074437-c19a-482e-a4b7-5326a2807963",
   "metadata": {},
   "source": [
    "### Faith PD"
   ]
  },
  {
   "cell_type": "code",
   "execution_count": 22,
   "id": "ab0a777c-fd90-40dc-933d-b1f7565edfca",
   "metadata": {
    "tags": []
   },
   "outputs": [
    {
     "name": "stdout",
     "output_type": "stream",
     "text": [
      "\u001b[32mSaved Visualization to: ../data/processed/core-metrics-results/faith-pd-group-significance-numeric.qzv\u001b[0m\n",
      "\u001b[0m"
     ]
    }
   ],
   "source": [
    "! qiime diversity alpha-correlation \\\n",
    "  --i-alpha-diversity $data_dir/core-metrics-results/faith_pd_vector.qza \\\n",
    "  --m-metadata-file $data_dir/metadata.tsv \\\n",
    "  --o-visualization $data_dir/core-metrics-results/faith-pd-group-significance-numeric.qzv"
   ]
  },
  {
   "cell_type": "code",
   "execution_count": 11,
   "id": "4cc0b8e9-66dc-4c47-955a-d94d720946d8",
   "metadata": {
    "collapsed": true,
    "jupyter": {
     "outputs_hidden": true
    },
    "tags": []
   },
   "outputs": [
    {
     "data": {
      "text/html": [
       "<div><img onload=\"(function(div, url){\n",
       "if (typeof require !== 'undefined') {\n",
       "    var baseURL = require.toUrl('').split('/').slice(0, -2).join('/');\n",
       "} else {\n",
       "    var baseURL = JSON.parse(\n",
       "        document.getElementById('jupyter-config-data').innerHTML\n",
       "    ).baseUrl.slice(0, -1);\n",
       "}\n",
       "url = baseURL + url;\n",
       "fetch(url).then(function(res) {\n",
       "    if (res.status === 404) {\n",
       "        div.innerHTML = 'Install QIIME 2 Jupyter extension with:<br />' +\n",
       "                        '<code>jupyter serverextension enable --py qiime2' +\n",
       "                        ' --sys-prefix</code><br />then restart your server.' +\n",
       "                        '<br /><br />(Interactive output not available on ' +\n",
       "                        'static notebook viewer services like nbviewer.)';\n",
       "    } else if (res.status === 409) {\n",
       "        div.innerHTML = 'Visualization no longer in scope. Re-run this cell' +\n",
       "                        ' to see the visualization.';\n",
       "    } else if (res.ok) {\n",
       "        url = res.url;\n",
       "        div.innerHTML = '<iframe src=\\'' + url + '\\' style=\\'' +\n",
       "                        'width: 100%; height: 700px; border: 0;\\'>' +\n",
       "                        '</iframe><hr />Open in a: <a href=\\'' + url + '\\'' +\n",
       "                        ' target=\\'_blank\\'>new window</a>'\n",
       "    } else {\n",
       "        div.innerHTML = 'Something has gone wrong. Check notebook server for' +\n",
       "                        ' errors.';\n",
       "    }\n",
       "});\n",
       "})(this.parentElement, '/qiime2/redirect?location=/tmp/qiime2/jovyan/data/dcacf14b-3363-463b-908d-5987d2f4148f')\" src=\"data:image/gif;base64,R0lGODlhAQABAIAAAP///wAAACH5BAEAAAAALAAAAAABAAEAAAICRAEAOw==\" /></div>"
      ],
      "text/plain": [
       "<visualization: Visualization uuid: dcacf14b-3363-463b-908d-5987d2f4148f>"
      ]
     },
     "execution_count": 11,
     "metadata": {},
     "output_type": "execute_result"
    }
   ],
   "source": [
    "Visualization.load(f\"{data_dir}/core-metrics-results/faith-pd-group-significance-numeric.qzv\")"
   ]
  },
  {
   "cell_type": "code",
   "execution_count": 12,
   "id": "61dd81ca-4f9e-4383-b163-0e4a50f81202",
   "metadata": {
    "tags": []
   },
   "outputs": [
    {
     "name": "stdout",
     "output_type": "stream",
     "text": [
      "\u001b[32mExported ../data/processed/core-metrics-results/faith-pd-group-significance-numeric.qzv as Visualization to directory ../data/processed/core-metrics-results/faith-pd-group-significance-numeric_exported\u001b[0m\n"
     ]
    }
   ],
   "source": [
    "! qiime tools export \\\n",
    "    --input-path $data_dir/core-metrics-results/faith-pd-group-significance-numeric.qzv \\\n",
    "    --output-path $data_dir/core-metrics-results/faith-pd-group-significance-numeric_exported"
   ]
  }
 ],
 "metadata": {
  "kernelspec": {
   "display_name": "QIIME 2",
   "language": "python",
   "name": "python3"
  },
  "language_info": {
   "codemirror_mode": {
    "name": "ipython",
    "version": 3
   },
   "file_extension": ".py",
   "mimetype": "text/x-python",
   "name": "python",
   "nbconvert_exporter": "python",
   "pygments_lexer": "ipython3",
   "version": "3.9.19"
  }
 },
 "nbformat": 4,
 "nbformat_minor": 5
}
