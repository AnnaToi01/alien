{
 "cells": [
  {
   "cell_type": "markdown",
   "id": "2b3438be-35c3-45c5-9776-3bba8c08d6f0",
   "metadata": {
    "tags": []
   },
   "source": [
    "\n",
    "# 04. Beta Diversity \n",
    "\n",
    "Author: Marc Kesselring\n",
    "\n",
    "\n",
    "In this Jupyter Notebook the beta diversity of the samples is analyzed.\n",
    "\n",
    "**Exercise overview:**<br>\n",
    "[1. Setup](#setup)<br>\n",
    "[2. Visual Inspection](#inspection)<br>\n",
    "[3. Statistical Analysis](#stat)<br>\n",
    "[4. Beta correlation](#corr)<br>"
   ]
  },
  {
   "cell_type": "markdown",
   "id": "6346cb34-d19d-40e5-9dd7-c06d5307e922",
   "metadata": {},
   "source": [
    "<a id='setup'></a>\n",
    "\n",
    "## 1. Setup"
   ]
  },
  {
   "cell_type": "code",
   "execution_count": 31,
   "id": "d20e8dd9-89ca-4281-bb56-19730cadb546",
   "metadata": {
    "tags": []
   },
   "outputs": [],
   "source": [
    "# importing all required packages & notebook extensions at the start of the notebook\n",
    "import os\n",
    "import biom\n",
    "import numpy as np\n",
    "import matplotlib.pyplot as plt\n",
    "import seaborn as sns\n",
    "import pandas as pd\n",
    "import qiime2 as q2\n",
    "from qiime2 import Visualization\n",
    "from skbio.stats.ordination import pcoa\n",
    "%matplotlib inline"
   ]
  },
  {
   "cell_type": "code",
   "execution_count": 2,
   "id": "a589828f-7491-42eb-acfb-6d46ac694449",
   "metadata": {
    "tags": []
   },
   "outputs": [],
   "source": [
    "# assigning variables throughout the notebook\n",
    "raw_data_dir = \"../data/raw\"\n",
    "data_dir = \"../data/processed\"\n",
    "vis_dir  = \"../results\""
   ]
  },
  {
   "cell_type": "markdown",
   "id": "7fab6fc3-d05d-4a02-83dd-88c5c30f7585",
   "metadata": {},
   "source": [
    "<a id='inspection'></a>\n",
    "\n",
    "## 2. Visual Inspection"
   ]
  },
  {
   "cell_type": "code",
   "execution_count": 4,
   "id": "d59c565e-fda9-4b94-87bc-4be3547266de",
   "metadata": {
    "tags": []
   },
   "outputs": [
    {
     "data": {
      "text/html": [
       "<div><img onload=\"(function(div, url){\n",
       "if (typeof require !== 'undefined') {\n",
       "    var baseURL = require.toUrl('').split('/').slice(0, -2).join('/');\n",
       "} else {\n",
       "    var baseURL = JSON.parse(\n",
       "        document.getElementById('jupyter-config-data').innerHTML\n",
       "    ).baseUrl.slice(0, -1);\n",
       "}\n",
       "url = baseURL + url;\n",
       "fetch(url).then(function(res) {\n",
       "    if (res.status === 404) {\n",
       "        div.innerHTML = 'Install QIIME 2 Jupyter extension with:<br />' +\n",
       "                        '<code>jupyter serverextension enable --py qiime2' +\n",
       "                        ' --sys-prefix</code><br />then restart your server.' +\n",
       "                        '<br /><br />(Interactive output not available on ' +\n",
       "                        'static notebook viewer services like nbviewer.)';\n",
       "    } else if (res.status === 409) {\n",
       "        div.innerHTML = 'Visualization no longer in scope. Re-run this cell' +\n",
       "                        ' to see the visualization.';\n",
       "    } else if (res.ok) {\n",
       "        url = res.url;\n",
       "        div.innerHTML = '<iframe src=\\'' + url + '\\' style=\\'' +\n",
       "                        'width: 100%; height: 700px; border: 0;\\'>' +\n",
       "                        '</iframe><hr />Open in a: <a href=\\'' + url + '\\'' +\n",
       "                        ' target=\\'_blank\\'>new window</a>'\n",
       "    } else {\n",
       "        div.innerHTML = 'Something has gone wrong. Check notebook server for' +\n",
       "                        ' errors.';\n",
       "    }\n",
       "});\n",
       "})(this.parentElement, '/qiime2/redirect?location=/tmp/qiime2/jovyan/data/cbbe3e41-299a-41e3-a6f6-8f5bc217a8fe')\" src=\"data:image/gif;base64,R0lGODlhAQABAIAAAP///wAAACH5BAEAAAAALAAAAAABAAEAAAICRAEAOw==\" /></div>"
      ],
      "text/plain": [
       "<visualization: Visualization uuid: cbbe3e41-299a-41e3-a6f6-8f5bc217a8fe>"
      ]
     },
     "execution_count": 4,
     "metadata": {},
     "output_type": "execute_result"
    }
   ],
   "source": [
    "Visualization.load(f\"{data_dir}/core-metrics-results-bt/weighted_unifrac_emperor.qzv\")"
   ]
  },
  {
   "cell_type": "code",
   "execution_count": 5,
   "id": "047294d9-c256-4b70-b90c-129c4664725e",
   "metadata": {
    "tags": []
   },
   "outputs": [
    {
     "data": {
      "text/html": [
       "<div><img onload=\"(function(div, url){\n",
       "if (typeof require !== 'undefined') {\n",
       "    var baseURL = require.toUrl('').split('/').slice(0, -2).join('/');\n",
       "} else {\n",
       "    var baseURL = JSON.parse(\n",
       "        document.getElementById('jupyter-config-data').innerHTML\n",
       "    ).baseUrl.slice(0, -1);\n",
       "}\n",
       "url = baseURL + url;\n",
       "fetch(url).then(function(res) {\n",
       "    if (res.status === 404) {\n",
       "        div.innerHTML = 'Install QIIME 2 Jupyter extension with:<br />' +\n",
       "                        '<code>jupyter serverextension enable --py qiime2' +\n",
       "                        ' --sys-prefix</code><br />then restart your server.' +\n",
       "                        '<br /><br />(Interactive output not available on ' +\n",
       "                        'static notebook viewer services like nbviewer.)';\n",
       "    } else if (res.status === 409) {\n",
       "        div.innerHTML = 'Visualization no longer in scope. Re-run this cell' +\n",
       "                        ' to see the visualization.';\n",
       "    } else if (res.ok) {\n",
       "        url = res.url;\n",
       "        div.innerHTML = '<iframe src=\\'' + url + '\\' style=\\'' +\n",
       "                        'width: 100%; height: 700px; border: 0;\\'>' +\n",
       "                        '</iframe><hr />Open in a: <a href=\\'' + url + '\\'' +\n",
       "                        ' target=\\'_blank\\'>new window</a>'\n",
       "    } else {\n",
       "        div.innerHTML = 'Something has gone wrong. Check notebook server for' +\n",
       "                        ' errors.';\n",
       "    }\n",
       "});\n",
       "})(this.parentElement, '/qiime2/redirect?location=/tmp/qiime2/jovyan/data/cbffe7f4-4a6d-4357-a60e-f85724dafb47')\" src=\"data:image/gif;base64,R0lGODlhAQABAIAAAP///wAAACH5BAEAAAAALAAAAAABAAEAAAICRAEAOw==\" /></div>"
      ],
      "text/plain": [
       "<visualization: Visualization uuid: cbffe7f4-4a6d-4357-a60e-f85724dafb47>"
      ]
     },
     "execution_count": 5,
     "metadata": {},
     "output_type": "execute_result"
    }
   ],
   "source": [
    "Visualization.load(f\"{data_dir}/core-metrics-results-bt/bray_curtis_emperor.qzv\")"
   ]
  },
  {
   "cell_type": "markdown",
   "id": "69c30eff-502d-494c-9424-5a059c4c1cbc",
   "metadata": {},
   "source": [
    "<a id='stat'></a>\n",
    "\n",
    "## 3. Statistical Analysis"
   ]
  },
  {
   "cell_type": "code",
   "execution_count": 11,
   "id": "a55e96b4-4df8-4117-877b-641e7d717925",
   "metadata": {
    "tags": []
   },
   "outputs": [],
   "source": [
    "#Fill data missing in Recovery_Days with 0\n",
    "md = pd.read_csv(f\"{data_dir}/metadata.tsv\", sep='\\t')\n",
    "md = md.fillna(0)\n",
    "md.to_csv(f\"{data_dir}/metadata_fillna.tsv\", sep='\\t', index=False)"
   ]
  },
  {
   "cell_type": "markdown",
   "id": "00127542-80b0-484c-93c7-634e644dda68",
   "metadata": {},
   "source": [
    "##### Using qiime diversity adonis to test for statistical significances in beta diversity according to following R-formula Cohort_Number*Stool_Consistency*Patient_Sex*Sample_Day*Recovery_Day"
   ]
  },
  {
   "cell_type": "code",
   "execution_count": 4,
   "id": "ab086ac3-9953-48b4-872c-a200c6079e80",
   "metadata": {
    "tags": []
   },
   "outputs": [
    {
     "name": "stdout",
     "output_type": "stream",
     "text": [
      "\u001b[32mSaved Visualization to: ../data/processed/core-metrics-results-bt/beta-diversity/weighted_unifrac_adonis.qzv\u001b[0m\n",
      "\u001b[0m"
     ]
    }
   ],
   "source": [
    "! qiime diversity adonis \\\n",
    "--i-distance-matrix $data_dir/core-metrics-results-bt/weighted_unifrac_distance_matrix.qza \\\n",
    "--m-metadata-file $data_dir/metadata_fillna.tsv \\\n",
    "--p-formula Cohort_Number*Stool_Consistency*Patient_Sex*Sample_Day*Recovery_Day \\\n",
    "--o-visualization $data_dir/core-metrics-results-bt/beta-diversity/weighted_unifrac_adonis.qzv"
   ]
  },
  {
   "cell_type": "code",
   "execution_count": 5,
   "id": "0bfa5cbc-a025-4080-8f6b-8db5c38dd13d",
   "metadata": {
    "tags": []
   },
   "outputs": [
    {
     "name": "stdout",
     "output_type": "stream",
     "text": [
      "\u001b[32mSaved Visualization to: ../data/processed/core-metrics-results-bt/beta-diversity/bray_curtis_adonis.qzv\u001b[0m\n",
      "\u001b[0m"
     ]
    }
   ],
   "source": [
    "! qiime diversity adonis \\\n",
    "--i-distance-matrix $data_dir/core-metrics-results-bt/bray_curtis_distance_matrix.qza \\\n",
    "--m-metadata-file $data_dir/metadata_fillna.tsv \\\n",
    "--p-formula Cohort_Number*Stool_Consistency*Patient_Sex*Sample_Day*Recovery_Day \\\n",
    "--o-visualization $data_dir/core-metrics-results-bt/beta-diversity/bray_curtis_adonis.qzv"
   ]
  },
  {
   "cell_type": "markdown",
   "id": "9604ce44-947c-44b6-b6c5-525df5720c01",
   "metadata": {},
   "source": [
    "### Visualizations of the generated qzv files and downloading the tsv files to use for further analysis"
   ]
  },
  {
   "cell_type": "code",
   "execution_count": 6,
   "id": "d6e1b31a-1b36-42c6-b87c-52384ea32716",
   "metadata": {
    "tags": []
   },
   "outputs": [
    {
     "data": {
      "text/html": [
       "<div><img onload=\"(function(div, url){\n",
       "if (typeof require !== 'undefined') {\n",
       "    var baseURL = require.toUrl('').split('/').slice(0, -2).join('/');\n",
       "} else {\n",
       "    var baseURL = JSON.parse(\n",
       "        document.getElementById('jupyter-config-data').innerHTML\n",
       "    ).baseUrl.slice(0, -1);\n",
       "}\n",
       "url = baseURL + url;\n",
       "fetch(url).then(function(res) {\n",
       "    if (res.status === 404) {\n",
       "        div.innerHTML = 'Install QIIME 2 Jupyter extension with:<br />' +\n",
       "                        '<code>jupyter serverextension enable --py qiime2' +\n",
       "                        ' --sys-prefix</code><br />then restart your server.' +\n",
       "                        '<br /><br />(Interactive output not available on ' +\n",
       "                        'static notebook viewer services like nbviewer.)';\n",
       "    } else if (res.status === 409) {\n",
       "        div.innerHTML = 'Visualization no longer in scope. Re-run this cell' +\n",
       "                        ' to see the visualization.';\n",
       "    } else if (res.ok) {\n",
       "        url = res.url;\n",
       "        div.innerHTML = '<iframe src=\\'' + url + '\\' style=\\'' +\n",
       "                        'width: 100%; height: 700px; border: 0;\\'>' +\n",
       "                        '</iframe><hr />Open in a: <a href=\\'' + url + '\\'' +\n",
       "                        ' target=\\'_blank\\'>new window</a>'\n",
       "    } else {\n",
       "        div.innerHTML = 'Something has gone wrong. Check notebook server for' +\n",
       "                        ' errors.';\n",
       "    }\n",
       "});\n",
       "})(this.parentElement, '/qiime2/redirect?location=/tmp/qiime2/jovyan/data/886ff7dc-3695-4c4c-8683-6c0d0c56ef75')\" src=\"data:image/gif;base64,R0lGODlhAQABAIAAAP///wAAACH5BAEAAAAALAAAAAABAAEAAAICRAEAOw==\" /></div>"
      ],
      "text/plain": [
       "<visualization: Visualization uuid: 886ff7dc-3695-4c4c-8683-6c0d0c56ef75>"
      ]
     },
     "execution_count": 6,
     "metadata": {},
     "output_type": "execute_result"
    }
   ],
   "source": [
    "Visualization.load(f\"{data_dir}/core-metrics-results-bt/beta-diversity/weighted_unifrac_adonis.qzv\")"
   ]
  },
  {
   "cell_type": "code",
   "execution_count": 8,
   "id": "f8ef4754-69db-4143-96f7-058ba492f5ad",
   "metadata": {
    "tags": []
   },
   "outputs": [
    {
     "data": {
      "text/html": [
       "<div><img onload=\"(function(div, url){\n",
       "if (typeof require !== 'undefined') {\n",
       "    var baseURL = require.toUrl('').split('/').slice(0, -2).join('/');\n",
       "} else {\n",
       "    var baseURL = JSON.parse(\n",
       "        document.getElementById('jupyter-config-data').innerHTML\n",
       "    ).baseUrl.slice(0, -1);\n",
       "}\n",
       "url = baseURL + url;\n",
       "fetch(url).then(function(res) {\n",
       "    if (res.status === 404) {\n",
       "        div.innerHTML = 'Install QIIME 2 Jupyter extension with:<br />' +\n",
       "                        '<code>jupyter serverextension enable --py qiime2' +\n",
       "                        ' --sys-prefix</code><br />then restart your server.' +\n",
       "                        '<br /><br />(Interactive output not available on ' +\n",
       "                        'static notebook viewer services like nbviewer.)';\n",
       "    } else if (res.status === 409) {\n",
       "        div.innerHTML = 'Visualization no longer in scope. Re-run this cell' +\n",
       "                        ' to see the visualization.';\n",
       "    } else if (res.ok) {\n",
       "        url = res.url;\n",
       "        div.innerHTML = '<iframe src=\\'' + url + '\\' style=\\'' +\n",
       "                        'width: 100%; height: 700px; border: 0;\\'>' +\n",
       "                        '</iframe><hr />Open in a: <a href=\\'' + url + '\\'' +\n",
       "                        ' target=\\'_blank\\'>new window</a>'\n",
       "    } else {\n",
       "        div.innerHTML = 'Something has gone wrong. Check notebook server for' +\n",
       "                        ' errors.';\n",
       "    }\n",
       "});\n",
       "})(this.parentElement, '/qiime2/redirect?location=/tmp/qiime2/jovyan/data/e2148b82-01a2-4d5c-a592-bc6560c3f1c7')\" src=\"data:image/gif;base64,R0lGODlhAQABAIAAAP///wAAACH5BAEAAAAALAAAAAABAAEAAAICRAEAOw==\" /></div>"
      ],
      "text/plain": [
       "<visualization: Visualization uuid: e2148b82-01a2-4d5c-a592-bc6560c3f1c7>"
      ]
     },
     "execution_count": 8,
     "metadata": {},
     "output_type": "execute_result"
    }
   ],
   "source": [
    "Visualization.load(f\"{data_dir}/core-metrics-results-bt/beta-diversity/bray_curtis_adonis.qzv\")"
   ]
  },
  {
   "cell_type": "markdown",
   "id": "d632a746-f78c-4a78-92f5-bf07db0093d1",
   "metadata": {},
   "source": [
    "### Adjustments for multiple testing using the Bonferroni correction using pandas after uploading the tsv files into this environment"
   ]
  },
  {
   "cell_type": "code",
   "execution_count": 10,
   "id": "fa2ab8d3-909a-4429-b770-fdacfc4f6bc8",
   "metadata": {
    "tags": []
   },
   "outputs": [
    {
     "name": "stdout",
     "output_type": "stream",
     "text": [
      "               Df  SumsOfSqs   MeanSqs    F.Model        R2  Pr(>F)  \\\n",
      "Cohort_Number   1   5.262276  5.262276  14.615373  0.127197   0.001   \n",
      "\n",
      "               p_value_bonferroni  \n",
      "Cohort_Number               0.025  \n"
     ]
    }
   ],
   "source": [
    "# Load adonis result\n",
    "df_unifrac = pd.read_csv(f\"{data_dir}/core-metrics-results-bt/beta-diversity/adonis_weighted_unifrac.tsv\", sep=\"\\t\")\n",
    "\n",
    "# Add a Bonferroni-adjusted p-value column\n",
    "num_tests = len(df_unifrac)  # Number of tests performed\n",
    "df_unifrac['p_value_bonferroni'] = df_unifrac['Pr(>F)'] * num_tests\n",
    "\n",
    "# Ensure adjusted p-values do not exceed 1\n",
    "df_unifrac['p_value_bonferroni'] = df_unifrac['p_value_bonferroni'].clip(upper=1)\n",
    "\n",
    "# Save the adjusted results to a new file\n",
    "df_unifrac.to_csv(f\"{data_dir}/core-metrics-results-bt/beta-diversity/adonis_weighted_unifrac_bonferroni.tsv\", sep='\\t', index=False)\n",
    "\n",
    "print(df_unifrac[df_unifrac['p_value_bonferroni']<0.05])"
   ]
  },
  {
   "cell_type": "code",
   "execution_count": 11,
   "id": "4e278cde-8338-4e54-b2b7-472094ec4d41",
   "metadata": {
    "tags": []
   },
   "outputs": [
    {
     "name": "stdout",
     "output_type": "stream",
     "text": [
      "               Df  SumsOfSqs   MeanSqs   F.Model        R2  Pr(>F)  \\\n",
      "Cohort_Number   1   1.409494  1.409494  3.128293  0.033285   0.001   \n",
      "\n",
      "               p_value_bonferroni  \n",
      "Cohort_Number               0.025  \n"
     ]
    }
   ],
   "source": [
    "# Load adonis result\n",
    "df_bray_curtis = pd.read_csv(f\"{data_dir}/core-metrics-results-bt/beta-diversity/adonis_bray_curtis.tsv\", sep=\"\\t\")\n",
    "\n",
    "# Add a Bonferroni-adjusted p-value column\n",
    "num_tests = len(df_bray_curtis)  # Number of tests performed\n",
    "df_bray_curtis['p_value_bonferroni'] = df_bray_curtis['Pr(>F)'] * num_tests\n",
    "\n",
    "# Ensure adjusted p-values do not exceed 1\n",
    "df_bray_curtis['p_value_bonferroni'] = df_bray_curtis['p_value_bonferroni'].clip(upper=1)\n",
    "\n",
    "# Save the adjusted results to a new file\n",
    "df_bray_curtis.to_csv(f\"{data_dir}/core-metrics-results-bt/beta-diversity/adonis_bray_curtis_bonferroni.tsv\", sep='\\t', index=False)\n",
    "\n",
    "print(df_bray_curtis[df_bray_curtis['p_value_bonferroni']<0.05])"
   ]
  },
  {
   "cell_type": "markdown",
   "id": "d1032b58-a168-4d1c-bacf-9225ff337e46",
   "metadata": {},
   "source": [
    "### pairwise Permanova testing column Cohort_Number to obtain Group significance plots"
   ]
  },
  {
   "cell_type": "code",
   "execution_count": 13,
   "id": "22e85318-ec6c-4b51-a8b1-09d517bcb038",
   "metadata": {
    "tags": []
   },
   "outputs": [],
   "source": [
    "# Map Cohort_Number data into categorical data\n",
    "metadata = pd.read_csv(f\"{data_dir}/metadata.tsv\", sep='\\t')\n",
    "metadata['Cohort_Number_Bin'] = metadata['Cohort_Number'].map({1: 'Abduction', 2: 'Recovery'})\n",
    "metadata.to_csv(f\"{data_dir}/metadata_binned.tsv\", sep='\\t', index=False)"
   ]
  },
  {
   "cell_type": "markdown",
   "id": "7275df85-514c-4c40-91cf-ecb486a2a3c0",
   "metadata": {},
   "source": [
    "##### Weighted unifrac"
   ]
  },
  {
   "cell_type": "code",
   "execution_count": 14,
   "id": "e0aab5f5-2251-486d-86ce-44636c458e12",
   "metadata": {
    "tags": []
   },
   "outputs": [
    {
     "name": "stdout",
     "output_type": "stream",
     "text": [
      "\u001b[32mSaved Visualization to: ../data/processed/core-metrics-results-bt/beta-correlation/weighted_unifrac-Cohort-number-significance.qzv\u001b[0m\n",
      "\u001b[0m"
     ]
    }
   ],
   "source": [
    "! qiime diversity beta-group-significance \\\n",
    "    --i-distance-matrix $data_dir/core-metrics-results-bt/weighted_unifrac_distance_matrix.qza \\\n",
    "    --m-metadata-file $data_dir/metadata_binned.tsv \\\n",
    "    --m-metadata-column Cohort_Number_Bin \\\n",
    "    --p-pairwise \\\n",
    "    --o-visualization $data_dir/core-metrics-results-bt/beta-correlation/weighted_unifrac-Cohort-number-significance.qzv"
   ]
  },
  {
   "cell_type": "code",
   "execution_count": 15,
   "id": "28546b04-3ba5-4c88-9ea4-e948e3010267",
   "metadata": {
    "tags": []
   },
   "outputs": [
    {
     "data": {
      "text/html": [
       "<div><img onload=\"(function(div, url){\n",
       "if (typeof require !== 'undefined') {\n",
       "    var baseURL = require.toUrl('').split('/').slice(0, -2).join('/');\n",
       "} else {\n",
       "    var baseURL = JSON.parse(\n",
       "        document.getElementById('jupyter-config-data').innerHTML\n",
       "    ).baseUrl.slice(0, -1);\n",
       "}\n",
       "url = baseURL + url;\n",
       "fetch(url).then(function(res) {\n",
       "    if (res.status === 404) {\n",
       "        div.innerHTML = 'Install QIIME 2 Jupyter extension with:<br />' +\n",
       "                        '<code>jupyter serverextension enable --py qiime2' +\n",
       "                        ' --sys-prefix</code><br />then restart your server.' +\n",
       "                        '<br /><br />(Interactive output not available on ' +\n",
       "                        'static notebook viewer services like nbviewer.)';\n",
       "    } else if (res.status === 409) {\n",
       "        div.innerHTML = 'Visualization no longer in scope. Re-run this cell' +\n",
       "                        ' to see the visualization.';\n",
       "    } else if (res.ok) {\n",
       "        url = res.url;\n",
       "        div.innerHTML = '<iframe src=\\'' + url + '\\' style=\\'' +\n",
       "                        'width: 100%; height: 700px; border: 0;\\'>' +\n",
       "                        '</iframe><hr />Open in a: <a href=\\'' + url + '\\'' +\n",
       "                        ' target=\\'_blank\\'>new window</a>'\n",
       "    } else {\n",
       "        div.innerHTML = 'Something has gone wrong. Check notebook server for' +\n",
       "                        ' errors.';\n",
       "    }\n",
       "});\n",
       "})(this.parentElement, '/qiime2/redirect?location=/tmp/qiime2/jovyan/data/2d02e4ba-a5ec-4ce3-b773-7d1a9ab1ded6')\" src=\"data:image/gif;base64,R0lGODlhAQABAIAAAP///wAAACH5BAEAAAAALAAAAAABAAEAAAICRAEAOw==\" /></div>"
      ],
      "text/plain": [
       "<visualization: Visualization uuid: 2d02e4ba-a5ec-4ce3-b773-7d1a9ab1ded6>"
      ]
     },
     "execution_count": 15,
     "metadata": {},
     "output_type": "execute_result"
    }
   ],
   "source": [
    "Visualization.load(f\"{data_dir}/core-metrics-results-bt/beta-correlation/weighted_unifrac-Cohort-number-significance.qzv\")"
   ]
  },
  {
   "cell_type": "markdown",
   "id": "55e673a3-9131-44ce-be8b-107f30b58c19",
   "metadata": {
    "tags": []
   },
   "source": [
    "##### Bray Curtis"
   ]
  },
  {
   "cell_type": "code",
   "execution_count": 16,
   "id": "40c44784-54d8-4dd0-bc58-8ca51f88eed0",
   "metadata": {
    "tags": []
   },
   "outputs": [
    {
     "name": "stdout",
     "output_type": "stream",
     "text": [
      "\u001b[32mSaved Visualization to: ../data/processed/core-metrics-results-bt/beta-correlation/bray_curtis-Cohort-number-significance.qzv\u001b[0m\n",
      "\u001b[0m"
     ]
    }
   ],
   "source": [
    "! qiime diversity beta-group-significance \\\n",
    "    --i-distance-matrix $data_dir/core-metrics-results-bt/bray_curtis_distance_matrix.qza \\\n",
    "    --m-metadata-file $data_dir/metadata_binned.tsv \\\n",
    "    --m-metadata-column Cohort_Number_Bin \\\n",
    "    --p-pairwise \\\n",
    "    --o-visualization $data_dir/core-metrics-results-bt/beta-correlation/bray_curtis-Cohort-number-significance.qzv"
   ]
  },
  {
   "cell_type": "code",
   "execution_count": 17,
   "id": "87f96a76-2edc-4cfa-bde8-cc683da95d14",
   "metadata": {
    "tags": []
   },
   "outputs": [
    {
     "data": {
      "text/html": [
       "<div><img onload=\"(function(div, url){\n",
       "if (typeof require !== 'undefined') {\n",
       "    var baseURL = require.toUrl('').split('/').slice(0, -2).join('/');\n",
       "} else {\n",
       "    var baseURL = JSON.parse(\n",
       "        document.getElementById('jupyter-config-data').innerHTML\n",
       "    ).baseUrl.slice(0, -1);\n",
       "}\n",
       "url = baseURL + url;\n",
       "fetch(url).then(function(res) {\n",
       "    if (res.status === 404) {\n",
       "        div.innerHTML = 'Install QIIME 2 Jupyter extension with:<br />' +\n",
       "                        '<code>jupyter serverextension enable --py qiime2' +\n",
       "                        ' --sys-prefix</code><br />then restart your server.' +\n",
       "                        '<br /><br />(Interactive output not available on ' +\n",
       "                        'static notebook viewer services like nbviewer.)';\n",
       "    } else if (res.status === 409) {\n",
       "        div.innerHTML = 'Visualization no longer in scope. Re-run this cell' +\n",
       "                        ' to see the visualization.';\n",
       "    } else if (res.ok) {\n",
       "        url = res.url;\n",
       "        div.innerHTML = '<iframe src=\\'' + url + '\\' style=\\'' +\n",
       "                        'width: 100%; height: 700px; border: 0;\\'>' +\n",
       "                        '</iframe><hr />Open in a: <a href=\\'' + url + '\\'' +\n",
       "                        ' target=\\'_blank\\'>new window</a>'\n",
       "    } else {\n",
       "        div.innerHTML = 'Something has gone wrong. Check notebook server for' +\n",
       "                        ' errors.';\n",
       "    }\n",
       "});\n",
       "})(this.parentElement, '/qiime2/redirect?location=/tmp/qiime2/jovyan/data/e799ad4e-0e43-4b3a-8cb8-d3b8b559c780')\" src=\"data:image/gif;base64,R0lGODlhAQABAIAAAP///wAAACH5BAEAAAAALAAAAAABAAEAAAICRAEAOw==\" /></div>"
      ],
      "text/plain": [
       "<visualization: Visualization uuid: e799ad4e-0e43-4b3a-8cb8-d3b8b559c780>"
      ]
     },
     "execution_count": 17,
     "metadata": {},
     "output_type": "execute_result"
    }
   ],
   "source": [
    "Visualization.load(f\"{data_dir}/core-metrics-results-bt/beta-correlation/bray_curtis-Cohort-number-significance.qzv\")"
   ]
  },
  {
   "cell_type": "markdown",
   "id": "89dd022f-fc4d-4d23-8862-9fb00002d7b2",
   "metadata": {},
   "source": [
    "<a id='corr'></a>\n",
    "\n",
    "## 4. Beta correlation"
   ]
  },
  {
   "cell_type": "markdown",
   "id": "ef6f2372-a34b-4353-a336-fac79b53595d",
   "metadata": {},
   "source": [
    "### Testing column Cohort_Number for beta correlation"
   ]
  },
  {
   "cell_type": "code",
   "execution_count": 18,
   "id": "bea608db-60f7-4a8d-954e-a99ae97828d9",
   "metadata": {},
   "outputs": [
    {
     "name": "stdout",
     "output_type": "stream",
     "text": [
      "\u001b[32mSaved DistanceMatrix to: ../data/processed/core-metrics-results-bt/beta-correlation/weighted_unifrac_spearman.qza\u001b[0m\n",
      "\u001b[32mSaved Visualization to: ../data/processed/core-metrics-results-bt/beta-correlation/weighted_unifrac_scatter-plot.qzv\u001b[0m\n",
      "\u001b[0m"
     ]
    }
   ],
   "source": [
    "! qiime diversity beta-correlation \\\n",
    "    --i-distance-matrix $data_dir/core-metrics-results-bt/weighted_unifrac_distance_matrix.qza \\\n",
    "    --m-metadata-file $data_dir/metadata.tsv \\\n",
    "    --m-metadata-column Cohort_Number \\\n",
    "    --p-intersect-ids \\\n",
    "    --o-metadata-distance-matrix $data_dir/core-metrics-results-bt/beta-correlation/weighted_unifrac_spearman.qza \\\n",
    "    --o-mantel-scatter-visualization $data_dir/core-metrics-results-bt/beta-correlation/weighted_unifrac_scatter-plot.qzv"
   ]
  },
  {
   "cell_type": "code",
   "execution_count": 19,
   "id": "e8f67bec-ba00-4e7c-bed8-cca9331ee189",
   "metadata": {
    "tags": []
   },
   "outputs": [
    {
     "data": {
      "text/html": [
       "<div><img onload=\"(function(div, url){\n",
       "if (typeof require !== 'undefined') {\n",
       "    var baseURL = require.toUrl('').split('/').slice(0, -2).join('/');\n",
       "} else {\n",
       "    var baseURL = JSON.parse(\n",
       "        document.getElementById('jupyter-config-data').innerHTML\n",
       "    ).baseUrl.slice(0, -1);\n",
       "}\n",
       "url = baseURL + url;\n",
       "fetch(url).then(function(res) {\n",
       "    if (res.status === 404) {\n",
       "        div.innerHTML = 'Install QIIME 2 Jupyter extension with:<br />' +\n",
       "                        '<code>jupyter serverextension enable --py qiime2' +\n",
       "                        ' --sys-prefix</code><br />then restart your server.' +\n",
       "                        '<br /><br />(Interactive output not available on ' +\n",
       "                        'static notebook viewer services like nbviewer.)';\n",
       "    } else if (res.status === 409) {\n",
       "        div.innerHTML = 'Visualization no longer in scope. Re-run this cell' +\n",
       "                        ' to see the visualization.';\n",
       "    } else if (res.ok) {\n",
       "        url = res.url;\n",
       "        div.innerHTML = '<iframe src=\\'' + url + '\\' style=\\'' +\n",
       "                        'width: 100%; height: 700px; border: 0;\\'>' +\n",
       "                        '</iframe><hr />Open in a: <a href=\\'' + url + '\\'' +\n",
       "                        ' target=\\'_blank\\'>new window</a>'\n",
       "    } else {\n",
       "        div.innerHTML = 'Something has gone wrong. Check notebook server for' +\n",
       "                        ' errors.';\n",
       "    }\n",
       "});\n",
       "})(this.parentElement, '/qiime2/redirect?location=/tmp/qiime2/jovyan/data/371fb82e-c728-4736-98f3-5741eefee64d')\" src=\"data:image/gif;base64,R0lGODlhAQABAIAAAP///wAAACH5BAEAAAAALAAAAAABAAEAAAICRAEAOw==\" /></div>"
      ],
      "text/plain": [
       "<visualization: Visualization uuid: 371fb82e-c728-4736-98f3-5741eefee64d>"
      ]
     },
     "execution_count": 19,
     "metadata": {},
     "output_type": "execute_result"
    }
   ],
   "source": [
    "Visualization.load(f\"{data_dir}/core-metrics-results-bt/beta-correlation/weighted_unifrac_scatter-plot.qzv\")"
   ]
  },
  {
   "cell_type": "code",
   "execution_count": 20,
   "id": "0935f98e-fce3-4179-984b-0c57001f4dc8",
   "metadata": {},
   "outputs": [
    {
     "name": "stdout",
     "output_type": "stream",
     "text": [
      "\u001b[32mSaved DistanceMatrix to: ../data/processed/core-metrics-results-bt/beta-correlation/bray_curtis_spearman.qza\u001b[0m\n",
      "\u001b[32mSaved Visualization to: ../data/processed/core-metrics-results-bt/beta-correlation/bray_curtis_scatter-plot.qzv\u001b[0m\n",
      "\u001b[0m"
     ]
    }
   ],
   "source": [
    "! qiime diversity beta-correlation \\\n",
    "    --i-distance-matrix $data_dir/core-metrics-results-bt/bray_curtis_distance_matrix.qza \\\n",
    "    --m-metadata-file $data_dir/metadata.tsv \\\n",
    "    --m-metadata-column Cohort_Number \\\n",
    "    --p-intersect-ids \\\n",
    "    --o-metadata-distance-matrix $data_dir/core-metrics-results-bt/beta-correlation/bray_curtis_spearman.qza \\\n",
    "    --o-mantel-scatter-visualization $data_dir/core-metrics-results-bt/beta-correlation/bray_curtis_scatter-plot.qzv"
   ]
  },
  {
   "cell_type": "code",
   "execution_count": 21,
   "id": "1b6c5adc-7939-4f87-8743-f4001d669107",
   "metadata": {},
   "outputs": [
    {
     "data": {
      "text/html": [
       "<div><img onload=\"(function(div, url){\n",
       "if (typeof require !== 'undefined') {\n",
       "    var baseURL = require.toUrl('').split('/').slice(0, -2).join('/');\n",
       "} else {\n",
       "    var baseURL = JSON.parse(\n",
       "        document.getElementById('jupyter-config-data').innerHTML\n",
       "    ).baseUrl.slice(0, -1);\n",
       "}\n",
       "url = baseURL + url;\n",
       "fetch(url).then(function(res) {\n",
       "    if (res.status === 404) {\n",
       "        div.innerHTML = 'Install QIIME 2 Jupyter extension with:<br />' +\n",
       "                        '<code>jupyter serverextension enable --py qiime2' +\n",
       "                        ' --sys-prefix</code><br />then restart your server.' +\n",
       "                        '<br /><br />(Interactive output not available on ' +\n",
       "                        'static notebook viewer services like nbviewer.)';\n",
       "    } else if (res.status === 409) {\n",
       "        div.innerHTML = 'Visualization no longer in scope. Re-run this cell' +\n",
       "                        ' to see the visualization.';\n",
       "    } else if (res.ok) {\n",
       "        url = res.url;\n",
       "        div.innerHTML = '<iframe src=\\'' + url + '\\' style=\\'' +\n",
       "                        'width: 100%; height: 700px; border: 0;\\'>' +\n",
       "                        '</iframe><hr />Open in a: <a href=\\'' + url + '\\'' +\n",
       "                        ' target=\\'_blank\\'>new window</a>'\n",
       "    } else {\n",
       "        div.innerHTML = 'Something has gone wrong. Check notebook server for' +\n",
       "                        ' errors.';\n",
       "    }\n",
       "});\n",
       "})(this.parentElement, '/qiime2/redirect?location=/tmp/qiime2/jovyan/data/18166f36-6842-4076-b976-d2adf998ab8b')\" src=\"data:image/gif;base64,R0lGODlhAQABAIAAAP///wAAACH5BAEAAAAALAAAAAABAAEAAAICRAEAOw==\" /></div>"
      ],
      "text/plain": [
       "<visualization: Visualization uuid: 18166f36-6842-4076-b976-d2adf998ab8b>"
      ]
     },
     "execution_count": 21,
     "metadata": {},
     "output_type": "execute_result"
    }
   ],
   "source": [
    "Visualization.load(f\"{data_dir}/core-metrics-results-bt/beta-correlation/bray_curtis_scatter-plot.qzv\")"
   ]
  },
  {
   "cell_type": "markdown",
   "id": "1c878172-070b-4a80-9029-a455ca2d11ce",
   "metadata": {},
   "source": [
    "##### Weak positive correlation for column Cohort_Number"
   ]
  },
  {
   "cell_type": "markdown",
   "id": "84781024-0673-4e91-a98e-632fab2f6699",
   "metadata": {},
   "source": [
    "### Visualize weighted unifrac distance matrix 2D PCoA for Cohort_Number "
   ]
  },
  {
   "cell_type": "code",
   "execution_count": 25,
   "id": "1cb8b3cf-dd89-4a9a-867e-6b3535cf7ace",
   "metadata": {
    "tags": []
   },
   "outputs": [
    {
     "name": "stdout",
     "output_type": "stream",
     "text": [
      "\u001b[32mExported ../data/processed/core-metrics-results-bt/weighted_unifrac_distance_matrix.qza as DistanceMatrixDirectoryFormat to directory ../data/processed/core-metrics-results-bt/weighted_unifrac_exported_distance_matrix\u001b[0m\n",
      "\u001b[0m"
     ]
    }
   ],
   "source": [
    "! qiime tools export \\\n",
    "  --input-path $data_dir/core-metrics-results-bt/weighted_unifrac_distance_matrix.qza \\\n",
    "  --output-path $data_dir/core-metrics-results-bt/weighted_unifrac_exported_distance_matrix"
   ]
  },
  {
   "cell_type": "code",
   "execution_count": 28,
   "id": "1ed70dcf-02ba-42bd-9df0-e4198d8f26c0",
   "metadata": {
    "tags": []
   },
   "outputs": [
    {
     "data": {
      "text/html": [
       "<div>\n",
       "<style scoped>\n",
       "    .dataframe tbody tr th:only-of-type {\n",
       "        vertical-align: middle;\n",
       "    }\n",
       "\n",
       "    .dataframe tbody tr th {\n",
       "        vertical-align: top;\n",
       "    }\n",
       "\n",
       "    .dataframe thead th {\n",
       "        text-align: right;\n",
       "    }\n",
       "</style>\n",
       "<table border=\"1\" class=\"dataframe\">\n",
       "  <thead>\n",
       "    <tr style=\"text-align: right;\">\n",
       "      <th></th>\n",
       "      <th>EG0024</th>\n",
       "      <th>EG0031</th>\n",
       "      <th>EG0039</th>\n",
       "      <th>EG0055</th>\n",
       "      <th>EG0057</th>\n",
       "      <th>EG0070</th>\n",
       "      <th>EG0088</th>\n",
       "      <th>EG0101</th>\n",
       "      <th>EG0118</th>\n",
       "      <th>EG0136</th>\n",
       "      <th>...</th>\n",
       "      <th>EG2392</th>\n",
       "      <th>EG2419</th>\n",
       "      <th>EG2435</th>\n",
       "      <th>EG2490</th>\n",
       "      <th>EG2559</th>\n",
       "      <th>EG2580</th>\n",
       "      <th>EG2591</th>\n",
       "      <th>EG2608</th>\n",
       "      <th>EG2638</th>\n",
       "      <th>EG2659</th>\n",
       "    </tr>\n",
       "  </thead>\n",
       "  <tbody>\n",
       "    <tr>\n",
       "      <th>EG0024</th>\n",
       "      <td>0.000000</td>\n",
       "      <td>1.127390</td>\n",
       "      <td>1.081674</td>\n",
       "      <td>1.319838</td>\n",
       "      <td>1.483432</td>\n",
       "      <td>0.533328</td>\n",
       "      <td>1.401837</td>\n",
       "      <td>1.215385</td>\n",
       "      <td>1.442296</td>\n",
       "      <td>0.565520</td>\n",
       "      <td>...</td>\n",
       "      <td>0.931803</td>\n",
       "      <td>0.507066</td>\n",
       "      <td>0.996397</td>\n",
       "      <td>0.794942</td>\n",
       "      <td>1.356327</td>\n",
       "      <td>1.170884</td>\n",
       "      <td>0.757401</td>\n",
       "      <td>1.087176</td>\n",
       "      <td>1.328130</td>\n",
       "      <td>1.370918</td>\n",
       "    </tr>\n",
       "    <tr>\n",
       "      <th>EG0031</th>\n",
       "      <td>1.127390</td>\n",
       "      <td>0.000000</td>\n",
       "      <td>1.200156</td>\n",
       "      <td>1.514981</td>\n",
       "      <td>1.663183</td>\n",
       "      <td>0.996829</td>\n",
       "      <td>1.601194</td>\n",
       "      <td>1.059597</td>\n",
       "      <td>1.635188</td>\n",
       "      <td>0.967594</td>\n",
       "      <td>...</td>\n",
       "      <td>1.249840</td>\n",
       "      <td>0.861903</td>\n",
       "      <td>1.180261</td>\n",
       "      <td>1.179882</td>\n",
       "      <td>1.349607</td>\n",
       "      <td>1.351806</td>\n",
       "      <td>1.100723</td>\n",
       "      <td>1.323395</td>\n",
       "      <td>1.434430</td>\n",
       "      <td>1.578066</td>\n",
       "    </tr>\n",
       "    <tr>\n",
       "      <th>EG0039</th>\n",
       "      <td>1.081674</td>\n",
       "      <td>1.200156</td>\n",
       "      <td>0.000000</td>\n",
       "      <td>0.654672</td>\n",
       "      <td>0.693817</td>\n",
       "      <td>0.960235</td>\n",
       "      <td>0.819727</td>\n",
       "      <td>0.478843</td>\n",
       "      <td>0.868100</td>\n",
       "      <td>0.852139</td>\n",
       "      <td>...</td>\n",
       "      <td>0.485492</td>\n",
       "      <td>0.797128</td>\n",
       "      <td>0.622236</td>\n",
       "      <td>0.922363</td>\n",
       "      <td>0.622021</td>\n",
       "      <td>0.541948</td>\n",
       "      <td>0.863001</td>\n",
       "      <td>0.802405</td>\n",
       "      <td>1.344612</td>\n",
       "      <td>0.708338</td>\n",
       "    </tr>\n",
       "    <tr>\n",
       "      <th>EG0055</th>\n",
       "      <td>1.319838</td>\n",
       "      <td>1.514981</td>\n",
       "      <td>0.654672</td>\n",
       "      <td>0.000000</td>\n",
       "      <td>0.317155</td>\n",
       "      <td>1.246121</td>\n",
       "      <td>0.368942</td>\n",
       "      <td>0.694269</td>\n",
       "      <td>0.390615</td>\n",
       "      <td>1.158980</td>\n",
       "      <td>...</td>\n",
       "      <td>0.723617</td>\n",
       "      <td>1.091826</td>\n",
       "      <td>1.046003</td>\n",
       "      <td>1.180003</td>\n",
       "      <td>0.740973</td>\n",
       "      <td>0.656958</td>\n",
       "      <td>1.153567</td>\n",
       "      <td>0.973655</td>\n",
       "      <td>1.505115</td>\n",
       "      <td>0.155755</td>\n",
       "    </tr>\n",
       "    <tr>\n",
       "      <th>EG0057</th>\n",
       "      <td>1.483432</td>\n",
       "      <td>1.663183</td>\n",
       "      <td>0.693817</td>\n",
       "      <td>0.317155</td>\n",
       "      <td>0.000000</td>\n",
       "      <td>1.413153</td>\n",
       "      <td>0.449063</td>\n",
       "      <td>0.831047</td>\n",
       "      <td>0.456343</td>\n",
       "      <td>1.327686</td>\n",
       "      <td>...</td>\n",
       "      <td>0.798922</td>\n",
       "      <td>1.258700</td>\n",
       "      <td>1.136324</td>\n",
       "      <td>1.346182</td>\n",
       "      <td>0.898632</td>\n",
       "      <td>0.797298</td>\n",
       "      <td>1.321769</td>\n",
       "      <td>1.142450</td>\n",
       "      <td>1.667484</td>\n",
       "      <td>0.368833</td>\n",
       "    </tr>\n",
       "    <tr>\n",
       "      <th>...</th>\n",
       "      <td>...</td>\n",
       "      <td>...</td>\n",
       "      <td>...</td>\n",
       "      <td>...</td>\n",
       "      <td>...</td>\n",
       "      <td>...</td>\n",
       "      <td>...</td>\n",
       "      <td>...</td>\n",
       "      <td>...</td>\n",
       "      <td>...</td>\n",
       "      <td>...</td>\n",
       "      <td>...</td>\n",
       "      <td>...</td>\n",
       "      <td>...</td>\n",
       "      <td>...</td>\n",
       "      <td>...</td>\n",
       "      <td>...</td>\n",
       "      <td>...</td>\n",
       "      <td>...</td>\n",
       "      <td>...</td>\n",
       "      <td>...</td>\n",
       "    </tr>\n",
       "    <tr>\n",
       "      <th>EG2580</th>\n",
       "      <td>1.170884</td>\n",
       "      <td>1.351806</td>\n",
       "      <td>0.541948</td>\n",
       "      <td>0.656958</td>\n",
       "      <td>0.797298</td>\n",
       "      <td>1.093209</td>\n",
       "      <td>0.600825</td>\n",
       "      <td>0.410647</td>\n",
       "      <td>0.760830</td>\n",
       "      <td>0.969782</td>\n",
       "      <td>...</td>\n",
       "      <td>0.549857</td>\n",
       "      <td>0.906993</td>\n",
       "      <td>0.738305</td>\n",
       "      <td>1.001051</td>\n",
       "      <td>0.340324</td>\n",
       "      <td>0.000000</td>\n",
       "      <td>0.939587</td>\n",
       "      <td>0.868087</td>\n",
       "      <td>1.399010</td>\n",
       "      <td>0.670556</td>\n",
       "    </tr>\n",
       "    <tr>\n",
       "      <th>EG2591</th>\n",
       "      <td>0.757401</td>\n",
       "      <td>1.100723</td>\n",
       "      <td>0.863001</td>\n",
       "      <td>1.153567</td>\n",
       "      <td>1.321769</td>\n",
       "      <td>0.564239</td>\n",
       "      <td>1.201589</td>\n",
       "      <td>1.008071</td>\n",
       "      <td>1.281104</td>\n",
       "      <td>0.426520</td>\n",
       "      <td>...</td>\n",
       "      <td>0.783733</td>\n",
       "      <td>0.456393</td>\n",
       "      <td>0.730369</td>\n",
       "      <td>0.519184</td>\n",
       "      <td>1.130786</td>\n",
       "      <td>0.939587</td>\n",
       "      <td>0.000000</td>\n",
       "      <td>0.707725</td>\n",
       "      <td>0.909936</td>\n",
       "      <td>1.195209</td>\n",
       "    </tr>\n",
       "    <tr>\n",
       "      <th>EG2608</th>\n",
       "      <td>1.087176</td>\n",
       "      <td>1.323395</td>\n",
       "      <td>0.802405</td>\n",
       "      <td>0.973655</td>\n",
       "      <td>1.142450</td>\n",
       "      <td>1.038141</td>\n",
       "      <td>1.099622</td>\n",
       "      <td>0.943335</td>\n",
       "      <td>1.140530</td>\n",
       "      <td>0.910130</td>\n",
       "      <td>...</td>\n",
       "      <td>0.763029</td>\n",
       "      <td>0.869629</td>\n",
       "      <td>0.840373</td>\n",
       "      <td>0.770440</td>\n",
       "      <td>1.066138</td>\n",
       "      <td>0.868087</td>\n",
       "      <td>0.707725</td>\n",
       "      <td>0.000000</td>\n",
       "      <td>0.814140</td>\n",
       "      <td>1.026066</td>\n",
       "    </tr>\n",
       "    <tr>\n",
       "      <th>EG2638</th>\n",
       "      <td>1.328130</td>\n",
       "      <td>1.434430</td>\n",
       "      <td>1.344612</td>\n",
       "      <td>1.505115</td>\n",
       "      <td>1.667484</td>\n",
       "      <td>1.176799</td>\n",
       "      <td>1.587517</td>\n",
       "      <td>1.426598</td>\n",
       "      <td>1.625933</td>\n",
       "      <td>1.117910</td>\n",
       "      <td>...</td>\n",
       "      <td>1.270912</td>\n",
       "      <td>1.089224</td>\n",
       "      <td>1.187073</td>\n",
       "      <td>0.722023</td>\n",
       "      <td>1.548907</td>\n",
       "      <td>1.399010</td>\n",
       "      <td>0.909936</td>\n",
       "      <td>0.814140</td>\n",
       "      <td>0.000000</td>\n",
       "      <td>1.570002</td>\n",
       "    </tr>\n",
       "    <tr>\n",
       "      <th>EG2659</th>\n",
       "      <td>1.370918</td>\n",
       "      <td>1.578066</td>\n",
       "      <td>0.708338</td>\n",
       "      <td>0.155755</td>\n",
       "      <td>0.368833</td>\n",
       "      <td>1.309111</td>\n",
       "      <td>0.400394</td>\n",
       "      <td>0.717864</td>\n",
       "      <td>0.439941</td>\n",
       "      <td>1.196946</td>\n",
       "      <td>...</td>\n",
       "      <td>0.781948</td>\n",
       "      <td>1.140481</td>\n",
       "      <td>1.086452</td>\n",
       "      <td>1.223748</td>\n",
       "      <td>0.769932</td>\n",
       "      <td>0.670556</td>\n",
       "      <td>1.195209</td>\n",
       "      <td>1.026066</td>\n",
       "      <td>1.570002</td>\n",
       "      <td>0.000000</td>\n",
       "    </tr>\n",
       "  </tbody>\n",
       "</table>\n",
       "<p>94 rows × 94 columns</p>\n",
       "</div>"
      ],
      "text/plain": [
       "          EG0024    EG0031    EG0039    EG0055    EG0057    EG0070    EG0088  \\\n",
       "EG0024  0.000000  1.127390  1.081674  1.319838  1.483432  0.533328  1.401837   \n",
       "EG0031  1.127390  0.000000  1.200156  1.514981  1.663183  0.996829  1.601194   \n",
       "EG0039  1.081674  1.200156  0.000000  0.654672  0.693817  0.960235  0.819727   \n",
       "EG0055  1.319838  1.514981  0.654672  0.000000  0.317155  1.246121  0.368942   \n",
       "EG0057  1.483432  1.663183  0.693817  0.317155  0.000000  1.413153  0.449063   \n",
       "...          ...       ...       ...       ...       ...       ...       ...   \n",
       "EG2580  1.170884  1.351806  0.541948  0.656958  0.797298  1.093209  0.600825   \n",
       "EG2591  0.757401  1.100723  0.863001  1.153567  1.321769  0.564239  1.201589   \n",
       "EG2608  1.087176  1.323395  0.802405  0.973655  1.142450  1.038141  1.099622   \n",
       "EG2638  1.328130  1.434430  1.344612  1.505115  1.667484  1.176799  1.587517   \n",
       "EG2659  1.370918  1.578066  0.708338  0.155755  0.368833  1.309111  0.400394   \n",
       "\n",
       "          EG0101    EG0118    EG0136  ...    EG2392    EG2419    EG2435  \\\n",
       "EG0024  1.215385  1.442296  0.565520  ...  0.931803  0.507066  0.996397   \n",
       "EG0031  1.059597  1.635188  0.967594  ...  1.249840  0.861903  1.180261   \n",
       "EG0039  0.478843  0.868100  0.852139  ...  0.485492  0.797128  0.622236   \n",
       "EG0055  0.694269  0.390615  1.158980  ...  0.723617  1.091826  1.046003   \n",
       "EG0057  0.831047  0.456343  1.327686  ...  0.798922  1.258700  1.136324   \n",
       "...          ...       ...       ...  ...       ...       ...       ...   \n",
       "EG2580  0.410647  0.760830  0.969782  ...  0.549857  0.906993  0.738305   \n",
       "EG2591  1.008071  1.281104  0.426520  ...  0.783733  0.456393  0.730369   \n",
       "EG2608  0.943335  1.140530  0.910130  ...  0.763029  0.869629  0.840373   \n",
       "EG2638  1.426598  1.625933  1.117910  ...  1.270912  1.089224  1.187073   \n",
       "EG2659  0.717864  0.439941  1.196946  ...  0.781948  1.140481  1.086452   \n",
       "\n",
       "          EG2490    EG2559    EG2580    EG2591    EG2608    EG2638    EG2659  \n",
       "EG0024  0.794942  1.356327  1.170884  0.757401  1.087176  1.328130  1.370918  \n",
       "EG0031  1.179882  1.349607  1.351806  1.100723  1.323395  1.434430  1.578066  \n",
       "EG0039  0.922363  0.622021  0.541948  0.863001  0.802405  1.344612  0.708338  \n",
       "EG0055  1.180003  0.740973  0.656958  1.153567  0.973655  1.505115  0.155755  \n",
       "EG0057  1.346182  0.898632  0.797298  1.321769  1.142450  1.667484  0.368833  \n",
       "...          ...       ...       ...       ...       ...       ...       ...  \n",
       "EG2580  1.001051  0.340324  0.000000  0.939587  0.868087  1.399010  0.670556  \n",
       "EG2591  0.519184  1.130786  0.939587  0.000000  0.707725  0.909936  1.195209  \n",
       "EG2608  0.770440  1.066138  0.868087  0.707725  0.000000  0.814140  1.026066  \n",
       "EG2638  0.722023  1.548907  1.399010  0.909936  0.814140  0.000000  1.570002  \n",
       "EG2659  1.223748  0.769932  0.670556  1.195209  1.026066  1.570002  0.000000  \n",
       "\n",
       "[94 rows x 94 columns]"
      ]
     },
     "execution_count": 28,
     "metadata": {},
     "output_type": "execute_result"
    }
   ],
   "source": [
    "cluster = pd.read_csv(f\"{data_dir}/core-metrics-results-bt/weighted_unifrac_exported_distance_matrix/distance-matrix.tsv\", sep=\"\\t\", index_col=0)\n",
    "cluster"
   ]
  },
  {
   "cell_type": "code",
   "execution_count": 33,
   "id": "3853a863-d8d0-4d59-a784-f875d50d979c",
   "metadata": {
    "tags": []
   },
   "outputs": [
    {
     "data": {
      "text/html": [
       "<div>\n",
       "<style scoped>\n",
       "    .dataframe tbody tr th:only-of-type {\n",
       "        vertical-align: middle;\n",
       "    }\n",
       "\n",
       "    .dataframe tbody tr th {\n",
       "        vertical-align: top;\n",
       "    }\n",
       "\n",
       "    .dataframe thead th {\n",
       "        text-align: right;\n",
       "    }\n",
       "</style>\n",
       "<table border=\"1\" class=\"dataframe\">\n",
       "  <thead>\n",
       "    <tr style=\"text-align: right;\">\n",
       "      <th></th>\n",
       "      <th>PC1</th>\n",
       "      <th>PC2</th>\n",
       "      <th>PC3</th>\n",
       "      <th>PC4</th>\n",
       "      <th>PC5</th>\n",
       "      <th>PC6</th>\n",
       "      <th>PC7</th>\n",
       "      <th>PC8</th>\n",
       "      <th>PC9</th>\n",
       "      <th>PC10</th>\n",
       "      <th>...</th>\n",
       "      <th>PC85</th>\n",
       "      <th>PC86</th>\n",
       "      <th>PC87</th>\n",
       "      <th>PC88</th>\n",
       "      <th>PC89</th>\n",
       "      <th>PC90</th>\n",
       "      <th>PC91</th>\n",
       "      <th>PC92</th>\n",
       "      <th>PC93</th>\n",
       "      <th>PC94</th>\n",
       "    </tr>\n",
       "  </thead>\n",
       "  <tbody>\n",
       "    <tr>\n",
       "      <th>0</th>\n",
       "      <td>-0.553182</td>\n",
       "      <td>0.045509</td>\n",
       "      <td>-0.347423</td>\n",
       "      <td>0.047783</td>\n",
       "      <td>0.006516</td>\n",
       "      <td>0.225795</td>\n",
       "      <td>0.255852</td>\n",
       "      <td>-0.294292</td>\n",
       "      <td>-0.036904</td>\n",
       "      <td>-0.068100</td>\n",
       "      <td>...</td>\n",
       "      <td>0.0</td>\n",
       "      <td>0.0</td>\n",
       "      <td>0.0</td>\n",
       "      <td>0.0</td>\n",
       "      <td>0.0</td>\n",
       "      <td>0.0</td>\n",
       "      <td>0.0</td>\n",
       "      <td>0.0</td>\n",
       "      <td>0.0</td>\n",
       "      <td>0.0</td>\n",
       "    </tr>\n",
       "    <tr>\n",
       "      <th>1</th>\n",
       "      <td>-0.570544</td>\n",
       "      <td>0.308574</td>\n",
       "      <td>0.455249</td>\n",
       "      <td>0.667092</td>\n",
       "      <td>0.013150</td>\n",
       "      <td>-0.079201</td>\n",
       "      <td>-0.060499</td>\n",
       "      <td>-0.184789</td>\n",
       "      <td>0.036624</td>\n",
       "      <td>0.019868</td>\n",
       "      <td>...</td>\n",
       "      <td>0.0</td>\n",
       "      <td>0.0</td>\n",
       "      <td>0.0</td>\n",
       "      <td>0.0</td>\n",
       "      <td>0.0</td>\n",
       "      <td>0.0</td>\n",
       "      <td>0.0</td>\n",
       "      <td>0.0</td>\n",
       "      <td>0.0</td>\n",
       "      <td>0.0</td>\n",
       "    </tr>\n",
       "    <tr>\n",
       "      <th>2</th>\n",
       "      <td>0.206745</td>\n",
       "      <td>0.166945</td>\n",
       "      <td>0.132789</td>\n",
       "      <td>-0.020665</td>\n",
       "      <td>-0.082996</td>\n",
       "      <td>0.019774</td>\n",
       "      <td>0.228563</td>\n",
       "      <td>0.185352</td>\n",
       "      <td>-0.063685</td>\n",
       "      <td>0.104787</td>\n",
       "      <td>...</td>\n",
       "      <td>0.0</td>\n",
       "      <td>0.0</td>\n",
       "      <td>0.0</td>\n",
       "      <td>0.0</td>\n",
       "      <td>0.0</td>\n",
       "      <td>0.0</td>\n",
       "      <td>0.0</td>\n",
       "      <td>0.0</td>\n",
       "      <td>0.0</td>\n",
       "      <td>0.0</td>\n",
       "    </tr>\n",
       "    <tr>\n",
       "      <th>3</th>\n",
       "      <td>0.655565</td>\n",
       "      <td>0.026128</td>\n",
       "      <td>-0.130415</td>\n",
       "      <td>0.118041</td>\n",
       "      <td>0.023889</td>\n",
       "      <td>-0.082259</td>\n",
       "      <td>0.070301</td>\n",
       "      <td>0.065003</td>\n",
       "      <td>0.029665</td>\n",
       "      <td>-0.050441</td>\n",
       "      <td>...</td>\n",
       "      <td>0.0</td>\n",
       "      <td>0.0</td>\n",
       "      <td>0.0</td>\n",
       "      <td>0.0</td>\n",
       "      <td>0.0</td>\n",
       "      <td>0.0</td>\n",
       "      <td>0.0</td>\n",
       "      <td>0.0</td>\n",
       "      <td>0.0</td>\n",
       "      <td>0.0</td>\n",
       "    </tr>\n",
       "    <tr>\n",
       "      <th>4</th>\n",
       "      <td>0.812617</td>\n",
       "      <td>0.084057</td>\n",
       "      <td>-0.142095</td>\n",
       "      <td>0.131855</td>\n",
       "      <td>-0.058525</td>\n",
       "      <td>-0.019650</td>\n",
       "      <td>0.122936</td>\n",
       "      <td>0.199948</td>\n",
       "      <td>-0.058690</td>\n",
       "      <td>-0.076698</td>\n",
       "      <td>...</td>\n",
       "      <td>0.0</td>\n",
       "      <td>0.0</td>\n",
       "      <td>0.0</td>\n",
       "      <td>0.0</td>\n",
       "      <td>0.0</td>\n",
       "      <td>0.0</td>\n",
       "      <td>0.0</td>\n",
       "      <td>0.0</td>\n",
       "      <td>0.0</td>\n",
       "      <td>0.0</td>\n",
       "    </tr>\n",
       "    <tr>\n",
       "      <th>...</th>\n",
       "      <td>...</td>\n",
       "      <td>...</td>\n",
       "      <td>...</td>\n",
       "      <td>...</td>\n",
       "      <td>...</td>\n",
       "      <td>...</td>\n",
       "      <td>...</td>\n",
       "      <td>...</td>\n",
       "      <td>...</td>\n",
       "      <td>...</td>\n",
       "      <td>...</td>\n",
       "      <td>...</td>\n",
       "      <td>...</td>\n",
       "      <td>...</td>\n",
       "      <td>...</td>\n",
       "      <td>...</td>\n",
       "      <td>...</td>\n",
       "      <td>...</td>\n",
       "      <td>...</td>\n",
       "      <td>...</td>\n",
       "      <td>...</td>\n",
       "    </tr>\n",
       "    <tr>\n",
       "      <th>89</th>\n",
       "      <td>0.324092</td>\n",
       "      <td>0.139272</td>\n",
       "      <td>0.088858</td>\n",
       "      <td>-0.258465</td>\n",
       "      <td>0.130502</td>\n",
       "      <td>-0.054689</td>\n",
       "      <td>-0.021380</td>\n",
       "      <td>-0.041390</td>\n",
       "      <td>0.077127</td>\n",
       "      <td>0.086707</td>\n",
       "      <td>...</td>\n",
       "      <td>0.0</td>\n",
       "      <td>0.0</td>\n",
       "      <td>0.0</td>\n",
       "      <td>0.0</td>\n",
       "      <td>0.0</td>\n",
       "      <td>0.0</td>\n",
       "      <td>0.0</td>\n",
       "      <td>0.0</td>\n",
       "      <td>0.0</td>\n",
       "      <td>0.0</td>\n",
       "    </tr>\n",
       "    <tr>\n",
       "      <th>90</th>\n",
       "      <td>-0.400782</td>\n",
       "      <td>-0.188921</td>\n",
       "      <td>0.008062</td>\n",
       "      <td>-0.093072</td>\n",
       "      <td>-0.005501</td>\n",
       "      <td>0.011851</td>\n",
       "      <td>-0.029192</td>\n",
       "      <td>0.099179</td>\n",
       "      <td>0.015721</td>\n",
       "      <td>0.056959</td>\n",
       "      <td>...</td>\n",
       "      <td>0.0</td>\n",
       "      <td>0.0</td>\n",
       "      <td>0.0</td>\n",
       "      <td>0.0</td>\n",
       "      <td>0.0</td>\n",
       "      <td>0.0</td>\n",
       "      <td>0.0</td>\n",
       "      <td>0.0</td>\n",
       "      <td>0.0</td>\n",
       "      <td>0.0</td>\n",
       "    </tr>\n",
       "    <tr>\n",
       "      <th>91</th>\n",
       "      <td>-0.006316</td>\n",
       "      <td>-0.502886</td>\n",
       "      <td>0.258905</td>\n",
       "      <td>-0.056181</td>\n",
       "      <td>0.010926</td>\n",
       "      <td>0.108942</td>\n",
       "      <td>0.128351</td>\n",
       "      <td>0.137326</td>\n",
       "      <td>-0.038185</td>\n",
       "      <td>-0.047708</td>\n",
       "      <td>...</td>\n",
       "      <td>0.0</td>\n",
       "      <td>0.0</td>\n",
       "      <td>0.0</td>\n",
       "      <td>0.0</td>\n",
       "      <td>0.0</td>\n",
       "      <td>0.0</td>\n",
       "      <td>0.0</td>\n",
       "      <td>0.0</td>\n",
       "      <td>0.0</td>\n",
       "      <td>0.0</td>\n",
       "    </tr>\n",
       "    <tr>\n",
       "      <th>92</th>\n",
       "      <td>-0.395174</td>\n",
       "      <td>-0.858993</td>\n",
       "      <td>0.244940</td>\n",
       "      <td>-0.024219</td>\n",
       "      <td>-0.178235</td>\n",
       "      <td>-0.427381</td>\n",
       "      <td>0.019834</td>\n",
       "      <td>-0.086218</td>\n",
       "      <td>-0.245607</td>\n",
       "      <td>0.034698</td>\n",
       "      <td>...</td>\n",
       "      <td>0.0</td>\n",
       "      <td>0.0</td>\n",
       "      <td>0.0</td>\n",
       "      <td>0.0</td>\n",
       "      <td>0.0</td>\n",
       "      <td>0.0</td>\n",
       "      <td>0.0</td>\n",
       "      <td>0.0</td>\n",
       "      <td>0.0</td>\n",
       "      <td>0.0</td>\n",
       "    </tr>\n",
       "    <tr>\n",
       "      <th>93</th>\n",
       "      <td>0.694765</td>\n",
       "      <td>0.051326</td>\n",
       "      <td>-0.118940</td>\n",
       "      <td>0.050962</td>\n",
       "      <td>-0.018341</td>\n",
       "      <td>-0.033395</td>\n",
       "      <td>-0.018832</td>\n",
       "      <td>0.065442</td>\n",
       "      <td>0.082997</td>\n",
       "      <td>-0.164544</td>\n",
       "      <td>...</td>\n",
       "      <td>0.0</td>\n",
       "      <td>0.0</td>\n",
       "      <td>0.0</td>\n",
       "      <td>0.0</td>\n",
       "      <td>0.0</td>\n",
       "      <td>0.0</td>\n",
       "      <td>0.0</td>\n",
       "      <td>0.0</td>\n",
       "      <td>0.0</td>\n",
       "      <td>0.0</td>\n",
       "    </tr>\n",
       "  </tbody>\n",
       "</table>\n",
       "<p>94 rows × 94 columns</p>\n",
       "</div>"
      ],
      "text/plain": [
       "         PC1       PC2       PC3       PC4       PC5       PC6       PC7  \\\n",
       "0  -0.553182  0.045509 -0.347423  0.047783  0.006516  0.225795  0.255852   \n",
       "1  -0.570544  0.308574  0.455249  0.667092  0.013150 -0.079201 -0.060499   \n",
       "2   0.206745  0.166945  0.132789 -0.020665 -0.082996  0.019774  0.228563   \n",
       "3   0.655565  0.026128 -0.130415  0.118041  0.023889 -0.082259  0.070301   \n",
       "4   0.812617  0.084057 -0.142095  0.131855 -0.058525 -0.019650  0.122936   \n",
       "..       ...       ...       ...       ...       ...       ...       ...   \n",
       "89  0.324092  0.139272  0.088858 -0.258465  0.130502 -0.054689 -0.021380   \n",
       "90 -0.400782 -0.188921  0.008062 -0.093072 -0.005501  0.011851 -0.029192   \n",
       "91 -0.006316 -0.502886  0.258905 -0.056181  0.010926  0.108942  0.128351   \n",
       "92 -0.395174 -0.858993  0.244940 -0.024219 -0.178235 -0.427381  0.019834   \n",
       "93  0.694765  0.051326 -0.118940  0.050962 -0.018341 -0.033395 -0.018832   \n",
       "\n",
       "         PC8       PC9      PC10  ...  PC85  PC86  PC87  PC88  PC89  PC90  \\\n",
       "0  -0.294292 -0.036904 -0.068100  ...   0.0   0.0   0.0   0.0   0.0   0.0   \n",
       "1  -0.184789  0.036624  0.019868  ...   0.0   0.0   0.0   0.0   0.0   0.0   \n",
       "2   0.185352 -0.063685  0.104787  ...   0.0   0.0   0.0   0.0   0.0   0.0   \n",
       "3   0.065003  0.029665 -0.050441  ...   0.0   0.0   0.0   0.0   0.0   0.0   \n",
       "4   0.199948 -0.058690 -0.076698  ...   0.0   0.0   0.0   0.0   0.0   0.0   \n",
       "..       ...       ...       ...  ...   ...   ...   ...   ...   ...   ...   \n",
       "89 -0.041390  0.077127  0.086707  ...   0.0   0.0   0.0   0.0   0.0   0.0   \n",
       "90  0.099179  0.015721  0.056959  ...   0.0   0.0   0.0   0.0   0.0   0.0   \n",
       "91  0.137326 -0.038185 -0.047708  ...   0.0   0.0   0.0   0.0   0.0   0.0   \n",
       "92 -0.086218 -0.245607  0.034698  ...   0.0   0.0   0.0   0.0   0.0   0.0   \n",
       "93  0.065442  0.082997 -0.164544  ...   0.0   0.0   0.0   0.0   0.0   0.0   \n",
       "\n",
       "    PC91  PC92  PC93  PC94  \n",
       "0    0.0   0.0   0.0   0.0  \n",
       "1    0.0   0.0   0.0   0.0  \n",
       "2    0.0   0.0   0.0   0.0  \n",
       "3    0.0   0.0   0.0   0.0  \n",
       "4    0.0   0.0   0.0   0.0  \n",
       "..   ...   ...   ...   ...  \n",
       "89   0.0   0.0   0.0   0.0  \n",
       "90   0.0   0.0   0.0   0.0  \n",
       "91   0.0   0.0   0.0   0.0  \n",
       "92   0.0   0.0   0.0   0.0  \n",
       "93   0.0   0.0   0.0   0.0  \n",
       "\n",
       "[94 rows x 94 columns]"
      ]
     },
     "execution_count": 33,
     "metadata": {},
     "output_type": "execute_result"
    }
   ],
   "source": [
    "cluster_pcoa = pcoa(cluster)\n",
    "cluster_coordinates = cluster_pcoa.samples\n",
    "cluster_coordinates"
   ]
  },
  {
   "cell_type": "code",
   "execution_count": 110,
   "id": "52218ac2-1658-4d05-a6e3-67c8c24c72be",
   "metadata": {
    "tags": []
   },
   "outputs": [],
   "source": [
    "md = pd.read_csv(f\"{data_dir}/metadata_binned.tsv\", sep=\"\\t\")\n",
    "md_cluster = md.merge(cluster,  how='inner', left_on='sample-id', right_index=True)\n",
    "md_cluster['sample-id'] = md_cluster['sample-id'].str.replace(r'EG', '', regex=True).astype(int)\n",
    "md_sort = md_cluster.sort_values('sample-id', axis=0, ascending=True, inplace=False, kind='quicksort', ignore_index=True)\n",
    "md_sort_merged = md_sort.merge(cluster_coordinates, how='inner', on=md_sort.index)"
   ]
  },
  {
   "cell_type": "code",
   "execution_count": 111,
   "id": "a289d91f-0c04-41c5-8ee8-121f594fbc4b",
   "metadata": {
    "tags": []
   },
   "outputs": [
    {
     "name": "stderr",
     "output_type": "stream",
     "text": [
      "/tmp/ipykernel_370/3691472638.py:6: FutureWarning: Series.__getitem__ treating keys as positions is deprecated. In a future version, integer keys will always be treated as labels (consistent with DataFrame behavior). To access a value by position, use `ser.iloc[pos]`\n",
      "  plt.xlabel(f\"PC1 ({cluster_pcoa.proportion_explained[0]:.2%} variance)\")\n",
      "/tmp/ipykernel_370/3691472638.py:7: FutureWarning: Series.__getitem__ treating keys as positions is deprecated. In a future version, integer keys will always be treated as labels (consistent with DataFrame behavior). To access a value by position, use `ser.iloc[pos]`\n",
      "  plt.ylabel(f\"PC2 ({cluster_pcoa.proportion_explained[1]:.2%} variance)\")\n"
     ]
    },
    {
     "data": {
      "image/png": "[encoded data removed]",
      "text/plain": [
       "<Figure size 800x600 with 1 Axes>"
      ]
     },
     "metadata": {},
     "output_type": "display_data"
    }
   ],
   "source": [
    "plt.figure(figsize=(8, 6))\n",
    "for group, color in zip(['Abduction', 'Recovery'], ['blue', 'red']):\n",
    "    subset = md_sort_merged[md_sort_merged['Cohort_Number_Bin'] == group]\n",
    "    plt.scatter(subset['PC1'], subset['PC2'], label=f'Group {group}', color=color, s=100)\n",
    "\n",
    "plt.xlabel(f\"PC1 ({cluster_pcoa.proportion_explained[0]:.2%} variance)\")\n",
    "plt.ylabel(f\"PC2 ({cluster_pcoa.proportion_explained[1]:.2%} variance)\")\n",
    "plt.title(\"PCoA Ordination Plot\")\n",
    "plt.legend()\n",
    "plt.grid(True)\n",
    "plt.show()"
   ]
  },
  {
   "cell_type": "code",
   "execution_count": null,
   "id": "4792a086-33c4-4273-8ec5-1a09fea15af3",
   "metadata": {},
   "outputs": [],
   "source": []
  }
 ],
 "metadata": {
  "kernelspec": {
   "display_name": "QIIME 2",
   "language": "python",
   "name": "python3"
  },
  "language_info": {
   "codemirror_mode": {
    "name": "ipython",
    "version": 3
   },
   "file_extension": ".py",
   "mimetype": "text/x-python",
   "name": "python",
   "nbconvert_exporter": "python",
   "pygments_lexer": "ipython3",
   "version": "3.9.19"
  }
 },
 "nbformat": 4,
 "nbformat_minor": 5
}
