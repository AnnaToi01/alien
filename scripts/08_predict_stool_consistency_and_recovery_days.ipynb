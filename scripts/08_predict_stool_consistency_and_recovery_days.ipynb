{
 "cells": [
  {
   "cell_type": "markdown",
   "id": "a23ce4ac",
   "metadata": {},
   "source": [
    "# 08. Predicting Stool Consistency and Recovery Day\n",
    "\n",
    "Author: Minghang Li\n"
   ]
  },
  {
   "cell_type": "markdown",
   "id": "057b08aa",
   "metadata": {},
   "source": [
    "In this notebook, we will try to use the microbiomal composition feature table to train two models to predict stool consistency and recovery day, respectively."
   ]
  },
  {
   "cell_type": "markdown",
   "id": "489520b5",
   "metadata": {},
   "source": [
    "## 0. Setup\n",
    "\n",
    "As always, let's first import all packages and assign the variables we need in this notebook:"
   ]
  },
  {
   "cell_type": "code",
   "execution_count": null,
   "id": "07a5a38b",
   "metadata": {
    "tags": []
   },
   "outputs": [],
   "source": [
    "# importing all required packages & notebook extensions at the start of the notebook\n",
    "import os\n",
    "import numpy as np\n",
    "import matplotlib.pyplot as plt\n",
    "import seaborn as sns\n",
    "import pandas as pd\n",
    "import qiime2 as q2\n",
    "from qiime2 import Visualization\n",
    "from pathlib import Path\n",
    "import plotly.graph_objects as go\n",
    "import plotly.io as pio\n",
    "from collections import defaultdict\n",
    "from IPython.display import Image\n",
    "\n",
    "%matplotlib inline"
   ]
  },
  {
   "cell_type": "code",
   "execution_count": 3,
   "id": "1a34be4d",
   "metadata": {},
   "outputs": [],
   "source": [
    "# get project root by finding .git folder\n",
    "root = !git rev-parse --show-toplevel\n",
    "root = Path(root[0])\n",
    "\n",
    "# assigning variables throughout the notebook\n",
    "raw_data_dir = root / \"data\" / \"raw\"\n",
    "data_dir = root / \"data\" / \"processed\"\n",
    "vis_dir  = root / \"results\""
   ]
  },
  {
   "cell_type": "code",
   "execution_count": 35,
   "id": "9af08112",
   "metadata": {},
   "outputs": [],
   "source": [
    "# create the mlpred directory for organizing metadata for ml prediction and results\n",
    "mlpred_dir = Path(data_dir) / \"mlpred\"\n",
    "mlpred_dir.mkdir(parents=True, exist_ok=True)"
   ]
  },
  {
   "cell_type": "markdown",
   "id": "4f291d61",
   "metadata": {},
   "source": [
    "## 1. Inspect metadata"
   ]
  },
  {
   "cell_type": "markdown",
   "id": "5d1709e0",
   "metadata": {},
   "source": [
    "We are interested in predicting two metrics:\n",
    "\n",
    "1. Stool consistency (categorical data)\n",
    "2. Recovery Day (numeric data)\n",
    "\n",
    "To this end, we will first inspect the metadata to understand the distribution of these two metrics."
   ]
  },
  {
   "cell_type": "code",
   "execution_count": 5,
   "id": "2f10099a",
   "metadata": {},
   "outputs": [
    {
     "data": {
      "text/html": [
       "<div>\n",
       "<style scoped>\n",
       "    .dataframe tbody tr th:only-of-type {\n",
       "        vertical-align: middle;\n",
       "    }\n",
       "\n",
       "    .dataframe tbody tr th {\n",
       "        vertical-align: top;\n",
       "    }\n",
       "\n",
       "    .dataframe thead th {\n",
       "        text-align: right;\n",
       "    }\n",
       "</style>\n",
       "<table border=\"1\" class=\"dataframe\">\n",
       "  <thead>\n",
       "    <tr style=\"text-align: right;\">\n",
       "      <th></th>\n",
       "      <th>sample-id</th>\n",
       "      <th>Patient_ID</th>\n",
       "      <th>Stool_Consistency</th>\n",
       "      <th>Patient_Sex</th>\n",
       "      <th>Sample_Day</th>\n",
       "      <th>Recovery_Day</th>\n",
       "      <th>Cohort_Number</th>\n",
       "    </tr>\n",
       "  </thead>\n",
       "  <tbody>\n",
       "    <tr>\n",
       "      <th>0</th>\n",
       "      <td>EG2580</td>\n",
       "      <td>P042</td>\n",
       "      <td>liquid</td>\n",
       "      <td>F</td>\n",
       "      <td>13</td>\n",
       "      <td>17.0</td>\n",
       "      <td>2</td>\n",
       "    </tr>\n",
       "    <tr>\n",
       "      <th>1</th>\n",
       "      <td>EG2559</td>\n",
       "      <td>P043</td>\n",
       "      <td>liquid</td>\n",
       "      <td>M</td>\n",
       "      <td>15</td>\n",
       "      <td>17.0</td>\n",
       "      <td>2</td>\n",
       "    </tr>\n",
       "    <tr>\n",
       "      <th>2</th>\n",
       "      <td>EG2537</td>\n",
       "      <td>P042</td>\n",
       "      <td>liquid</td>\n",
       "      <td>F</td>\n",
       "      <td>0</td>\n",
       "      <td>17.0</td>\n",
       "      <td>1</td>\n",
       "    </tr>\n",
       "    <tr>\n",
       "      <th>3</th>\n",
       "      <td>EG2518</td>\n",
       "      <td>P043</td>\n",
       "      <td>liquid</td>\n",
       "      <td>M</td>\n",
       "      <td>0</td>\n",
       "      <td>17.0</td>\n",
       "      <td>1</td>\n",
       "    </tr>\n",
       "    <tr>\n",
       "      <th>4</th>\n",
       "      <td>EG2490</td>\n",
       "      <td>P030</td>\n",
       "      <td>formed</td>\n",
       "      <td>F</td>\n",
       "      <td>0</td>\n",
       "      <td>NaN</td>\n",
       "      <td>1</td>\n",
       "    </tr>\n",
       "  </tbody>\n",
       "</table>\n",
       "</div>"
      ],
      "text/plain": [
       "  sample-id Patient_ID Stool_Consistency Patient_Sex  Sample_Day  \\\n",
       "0    EG2580       P042            liquid           F          13   \n",
       "1    EG2559       P043            liquid           M          15   \n",
       "2    EG2537       P042            liquid           F           0   \n",
       "3    EG2518       P043            liquid           M           0   \n",
       "4    EG2490       P030            formed           F           0   \n",
       "\n",
       "   Recovery_Day  Cohort_Number  \n",
       "0          17.0              2  \n",
       "1          17.0              2  \n",
       "2          17.0              1  \n",
       "3          17.0              1  \n",
       "4           NaN              1  "
      ]
     },
     "execution_count": 5,
     "metadata": {},
     "output_type": "execute_result"
    }
   ],
   "source": [
    "meta = pd.read_csv(data_dir / \"metadata.tsv\", sep=\"\\t\")\n",
    "meta.head()"
   ]
  },
  {
   "cell_type": "markdown",
   "id": "45dfdbdd",
   "metadata": {},
   "source": [
    "### Inspect stool consistency\n",
    "\n",
    "Since we have only 102 data points, we would like to make use of as much data as\n",
    "possible. The stool was sampled twice for some patients, once before the alien\n",
    "abduction and once after. If we see a clear trend in the change of stool\n",
    "consistency (e.g. from \"liquid\" to \"formed\"), we can probably use the difference\n",
    "in stool consistency as a feature for prediction of \"alien abduction\" success."
   ]
  },
  {
   "cell_type": "code",
   "execution_count": 9,
   "id": "0b2c30e9",
   "metadata": {},
   "outputs": [
    {
     "data": {
      "text/plain": [
       "Stool_Consistency\n",
       "1    47\n",
       "2    20\n",
       "Name: count, dtype: int64"
      ]
     },
     "execution_count": 9,
     "metadata": {},
     "output_type": "execute_result"
    }
   ],
   "source": [
    "# See how many patients have multiple stool consistency values\n",
    "grouped_by_patient = meta.groupby(\"Patient_ID\")\n",
    "grouped_by_patient[\"Stool_Consistency\"].nunique().value_counts()"
   ]
  },
  {
   "cell_type": "code",
   "execution_count": 10,
   "id": "a5a1edf4",
   "metadata": {},
   "outputs": [],
   "source": [
    "# select only patients with multiple stool consistency values\n",
    "patient_cohort_counts = grouped_by_patient[\"Cohort_Number\"].nunique()\n",
    "multiple_cohort_patients = patient_cohort_counts[patient_cohort_counts > 1].index\n",
    "filtered_meta = meta[meta[\"Patient_ID\"].isin(multiple_cohort_patients)].copy()"
   ]
  },
  {
   "cell_type": "code",
   "execution_count": null,
   "id": "5f2ae579",
   "metadata": {},
   "outputs": [],
   "source": [
    "# Define the nodes and their properties\n",
    "consistency_labels = meta[\"Stool_Consistency\"].unique().tolist()\n",
    "node_names = [label + \"1\" for label in consistency_labels] + [\n",
    "    label + \"2\" for label in consistency_labels\n",
    "]"
   ]
  },
  {
   "cell_type": "code",
   "execution_count": 27,
   "id": "7c058d00",
   "metadata": {},
   "outputs": [],
   "source": [
    "\n",
    "node_colors = ['#98D8D8', '#98D8B8', '#F8D898', # Before\n",
    "               '#98D8D8', '#98D8B8', '#F8D898'] # After\n",
    "\n",
    "transitions = defaultdict(int)\n",
    "state_counts = defaultdict(int)\n",
    "\n",
    "for patient, patient_data in filtered_meta.groupby(\"Patient_ID\"):\n",
    "    before = patient_data[patient_data[\"Cohort_Number\"] == 1]\n",
    "    after = patient_data[patient_data[\"Cohort_Number\"] == 2]\n",
    "    before_state = before[\"Stool_Consistency\"].values[0]\n",
    "    after_state = after[\"Stool_Consistency\"].values[0]\n",
    "    transitions[(before_state, after_state)] += 1\n",
    "    state_counts[before_state + \"1\"] += 1\n",
    "    state_counts[after_state + \"2\"] += 1\n",
    "\n",
    "source_nodes = []\n",
    "target_nodes = []\n",
    "values = []\n",
    "for (source, target), count in transitions.items():\n",
    "    source_nodes.append(node_names.index(source + \"1\"))\n",
    "    target_nodes.append(node_names.index(target + \"2\"))\n",
    "    values.append(count)\n"
   ]
  },
  {
   "cell_type": "code",
   "execution_count": 28,
   "id": "1efa591d",
   "metadata": {},
   "outputs": [
    {
     "data": {
      "application/vnd.plotly.v1+json": {
       "config": {
        "plotlyServerURL": "https://plot.ly"
       },
       "data": [
        {
         "link": {
          "label": [
           8,
           4,
           3,
           2,
           4,
           5,
           3,
           3,
           3
          ],
          "source": [
           0,
           1,
           0,
           0,
           1,
           2,
           2,
           1,
           2
          ],
          "target": [
           3,
           4,
           5,
           4,
           5,
           4,
           5,
           3,
           3
          ],
          "value": [
           8,
           4,
           3,
           2,
           4,
           5,
           3,
           3,
           3
          ]
         },
         "node": {
          "color": [
           "#98D8D8",
           "#98D8B8",
           "#F8D898",
           "#98D8D8",
           "#98D8B8",
           "#F8D898"
          ],
          "label": [
           "liquid: 13",
           "formed: 11",
           "semi-formed: 11",
           "liquid: 14",
           "formed: 11",
           "semi-formed: 10"
          ],
          "line": {
           "color": "black",
           "width": 0.5
          },
          "pad": 15,
          "thickness": 20
         },
         "type": "sankey"
        }
       ],
       "layout": {
        "annotations": [
         {
          "font": {
           "size": 20
          },
          "showarrow": false,
          "text": "Before",
          "x": 0,
          "y": -0.1
         },
         {
          "font": {
           "size": 20
          },
          "showarrow": false,
          "text": "After",
          "x": 1,
          "y": -0.1
         }
        ],
        "font": {
         "size": 12
        },
        "height": 600,
        "template": {
         "data": {
          "bar": [
           {
            "error_x": {
             "color": "#2a3f5f"
            },
            "error_y": {
             "color": "#2a3f5f"
            },
            "marker": {
             "line": {
              "color": "#E5ECF6",
              "width": 0.5
             },
             "pattern": {
              "fillmode": "overlay",
              "size": 10,
              "solidity": 0.2
             }
            },
            "type": "bar"
           }
          ],
          "barpolar": [
           {
            "marker": {
             "line": {
              "color": "#E5ECF6",
              "width": 0.5
             },
             "pattern": {
              "fillmode": "overlay",
              "size": 10,
              "solidity": 0.2
             }
            },
            "type": "barpolar"
           }
          ],
          "carpet": [
           {
            "aaxis": {
             "endlinecolor": "#2a3f5f",
             "gridcolor": "white",
             "linecolor": "white",
             "minorgridcolor": "white",
             "startlinecolor": "#2a3f5f"
            },
            "baxis": {
             "endlinecolor": "#2a3f5f",
             "gridcolor": "white",
             "linecolor": "white",
             "minorgridcolor": "white",
             "startlinecolor": "#2a3f5f"
            },
            "type": "carpet"
           }
          ],
          "choropleth": [
           {
            "colorbar": {
             "outlinewidth": 0,
             "ticks": ""
            },
            "type": "choropleth"
           }
          ],
          "contour": [
           {
            "colorbar": {
             "outlinewidth": 0,
             "ticks": ""
            },
            "colorscale": [
             [
              0,
              "#0d0887"
             ],
             [
              0.1111111111111111,
              "#46039f"
             ],
             [
              0.2222222222222222,
              "#7201a8"
             ],
             [
              0.3333333333333333,
              "#9c179e"
             ],
             [
              0.4444444444444444,
              "#bd3786"
             ],
             [
              0.5555555555555556,
              "#d8576b"
             ],
             [
              0.6666666666666666,
              "#ed7953"
             ],
             [
              0.7777777777777778,
              "#fb9f3a"
             ],
             [
              0.8888888888888888,
              "#fdca26"
             ],
             [
              1,
              "#f0f921"
             ]
            ],
            "type": "contour"
           }
          ],
          "contourcarpet": [
           {
            "colorbar": {
             "outlinewidth": 0,
             "ticks": ""
            },
            "type": "contourcarpet"
           }
          ],
          "heatmap": [
           {
            "colorbar": {
             "outlinewidth": 0,
             "ticks": ""
            },
            "colorscale": [
             [
              0,
              "#0d0887"
             ],
             [
              0.1111111111111111,
              "#46039f"
             ],
             [
              0.2222222222222222,
              "#7201a8"
             ],
             [
              0.3333333333333333,
              "#9c179e"
             ],
             [
              0.4444444444444444,
              "#bd3786"
             ],
             [
              0.5555555555555556,
              "#d8576b"
             ],
             [
              0.6666666666666666,
              "#ed7953"
             ],
             [
              0.7777777777777778,
              "#fb9f3a"
             ],
             [
              0.8888888888888888,
              "#fdca26"
             ],
             [
              1,
              "#f0f921"
             ]
            ],
            "type": "heatmap"
           }
          ],
          "heatmapgl": [
           {
            "colorbar": {
             "outlinewidth": 0,
             "ticks": ""
            },
            "colorscale": [
             [
              0,
              "#0d0887"
             ],
             [
              0.1111111111111111,
              "#46039f"
             ],
             [
              0.2222222222222222,
              "#7201a8"
             ],
             [
              0.3333333333333333,
              "#9c179e"
             ],
             [
              0.4444444444444444,
              "#bd3786"
             ],
             [
              0.5555555555555556,
              "#d8576b"
             ],
             [
              0.6666666666666666,
              "#ed7953"
             ],
             [
              0.7777777777777778,
              "#fb9f3a"
             ],
             [
              0.8888888888888888,
              "#fdca26"
             ],
             [
              1,
              "#f0f921"
             ]
            ],
            "type": "heatmapgl"
           }
          ],
          "histogram": [
           {
            "marker": {
             "pattern": {
              "fillmode": "overlay",
              "size": 10,
              "solidity": 0.2
             }
            },
            "type": "histogram"
           }
          ],
          "histogram2d": [
           {
            "colorbar": {
             "outlinewidth": 0,
             "ticks": ""
            },
            "colorscale": [
             [
              0,
              "#0d0887"
             ],
             [
              0.1111111111111111,
              "#46039f"
             ],
             [
              0.2222222222222222,
              "#7201a8"
             ],
             [
              0.3333333333333333,
              "#9c179e"
             ],
             [
              0.4444444444444444,
              "#bd3786"
             ],
             [
              0.5555555555555556,
              "#d8576b"
             ],
             [
              0.6666666666666666,
              "#ed7953"
             ],
             [
              0.7777777777777778,
              "#fb9f3a"
             ],
             [
              0.8888888888888888,
              "#fdca26"
             ],
             [
              1,
              "#f0f921"
             ]
            ],
            "type": "histogram2d"
           }
          ],
          "histogram2dcontour": [
           {
            "colorbar": {
             "outlinewidth": 0,
             "ticks": ""
            },
            "colorscale": [
             [
              0,
              "#0d0887"
             ],
             [
              0.1111111111111111,
              "#46039f"
             ],
             [
              0.2222222222222222,
              "#7201a8"
             ],
             [
              0.3333333333333333,
              "#9c179e"
             ],
             [
              0.4444444444444444,
              "#bd3786"
             ],
             [
              0.5555555555555556,
              "#d8576b"
             ],
             [
              0.6666666666666666,
              "#ed7953"
             ],
             [
              0.7777777777777778,
              "#fb9f3a"
             ],
             [
              0.8888888888888888,
              "#fdca26"
             ],
             [
              1,
              "#f0f921"
             ]
            ],
            "type": "histogram2dcontour"
           }
          ],
          "mesh3d": [
           {
            "colorbar": {
             "outlinewidth": 0,
             "ticks": ""
            },
            "type": "mesh3d"
           }
          ],
          "parcoords": [
           {
            "line": {
             "colorbar": {
              "outlinewidth": 0,
              "ticks": ""
             }
            },
            "type": "parcoords"
           }
          ],
          "pie": [
           {
            "automargin": true,
            "type": "pie"
           }
          ],
          "scatter": [
           {
            "fillpattern": {
             "fillmode": "overlay",
             "size": 10,
             "solidity": 0.2
            },
            "type": "scatter"
           }
          ],
          "scatter3d": [
           {
            "line": {
             "colorbar": {
              "outlinewidth": 0,
              "ticks": ""
             }
            },
            "marker": {
             "colorbar": {
              "outlinewidth": 0,
              "ticks": ""
             }
            },
            "type": "scatter3d"
           }
          ],
          "scattercarpet": [
           {
            "marker": {
             "colorbar": {
              "outlinewidth": 0,
              "ticks": ""
             }
            },
            "type": "scattercarpet"
           }
          ],
          "scattergeo": [
           {
            "marker": {
             "colorbar": {
              "outlinewidth": 0,
              "ticks": ""
             }
            },
            "type": "scattergeo"
           }
          ],
          "scattergl": [
           {
            "marker": {
             "colorbar": {
              "outlinewidth": 0,
              "ticks": ""
             }
            },
            "type": "scattergl"
           }
          ],
          "scattermapbox": [
           {
            "marker": {
             "colorbar": {
              "outlinewidth": 0,
              "ticks": ""
             }
            },
            "type": "scattermapbox"
           }
          ],
          "scatterpolar": [
           {
            "marker": {
             "colorbar": {
              "outlinewidth": 0,
              "ticks": ""
             }
            },
            "type": "scatterpolar"
           }
          ],
          "scatterpolargl": [
           {
            "marker": {
             "colorbar": {
              "outlinewidth": 0,
              "ticks": ""
             }
            },
            "type": "scatterpolargl"
           }
          ],
          "scatterternary": [
           {
            "marker": {
             "colorbar": {
              "outlinewidth": 0,
              "ticks": ""
             }
            },
            "type": "scatterternary"
           }
          ],
          "surface": [
           {
            "colorbar": {
             "outlinewidth": 0,
             "ticks": ""
            },
            "colorscale": [
             [
              0,
              "#0d0887"
             ],
             [
              0.1111111111111111,
              "#46039f"
             ],
             [
              0.2222222222222222,
              "#7201a8"
             ],
             [
              0.3333333333333333,
              "#9c179e"
             ],
             [
              0.4444444444444444,
              "#bd3786"
             ],
             [
              0.5555555555555556,
              "#d8576b"
             ],
             [
              0.6666666666666666,
              "#ed7953"
             ],
             [
              0.7777777777777778,
              "#fb9f3a"
             ],
             [
              0.8888888888888888,
              "#fdca26"
             ],
             [
              1,
              "#f0f921"
             ]
            ],
            "type": "surface"
           }
          ],
          "table": [
           {
            "cells": {
             "fill": {
              "color": "#EBF0F8"
             },
             "line": {
              "color": "white"
             }
            },
            "header": {
             "fill": {
              "color": "#C8D4E3"
             },
             "line": {
              "color": "white"
             }
            },
            "type": "table"
           }
          ]
         },
         "layout": {
          "annotationdefaults": {
           "arrowcolor": "#2a3f5f",
           "arrowhead": 0,
           "arrowwidth": 1
          },
          "autotypenumbers": "strict",
          "coloraxis": {
           "colorbar": {
            "outlinewidth": 0,
            "ticks": ""
           }
          },
          "colorscale": {
           "diverging": [
            [
             0,
             "#8e0152"
            ],
            [
             0.1,
             "#c51b7d"
            ],
            [
             0.2,
             "#de77ae"
            ],
            [
             0.3,
             "#f1b6da"
            ],
            [
             0.4,
             "#fde0ef"
            ],
            [
             0.5,
             "#f7f7f7"
            ],
            [
             0.6,
             "#e6f5d0"
            ],
            [
             0.7,
             "#b8e186"
            ],
            [
             0.8,
             "#7fbc41"
            ],
            [
             0.9,
             "#4d9221"
            ],
            [
             1,
             "#276419"
            ]
           ],
           "sequential": [
            [
             0,
             "#0d0887"
            ],
            [
             0.1111111111111111,
             "#46039f"
            ],
            [
             0.2222222222222222,
             "#7201a8"
            ],
            [
             0.3333333333333333,
             "#9c179e"
            ],
            [
             0.4444444444444444,
             "#bd3786"
            ],
            [
             0.5555555555555556,
             "#d8576b"
            ],
            [
             0.6666666666666666,
             "#ed7953"
            ],
            [
             0.7777777777777778,
             "#fb9f3a"
            ],
            [
             0.8888888888888888,
             "#fdca26"
            ],
            [
             1,
             "#f0f921"
            ]
           ],
           "sequentialminus": [
            [
             0,
             "#0d0887"
            ],
            [
             0.1111111111111111,
             "#46039f"
            ],
            [
             0.2222222222222222,
             "#7201a8"
            ],
            [
             0.3333333333333333,
             "#9c179e"
            ],
            [
             0.4444444444444444,
             "#bd3786"
            ],
            [
             0.5555555555555556,
             "#d8576b"
            ],
            [
             0.6666666666666666,
             "#ed7953"
            ],
            [
             0.7777777777777778,
             "#fb9f3a"
            ],
            [
             0.8888888888888888,
             "#fdca26"
            ],
            [
             1,
             "#f0f921"
            ]
           ]
          },
          "colorway": [
           "#636efa",
           "#EF553B",
           "#00cc96",
           "#ab63fa",
           "#FFA15A",
           "#19d3f3",
           "#FF6692",
           "#B6E880",
           "#FF97FF",
           "#FECB52"
          ],
          "font": {
           "color": "#2a3f5f"
          },
          "geo": {
           "bgcolor": "white",
           "lakecolor": "white",
           "landcolor": "#E5ECF6",
           "showlakes": true,
           "showland": true,
           "subunitcolor": "white"
          },
          "hoverlabel": {
           "align": "left"
          },
          "hovermode": "closest",
          "mapbox": {
           "style": "light"
          },
          "paper_bgcolor": "white",
          "plot_bgcolor": "#E5ECF6",
          "polar": {
           "angularaxis": {
            "gridcolor": "white",
            "linecolor": "white",
            "ticks": ""
           },
           "bgcolor": "#E5ECF6",
           "radialaxis": {
            "gridcolor": "white",
            "linecolor": "white",
            "ticks": ""
           }
          },
          "scene": {
           "xaxis": {
            "backgroundcolor": "#E5ECF6",
            "gridcolor": "white",
            "gridwidth": 2,
            "linecolor": "white",
            "showbackground": true,
            "ticks": "",
            "zerolinecolor": "white"
           },
           "yaxis": {
            "backgroundcolor": "#E5ECF6",
            "gridcolor": "white",
            "gridwidth": 2,
            "linecolor": "white",
            "showbackground": true,
            "ticks": "",
            "zerolinecolor": "white"
           },
           "zaxis": {
            "backgroundcolor": "#E5ECF6",
            "gridcolor": "white",
            "gridwidth": 2,
            "linecolor": "white",
            "showbackground": true,
            "ticks": "",
            "zerolinecolor": "white"
           }
          },
          "shapedefaults": {
           "line": {
            "color": "#2a3f5f"
           }
          },
          "ternary": {
           "aaxis": {
            "gridcolor": "white",
            "linecolor": "white",
            "ticks": ""
           },
           "baxis": {
            "gridcolor": "white",
            "linecolor": "white",
            "ticks": ""
           },
           "bgcolor": "#E5ECF6",
           "caxis": {
            "gridcolor": "white",
            "linecolor": "white",
            "ticks": ""
           }
          },
          "title": {
           "x": 0.05
          },
          "xaxis": {
           "automargin": true,
           "gridcolor": "white",
           "linecolor": "white",
           "ticks": "",
           "title": {
            "standoff": 15
           },
           "zerolinecolor": "white",
           "zerolinewidth": 2
          },
          "yaxis": {
           "automargin": true,
           "gridcolor": "white",
           "linecolor": "white",
           "ticks": "",
           "title": {
            "standoff": 15
           },
           "zerolinecolor": "white",
           "zerolinewidth": 2
          }
         }
        },
        "title": {
         "text": "Stool consistency transitions"
        },
        "width": 800
       }
      },
      "text/html": [
       "<div>                            <div id=\"784b3e9f-45d5-41cb-87c1-84d1499888b5\" class=\"plotly-graph-div\" style=\"height:600px; width:800px;\"></div>            <script type=\"text/javascript\">                require([\"plotly\"], function(Plotly) {                    window.PLOTLYENV=window.PLOTLYENV || {};                                    if (document.getElementById(\"784b3e9f-45d5-41cb-87c1-84d1499888b5\")) {                    Plotly.newPlot(                        \"784b3e9f-45d5-41cb-87c1-84d1499888b5\",                        [{\"link\":{\"label\":[8,4,3,2,4,5,3,3,3],\"source\":[0,1,0,0,1,2,2,1,2],\"target\":[3,4,5,4,5,4,5,3,3],\"value\":[8,4,3,2,4,5,3,3,3]},\"node\":{\"color\":[\"#98D8D8\",\"#98D8B8\",\"#F8D898\",\"#98D8D8\",\"#98D8B8\",\"#F8D898\"],\"label\":[\"liquid: 13\",\"formed: 11\",\"semi-formed: 11\",\"liquid: 14\",\"formed: 11\",\"semi-formed: 10\"],\"line\":{\"color\":\"black\",\"width\":0.5},\"pad\":15,\"thickness\":20},\"type\":\"sankey\"}],                        {\"template\":{\"data\":{\"histogram2dcontour\":[{\"type\":\"histogram2dcontour\",\"colorbar\":{\"outlinewidth\":0,\"ticks\":\"\"},\"colorscale\":[[0.0,\"#0d0887\"],[0.1111111111111111,\"#46039f\"],[0.2222222222222222,\"#7201a8\"],[0.3333333333333333,\"#9c179e\"],[0.4444444444444444,\"#bd3786\"],[0.5555555555555556,\"#d8576b\"],[0.6666666666666666,\"#ed7953\"],[0.7777777777777778,\"#fb9f3a\"],[0.8888888888888888,\"#fdca26\"],[1.0,\"#f0f921\"]]}],\"choropleth\":[{\"type\":\"choropleth\",\"colorbar\":{\"outlinewidth\":0,\"ticks\":\"\"}}],\"histogram2d\":[{\"type\":\"histogram2d\",\"colorbar\":{\"outlinewidth\":0,\"ticks\":\"\"},\"colorscale\":[[0.0,\"#0d0887\"],[0.1111111111111111,\"#46039f\"],[0.2222222222222222,\"#7201a8\"],[0.3333333333333333,\"#9c179e\"],[0.4444444444444444,\"#bd3786\"],[0.5555555555555556,\"#d8576b\"],[0.6666666666666666,\"#ed7953\"],[0.7777777777777778,\"#fb9f3a\"],[0.8888888888888888,\"#fdca26\"],[1.0,\"#f0f921\"]]}],\"heatmap\":[{\"type\":\"heatmap\",\"colorbar\":{\"outlinewidth\":0,\"ticks\":\"\"},\"colorscale\":[[0.0,\"#0d0887\"],[0.1111111111111111,\"#46039f\"],[0.2222222222222222,\"#7201a8\"],[0.3333333333333333,\"#9c179e\"],[0.4444444444444444,\"#bd3786\"],[0.5555555555555556,\"#d8576b\"],[0.6666666666666666,\"#ed7953\"],[0.7777777777777778,\"#fb9f3a\"],[0.8888888888888888,\"#fdca26\"],[1.0,\"#f0f921\"]]}],\"heatmapgl\":[{\"type\":\"heatmapgl\",\"colorbar\":{\"outlinewidth\":0,\"ticks\":\"\"},\"colorscale\":[[0.0,\"#0d0887\"],[0.1111111111111111,\"#46039f\"],[0.2222222222222222,\"#7201a8\"],[0.3333333333333333,\"#9c179e\"],[0.4444444444444444,\"#bd3786\"],[0.5555555555555556,\"#d8576b\"],[0.6666666666666666,\"#ed7953\"],[0.7777777777777778,\"#fb9f3a\"],[0.8888888888888888,\"#fdca26\"],[1.0,\"#f0f921\"]]}],\"contourcarpet\":[{\"type\":\"contourcarpet\",\"colorbar\":{\"outlinewidth\":0,\"ticks\":\"\"}}],\"contour\":[{\"type\":\"contour\",\"colorbar\":{\"outlinewidth\":0,\"ticks\":\"\"},\"colorscale\":[[0.0,\"#0d0887\"],[0.1111111111111111,\"#46039f\"],[0.2222222222222222,\"#7201a8\"],[0.3333333333333333,\"#9c179e\"],[0.4444444444444444,\"#bd3786\"],[0.5555555555555556,\"#d8576b\"],[0.6666666666666666,\"#ed7953\"],[0.7777777777777778,\"#fb9f3a\"],[0.8888888888888888,\"#fdca26\"],[1.0,\"#f0f921\"]]}],\"surface\":[{\"type\":\"surface\",\"colorbar\":{\"outlinewidth\":0,\"ticks\":\"\"},\"colorscale\":[[0.0,\"#0d0887\"],[0.1111111111111111,\"#46039f\"],[0.2222222222222222,\"#7201a8\"],[0.3333333333333333,\"#9c179e\"],[0.4444444444444444,\"#bd3786\"],[0.5555555555555556,\"#d8576b\"],[0.6666666666666666,\"#ed7953\"],[0.7777777777777778,\"#fb9f3a\"],[0.8888888888888888,\"#fdca26\"],[1.0,\"#f0f921\"]]}],\"mesh3d\":[{\"type\":\"mesh3d\",\"colorbar\":{\"outlinewidth\":0,\"ticks\":\"\"}}],\"scatter\":[{\"fillpattern\":{\"fillmode\":\"overlay\",\"size\":10,\"solidity\":0.2},\"type\":\"scatter\"}],\"parcoords\":[{\"type\":\"parcoords\",\"line\":{\"colorbar\":{\"outlinewidth\":0,\"ticks\":\"\"}}}],\"scatterpolargl\":[{\"type\":\"scatterpolargl\",\"marker\":{\"colorbar\":{\"outlinewidth\":0,\"ticks\":\"\"}}}],\"bar\":[{\"error_x\":{\"color\":\"#2a3f5f\"},\"error_y\":{\"color\":\"#2a3f5f\"},\"marker\":{\"line\":{\"color\":\"#E5ECF6\",\"width\":0.5},\"pattern\":{\"fillmode\":\"overlay\",\"size\":10,\"solidity\":0.2}},\"type\":\"bar\"}],\"scattergeo\":[{\"type\":\"scattergeo\",\"marker\":{\"colorbar\":{\"outlinewidth\":0,\"ticks\":\"\"}}}],\"scatterpolar\":[{\"type\":\"scatterpolar\",\"marker\":{\"colorbar\":{\"outlinewidth\":0,\"ticks\":\"\"}}}],\"histogram\":[{\"marker\":{\"pattern\":{\"fillmode\":\"overlay\",\"size\":10,\"solidity\":0.2}},\"type\":\"histogram\"}],\"scattergl\":[{\"type\":\"scattergl\",\"marker\":{\"colorbar\":{\"outlinewidth\":0,\"ticks\":\"\"}}}],\"scatter3d\":[{\"type\":\"scatter3d\",\"line\":{\"colorbar\":{\"outlinewidth\":0,\"ticks\":\"\"}},\"marker\":{\"colorbar\":{\"outlinewidth\":0,\"ticks\":\"\"}}}],\"scattermapbox\":[{\"type\":\"scattermapbox\",\"marker\":{\"colorbar\":{\"outlinewidth\":0,\"ticks\":\"\"}}}],\"scatterternary\":[{\"type\":\"scatterternary\",\"marker\":{\"colorbar\":{\"outlinewidth\":0,\"ticks\":\"\"}}}],\"scattercarpet\":[{\"type\":\"scattercarpet\",\"marker\":{\"colorbar\":{\"outlinewidth\":0,\"ticks\":\"\"}}}],\"carpet\":[{\"aaxis\":{\"endlinecolor\":\"#2a3f5f\",\"gridcolor\":\"white\",\"linecolor\":\"white\",\"minorgridcolor\":\"white\",\"startlinecolor\":\"#2a3f5f\"},\"baxis\":{\"endlinecolor\":\"#2a3f5f\",\"gridcolor\":\"white\",\"linecolor\":\"white\",\"minorgridcolor\":\"white\",\"startlinecolor\":\"#2a3f5f\"},\"type\":\"carpet\"}],\"table\":[{\"cells\":{\"fill\":{\"color\":\"#EBF0F8\"},\"line\":{\"color\":\"white\"}},\"header\":{\"fill\":{\"color\":\"#C8D4E3\"},\"line\":{\"color\":\"white\"}},\"type\":\"table\"}],\"barpolar\":[{\"marker\":{\"line\":{\"color\":\"#E5ECF6\",\"width\":0.5},\"pattern\":{\"fillmode\":\"overlay\",\"size\":10,\"solidity\":0.2}},\"type\":\"barpolar\"}],\"pie\":[{\"automargin\":true,\"type\":\"pie\"}]},\"layout\":{\"autotypenumbers\":\"strict\",\"colorway\":[\"#636efa\",\"#EF553B\",\"#00cc96\",\"#ab63fa\",\"#FFA15A\",\"#19d3f3\",\"#FF6692\",\"#B6E880\",\"#FF97FF\",\"#FECB52\"],\"font\":{\"color\":\"#2a3f5f\"},\"hovermode\":\"closest\",\"hoverlabel\":{\"align\":\"left\"},\"paper_bgcolor\":\"white\",\"plot_bgcolor\":\"#E5ECF6\",\"polar\":{\"bgcolor\":\"#E5ECF6\",\"angularaxis\":{\"gridcolor\":\"white\",\"linecolor\":\"white\",\"ticks\":\"\"},\"radialaxis\":{\"gridcolor\":\"white\",\"linecolor\":\"white\",\"ticks\":\"\"}},\"ternary\":{\"bgcolor\":\"#E5ECF6\",\"aaxis\":{\"gridcolor\":\"white\",\"linecolor\":\"white\",\"ticks\":\"\"},\"baxis\":{\"gridcolor\":\"white\",\"linecolor\":\"white\",\"ticks\":\"\"},\"caxis\":{\"gridcolor\":\"white\",\"linecolor\":\"white\",\"ticks\":\"\"}},\"coloraxis\":{\"colorbar\":{\"outlinewidth\":0,\"ticks\":\"\"}},\"colorscale\":{\"sequential\":[[0.0,\"#0d0887\"],[0.1111111111111111,\"#46039f\"],[0.2222222222222222,\"#7201a8\"],[0.3333333333333333,\"#9c179e\"],[0.4444444444444444,\"#bd3786\"],[0.5555555555555556,\"#d8576b\"],[0.6666666666666666,\"#ed7953\"],[0.7777777777777778,\"#fb9f3a\"],[0.8888888888888888,\"#fdca26\"],[1.0,\"#f0f921\"]],\"sequentialminus\":[[0.0,\"#0d0887\"],[0.1111111111111111,\"#46039f\"],[0.2222222222222222,\"#7201a8\"],[0.3333333333333333,\"#9c179e\"],[0.4444444444444444,\"#bd3786\"],[0.5555555555555556,\"#d8576b\"],[0.6666666666666666,\"#ed7953\"],[0.7777777777777778,\"#fb9f3a\"],[0.8888888888888888,\"#fdca26\"],[1.0,\"#f0f921\"]],\"diverging\":[[0,\"#8e0152\"],[0.1,\"#c51b7d\"],[0.2,\"#de77ae\"],[0.3,\"#f1b6da\"],[0.4,\"#fde0ef\"],[0.5,\"#f7f7f7\"],[0.6,\"#e6f5d0\"],[0.7,\"#b8e186\"],[0.8,\"#7fbc41\"],[0.9,\"#4d9221\"],[1,\"#276419\"]]},\"xaxis\":{\"gridcolor\":\"white\",\"linecolor\":\"white\",\"ticks\":\"\",\"title\":{\"standoff\":15},\"zerolinecolor\":\"white\",\"automargin\":true,\"zerolinewidth\":2},\"yaxis\":{\"gridcolor\":\"white\",\"linecolor\":\"white\",\"ticks\":\"\",\"title\":{\"standoff\":15},\"zerolinecolor\":\"white\",\"automargin\":true,\"zerolinewidth\":2},\"scene\":{\"xaxis\":{\"backgroundcolor\":\"#E5ECF6\",\"gridcolor\":\"white\",\"linecolor\":\"white\",\"showbackground\":true,\"ticks\":\"\",\"zerolinecolor\":\"white\",\"gridwidth\":2},\"yaxis\":{\"backgroundcolor\":\"#E5ECF6\",\"gridcolor\":\"white\",\"linecolor\":\"white\",\"showbackground\":true,\"ticks\":\"\",\"zerolinecolor\":\"white\",\"gridwidth\":2},\"zaxis\":{\"backgroundcolor\":\"#E5ECF6\",\"gridcolor\":\"white\",\"linecolor\":\"white\",\"showbackground\":true,\"ticks\":\"\",\"zerolinecolor\":\"white\",\"gridwidth\":2}},\"shapedefaults\":{\"line\":{\"color\":\"#2a3f5f\"}},\"annotationdefaults\":{\"arrowcolor\":\"#2a3f5f\",\"arrowhead\":0,\"arrowwidth\":1},\"geo\":{\"bgcolor\":\"white\",\"landcolor\":\"#E5ECF6\",\"subunitcolor\":\"white\",\"showland\":true,\"showlakes\":true,\"lakecolor\":\"white\"},\"title\":{\"x\":0.05},\"mapbox\":{\"style\":\"light\"}}},\"annotations\":[{\"font\":{\"size\":20},\"showarrow\":false,\"text\":\"Before\",\"x\":0,\"y\":-0.1},{\"font\":{\"size\":20},\"showarrow\":false,\"text\":\"After\",\"x\":1,\"y\":-0.1}],\"title\":{\"text\":\"Stool consistency transitions\"},\"font\":{\"size\":12},\"height\":600,\"width\":800},                        {\"responsive\": true}                    ).then(function(){\n",
       "                            \n",
       "var gd = document.getElementById('784b3e9f-45d5-41cb-87c1-84d1499888b5');\n",
       "var x = new MutationObserver(function (mutations, observer) {{\n",
       "        var display = window.getComputedStyle(gd).display;\n",
       "        if (!display || display === 'none') {{\n",
       "            console.log([gd, 'removed!']);\n",
       "            Plotly.purge(gd);\n",
       "            observer.disconnect();\n",
       "        }}\n",
       "}});\n",
       "\n",
       "// Listen for the removal of the full notebook cells\n",
       "var notebookContainer = gd.closest('#notebook-container');\n",
       "if (notebookContainer) {{\n",
       "    x.observe(notebookContainer, {childList: true});\n",
       "}}\n",
       "\n",
       "// Listen for the clearing of the current output cell\n",
       "var outputEl = gd.closest('.output');\n",
       "if (outputEl) {{\n",
       "    x.observe(outputEl, {childList: true});\n",
       "}}\n",
       "\n",
       "                        })                };                });            </script>        </div>"
      ]
     },
     "metadata": {},
     "output_type": "display_data"
    }
   ],
   "source": [
    "# Create the Sankey diagram\n",
    "fig = go.Figure(\n",
    "    data=[\n",
    "        go.Sankey(\n",
    "            node=dict(\n",
    "                pad=15,\n",
    "                thickness=20,\n",
    "                line=dict(color=\"black\", width=0.5),\n",
    "                label=[\n",
    "                    f\"{node_names[i][:-1]}: {state_counts[node_names[i]]}\" for i in range(len(node_names))\n",
    "                ],\n",
    "                color=node_colors,\n",
    "            ),\n",
    "            link=dict(\n",
    "                source=source_nodes,\n",
    "                target=target_nodes,\n",
    "                value=values,\n",
    "                label=values,\n",
    "            ),\n",
    "        )\n",
    "    ]\n",
    ")\n",
    "\n",
    "# add text annotations\n",
    "fig.add_annotation(x=-0, y=-0.1, text=\"Before\", showarrow=False, font_size=20)\n",
    "\n",
    "fig.add_annotation(x=1, y=-0.1, text=\"After\", showarrow=False, font_size=20)\n",
    "\n",
    "\n",
    "fig.update_layout(\n",
    "    title_text=\"Stool consistency transitions\", font_size=12, height=600, width=800\n",
    ")\n",
    "\n",
    "# Display the plot\n",
    "fig.show()"
   ]
  },
  {
   "cell_type": "markdown",
   "id": "70cf46b5",
   "metadata": {},
   "source": [
    "The change of stool consistency seems to be pretty random."
   ]
  },
  {
   "cell_type": "code",
   "execution_count": 21,
   "id": "b7681e07",
   "metadata": {},
   "outputs": [],
   "source": [
    "# fig.write_image(vis_dir / \"stool_consistency_transitions.png\")"
   ]
  },
  {
   "cell_type": "markdown",
   "id": "c3d4c497",
   "metadata": {},
   "source": [
    "<a id='sec2'></a>  "
   ]
  },
  {
   "cell_type": "markdown",
   "id": "78bb55ca",
   "metadata": {},
   "source": [
    "## 2. Training and evaluating stool consistency classifiers"
   ]
  },
  {
   "cell_type": "markdown",
   "id": "0d92b998",
   "metadata": {},
   "source": [
    "### 2.1 Training classifier to predict  `Stool_Consistency` with microbial composition"
   ]
  },
  {
   "cell_type": "markdown",
   "id": "4b87de72",
   "metadata": {},
   "source": [
    "First we will train a classifier to predict each sample's type (metadata column `Stool_Consistency`) given its microbial composition. For this we will use the `classify-samples` method from `q2-sample-classifier`. This method provides different modelling setups and types of classifiers. Depending on which type of classifier you use, you can specify or tune defined hyperparameters of the classifier. "
   ]
  },
  {
   "cell_type": "markdown",
   "id": "e869c9d1",
   "metadata": {},
   "source": [
    "### Use microbial composition to predict `Stool_Consistency`"
   ]
  },
  {
   "cell_type": "code",
   "execution_count": 37,
   "id": "59c484b1",
   "metadata": {},
   "outputs": [],
   "source": [
    "# extract \"Stool_Consistency\" and \"sample-id\" columns from metadata as labels\n",
    "meta_onlylabel = meta[[\"sample-id\", \"Stool_Consistency\"]].copy()\n",
    "meta_onlylabel.to_csv(mlpred_dir / \"metadata_ml.tsv\", sep=\"\\t\", index=False)"
   ]
  },
  {
   "cell_type": "markdown",
   "id": "e848841a",
   "metadata": {},
   "source": [
    "Since we only have 102 data points, we will not split the data into training and testing sets. Instead, we will use the entire dataset to train the classifier and evaluate its performance using nested cross-validation."
   ]
  },
  {
   "cell_type": "code",
   "execution_count": 144,
   "id": "b9523dc7",
   "metadata": {
    "collapsed": true,
    "jupyter": {
     "outputs_hidden": true
    },
    "tags": []
   },
   "outputs": [
    {
     "name": "stdout",
     "output_type": "stream",
     "text": [
      "\u001b[32mSaved SampleData[ClassifierPredictions] to: /home/matchy233/study/alien/data/processed/mlpred/rf-classifier/predictions.qza\u001b[0m\n",
      "\u001b[32mSaved FeatureData[Importance] to: /home/matchy233/study/alien/data/processed/mlpred/rf-classifier/feature_importance.qza\u001b[0m\n",
      "\u001b[32mSaved SampleData[Probabilities] to: /home/matchy233/study/alien/data/processed/mlpred/rf-classifier/probabilities.qza\u001b[0m\n",
      "\u001b[0m"
     ]
    }
   ],
   "source": [
    "! qiime sample-classifier classify-samples-ncv \\\n",
    "  --i-table $data_dir/table.qza \\\n",
    "  --m-metadata-file $mlpred_dir/metadata_ml.tsv \\\n",
    "  --m-metadata-column Stool_Consistency \\\n",
    "  --p-estimator RandomForestClassifier \\\n",
    "  --p-n-estimators 100 \\\n",
    "  --p-parameter-tuning \\\n",
    "  --p-random-state 42 \\\n",
    "  --p-n-jobs 16 \\\n",
    "  --output-dir $mlpred_dir/rf-classifier"
   ]
  },
  {
   "cell_type": "code",
   "execution_count": 145,
   "id": "d81124fe",
   "metadata": {},
   "outputs": [
    {
     "name": "stdout",
     "output_type": "stream",
     "text": [
      "\u001b[32mSaved Visualization to: /home/matchy233/study/alien/data/processed/mlpred/rf-classifier/confusion_matrix.qzv\u001b[0m\n",
      "\u001b[0m"
     ]
    }
   ],
   "source": [
    "# Create confusion matrix\n",
    "! qiime sample-classifier confusion-matrix \\\n",
    "  --i-predictions $mlpred_dir/rf-classifier/predictions.qza \\\n",
    "  --i-probabilities $mlpred_dir/rf-classifier/probabilities.qza \\\n",
    "  --m-truth-file $mlpred_dir/metadata_ml.tsv \\\n",
    "  --m-truth-column Stool_Consistency \\\n",
    "  --o-visualization $mlpred_dir/rf-classifier/confusion_matrix.qzv"
   ]
  },
  {
   "cell_type": "markdown",
   "id": "642e4453",
   "metadata": {},
   "source": [
    "### 2.2 Evaluate trained classifier: Confusion matrix, accuracy & ROC"
   ]
  },
  {
   "cell_type": "code",
   "execution_count": 137,
   "id": "d4108575",
   "metadata": {},
   "outputs": [],
   "source": [
    "# unzip the confusion matrix qzv file\n",
    "qza = mlpred_dir / \"rf-classifier\" / \"confusion_matrix.qzv\"\n",
    "a = !unzip -o $qza\n",
    "digest_root = Path(a[1].split('/')[0].replace(\"  inflating: \",\"\"))\n",
    "digest = Path(a[1].split('/')[0].replace(\"  inflating: \",\"\")) / \"data\"\n"
   ]
  },
  {
   "cell_type": "code",
   "execution_count": 134,
   "id": "e93690d6",
   "metadata": {},
   "outputs": [],
   "source": [
    "confusion_matrix_path = digest / \"predictive_accuracy.tsv\"\n",
    "confusion_matrix = pd.read_csv(confusion_matrix_path, sep=\"\\t\")\n",
    "\n",
    "predictions = digest / \"predictions.png\"\n",
    "roc = digest / \"roc_plot.png\""
   ]
  },
  {
   "cell_type": "markdown",
   "id": "8441edd7",
   "metadata": {},
   "source": [
    "The model accuracy is detrimental. Seems like it tends to always predict \"liquid\" stool consistency. This is probably due to the class imbalance, but we will need to investigate further."
   ]
  },
  {
   "cell_type": "code",
   "execution_count": 90,
   "id": "8476694f",
   "metadata": {},
   "outputs": [
    {
     "data": {
      "text/html": [
       "<div>\n",
       "<style scoped>\n",
       "    .dataframe tbody tr th:only-of-type {\n",
       "        vertical-align: middle;\n",
       "    }\n",
       "\n",
       "    .dataframe tbody tr th {\n",
       "        vertical-align: top;\n",
       "    }\n",
       "\n",
       "    .dataframe thead th {\n",
       "        text-align: right;\n",
       "    }\n",
       "</style>\n",
       "<table border=\"1\" class=\"dataframe\">\n",
       "  <thead>\n",
       "    <tr style=\"text-align: right;\">\n",
       "      <th></th>\n",
       "      <th>Unnamed: 0</th>\n",
       "      <th>formed</th>\n",
       "      <th>liquid</th>\n",
       "      <th>semi-formed</th>\n",
       "      <th>Overall Accuracy</th>\n",
       "    </tr>\n",
       "  </thead>\n",
       "  <tbody>\n",
       "    <tr>\n",
       "      <th>0</th>\n",
       "      <td>formed</td>\n",
       "      <td>0.064516</td>\n",
       "      <td>0.483871</td>\n",
       "      <td>0.451613</td>\n",
       "      <td>NaN</td>\n",
       "    </tr>\n",
       "    <tr>\n",
       "      <th>1</th>\n",
       "      <td>liquid</td>\n",
       "      <td>0.138889</td>\n",
       "      <td>0.444444</td>\n",
       "      <td>0.416667</td>\n",
       "      <td>NaN</td>\n",
       "    </tr>\n",
       "    <tr>\n",
       "      <th>2</th>\n",
       "      <td>semi-formed</td>\n",
       "      <td>0.228571</td>\n",
       "      <td>0.514286</td>\n",
       "      <td>0.257143</td>\n",
       "      <td>NaN</td>\n",
       "    </tr>\n",
       "    <tr>\n",
       "      <th>3</th>\n",
       "      <td>Overall Accuracy</td>\n",
       "      <td>NaN</td>\n",
       "      <td>NaN</td>\n",
       "      <td>NaN</td>\n",
       "      <td>0.264706</td>\n",
       "    </tr>\n",
       "    <tr>\n",
       "      <th>4</th>\n",
       "      <td>Baseline Accuracy</td>\n",
       "      <td>NaN</td>\n",
       "      <td>NaN</td>\n",
       "      <td>NaN</td>\n",
       "      <td>0.352941</td>\n",
       "    </tr>\n",
       "    <tr>\n",
       "      <th>5</th>\n",
       "      <td>Accuracy Ratio</td>\n",
       "      <td>NaN</td>\n",
       "      <td>NaN</td>\n",
       "      <td>NaN</td>\n",
       "      <td>0.750000</td>\n",
       "    </tr>\n",
       "  </tbody>\n",
       "</table>\n",
       "</div>"
      ],
      "text/plain": [
       "          Unnamed: 0    formed    liquid  semi-formed  Overall Accuracy\n",
       "0             formed  0.064516  0.483871     0.451613               NaN\n",
       "1             liquid  0.138889  0.444444     0.416667               NaN\n",
       "2        semi-formed  0.228571  0.514286     0.257143               NaN\n",
       "3   Overall Accuracy       NaN       NaN          NaN          0.264706\n",
       "4  Baseline Accuracy       NaN       NaN          NaN          0.352941\n",
       "5     Accuracy Ratio       NaN       NaN          NaN          0.750000"
      ]
     },
     "execution_count": 90,
     "metadata": {},
     "output_type": "execute_result"
    }
   ],
   "source": [
    "confusion_matrix"
   ]
  },
  {
   "cell_type": "code",
   "execution_count": 91,
   "id": "d1b67219",
   "metadata": {},
   "outputs": [
    {
     "data": {
      "image/png": "[encoded data removed]",
      "text/plain": [
       "<IPython.core.display.Image object>"
      ]
     },
     "execution_count": 91,
     "metadata": {},
     "output_type": "execute_result"
    }
   ],
   "source": [
    "Image(filename=digest / \"predictions.png\")"
   ]
  },
  {
   "cell_type": "code",
   "execution_count": 92,
   "id": "3a4d0c08",
   "metadata": {},
   "outputs": [
    {
     "data": {
      "image/png": "[encoded data removed]",
      "text/plain": [
       "<IPython.core.display.Image object>"
      ]
     },
     "execution_count": 92,
     "metadata": {},
     "output_type": "execute_result"
    }
   ],
   "source": [
    "Image(filename=roc)"
   ]
  },
  {
   "cell_type": "markdown",
   "id": "931e7d08",
   "metadata": {},
   "source": [
    "The ROC curve and AUC score are also horrbile (worse than random guessing)"
   ]
  },
  {
   "cell_type": "code",
   "execution_count": null,
   "id": "1156c983",
   "metadata": {},
   "outputs": [],
   "source": [
    "!cp $digest/predictive_accuracy.tsv $vis_dir/confusion_matrix_classifier.tsv\n",
    "!cp $digest/predictions.png $vis_dir/stool_consistency_predictions.png\n",
    "!cp $digest/roc_plot.png $vis_dir/stool_consistency_roc_plot.png\n",
    "!rm -r $digest_root"
   ]
  },
  {
   "cell_type": "markdown",
   "id": "5dbd9929",
   "metadata": {},
   "source": [
    "<a id='sec3'></a>  "
   ]
  },
  {
   "cell_type": "markdown",
   "id": "108850b9",
   "metadata": {},
   "source": [
    "## 3. Training and evaluating regressors to predict `Recovery_Day`"
   ]
  },
  {
   "cell_type": "markdown",
   "id": "ce03db4f",
   "metadata": {},
   "source": [
    "### 3.2 Training regressor to predict `Recovery_Day` with microbial composition"
   ]
  },
  {
   "cell_type": "markdown",
   "id": "bfc48dcc",
   "metadata": {},
   "source": [
    "We use microbiome composition to predict `Recovery_Day` using the `regress-samples` method from `q2-sample-classifier`."
   ]
  },
  {
   "cell_type": "code",
   "execution_count": 121,
   "id": "13c75a0b",
   "metadata": {},
   "outputs": [],
   "source": [
    "meta_regress = meta[[\"sample-id\", \"Stool_Consistency\", \"Patient_Sex\", \"Recovery_Day\"]].copy()\n",
    "meta_regress.fillna(-1, inplace=True)\n",
    "meta_regress.to_csv(mlpred_dir / \"metadata_regress.tsv\", sep=\"\\t\", index=False)"
   ]
  },
  {
   "cell_type": "markdown",
   "id": "92c2b84d",
   "metadata": {},
   "source": [
    "Given our limited sample size we choose the Lasso regression & a RandomForestRegressor."
   ]
  },
  {
   "cell_type": "markdown",
   "id": "4dd0aad7",
   "metadata": {},
   "source": [
    "Training the Lasso regressor:"
   ]
  },
  {
   "cell_type": "code",
   "execution_count": 122,
   "id": "cd167e6f",
   "metadata": {},
   "outputs": [
    {
     "name": "stdout",
     "output_type": "stream",
     "text": [
      "\u001b[32mSaved SampleData[RegressorPredictions] to: /home/matchy233/study/alien/data/processed/mlpred/lasso-regressor/predictions.qza\u001b[0m\n",
      "\u001b[32mSaved FeatureData[Importance] to: /home/matchy233/study/alien/data/processed/mlpred/lasso-regressor/feature_importance.qza\u001b[0m\n",
      "\u001b[0m"
     ]
    }
   ],
   "source": [
    "! qiime sample-classifier regress-samples-ncv \\\n",
    "  --i-table $data_dir/table.qza \\\n",
    "  --m-metadata-file $mlpred_dir/metadata_regress.tsv \\\n",
    "  --m-metadata-column Recovery_Day \\\n",
    "  --p-estimator Lasso \\\n",
    "  --p-random-state 42 \\\n",
    "  --p-n-jobs 16 \\\n",
    "  --p-parameter-tuning \\\n",
    "  --output-dir $mlpred_dir/lasso-regressor"
   ]
  },
  {
   "cell_type": "code",
   "execution_count": 123,
   "id": "69c04c54",
   "metadata": {},
   "outputs": [
    {
     "name": "stdout",
     "output_type": "stream",
     "text": [
      "\u001b[32mSaved Visualization to: /home/matchy233/study/alien/data/processed/mlpred/lasso-regressor/scatter.qzv\u001b[0m\n",
      "\u001b[0m"
     ]
    }
   ],
   "source": [
    "! qiime sample-classifier scatterplot \\\n",
    "  --i-predictions $mlpred_dir/lasso-regressor/predictions.qza \\\n",
    "  --m-truth-file $mlpred_dir/metadata_regress.tsv \\\n",
    "  --m-truth-column Recovery_Day \\\n",
    "  --o-visualization $mlpred_dir/lasso-regressor/scatter.qzv"
   ]
  },
  {
   "cell_type": "markdown",
   "id": "c240d38b",
   "metadata": {},
   "source": [
    "Training the RandomForestRegressor:"
   ]
  },
  {
   "cell_type": "code",
   "execution_count": 99,
   "id": "cf7f8b64",
   "metadata": {},
   "outputs": [
    {
     "name": "stdout",
     "output_type": "stream",
     "text": [
      "\u001b[32mSaved SampleData[RegressorPredictions] to: /home/matchy233/study/alien/data/processed/mlpred/rf-regressor/predictions.qza\u001b[0m\n",
      "\u001b[32mSaved FeatureData[Importance] to: /home/matchy233/study/alien/data/processed/mlpred/rf-regressor/feature_importance.qza\u001b[0m\n",
      "\u001b[0m"
     ]
    }
   ],
   "source": [
    "! rm -r $mlpred_dir/rf-regressor\n",
    "! qiime sample-classifier regress-samples-ncv \\\n",
    "  --i-table $data_dir/table.qza \\\n",
    "  --m-metadata-file $data_dir/metadata.tsv \\\n",
    "  --m-metadata-column Recovery_Day \\\n",
    "  --p-n-esimators 100 \\\n",
    "  --p-estimator RandomForestRegressor \\\n",
    "  --p-random-state 42 \\\n",
    "  --p-n-jobs 16 \\\n",
    "  --p-parameter-tuning \\\n",
    "  --output-dir $mlpred_dir/rf-regressor"
   ]
  },
  {
   "cell_type": "code",
   "execution_count": 102,
   "id": "682984d7",
   "metadata": {},
   "outputs": [
    {
     "name": "stdout",
     "output_type": "stream",
     "text": [
      "\u001b[32mSaved Visualization to: /home/matchy233/study/alien/data/processed/mlpred/rf-regressor/scatter.qzv\u001b[0m\n",
      "\u001b[0m"
     ]
    }
   ],
   "source": [
    "! qiime sample-classifier scatterplot \\\n",
    "  --i-predictions $mlpred_dir/rf-regressor/predictions.qza \\\n",
    "  --m-truth-file $mlpred_dir/metadata_regress.tsv \\\n",
    "  --m-truth-column Recovery_Day \\\n",
    "  --o-visualization $mlpred_dir/rf-regressor/scatter.qzv"
   ]
  },
  {
   "cell_type": "markdown",
   "id": "566fa47b",
   "metadata": {},
   "source": [
    "### 3.3 Evaluate trained regressor: Accuracy"
   ]
  },
  {
   "cell_type": "markdown",
   "id": "b06bd18e",
   "metadata": {},
   "source": [
    "We visualize the accuracy of regressor via scatter plot. The scatter plot contains a linear regression line fitted to the test data with 95% confidence intervals and a dotted line representing where the predictions of a \"perfect\" regressor would lie (\"perfect\" regressor predicting each true value correctly). "
   ]
  },
  {
   "cell_type": "code",
   "execution_count": 139,
   "id": "b36bfaf7-1cb7-4d66-8e15-8897c48ec0a5",
   "metadata": {},
   "outputs": [],
   "source": [
    "# unzip the confusion matrix qzv file\n",
    "qza = mlpred_dir / \"lasso-regressor\" / \"scatter.qzv\"\n",
    "a = !unzip -o $qza\n",
    "digest_root = Path(a[1].split('/')[0].replace(\"  inflating: \",\"\"))\n",
    "digest = Path(a[1].split('/')[0].replace(\"  inflating: \",\"\")) / \"data\"\n"
   ]
  },
  {
   "cell_type": "code",
   "execution_count": 126,
   "id": "3835abc5",
   "metadata": {},
   "outputs": [
    {
     "data": {
      "text/html": [
       "<div>\n",
       "<style scoped>\n",
       "    .dataframe tbody tr th:only-of-type {\n",
       "        vertical-align: middle;\n",
       "    }\n",
       "\n",
       "    .dataframe tbody tr th {\n",
       "        vertical-align: top;\n",
       "    }\n",
       "\n",
       "    .dataframe thead th {\n",
       "        text-align: right;\n",
       "    }\n",
       "</style>\n",
       "<table border=\"1\" class=\"dataframe\">\n",
       "  <thead>\n",
       "    <tr style=\"text-align: right;\">\n",
       "      <th></th>\n",
       "      <th>Unnamed: 0</th>\n",
       "      <th>Mean squared error</th>\n",
       "      <th>r-value</th>\n",
       "      <th>r-squared</th>\n",
       "      <th>P-value</th>\n",
       "      <th>Std Error</th>\n",
       "      <th>Slope</th>\n",
       "      <th>Intercept</th>\n",
       "    </tr>\n",
       "  </thead>\n",
       "  <tbody>\n",
       "    <tr>\n",
       "      <th>0</th>\n",
       "      <td>Recovery_Day</td>\n",
       "      <td>373.483653</td>\n",
       "      <td>-0.016992</td>\n",
       "      <td>0.000289</td>\n",
       "      <td>0.865394</td>\n",
       "      <td>0.122616</td>\n",
       "      <td>-0.020838</td>\n",
       "      <td>28.671561</td>\n",
       "    </tr>\n",
       "  </tbody>\n",
       "</table>\n",
       "</div>"
      ],
      "text/plain": [
       "     Unnamed: 0  Mean squared error   r-value  r-squared   P-value  Std Error  \\\n",
       "0  Recovery_Day          373.483653 -0.016992   0.000289  0.865394   0.122616   \n",
       "\n",
       "      Slope  Intercept  \n",
       "0 -0.020838  28.671561  "
      ]
     },
     "execution_count": 126,
     "metadata": {},
     "output_type": "execute_result"
    }
   ],
   "source": [
    "stats = pd.read_csv(digest / \"predictive_accuracy.tsv\", sep=\"\\t\")\n",
    "stats"
   ]
  },
  {
   "cell_type": "code",
   "execution_count": 127,
   "id": "8bcd99cd-7f55-47e6-bda6-4fa4ab83e7ea",
   "metadata": {},
   "outputs": [
    {
     "data": {
      "image/png": "[encoded data removed]",
      "text/plain": [
       "<IPython.core.display.Image object>"
      ]
     },
     "execution_count": 127,
     "metadata": {},
     "output_type": "execute_result"
    }
   ],
   "source": [
    "Image(filename=digest / \"predictions.png\")"
   ]
  },
  {
   "cell_type": "code",
   "execution_count": 140,
   "id": "0e3068b2",
   "metadata": {},
   "outputs": [],
   "source": [
    "digest = str(digest_root)\n",
    "!cp $digest/predictive_accuracy.tsv $vis_dir/lasso_regressor_stats.tsv\n",
    "!cp $digest/predictions.png $vis_dir/lasso_regressor_predictions.png\n",
    "!rm -r $digest_root"
   ]
  },
  {
   "cell_type": "code",
   "execution_count": 142,
   "id": "7b56a14f",
   "metadata": {},
   "outputs": [
    {
     "data": {
      "text/html": [
       "<div>\n",
       "<style scoped>\n",
       "    .dataframe tbody tr th:only-of-type {\n",
       "        vertical-align: middle;\n",
       "    }\n",
       "\n",
       "    .dataframe tbody tr th {\n",
       "        vertical-align: top;\n",
       "    }\n",
       "\n",
       "    .dataframe thead th {\n",
       "        text-align: right;\n",
       "    }\n",
       "</style>\n",
       "<table border=\"1\" class=\"dataframe\">\n",
       "  <thead>\n",
       "    <tr style=\"text-align: right;\">\n",
       "      <th></th>\n",
       "      <th>Unnamed: 0</th>\n",
       "      <th>Mean squared error</th>\n",
       "      <th>r-value</th>\n",
       "      <th>r-squared</th>\n",
       "      <th>P-value</th>\n",
       "      <th>Std Error</th>\n",
       "      <th>Slope</th>\n",
       "      <th>Intercept</th>\n",
       "    </tr>\n",
       "  </thead>\n",
       "  <tbody>\n",
       "    <tr>\n",
       "      <th>0</th>\n",
       "      <td>Recovery_Day</td>\n",
       "      <td>148.76243</td>\n",
       "      <td>0.016566</td>\n",
       "      <td>0.000274</td>\n",
       "      <td>0.86874</td>\n",
       "      <td>0.019654</td>\n",
       "      <td>0.003256</td>\n",
       "      <td>24.793614</td>\n",
       "    </tr>\n",
       "  </tbody>\n",
       "</table>\n",
       "</div>"
      ],
      "text/plain": [
       "     Unnamed: 0  Mean squared error   r-value  r-squared  P-value  Std Error  \\\n",
       "0  Recovery_Day           148.76243  0.016566   0.000274  0.86874   0.019654   \n",
       "\n",
       "      Slope  Intercept  \n",
       "0  0.003256  24.793614  "
      ]
     },
     "execution_count": 142,
     "metadata": {},
     "output_type": "execute_result"
    }
   ],
   "source": [
    "# unzip the confusion matrix qzv file\n",
    "qza = mlpred_dir / \"rf-regressor\" / \"scatter.qzv\"\n",
    "a = !unzip -o $qza\n",
    "digest_root = Path(a[1].split('/')[0].replace(\"  inflating: \",\"\"))\n",
    "digest = Path(a[1].split('/')[0].replace(\"  inflating: \",\"\")) / \"data\"\n",
    "\n",
    "stats = pd.read_csv(digest / \"predictive_accuracy.tsv\", sep=\"\\t\")\n",
    "stats"
   ]
  },
  {
   "cell_type": "code",
   "execution_count": 129,
   "id": "ada82c8e",
   "metadata": {},
   "outputs": [
    {
     "data": {
      "image/png": "[encoded data removed]",
      "text/plain": [
       "<IPython.core.display.Image object>"
      ]
     },
     "execution_count": 129,
     "metadata": {},
     "output_type": "execute_result"
    }
   ],
   "source": [
    "Image(filename=digest / \"predictions.png\")"
   ]
  },
  {
   "cell_type": "code",
   "execution_count": null,
   "id": "5a019db8",
   "metadata": {},
   "outputs": [],
   "source": [
    "!cp $digest/data/predictive_accuracy.tsv $vis_dir/rf_regressor_stats.tsv\n",
    "!cp $digest/data/predictions.png $vis_dir/rf_regressor_predictions.png\n",
    "!rm -r $digest_root"
   ]
  },
  {
   "cell_type": "markdown",
   "id": "02407a2d",
   "metadata": {},
   "source": [
    "## 4. Conclusion and Extra Analysis\n",
    "\n",
    "In conclusion, the classifier for predicting stool consistency and the regressor for predicting recovery day are not performing well. This is likely due to the small sample size and the high variability in the data. It is generally useless to check the feature importance of the classifier and regressor, but we can still try to do so for the sake of completeness."
   ]
  },
  {
   "cell_type": "markdown",
   "id": "f223e94e",
   "metadata": {},
   "source": [
    "## 4.1 Inspecting feature importance of the classifier"
   ]
  },
  {
   "cell_type": "code",
   "execution_count": 150,
   "id": "081ab540",
   "metadata": {},
   "outputs": [
    {
     "data": {
      "text/html": [
       "<div>\n",
       "<style scoped>\n",
       "    .dataframe tbody tr th:only-of-type {\n",
       "        vertical-align: middle;\n",
       "    }\n",
       "\n",
       "    .dataframe tbody tr th {\n",
       "        vertical-align: top;\n",
       "    }\n",
       "\n",
       "    .dataframe thead th {\n",
       "        text-align: right;\n",
       "    }\n",
       "</style>\n",
       "<table border=\"1\" class=\"dataframe\">\n",
       "  <thead>\n",
       "    <tr style=\"text-align: right;\">\n",
       "      <th></th>\n",
       "      <th>Taxon</th>\n",
       "      <th>Confidence</th>\n",
       "    </tr>\n",
       "    <tr>\n",
       "      <th>Feature ID</th>\n",
       "      <th></th>\n",
       "      <th></th>\n",
       "    </tr>\n",
       "  </thead>\n",
       "  <tbody>\n",
       "    <tr>\n",
       "      <th>65c81b7f020fa6530e5995cfadbed4b8</th>\n",
       "      <td>d__Bacteria;p__Firmicutes;c__Clostridia;o__Lac...</td>\n",
       "      <td>0.995352999769101</td>\n",
       "    </tr>\n",
       "    <tr>\n",
       "      <th>3b5167fc05d221e402cb1748506b8442</th>\n",
       "      <td>d__Bacteria;p__Firmicutes;c__Clostridia;o__Lac...</td>\n",
       "      <td>0.9947820597188002</td>\n",
       "    </tr>\n",
       "    <tr>\n",
       "      <th>8b03f72e05e140685a739928d4dd2619</th>\n",
       "      <td>d__Bacteria;p__Firmicutes;c__Clostridia;o__Lac...</td>\n",
       "      <td>0.9806855368923134</td>\n",
       "    </tr>\n",
       "    <tr>\n",
       "      <th>dc5e130892eb358854eb477a790f8af9</th>\n",
       "      <td>d__Bacteria;p__Actinobacteriota;c__Actinobacte...</td>\n",
       "      <td>0.999971217732479</td>\n",
       "    </tr>\n",
       "    <tr>\n",
       "      <th>9b4ec0ce1b21a5a1172c2f0452d9f241</th>\n",
       "      <td>d__Bacteria;p__Verrucomicrobiota;c__Verrucomic...</td>\n",
       "      <td>0.9999999999999716</td>\n",
       "    </tr>\n",
       "  </tbody>\n",
       "</table>\n",
       "</div>"
      ],
      "text/plain": [
       "                                                                              Taxon  \\\n",
       "Feature ID                                                                            \n",
       "65c81b7f020fa6530e5995cfadbed4b8  d__Bacteria;p__Firmicutes;c__Clostridia;o__Lac...   \n",
       "3b5167fc05d221e402cb1748506b8442  d__Bacteria;p__Firmicutes;c__Clostridia;o__Lac...   \n",
       "8b03f72e05e140685a739928d4dd2619  d__Bacteria;p__Firmicutes;c__Clostridia;o__Lac...   \n",
       "dc5e130892eb358854eb477a790f8af9  d__Bacteria;p__Actinobacteriota;c__Actinobacte...   \n",
       "9b4ec0ce1b21a5a1172c2f0452d9f241  d__Bacteria;p__Verrucomicrobiota;c__Verrucomic...   \n",
       "\n",
       "                                          Confidence  \n",
       "Feature ID                                            \n",
       "65c81b7f020fa6530e5995cfadbed4b8   0.995352999769101  \n",
       "3b5167fc05d221e402cb1748506b8442  0.9947820597188002  \n",
       "8b03f72e05e140685a739928d4dd2619  0.9806855368923134  \n",
       "dc5e130892eb358854eb477a790f8af9   0.999971217732479  \n",
       "9b4ec0ce1b21a5a1172c2f0452d9f241  0.9999999999999716  "
      ]
     },
     "execution_count": 150,
     "metadata": {},
     "output_type": "execute_result"
    }
   ],
   "source": [
    "taxa = q2.Artifact.load(data_dir / \"taxonomy.qza\").view(pd.DataFrame)\n",
    "taxa.head()"
   ]
  },
  {
   "cell_type": "code",
   "execution_count": 161,
   "id": "ae7b406f",
   "metadata": {},
   "outputs": [
    {
     "data": {
      "text/html": [
       "<div>\n",
       "<style scoped>\n",
       "    .dataframe tbody tr th:only-of-type {\n",
       "        vertical-align: middle;\n",
       "    }\n",
       "\n",
       "    .dataframe tbody tr th {\n",
       "        vertical-align: top;\n",
       "    }\n",
       "\n",
       "    .dataframe thead th {\n",
       "        text-align: right;\n",
       "    }\n",
       "</style>\n",
       "<table border=\"1\" class=\"dataframe\">\n",
       "  <thead>\n",
       "    <tr style=\"text-align: right;\">\n",
       "      <th></th>\n",
       "      <th>importance</th>\n",
       "    </tr>\n",
       "    <tr>\n",
       "      <th>id</th>\n",
       "      <th></th>\n",
       "    </tr>\n",
       "  </thead>\n",
       "  <tbody>\n",
       "    <tr>\n",
       "      <th>5d693c96982f3bc9804751b664a0ca4a</th>\n",
       "      <td>0.034295</td>\n",
       "    </tr>\n",
       "    <tr>\n",
       "      <th>0aff82fbb663d2be678ad13fcb2050be</th>\n",
       "      <td>0.020964</td>\n",
       "    </tr>\n",
       "    <tr>\n",
       "      <th>95126920a496aaf496fa0c4f89e16e5b</th>\n",
       "      <td>0.015710</td>\n",
       "    </tr>\n",
       "    <tr>\n",
       "      <th>3c22afdc9d6fd93864c17f7c43e35e4a</th>\n",
       "      <td>0.015360</td>\n",
       "    </tr>\n",
       "    <tr>\n",
       "      <th>9a3f5d12656e19e24dccd8ffcce90434</th>\n",
       "      <td>0.013247</td>\n",
       "    </tr>\n",
       "    <tr>\n",
       "      <th>6e922fcf27bf74c393e52511c1d475b3</th>\n",
       "      <td>0.013142</td>\n",
       "    </tr>\n",
       "    <tr>\n",
       "      <th>e91ab7a717a78f1d068bea7233840ccf</th>\n",
       "      <td>0.011974</td>\n",
       "    </tr>\n",
       "    <tr>\n",
       "      <th>6a0b9ccac9e9db70b839805abdfac570</th>\n",
       "      <td>0.010718</td>\n",
       "    </tr>\n",
       "    <tr>\n",
       "      <th>e96e7b1c7d4de490dbb32be165504c2e</th>\n",
       "      <td>0.010517</td>\n",
       "    </tr>\n",
       "    <tr>\n",
       "      <th>f0a4838a80475734a19400609ee69385</th>\n",
       "      <td>0.010428</td>\n",
       "    </tr>\n",
       "    <tr>\n",
       "      <th>ac10c0fb92f971531991b3d41e3eb9b2</th>\n",
       "      <td>0.009990</td>\n",
       "    </tr>\n",
       "    <tr>\n",
       "      <th>1ccabe6915d504aba83616f13828683a</th>\n",
       "      <td>0.009308</td>\n",
       "    </tr>\n",
       "    <tr>\n",
       "      <th>4cc083d5bf0cd5a8cb1a5dbb373d1c35</th>\n",
       "      <td>0.008521</td>\n",
       "    </tr>\n",
       "    <tr>\n",
       "      <th>27f2f1497081c09aa89dde6d445c7bef</th>\n",
       "      <td>0.008494</td>\n",
       "    </tr>\n",
       "    <tr>\n",
       "      <th>df009054f19d9aac55f8a5bc2eeaa409</th>\n",
       "      <td>0.008411</td>\n",
       "    </tr>\n",
       "    <tr>\n",
       "      <th>8cd50fa8bc80d1145a11f65333b2fe23</th>\n",
       "      <td>0.008164</td>\n",
       "    </tr>\n",
       "    <tr>\n",
       "      <th>5a0f522431143dce1339d7359fc37599</th>\n",
       "      <td>0.008096</td>\n",
       "    </tr>\n",
       "    <tr>\n",
       "      <th>aa7f3ae3c3f236add91ed7f4b977e680</th>\n",
       "      <td>0.007571</td>\n",
       "    </tr>\n",
       "    <tr>\n",
       "      <th>89a970c38b3aa8dfb9aadd459ce95ecc</th>\n",
       "      <td>0.007058</td>\n",
       "    </tr>\n",
       "    <tr>\n",
       "      <th>f54361a743eda620c232c275a3fa1e9e</th>\n",
       "      <td>0.006660</td>\n",
       "    </tr>\n",
       "  </tbody>\n",
       "</table>\n",
       "</div>"
      ],
      "text/plain": [
       "                                  importance\n",
       "id                                          \n",
       "5d693c96982f3bc9804751b664a0ca4a    0.034295\n",
       "0aff82fbb663d2be678ad13fcb2050be    0.020964\n",
       "95126920a496aaf496fa0c4f89e16e5b    0.015710\n",
       "3c22afdc9d6fd93864c17f7c43e35e4a    0.015360\n",
       "9a3f5d12656e19e24dccd8ffcce90434    0.013247\n",
       "6e922fcf27bf74c393e52511c1d475b3    0.013142\n",
       "e91ab7a717a78f1d068bea7233840ccf    0.011974\n",
       "6a0b9ccac9e9db70b839805abdfac570    0.010718\n",
       "e96e7b1c7d4de490dbb32be165504c2e    0.010517\n",
       "f0a4838a80475734a19400609ee69385    0.010428\n",
       "ac10c0fb92f971531991b3d41e3eb9b2    0.009990\n",
       "1ccabe6915d504aba83616f13828683a    0.009308\n",
       "4cc083d5bf0cd5a8cb1a5dbb373d1c35    0.008521\n",
       "27f2f1497081c09aa89dde6d445c7bef    0.008494\n",
       "df009054f19d9aac55f8a5bc2eeaa409    0.008411\n",
       "8cd50fa8bc80d1145a11f65333b2fe23    0.008164\n",
       "5a0f522431143dce1339d7359fc37599    0.008096\n",
       "aa7f3ae3c3f236add91ed7f4b977e680    0.007571\n",
       "89a970c38b3aa8dfb9aadd459ce95ecc    0.007058\n",
       "f54361a743eda620c232c275a3fa1e9e    0.006660"
      ]
     },
     "execution_count": 161,
     "metadata": {},
     "output_type": "execute_result"
    }
   ],
   "source": [
    "# show top 20 most important features for stool consistency prediction\n",
    "fimp_dir = mlpred_dir / \"rf-classifier\" / \"feature_importance.qza\"\n",
    "feature_importance_stool = q2.Artifact.load(fimp_dir).view(pd.DataFrame)\n",
    "feature_importance_stool = feature_importance_stool.sort_values(\"importance\", ascending=False)\n",
    "feature_importance_stool.head(20)"
   ]
  },
  {
   "cell_type": "code",
   "execution_count": 154,
   "id": "7e8fd82a",
   "metadata": {},
   "outputs": [
    {
     "data": {
      "text/html": [
       "<div>\n",
       "<style scoped>\n",
       "    .dataframe tbody tr th:only-of-type {\n",
       "        vertical-align: middle;\n",
       "    }\n",
       "\n",
       "    .dataframe tbody tr th {\n",
       "        vertical-align: top;\n",
       "    }\n",
       "\n",
       "    .dataframe thead th {\n",
       "        text-align: right;\n",
       "    }\n",
       "</style>\n",
       "<table border=\"1\" class=\"dataframe\">\n",
       "  <thead>\n",
       "    <tr style=\"text-align: right;\">\n",
       "      <th></th>\n",
       "      <th>importance</th>\n",
       "      <th>Taxon</th>\n",
       "      <th>Confidence</th>\n",
       "    </tr>\n",
       "    <tr>\n",
       "      <th>Feature ID</th>\n",
       "      <th></th>\n",
       "      <th></th>\n",
       "      <th></th>\n",
       "    </tr>\n",
       "  </thead>\n",
       "  <tbody>\n",
       "    <tr>\n",
       "      <th>5d693c96982f3bc9804751b664a0ca4a</th>\n",
       "      <td>0.034295</td>\n",
       "      <td>d__Bacteria;p__Firmicutes;c__Negativicutes;o__...</td>\n",
       "      <td>0.9999999999378417</td>\n",
       "    </tr>\n",
       "    <tr>\n",
       "      <th>0aff82fbb663d2be678ad13fcb2050be</th>\n",
       "      <td>0.020964</td>\n",
       "      <td>d__Bacteria;p__Firmicutes;c__Bacilli;o__Lactob...</td>\n",
       "      <td>0.981591296928256</td>\n",
       "    </tr>\n",
       "    <tr>\n",
       "      <th>95126920a496aaf496fa0c4f89e16e5b</th>\n",
       "      <td>0.015710</td>\n",
       "      <td>d__Bacteria;p__Firmicutes;c__Bacilli;o__Staphy...</td>\n",
       "      <td>0.9999999899462466</td>\n",
       "    </tr>\n",
       "    <tr>\n",
       "      <th>3c22afdc9d6fd93864c17f7c43e35e4a</th>\n",
       "      <td>0.015360</td>\n",
       "      <td>d__Bacteria;p__Firmicutes;c__Clostridia;o__Lac...</td>\n",
       "      <td>0.9999999380134408</td>\n",
       "    </tr>\n",
       "    <tr>\n",
       "      <th>9a3f5d12656e19e24dccd8ffcce90434</th>\n",
       "      <td>0.013247</td>\n",
       "      <td>d__Bacteria;p__Firmicutes;c__Bacilli;o__Lactob...</td>\n",
       "      <td>0.9999999848528144</td>\n",
       "    </tr>\n",
       "    <tr>\n",
       "      <th>6e922fcf27bf74c393e52511c1d475b3</th>\n",
       "      <td>0.013142</td>\n",
       "      <td>d__Bacteria;p__Firmicutes;c__Bacilli;o__Lactob...</td>\n",
       "      <td>0.962942067206851</td>\n",
       "    </tr>\n",
       "    <tr>\n",
       "      <th>e91ab7a717a78f1d068bea7233840ccf</th>\n",
       "      <td>0.011974</td>\n",
       "      <td>d__Bacteria;p__Firmicutes;c__Bacilli;o__Lactob...</td>\n",
       "      <td>0.9043809880302526</td>\n",
       "    </tr>\n",
       "    <tr>\n",
       "      <th>6a0b9ccac9e9db70b839805abdfac570</th>\n",
       "      <td>0.010718</td>\n",
       "      <td>d__Bacteria;p__Firmicutes;c__Clostridia;o__Lac...</td>\n",
       "      <td>0.9043398774393724</td>\n",
       "    </tr>\n",
       "    <tr>\n",
       "      <th>e96e7b1c7d4de490dbb32be165504c2e</th>\n",
       "      <td>0.010517</td>\n",
       "      <td>d__Bacteria;p__Firmicutes;c__Clostridia;o__Lac...</td>\n",
       "      <td>0.9008468306922791</td>\n",
       "    </tr>\n",
       "    <tr>\n",
       "      <th>f0a4838a80475734a19400609ee69385</th>\n",
       "      <td>0.010428</td>\n",
       "      <td>d__Bacteria;p__Firmicutes;c__Clostridia;o__Osc...</td>\n",
       "      <td>0.9889504775672624</td>\n",
       "    </tr>\n",
       "    <tr>\n",
       "      <th>ac10c0fb92f971531991b3d41e3eb9b2</th>\n",
       "      <td>0.009990</td>\n",
       "      <td>d__Bacteria;p__Firmicutes;c__Bacilli;o__Lactob...</td>\n",
       "      <td>0.8176460748540337</td>\n",
       "    </tr>\n",
       "    <tr>\n",
       "      <th>1ccabe6915d504aba83616f13828683a</th>\n",
       "      <td>0.009308</td>\n",
       "      <td>d__Bacteria;p__Firmicutes;c__Bacilli;o__Staphy...</td>\n",
       "      <td>0.9999999999924682</td>\n",
       "    </tr>\n",
       "    <tr>\n",
       "      <th>4cc083d5bf0cd5a8cb1a5dbb373d1c35</th>\n",
       "      <td>0.008521</td>\n",
       "      <td>d__Bacteria;p__Firmicutes;c__Bacilli;o__Lactob...</td>\n",
       "      <td>0.9999999987014689</td>\n",
       "    </tr>\n",
       "    <tr>\n",
       "      <th>27f2f1497081c09aa89dde6d445c7bef</th>\n",
       "      <td>0.008494</td>\n",
       "      <td>d__Bacteria;p__Proteobacteria;c__Gammaproteoba...</td>\n",
       "      <td>0.9998936105809534</td>\n",
       "    </tr>\n",
       "    <tr>\n",
       "      <th>df009054f19d9aac55f8a5bc2eeaa409</th>\n",
       "      <td>0.008411</td>\n",
       "      <td>d__Bacteria;p__Firmicutes;c__Clostridia;o__Pep...</td>\n",
       "      <td>0.992520181789368</td>\n",
       "    </tr>\n",
       "    <tr>\n",
       "      <th>8cd50fa8bc80d1145a11f65333b2fe23</th>\n",
       "      <td>0.008164</td>\n",
       "      <td>d__Bacteria;p__Firmicutes;c__Clostridia;o__Osc...</td>\n",
       "      <td>0.9997759792647779</td>\n",
       "    </tr>\n",
       "    <tr>\n",
       "      <th>5a0f522431143dce1339d7359fc37599</th>\n",
       "      <td>0.008096</td>\n",
       "      <td>d__Bacteria;p__Firmicutes;c__Bacilli;o__Lactob...</td>\n",
       "      <td>0.9999999976258209</td>\n",
       "    </tr>\n",
       "    <tr>\n",
       "      <th>aa7f3ae3c3f236add91ed7f4b977e680</th>\n",
       "      <td>0.007571</td>\n",
       "      <td>d__Bacteria;p__Firmicutes;c__Bacilli;o__Erysip...</td>\n",
       "      <td>0.9999749210584198</td>\n",
       "    </tr>\n",
       "    <tr>\n",
       "      <th>89a970c38b3aa8dfb9aadd459ce95ecc</th>\n",
       "      <td>0.007058</td>\n",
       "      <td>d__Bacteria;p__Firmicutes;c__Bacilli;o__Lactob...</td>\n",
       "      <td>0.9999936220618116</td>\n",
       "    </tr>\n",
       "    <tr>\n",
       "      <th>f54361a743eda620c232c275a3fa1e9e</th>\n",
       "      <td>0.006660</td>\n",
       "      <td>d__Bacteria;p__Actinobacteriota;c__Actinobacte...</td>\n",
       "      <td>0.9999999754982983</td>\n",
       "    </tr>\n",
       "  </tbody>\n",
       "</table>\n",
       "</div>"
      ],
      "text/plain": [
       "                                  importance  \\\n",
       "Feature ID                                     \n",
       "5d693c96982f3bc9804751b664a0ca4a    0.034295   \n",
       "0aff82fbb663d2be678ad13fcb2050be    0.020964   \n",
       "95126920a496aaf496fa0c4f89e16e5b    0.015710   \n",
       "3c22afdc9d6fd93864c17f7c43e35e4a    0.015360   \n",
       "9a3f5d12656e19e24dccd8ffcce90434    0.013247   \n",
       "6e922fcf27bf74c393e52511c1d475b3    0.013142   \n",
       "e91ab7a717a78f1d068bea7233840ccf    0.011974   \n",
       "6a0b9ccac9e9db70b839805abdfac570    0.010718   \n",
       "e96e7b1c7d4de490dbb32be165504c2e    0.010517   \n",
       "f0a4838a80475734a19400609ee69385    0.010428   \n",
       "ac10c0fb92f971531991b3d41e3eb9b2    0.009990   \n",
       "1ccabe6915d504aba83616f13828683a    0.009308   \n",
       "4cc083d5bf0cd5a8cb1a5dbb373d1c35    0.008521   \n",
       "27f2f1497081c09aa89dde6d445c7bef    0.008494   \n",
       "df009054f19d9aac55f8a5bc2eeaa409    0.008411   \n",
       "8cd50fa8bc80d1145a11f65333b2fe23    0.008164   \n",
       "5a0f522431143dce1339d7359fc37599    0.008096   \n",
       "aa7f3ae3c3f236add91ed7f4b977e680    0.007571   \n",
       "89a970c38b3aa8dfb9aadd459ce95ecc    0.007058   \n",
       "f54361a743eda620c232c275a3fa1e9e    0.006660   \n",
       "\n",
       "                                                                              Taxon  \\\n",
       "Feature ID                                                                            \n",
       "5d693c96982f3bc9804751b664a0ca4a  d__Bacteria;p__Firmicutes;c__Negativicutes;o__...   \n",
       "0aff82fbb663d2be678ad13fcb2050be  d__Bacteria;p__Firmicutes;c__Bacilli;o__Lactob...   \n",
       "95126920a496aaf496fa0c4f89e16e5b  d__Bacteria;p__Firmicutes;c__Bacilli;o__Staphy...   \n",
       "3c22afdc9d6fd93864c17f7c43e35e4a  d__Bacteria;p__Firmicutes;c__Clostridia;o__Lac...   \n",
       "9a3f5d12656e19e24dccd8ffcce90434  d__Bacteria;p__Firmicutes;c__Bacilli;o__Lactob...   \n",
       "6e922fcf27bf74c393e52511c1d475b3  d__Bacteria;p__Firmicutes;c__Bacilli;o__Lactob...   \n",
       "e91ab7a717a78f1d068bea7233840ccf  d__Bacteria;p__Firmicutes;c__Bacilli;o__Lactob...   \n",
       "6a0b9ccac9e9db70b839805abdfac570  d__Bacteria;p__Firmicutes;c__Clostridia;o__Lac...   \n",
       "e96e7b1c7d4de490dbb32be165504c2e  d__Bacteria;p__Firmicutes;c__Clostridia;o__Lac...   \n",
       "f0a4838a80475734a19400609ee69385  d__Bacteria;p__Firmicutes;c__Clostridia;o__Osc...   \n",
       "ac10c0fb92f971531991b3d41e3eb9b2  d__Bacteria;p__Firmicutes;c__Bacilli;o__Lactob...   \n",
       "1ccabe6915d504aba83616f13828683a  d__Bacteria;p__Firmicutes;c__Bacilli;o__Staphy...   \n",
       "4cc083d5bf0cd5a8cb1a5dbb373d1c35  d__Bacteria;p__Firmicutes;c__Bacilli;o__Lactob...   \n",
       "27f2f1497081c09aa89dde6d445c7bef  d__Bacteria;p__Proteobacteria;c__Gammaproteoba...   \n",
       "df009054f19d9aac55f8a5bc2eeaa409  d__Bacteria;p__Firmicutes;c__Clostridia;o__Pep...   \n",
       "8cd50fa8bc80d1145a11f65333b2fe23  d__Bacteria;p__Firmicutes;c__Clostridia;o__Osc...   \n",
       "5a0f522431143dce1339d7359fc37599  d__Bacteria;p__Firmicutes;c__Bacilli;o__Lactob...   \n",
       "aa7f3ae3c3f236add91ed7f4b977e680  d__Bacteria;p__Firmicutes;c__Bacilli;o__Erysip...   \n",
       "89a970c38b3aa8dfb9aadd459ce95ecc  d__Bacteria;p__Firmicutes;c__Bacilli;o__Lactob...   \n",
       "f54361a743eda620c232c275a3fa1e9e  d__Bacteria;p__Actinobacteriota;c__Actinobacte...   \n",
       "\n",
       "                                          Confidence  \n",
       "Feature ID                                            \n",
       "5d693c96982f3bc9804751b664a0ca4a  0.9999999999378417  \n",
       "0aff82fbb663d2be678ad13fcb2050be   0.981591296928256  \n",
       "95126920a496aaf496fa0c4f89e16e5b  0.9999999899462466  \n",
       "3c22afdc9d6fd93864c17f7c43e35e4a  0.9999999380134408  \n",
       "9a3f5d12656e19e24dccd8ffcce90434  0.9999999848528144  \n",
       "6e922fcf27bf74c393e52511c1d475b3   0.962942067206851  \n",
       "e91ab7a717a78f1d068bea7233840ccf  0.9043809880302526  \n",
       "6a0b9ccac9e9db70b839805abdfac570  0.9043398774393724  \n",
       "e96e7b1c7d4de490dbb32be165504c2e  0.9008468306922791  \n",
       "f0a4838a80475734a19400609ee69385  0.9889504775672624  \n",
       "ac10c0fb92f971531991b3d41e3eb9b2  0.8176460748540337  \n",
       "1ccabe6915d504aba83616f13828683a  0.9999999999924682  \n",
       "4cc083d5bf0cd5a8cb1a5dbb373d1c35  0.9999999987014689  \n",
       "27f2f1497081c09aa89dde6d445c7bef  0.9998936105809534  \n",
       "df009054f19d9aac55f8a5bc2eeaa409   0.992520181789368  \n",
       "8cd50fa8bc80d1145a11f65333b2fe23  0.9997759792647779  \n",
       "5a0f522431143dce1339d7359fc37599  0.9999999976258209  \n",
       "aa7f3ae3c3f236add91ed7f4b977e680  0.9999749210584198  \n",
       "89a970c38b3aa8dfb9aadd459ce95ecc  0.9999936220618116  \n",
       "f54361a743eda620c232c275a3fa1e9e  0.9999999754982983  "
      ]
     },
     "execution_count": 154,
     "metadata": {},
     "output_type": "execute_result"
    }
   ],
   "source": [
    "# join the feature importance with the taxonomy to see the taxonomic composition of the most important features\n",
    "feature_importance_taxa = pd.merge(feature_importance_stool, taxa, left_index=True, right_on=\"Feature ID\")\n",
    "feature_importance_taxa.head(20)"
   ]
  },
  {
   "cell_type": "code",
   "execution_count": 157,
   "id": "ecb225f2",
   "metadata": {},
   "outputs": [
    {
     "name": "stdout",
     "output_type": "stream",
     "text": [
      "\u001b[32mSaved Visualization to: /home/matchy233/study/alien/data/processed/mlpred/rf-classifier/important-feature-heatmap.qzv\u001b[0m\n",
      "\u001b[32mSaved FeatureTable[Frequency] to: /home/matchy233/study/alien/data/processed/mlpred/rf-classifier/important-feature-table-top-20.qza\u001b[0m\n",
      "\u001b[0m"
     ]
    }
   ],
   "source": [
    "! qiime sample-classifier heatmap \\\n",
    "  --i-table $data_dir/table.qza \\\n",
    "  --i-importance $mlpred_dir/rf-classifier/feature_importance.qza \\\n",
    "  --m-sample-metadata-file $data_dir/metadata.tsv  \\\n",
    "  --m-sample-metadata-column Stool_Consistency \\\n",
    "  --p-group-samples \\\n",
    "  --p-feature-count 20 \\\n",
    "  --o-filtered-table $mlpred_dir/rf-classifier/important-feature-table-top-20.qza \\\n",
    "  --o-heatmap $mlpred_dir/rf-classifier/important-feature-heatmap.qzv"
   ]
  },
  {
   "cell_type": "code",
   "execution_count": null,
   "id": "537c196c",
   "metadata": {},
   "outputs": [
    {
     "data": {
      "image/png": "[encoded data removed]",
      "text/plain": [
       "<IPython.core.display.Image object>"
      ]
     },
     "execution_count": 165,
     "metadata": {},
     "output_type": "execute_result"
    }
   ],
   "source": [
    "# visualize the heatmap\n",
    "heatmap = mlpred_dir / \"rf-classifier\" / \"important-feature-heatmap.qzv\"\n",
    "a = !unzip -o $heatmap\n",
    "digest_root = Path(a[1].split('/')[0].replace(\"  inflating: \",\"\"))\n",
    "digest = Path(a[1].split('/')[0].replace(\"  inflating: \",\"\")) / \"data\"\n",
    "\n",
    "Image(filename=digest / \"feature-table-heatmap.png\")"
   ]
  },
  {
   "cell_type": "code",
   "execution_count": 166,
   "id": "464f4a75",
   "metadata": {},
   "outputs": [],
   "source": [
    "! cp $digest/feature-table-heatmap.png $vis_dir/important_feature_heatmap.png\n",
    "! rm -r $digest_root"
   ]
  }
 ],
 "metadata": {
  "kernelspec": {
   "display_name": "qiime2-amplicon-2024.10",
   "language": "python",
   "name": "python3"
  },
  "language_info": {
   "codemirror_mode": {
    "name": "ipython",
    "version": 3
   },
   "file_extension": ".py",
   "mimetype": "text/x-python",
   "name": "python",
   "nbconvert_exporter": "python",
   "pygments_lexer": "ipython3",
   "version": "3.10.14"
  }
 },
 "nbformat": 4,
 "nbformat_minor": 5
}
