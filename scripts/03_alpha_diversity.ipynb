{
 "cells": [
  {
   "cell_type": "markdown",
   "id": "f1856481-412c-4b22-ae84-89ce9e9d8d6e",
   "metadata": {},
   "source": [
    "# 03. Alpha Diversity \n",
    "\n",
    "Author: Willem Fuetterer\n",
    "\n",
    "\n",
    "In this Jupyter Notebook the alpha diversity of the samples is analyzed.\n",
    "\n",
    "**Exercise overview:**<br>\n",
    "[1. Setup](#setup)<br>\n",
    "[2. Identification of correct sampling depth](#depth)<br>\n",
    "[3. Calculating the alpha diversity](#calc)<br>\n",
    "\n",
    "\n"
   ]
  },
  {
   "cell_type": "markdown",
   "id": "5f2acad0-e265-42de-ab89-a77d1b8a6762",
   "metadata": {
    "tags": []
   },
   "source": [
    "<a id='setup'></a>\n",
    "\n",
    "## 1. Setup"
   ]
  },
  {
   "cell_type": "code",
   "execution_count": 8,
   "id": "d48f9089-5a6f-4b95-bddd-9faa98698488",
   "metadata": {
    "tags": []
   },
   "outputs": [],
   "source": [
    "# importing all required packages & notebook extensions at the start of the notebook\n",
    "import os\n",
    "import biom\n",
    "import numpy as np\n",
    "import matplotlib.pyplot as plt\n",
    "import seaborn as sns\n",
    "import pandas as pd\n",
    "import qiime2 as q2\n",
    "from qiime2 import Visualization\n",
    "\n",
    "%matplotlib inline"
   ]
  },
  {
   "cell_type": "code",
   "execution_count": 3,
   "id": "821fac4d-b006-4db9-99be-5219a8a468c9",
   "metadata": {
    "tags": []
   },
   "outputs": [],
   "source": [
    "# assigning variables throughout the notebook\n",
    "\n",
    "# location of this week's data and all the results produced by this notebook\n",
    "# - this should be a path relative to your working directory\n",
    "raw_data_dir = \"../data/raw\"\n",
    "data_dir = \"../data/processed\"\n",
    "vis_dir  = \"../results\""
   ]
  },
  {
   "cell_type": "markdown",
   "id": "04d5d16c-ea47-48ec-bc95-e943cdb6e2f2",
   "metadata": {
    "tags": []
   },
   "source": [
    "<a id='depth'></a>\n",
    "\n",
    "## 2. Identification of correct sampling depth"
   ]
  },
  {
   "cell_type": "code",
   "execution_count": 5,
   "id": "d3899cd9-09ac-444c-b9e5-08e5cccd48a0",
   "metadata": {
    "tags": []
   },
   "outputs": [
    {
     "name": "stdout",
     "output_type": "stream",
     "text": [
      "\u001b[32mUUID\u001b[0m:        702565bb-ce3d-472e-acd6-4b914601f892\n",
      "\u001b[32mType\u001b[0m:        FeatureTable[Frequency]\n",
      "\u001b[32mData format\u001b[0m: BIOMV210DirFmt\n"
     ]
    }
   ],
   "source": [
    "! qiime tools peek $data_dir/table-filtered.qza #-> FeatureTable[Frequency]"
   ]
  },
  {
   "cell_type": "code",
   "execution_count": 12,
   "id": "a2bd736f-32c6-4558-b8e0-386bfee95d85",
   "metadata": {
    "tags": []
   },
   "outputs": [
    {
     "name": "stdout",
     "output_type": "stream",
     "text": [
      "\u001b[32mUUID\u001b[0m:        0eabf2a9-d83b-4ef2-950c-d00a600e77fd\n",
      "\u001b[32mType\u001b[0m:        FeatureData[Taxonomy]\n",
      "\u001b[32mData format\u001b[0m: TSVTaxonomyDirectoryFormat\n"
     ]
    }
   ],
   "source": [
    "! qiime tools peek $data_dir/taxonomy.qza #-> FeatureData[Taxonomy]"
   ]
  },
  {
   "cell_type": "code",
   "execution_count": 4,
   "id": "d0396f81-5af1-4111-9f0c-9aa4ac19a2bf",
   "metadata": {
    "tags": []
   },
   "outputs": [
    {
     "name": "stdout",
     "output_type": "stream",
     "text": [
      "\u001b[32mUUID\u001b[0m:        54dbac30-b904-41cf-bdc2-9ac608bc6561\n",
      "\u001b[32mType\u001b[0m:        Phylogeny[Rooted]\n",
      "\u001b[32mData format\u001b[0m: NewickDirectoryFormat\n"
     ]
    }
   ],
   "source": [
    "! qiime tools peek $data_dir/fasttree-tree-rooted.qza #-> Phylogeny[Rooted]"
   ]
  },
  {
   "cell_type": "markdown",
   "id": "79d3ff89-d31d-49f5-891a-d5db5d8d6b8f",
   "metadata": {
    "tags": []
   },
   "source": [
    "### Exploring to find correct sampling depth"
   ]
  },
  {
   "cell_type": "code",
   "execution_count": null,
   "id": "f2f1adcd-f3b1-4470-8102-1016e910b238",
   "metadata": {},
   "outputs": [],
   "source": [
    "Summary of feature table"
   ]
  },
  {
   "cell_type": "code",
   "execution_count": 6,
   "id": "d6157ec8-bb02-42b1-bf3b-ab2b72ebba82",
   "metadata": {},
   "outputs": [
    {
     "name": "stdout",
     "output_type": "stream",
     "text": [
      "\u001b[32mSaved Visualization to: ../data/processed/feature-table-filtered-summary.qzv\u001b[0m\n",
      "\u001b[0m"
     ]
    }
   ],
   "source": [
    "! qiime feature-table summarize \\\n",
    "  --i-table $data_dir/table-filtered.qza \\\n",
    "  --m-sample-metadata-file $data_dir/metadata.tsv \\\n",
    "  --o-visualization $data_dir/feature-table-filtered-summary.qzv"
   ]
  },
  {
   "cell_type": "code",
   "execution_count": 9,
   "id": "14527fda-9821-41c5-8c44-cf4a7f628c9f",
   "metadata": {
    "tags": []
   },
   "outputs": [
    {
     "data": {
      "text/html": [
       "<div><img onload=\"(function(div, url){\n",
       "if (typeof require !== 'undefined') {\n",
       "    var baseURL = require.toUrl('').split('/').slice(0, -2).join('/');\n",
       "} else {\n",
       "    var baseURL = JSON.parse(\n",
       "        document.getElementById('jupyter-config-data').innerHTML\n",
       "    ).baseUrl.slice(0, -1);\n",
       "}\n",
       "url = baseURL + url;\n",
       "fetch(url).then(function(res) {\n",
       "    if (res.status === 404) {\n",
       "        div.innerHTML = 'Install QIIME 2 Jupyter extension with:<br />' +\n",
       "                        '<code>jupyter serverextension enable --py qiime2' +\n",
       "                        ' --sys-prefix</code><br />then restart your server.' +\n",
       "                        '<br /><br />(Interactive output not available on ' +\n",
       "                        'static notebook viewer services like nbviewer.)';\n",
       "    } else if (res.status === 409) {\n",
       "        div.innerHTML = 'Visualization no longer in scope. Re-run this cell' +\n",
       "                        ' to see the visualization.';\n",
       "    } else if (res.ok) {\n",
       "        url = res.url;\n",
       "        div.innerHTML = '<iframe src=\\'' + url + '\\' style=\\'' +\n",
       "                        'width: 100%; height: 700px; border: 0;\\'>' +\n",
       "                        '</iframe><hr />Open in a: <a href=\\'' + url + '\\'' +\n",
       "                        ' target=\\'_blank\\'>new window</a>'\n",
       "    } else {\n",
       "        div.innerHTML = 'Something has gone wrong. Check notebook server for' +\n",
       "                        ' errors.';\n",
       "    }\n",
       "});\n",
       "})(this.parentElement, '/qiime2/redirect?location=/tmp/qiime2/jovyan/data/f78241ec-9fa6-4d1f-b97e-57fd075fb09b')\" src=\"data:image/gif;base64,R0lGODlhAQABAIAAAP///wAAACH5BAEAAAAALAAAAAABAAEAAAICRAEAOw==\" /></div>"
      ],
      "text/plain": [
       "<visualization: Visualization uuid: f78241ec-9fa6-4d1f-b97e-57fd075fb09b>"
      ]
     },
     "execution_count": 9,
     "metadata": {},
     "output_type": "execute_result"
    }
   ],
   "source": [
    "Visualization.load(f\"{data_dir}/feature-table-filtered-summary.qzv\")"
   ]
  },
  {
   "cell_type": "markdown",
   "id": "0729a7ed-c11f-4f18-a0fc-47030c955565",
   "metadata": {},
   "source": [
    "### Alpha rarefaction"
   ]
  },
  {
   "cell_type": "code",
   "execution_count": 11,
   "id": "6224546f-55c6-458b-a24b-841bf28bfa15",
   "metadata": {
    "tags": []
   },
   "outputs": [
    {
     "name": "stdout",
     "output_type": "stream",
     "text": [
      "\u001b[32mSaved Visualization to: ../data/processed/alpha-rarefaction.qzv\u001b[0m\n",
      "\u001b[0m"
     ]
    }
   ],
   "source": [
    "! qiime diversity alpha-rarefaction \\\n",
    "    --i-table $data_dir/table-filtered.qza \\\n",
    "    --i-phylogeny $data_dir/fasttree-tree-rooted.qza \\\n",
    "    --p-max-depth 290000 \\\n",
    "    --m-metadata-file $data_dir/metadata.tsv \\\n",
    "    --o-visualization $data_dir/alpha-rarefaction.qzv"
   ]
  },
  {
   "cell_type": "code",
   "execution_count": 12,
   "id": "0a5e0573-b656-407b-8820-fb0adef6a926",
   "metadata": {
    "tags": []
   },
   "outputs": [
    {
     "data": {
      "text/html": [
       "<div><img onload=\"(function(div, url){\n",
       "if (typeof require !== 'undefined') {\n",
       "    var baseURL = require.toUrl('').split('/').slice(0, -2).join('/');\n",
       "} else {\n",
       "    var baseURL = JSON.parse(\n",
       "        document.getElementById('jupyter-config-data').innerHTML\n",
       "    ).baseUrl.slice(0, -1);\n",
       "}\n",
       "url = baseURL + url;\n",
       "fetch(url).then(function(res) {\n",
       "    if (res.status === 404) {\n",
       "        div.innerHTML = 'Install QIIME 2 Jupyter extension with:<br />' +\n",
       "                        '<code>jupyter serverextension enable --py qiime2' +\n",
       "                        ' --sys-prefix</code><br />then restart your server.' +\n",
       "                        '<br /><br />(Interactive output not available on ' +\n",
       "                        'static notebook viewer services like nbviewer.)';\n",
       "    } else if (res.status === 409) {\n",
       "        div.innerHTML = 'Visualization no longer in scope. Re-run this cell' +\n",
       "                        ' to see the visualization.';\n",
       "    } else if (res.ok) {\n",
       "        url = res.url;\n",
       "        div.innerHTML = '<iframe src=\\'' + url + '\\' style=\\'' +\n",
       "                        'width: 100%; height: 700px; border: 0;\\'>' +\n",
       "                        '</iframe><hr />Open in a: <a href=\\'' + url + '\\'' +\n",
       "                        ' target=\\'_blank\\'>new window</a>'\n",
       "    } else {\n",
       "        div.innerHTML = 'Something has gone wrong. Check notebook server for' +\n",
       "                        ' errors.';\n",
       "    }\n",
       "});\n",
       "})(this.parentElement, '/qiime2/redirect?location=/tmp/qiime2/jovyan/data/7be7bdaa-66a9-4e06-9479-2abef3706f5c')\" src=\"data:image/gif;base64,R0lGODlhAQABAIAAAP///wAAACH5BAEAAAAALAAAAAABAAEAAAICRAEAOw==\" /></div>"
      ],
      "text/plain": [
       "<visualization: Visualization uuid: 7be7bdaa-66a9-4e06-9479-2abef3706f5c>"
      ]
     },
     "execution_count": 12,
     "metadata": {},
     "output_type": "execute_result"
    }
   ],
   "source": [
    "Visualization.load(f\"{data_dir}/alpha-rarefaction.qzv\")"
   ]
  },
  {
   "cell_type": "markdown",
   "id": "957df7f9-58a6-4a33-bdae-f6533632d18f",
   "metadata": {
    "tags": []
   },
   "source": [
    "Based on the alpha rarefaction a sequencing depth of 40000 seems to be a good cutoff point, maximizing the rarefying threshold while minimizing loss of samples due to insufficient coverage"
   ]
  },
  {
   "cell_type": "markdown",
   "id": "11869671-f0eb-42a3-942e-8696edfadaf0",
   "metadata": {},
   "source": [
    "<a id='calc'></a>\n",
    "\n",
    "## 3. Calculating the alpha diversity"
   ]
  },
  {
   "cell_type": "markdown",
   "id": "81e765f0-3914-424d-a497-d5283aebd053",
   "metadata": {},
   "source": [
    "Calculating the alpha diversity"
   ]
  },
  {
   "cell_type": "code",
   "execution_count": 14,
   "id": "a14cbd0a-18df-48f2-8850-ae579eb1055e",
   "metadata": {},
   "outputs": [
    {
     "name": "stdout",
     "output_type": "stream",
     "text": [
      "\u001b[31m\u001b[1mPlugin error from diversity:\n",
      "\n",
      "  module 'skbio.diversity.alpha' has no attribute 'sobs'\n",
      "\n",
      "Debug info has been saved to /tmp/qiime2-q2cli-err-c0_qs8v_.log\u001b[0m\n",
      "\u001b[0m"
     ]
    }
   ],
   "source": [
    "! qiime diversity core-metrics-phylogenetic \\\n",
    "  --i-table $data_dir/table-filtered.qza \\\n",
    "  --i-phylogeny $data_dir/fasttree-tree-rooted.qza \\\n",
    "  --m-metadata-file $data_dir/metadata.tsv \\\n",
    "  --p-sampling-depth 40000 \\\n",
    "  --output-dir $data_dir/core-metrics-results"
   ]
  }
 ],
 "metadata": {
  "kernelspec": {
   "display_name": "QIIME 2",
   "language": "python",
   "name": "python3"
  },
  "language_info": {
   "codemirror_mode": {
    "name": "ipython",
    "version": 3
   },
   "file_extension": ".py",
   "mimetype": "text/x-python",
   "name": "python",
   "nbconvert_exporter": "python",
   "pygments_lexer": "ipython3",
   "version": "3.9.19"
  }
 },
 "nbformat": 4,
 "nbformat_minor": 5
}
